{
  "nbformat": 4,
  "nbformat_minor": 0,
  "metadata": {
    "colab": {
      "name": "Gensim Topic Modeling.ipynb",
      "provenance": [],
      "collapsed_sections": []
    },
    "kernelspec": {
      "name": "python3",
      "display_name": "Python 3"
    }
  },
  "cells": [
    {
      "cell_type": "code",
      "metadata": {
        "id": "cZ8o8vCf80iU",
        "colab_type": "code",
        "colab": {
          "base_uri": "https://localhost:8080/",
          "height": 1000
        },
        "outputId": "1f2686e5-05df-4bfe-f479-2d5cdc82227d"
      },
      "source": [
        "# Colab에 Khaiii 설치\n",
        "\n",
        "import os\n",
        "!git clone https://github.com/kakao/khaiii.git\n",
        "!pip install cmake\n",
        "!mkdir build\n",
        "!cd build && cmake /content/khaiii\n",
        "!cd /content/build/ && make all\n",
        "!cd /content/build/ && make resource\n",
        "!cd /content/build && make install\n",
        "!cd /content/build && make package_python\n",
        "!pip install /content/build/package_python\n"
      ],
      "execution_count": 1,
      "outputs": [
        {
          "output_type": "stream",
          "text": [
            "Cloning into 'khaiii'...\n",
            "remote: Enumerating objects: 80, done.\u001b[K\n",
            "remote: Counting objects: 100% (80/80), done.\u001b[K\n",
            "remote: Compressing objects: 100% (59/59), done.\u001b[K\n",
            "remote: Total 957 (delta 25), reused 49 (delta 19), pack-reused 877\u001b[K\n",
            "Receiving objects: 100% (957/957), 33.03 MiB | 30.34 MiB/s, done.\n",
            "Resolving deltas: 100% (383/383), done.\n",
            "Requirement already satisfied: cmake in /usr/local/lib/python3.6/dist-packages (3.12.0)\n",
            "-- [hunter] Initializing Hunter workspace (70287b1ffa810ee4e952052a9adff9b4856d0d54)\n",
            "-- [hunter]   https://github.com/ruslo/hunter/archive/v0.23.34.tar.gz\n",
            "-- [hunter]   -> /root/.hunter/_Base/Download/Hunter/0.23.34/70287b1\n",
            "-- The C compiler identification is GNU 7.5.0\n",
            "-- The CXX compiler identification is GNU 7.5.0\n",
            "-- Check for working C compiler: /usr/bin/cc\n",
            "-- Check for working C compiler: /usr/bin/cc -- works\n",
            "-- Detecting C compiler ABI info\n",
            "-- Detecting C compiler ABI info - done\n",
            "-- Detecting C compile features\n",
            "-- Detecting C compile features - done\n",
            "-- Check for working CXX compiler: /usr/bin/c++\n",
            "-- Check for working CXX compiler: /usr/bin/c++ -- works\n",
            "-- Detecting CXX compiler ABI info\n",
            "-- Detecting CXX compiler ABI info - done\n",
            "-- Detecting CXX compile features\n",
            "-- Detecting CXX compile features - done\n",
            "-- Performing Test fma_compiles\n",
            "-- Performing Test fma_compiles - Success\n",
            "-- Performing Test fma_runs\n",
            "-- Performing Test fma_runs - Success\n",
            "-- [khaiii] fused multiply add option enabled\n",
            "-- [hunter] Calculating Toolchain-SHA1\n",
            "-- [hunter] Calculating Config-SHA1\n",
            "-- [hunter] HUNTER_ROOT: /root/.hunter\n",
            "-- [hunter] [ Hunter-ID: 70287b1 | Toolchain-ID: 02ccb06 | Config-ID: dffbc08 ]\n",
            "-- [hunter] BOOST_ROOT: /root/.hunter/_Base/70287b1/02ccb06/dffbc08/Install (ver.: 1.68.0-p1)\n",
            "-- [hunter] Building Boost\n",
            "loading initial cache file /root/.hunter/_Base/70287b1/02ccb06/dffbc08/cache.cmake\n",
            "loading initial cache file /root/.hunter/_Base/70287b1/02ccb06/dffbc08/Build/Boost/args.cmake\n",
            "-- The C compiler identification is GNU 7.5.0\n",
            "-- The CXX compiler identification is GNU 7.5.0\n",
            "-- Check for working C compiler: /usr/bin/cc\n",
            "-- Check for working C compiler: /usr/bin/cc -- works\n",
            "-- Detecting C compile features\n",
            "-- Detecting C compile features - done\n",
            "-- Check for working CXX compiler: /usr/bin/c++\n",
            "-- Check for working CXX compiler: /usr/bin/c++ -- works\n",
            "-- Detecting CXX compile features\n",
            "-- Detecting CXX compile features - done\n",
            "-- Configuring done\n",
            "-- Generating done\n",
            "-- Build files have been written to: /root/.hunter/_Base/70287b1/02ccb06/dffbc08/Build/Boost/Build\n",
            "Scanning dependencies of target Boost\n",
            "[ 12%] Creating directories for 'Boost'\n",
            "[ 25%] Performing download step (download, verify and extract) for 'Boost'\n",
            "-- Downloading...\n",
            "   dst='/root/.hunter/_Base/Download/Boost/1.68.0-p1/0bb10b0/v1.68.0-p1.tar.gz'\n",
            "   timeout='none'\n",
            "-- Using src='https://github.com/hunter-packages/boost/archive/v1.68.0-p1.tar.gz'\n",
            "-- [download 100% complete]\n",
            "-- verifying file...\n",
            "       file='/root/.hunter/_Base/Download/Boost/1.68.0-p1/0bb10b0/v1.68.0-p1.tar.gz'\n",
            "-- Downloading... done\n",
            "-- extracting...\n",
            "     src='/root/.hunter/_Base/Download/Boost/1.68.0-p1/0bb10b0/v1.68.0-p1.tar.gz'\n",
            "     dst='/root/.hunter/_Base/70287b1/02ccb06/dffbc08/Build/Boost/Source'\n",
            "-- extracting... [tar xfz]\n",
            "-- extracting... [analysis]\n",
            "-- extracting... [rename]\n",
            "-- extracting... [clean up]\n",
            "-- extracting... done\n",
            "[ 37%] No patch step for 'Boost'\n",
            "[ 50%] Performing update step for 'Boost'\n",
            "[ 62%] Performing configure step for 'Boost'\n",
            "Dummy patch command\n",
            "Building Boost.Build engine with toolset gcc... tools/build/src/engine/bin.linuxx86_64/b2\n",
            "Detecting Python version... 2.7\n",
            "Detecting Python root... /usr\n",
            "Unicode/ICU support for Boost.Regex?... /usr\n",
            "Generating Boost.Build configuration in project-config.jam...\n",
            "\n",
            "Bootstrapping is done. To build, run:\n",
            "\n",
            "    ./b2\n",
            "    \n",
            "To adjust configuration, edit 'project-config.jam'.\n",
            "Further information:\n",
            "\n",
            "   - Command line help:\n",
            "     ./b2 --help\n",
            "     \n",
            "   - Getting started guide: \n",
            "     http://www.boost.org/more/getting_started/unix-variants.html\n",
            "     \n",
            "   - Boost.Build documentation:\n",
            "     http://www.boost.org/build/doc/html/index.html\n",
            "\n",
            "[ 75%] No build step for 'Boost'\n",
            "[ 87%] Performing install step for 'Boost'\n",
            "Performing configuration checks\n",
            "\n",
            "    - default address-model    : 64-bit\n",
            "    - default architecture     : x86\n",
            "\n",
            "Component configuration:\n",
            "\n",
            "    - atomic                   : not building\n",
            "    - chrono                   : not building\n",
            "    - container                : not building\n",
            "    - context                  : not building\n",
            "    - contract                 : not building\n",
            "    - coroutine                : not building\n",
            "    - date_time                : not building\n",
            "    - exception                : not building\n",
            "    - fiber                    : not building\n",
            "    - filesystem               : not building\n",
            "    - graph                    : not building\n",
            "    - graph_parallel           : not building\n",
            "    - iostreams                : not building\n",
            "    - locale                   : not building\n",
            "    - log                      : not building\n",
            "    - math                     : not building\n",
            "    - mpi                      : not building\n",
            "    - program_options          : not building\n",
            "    - python                   : not building\n",
            "    - random                   : not building\n",
            "    - regex                    : not building\n",
            "    - serialization            : not building\n",
            "    - signals                  : not building\n",
            "    - stacktrace               : not building\n",
            "    - system                   : not building\n",
            "    - test                     : not building\n",
            "    - thread                   : not building\n",
            "    - timer                    : not building\n",
            "    - type_erasure             : not building\n",
            "    - wave                     : not building\n",
            "\n",
            "loading initial cache file /root/.hunter/_Base/70287b1/02ccb06/dffbc08/Build/Boost/args.cmake\n",
            "[100%] Completed 'Boost'\n",
            "[100%] Built target Boost\n",
            "-- [hunter] Build step successful (dir: /root/.hunter/_Base/70287b1/02ccb06/dffbc08/Build/Boost)\n",
            "-- [hunter] Cache saved: /root/.hunter/_Base/Cache/raw/8390cbe18020a741d99037ac5233f87dbb343f9c.tar.bz2\n",
            "-- Boost version: 1.68.0\n",
            "-- [hunter] CXXOPTS_ROOT: /root/.hunter/_Base/70287b1/02ccb06/dffbc08/Install (ver.: 2.1.1-pre)\n",
            "-- [hunter] Building cxxopts\n",
            "loading initial cache file /root/.hunter/_Base/70287b1/02ccb06/dffbc08/cache.cmake\n",
            "loading initial cache file /root/.hunter/_Base/70287b1/02ccb06/dffbc08/Build/cxxopts/args.cmake\n",
            "-- The C compiler identification is GNU 7.5.0\n",
            "-- The CXX compiler identification is GNU 7.5.0\n",
            "-- Check for working C compiler: /usr/bin/cc\n",
            "-- Check for working C compiler: /usr/bin/cc -- works\n",
            "-- Detecting C compile features\n",
            "-- Detecting C compile features - done\n",
            "-- Check for working CXX compiler: /usr/bin/c++\n",
            "-- Check for working CXX compiler: /usr/bin/c++ -- works\n",
            "-- Detecting CXX compile features\n",
            "-- Detecting CXX compile features - done\n",
            "-- Configuring done\n",
            "-- Generating done\n",
            "-- Build files have been written to: /root/.hunter/_Base/70287b1/02ccb06/dffbc08/Build/cxxopts/Build\n",
            "Scanning dependencies of target cxxopts-Release\n",
            "[  6%] Creating directories for 'cxxopts-Release'\n",
            "[ 12%] Performing download step (download, verify and extract) for 'cxxopts-Release'\n",
            "-- Downloading...\n",
            "   dst='/root/.hunter/_Base/Download/cxxopts/2.1.1-pre/cbeec55/e725ea308468ab50751ba7f930842a4c061226e9.zip'\n",
            "   timeout='none'\n",
            "-- Using src='https://github.com/jarro2783/cxxopts/archive/e725ea308468ab50751ba7f930842a4c061226e9.zip'\n",
            "-- [download 100% complete]\n",
            "-- verifying file...\n",
            "       file='/root/.hunter/_Base/Download/cxxopts/2.1.1-pre/cbeec55/e725ea308468ab50751ba7f930842a4c061226e9.zip'\n",
            "-- Downloading... done\n",
            "-- extracting...\n",
            "     src='/root/.hunter/_Base/Download/cxxopts/2.1.1-pre/cbeec55/e725ea308468ab50751ba7f930842a4c061226e9.zip'\n",
            "     dst='/root/.hunter/_Base/70287b1/02ccb06/dffbc08/Build/cxxopts/Source'\n",
            "-- extracting... [tar xfz]\n",
            "-- extracting... [analysis]\n",
            "-- extracting... [rename]\n",
            "-- extracting... [clean up]\n",
            "-- extracting... done\n",
            "[ 18%] No patch step for 'cxxopts-Release'\n",
            "[ 25%] No update step for 'cxxopts-Release'\n",
            "[ 31%] Performing configure step for 'cxxopts-Release'\n",
            "loading initial cache file /root/.hunter/_Base/70287b1/02ccb06/dffbc08/cache.cmake\n",
            "loading initial cache file /root/.hunter/_Base/70287b1/02ccb06/dffbc08/Build/cxxopts/args.cmake\n",
            "-- The C compiler identification is GNU 7.5.0\n",
            "-- The CXX compiler identification is GNU 7.5.0\n",
            "-- Check for working C compiler: /usr/bin/cc\n",
            "-- Check for working C compiler: /usr/bin/cc -- works\n",
            "-- Detecting C compile features\n",
            "-- Detecting C compile features - done\n",
            "-- Check for working CXX compiler: /usr/bin/c++\n",
            "-- Check for working CXX compiler: /usr/bin/c++ -- works\n",
            "-- Detecting CXX compile features\n",
            "-- Detecting CXX compile features - done\n",
            "-- Configuring done\n",
            "-- Generating done\n",
            "-- Build files have been written to: /root/.hunter/_Base/70287b1/02ccb06/dffbc08/Build/cxxopts/Build/cxxopts-Release-prefix/src/cxxopts-Release-build\n",
            "[ 37%] Performing build step for 'cxxopts-Release'\n",
            "[ 43%] Performing install step for 'cxxopts-Release'\n",
            "Install the project...\n",
            "-- Install configuration: \"Release\"\n",
            "-- Installing: /root/.hunter/_Base/70287b1/02ccb06/dffbc08/Build/cxxopts/Install/lib/cmake/cxxopts/cxxopts-config.cmake\n",
            "-- Installing: /root/.hunter/_Base/70287b1/02ccb06/dffbc08/Build/cxxopts/Install/lib/cmake/cxxopts/cxxopts-config-version.cmake\n",
            "-- Installing: /root/.hunter/_Base/70287b1/02ccb06/dffbc08/Build/cxxopts/Install/lib/cmake/cxxopts/cxxopts-targets.cmake\n",
            "-- Installing: /root/.hunter/_Base/70287b1/02ccb06/dffbc08/Build/cxxopts/Install/include/cxxopts.hpp\n",
            "loading initial cache file /root/.hunter/_Base/70287b1/02ccb06/dffbc08/Build/cxxopts/args.cmake\n",
            "[ 50%] Completed 'cxxopts-Release'\n",
            "[ 50%] Built target cxxopts-Release\n",
            "Scanning dependencies of target cxxopts-Debug\n",
            "[ 56%] Creating directories for 'cxxopts-Debug'\n",
            "[ 62%] Performing download step (download, verify and extract) for 'cxxopts-Debug'\n",
            "-- verifying file...\n",
            "       file='/root/.hunter/_Base/Download/cxxopts/2.1.1-pre/cbeec55/e725ea308468ab50751ba7f930842a4c061226e9.zip'\n",
            "-- File already exists and hash match (skip download):\n",
            "  file='/root/.hunter/_Base/Download/cxxopts/2.1.1-pre/cbeec55/e725ea308468ab50751ba7f930842a4c061226e9.zip'\n",
            "  SHA1='cbeec5576599d031f6f992d987e1f3575b3afee3'\n",
            "-- extracting...\n",
            "     src='/root/.hunter/_Base/Download/cxxopts/2.1.1-pre/cbeec55/e725ea308468ab50751ba7f930842a4c061226e9.zip'\n",
            "     dst='/root/.hunter/_Base/70287b1/02ccb06/dffbc08/Build/cxxopts/Source'\n",
            "-- extracting... [tar xfz]\n",
            "-- extracting... [analysis]\n",
            "-- extracting... [rename]\n",
            "-- extracting... [clean up]\n",
            "-- extracting... done\n",
            "[ 68%] No patch step for 'cxxopts-Debug'\n",
            "[ 75%] No update step for 'cxxopts-Debug'\n",
            "[ 81%] Performing configure step for 'cxxopts-Debug'\n",
            "loading initial cache file /root/.hunter/_Base/70287b1/02ccb06/dffbc08/cache.cmake\n",
            "loading initial cache file /root/.hunter/_Base/70287b1/02ccb06/dffbc08/Build/cxxopts/args.cmake\n",
            "-- The C compiler identification is GNU 7.5.0\n",
            "-- The CXX compiler identification is GNU 7.5.0\n",
            "-- Check for working C compiler: /usr/bin/cc\n",
            "-- Check for working C compiler: /usr/bin/cc -- works\n",
            "-- Detecting C compile features\n",
            "-- Detecting C compile features - done\n",
            "-- Check for working CXX compiler: /usr/bin/c++\n",
            "-- Check for working CXX compiler: /usr/bin/c++ -- works\n",
            "-- Detecting CXX compile features\n",
            "-- Detecting CXX compile features - done\n",
            "-- Configuring done\n",
            "-- Generating done\n",
            "-- Build files have been written to: /root/.hunter/_Base/70287b1/02ccb06/dffbc08/Build/cxxopts/Build/cxxopts-Debug-prefix/src/cxxopts-Debug-build\n",
            "[ 87%] Performing build step for 'cxxopts-Debug'\n",
            "[ 93%] Performing install step for 'cxxopts-Debug'\n",
            "Install the project...\n",
            "-- Install configuration: \"Debug\"\n",
            "-- Installing: /root/.hunter/_Base/70287b1/02ccb06/dffbc08/Build/cxxopts/Install/lib/cmake/cxxopts/cxxopts-config.cmake\n",
            "-- Installing: /root/.hunter/_Base/70287b1/02ccb06/dffbc08/Build/cxxopts/Install/lib/cmake/cxxopts/cxxopts-config-version.cmake\n",
            "-- Installing: /root/.hunter/_Base/70287b1/02ccb06/dffbc08/Build/cxxopts/Install/lib/cmake/cxxopts/cxxopts-targets.cmake\n",
            "-- Up-to-date: /root/.hunter/_Base/70287b1/02ccb06/dffbc08/Build/cxxopts/Install/include/cxxopts.hpp\n",
            "loading initial cache file /root/.hunter/_Base/70287b1/02ccb06/dffbc08/Build/cxxopts/args.cmake\n",
            "[100%] Completed 'cxxopts-Debug'\n",
            "[100%] Built target cxxopts-Debug\n",
            "-- [hunter] Build step successful (dir: /root/.hunter/_Base/70287b1/02ccb06/dffbc08/Build/cxxopts)\n",
            "-- [hunter] Cache saved: /root/.hunter/_Base/Cache/raw/7e08f736323364e49af00a3ed86fc6e743dffa81.tar.bz2\n",
            "-- [hunter] EIGEN_ROOT: /root/.hunter/_Base/70287b1/02ccb06/dffbc08/Install (ver.: 3.3.5)\n",
            "-- [hunter] Building Eigen\n",
            "loading initial cache file /root/.hunter/_Base/70287b1/02ccb06/dffbc08/cache.cmake\n",
            "loading initial cache file /root/.hunter/_Base/70287b1/02ccb06/dffbc08/Build/Eigen/args.cmake\n",
            "-- The C compiler identification is GNU 7.5.0\n",
            "-- The CXX compiler identification is GNU 7.5.0\n",
            "-- Check for working C compiler: /usr/bin/cc\n",
            "-- Check for working C compiler: /usr/bin/cc -- works\n",
            "-- Detecting C compile features\n",
            "-- Detecting C compile features - done\n",
            "-- Check for working CXX compiler: /usr/bin/c++\n",
            "-- Check for working CXX compiler: /usr/bin/c++ -- works\n",
            "-- Detecting CXX compile features\n",
            "-- Detecting CXX compile features - done\n",
            "-- Configuring done\n",
            "-- Generating done\n",
            "-- Build files have been written to: /root/.hunter/_Base/70287b1/02ccb06/dffbc08/Build/Eigen/Build\n",
            "Scanning dependencies of target Eigen-Release\n",
            "[  6%] Creating directories for 'Eigen-Release'\n",
            "[ 12%] Performing download step (download, verify and extract) for 'Eigen-Release'\n",
            "-- Downloading...\n",
            "   dst='/root/.hunter/_Base/Download/Eigen/3.3.5/c1801a3/3.3.5.tar.gz'\n",
            "   timeout='none'\n",
            "-- Using src='https://github.com/eigenteam/eigen-git-mirror/archive/3.3.5.tar.gz'\n",
            "-- [download 100% complete]\n",
            "-- verifying file...\n",
            "       file='/root/.hunter/_Base/Download/Eigen/3.3.5/c1801a3/3.3.5.tar.gz'\n",
            "-- Downloading... done\n",
            "-- extracting...\n",
            "     src='/root/.hunter/_Base/Download/Eigen/3.3.5/c1801a3/3.3.5.tar.gz'\n",
            "     dst='/root/.hunter/_Base/70287b1/02ccb06/dffbc08/Build/Eigen/Source'\n",
            "-- extracting... [tar xfz]\n",
            "-- extracting... [analysis]\n",
            "-- extracting... [rename]\n",
            "-- extracting... [clean up]\n",
            "-- extracting... done\n",
            "[ 18%] No patch step for 'Eigen-Release'\n",
            "[ 25%] No update step for 'Eigen-Release'\n",
            "[ 31%] Performing configure step for 'Eigen-Release'\n",
            "loading initial cache file /root/.hunter/_Base/70287b1/02ccb06/dffbc08/cache.cmake\n",
            "loading initial cache file /root/.hunter/_Base/70287b1/02ccb06/dffbc08/Build/Eigen/args.cmake\n",
            "-- The C compiler identification is GNU 7.5.0\n",
            "-- The CXX compiler identification is GNU 7.5.0\n",
            "-- Check for working C compiler: /usr/bin/cc\n",
            "-- Check for working C compiler: /usr/bin/cc -- works\n",
            "-- Detecting C compile features\n",
            "-- Detecting C compile features - done\n",
            "-- Check for working CXX compiler: /usr/bin/c++\n",
            "-- Check for working CXX compiler: /usr/bin/c++ -- works\n",
            "-- Detecting CXX compile features\n",
            "-- Detecting CXX compile features - done\n",
            "-- Performing Test standard_math_library_linked_to_automatically\n",
            "-- Performing Test standard_math_library_linked_to_automatically - Success\n",
            "-- Standard libraries to link to explicitly: none\n",
            "-- Performing Test COMPILER_SUPPORT_WERROR\n",
            "-- Performing Test COMPILER_SUPPORT_WERROR - Success\n",
            "-- Performing Test COMPILER_SUPPORT_pedantic\n",
            "-- Performing Test COMPILER_SUPPORT_pedantic - Success\n",
            "-- Performing Test COMPILER_SUPPORT_Wall\n",
            "-- Performing Test COMPILER_SUPPORT_Wall - Success\n",
            "-- Performing Test COMPILER_SUPPORT_Wextra\n",
            "-- Performing Test COMPILER_SUPPORT_Wextra - Success\n",
            "-- Performing Test COMPILER_SUPPORT_Wundef\n",
            "-- Performing Test COMPILER_SUPPORT_Wundef - Success\n",
            "-- Performing Test COMPILER_SUPPORT_Wcastalign\n",
            "-- Performing Test COMPILER_SUPPORT_Wcastalign - Success\n",
            "-- Performing Test COMPILER_SUPPORT_Wcharsubscripts\n",
            "-- Performing Test COMPILER_SUPPORT_Wcharsubscripts - Success\n",
            "-- Performing Test COMPILER_SUPPORT_Wnonvirtualdtor\n",
            "-- Performing Test COMPILER_SUPPORT_Wnonvirtualdtor - Success\n",
            "-- Performing Test COMPILER_SUPPORT_Wunusedlocaltypedefs\n",
            "-- Performing Test COMPILER_SUPPORT_Wunusedlocaltypedefs - Success\n",
            "-- Performing Test COMPILER_SUPPORT_Wpointerarith\n",
            "-- Performing Test COMPILER_SUPPORT_Wpointerarith - Success\n",
            "-- Performing Test COMPILER_SUPPORT_Wwritestrings\n",
            "-- Performing Test COMPILER_SUPPORT_Wwritestrings - Success\n",
            "-- Performing Test COMPILER_SUPPORT_Wformatsecurity\n",
            "-- Performing Test COMPILER_SUPPORT_Wformatsecurity - Success\n",
            "-- Performing Test COMPILER_SUPPORT_Wshorten64to32\n",
            "-- Performing Test COMPILER_SUPPORT_Wshorten64to32 - Failed\n",
            "-- Performing Test COMPILER_SUPPORT_Wlogicalop\n",
            "-- Performing Test COMPILER_SUPPORT_Wlogicalop - Success\n",
            "-- Performing Test COMPILER_SUPPORT_Wenumconversion\n",
            "-- Performing Test COMPILER_SUPPORT_Wenumconversion - Failed\n",
            "-- Performing Test COMPILER_SUPPORT_Wcpp11extensions\n",
            "-- Performing Test COMPILER_SUPPORT_Wcpp11extensions - Failed\n",
            "-- Performing Test COMPILER_SUPPORT_Wdoublepromotion\n",
            "-- Performing Test COMPILER_SUPPORT_Wdoublepromotion - Success\n",
            "-- Performing Test COMPILER_SUPPORT_Wnopsabi\n",
            "-- Performing Test COMPILER_SUPPORT_Wnopsabi - Success\n",
            "-- Performing Test COMPILER_SUPPORT_Wnovariadicmacros\n",
            "-- Performing Test COMPILER_SUPPORT_Wnovariadicmacros - Success\n",
            "-- Performing Test COMPILER_SUPPORT_Wnolonglong\n",
            "-- Performing Test COMPILER_SUPPORT_Wnolonglong - Success\n",
            "-- Performing Test COMPILER_SUPPORT_fnochecknew\n",
            "-- Performing Test COMPILER_SUPPORT_fnochecknew - Success\n",
            "-- Performing Test COMPILER_SUPPORT_fnocommon\n",
            "-- Performing Test COMPILER_SUPPORT_fnocommon - Success\n",
            "-- Performing Test COMPILER_SUPPORT_fstrictaliasing\n",
            "-- Performing Test COMPILER_SUPPORT_fstrictaliasing - Success\n",
            "-- Performing Test COMPILER_SUPPORT_wd981\n",
            "-- Performing Test COMPILER_SUPPORT_wd981 - Failed\n",
            "-- Performing Test COMPILER_SUPPORT_wd2304\n",
            "-- Performing Test COMPILER_SUPPORT_wd2304 - Failed\n",
            "-- Performing Test COMPILER_SUPPORT_STRICTANSI\n",
            "-- Performing Test COMPILER_SUPPORT_STRICTANSI - Failed\n",
            "-- Performing Test COMPILER_SUPPORT_Qunusedarguments\n",
            "-- Performing Test COMPILER_SUPPORT_Qunusedarguments - Failed\n",
            "-- Performing Test COMPILER_SUPPORT_ansi\n",
            "-- Performing Test COMPILER_SUPPORT_ansi - Success\n",
            "-- Performing Test COMPILER_SUPPORT_OPENMP\n",
            "-- Performing Test COMPILER_SUPPORT_OPENMP - Success\n",
            "-- Performing Test EIGEN_COMPILER_SUPPORT_CPP11\n",
            "-- Performing Test EIGEN_COMPILER_SUPPORT_CPP11 - Success\n",
            "-- Found unsuitable Qt version \"5.9.5\" from /usr/bin/qmake\n",
            "-- The Fortran compiler identification is GNU 7.5.0\n",
            "-- Check for working Fortran compiler: /usr/bin/gfortran\n",
            "-- Check for working Fortran compiler: /usr/bin/gfortran  -- works\n",
            "-- Detecting Fortran compiler ABI info\n",
            "-- Detecting Fortran compiler ABI info - done\n",
            "-- Checking whether /usr/bin/gfortran supports Fortran 90\n",
            "-- Checking whether /usr/bin/gfortran supports Fortran 90 -- yes\n",
            "-- Found unsuitable Qt version \"5.9.5\" from /usr/bin/qmake\n",
            "-- Qt4 not found, so disabling the mandelbrot and opengl demos\n",
            "-- Could NOT find CHOLMOD (missing: CHOLMOD_INCLUDES CHOLMOD_LIBRARIES) \n",
            "-- Could NOT find UMFPACK (missing: UMFPACK_INCLUDES UMFPACK_LIBRARIES) \n",
            "-- Could NOT find SUPERLU (missing: SUPERLU_INCLUDES SUPERLU_LIBRARIES SUPERLU_VERSION_OK) \n",
            "-- A version of Pastix has been found but pastix_nompi.h does not exist in the include directory. Because Eigen tests require a version without MPI, we disable the Pastix backend.\n",
            "-- \n",
            "-- Configured Eigen 3.3.5\n",
            "-- \n",
            "-- Some things you can do now:\n",
            "-- --------------+--------------------------------------------------------------\n",
            "-- Command       |   Description\n",
            "-- --------------+--------------------------------------------------------------\n",
            "-- make install  | Install Eigen. Headers will be installed to:\n",
            "--               |     <CMAKE_INSTALL_PREFIX>/<INCLUDE_INSTALL_DIR>\n",
            "--               |   Using the following values:\n",
            "--               |     CMAKE_INSTALL_PREFIX: /root/.hunter/_Base/70287b1/02ccb06/dffbc08/Build/Eigen/Install\n",
            "--               |     INCLUDE_INSTALL_DIR:  include/eigen3\n",
            "--               |   Change the install location of Eigen headers using:\n",
            "--               |     cmake . -DCMAKE_INSTALL_PREFIX=yourprefix\n",
            "--               |   Or:\n",
            "--               |     cmake . -DINCLUDE_INSTALL_DIR=yourdir\n",
            "-- make doc      | Generate the API documentation, requires Doxygen & LaTeX\n",
            "-- make check    | Build and run the unit-tests. Read this page:\n",
            "--               |   http://eigen.tuxfamily.org/index.php?title=Tests\n",
            "-- make blas     | Build BLAS library (not the same thing as Eigen)\n",
            "-- make uninstall| Removes files installed by make install\n",
            "-- --------------+--------------------------------------------------------------\n",
            "-- \n",
            "-- Configuring done\n",
            "-- Generating done\n",
            "-- Build files have been written to: /root/.hunter/_Base/70287b1/02ccb06/dffbc08/Build/Eigen/Build/Eigen-Release-prefix/src/Eigen-Release-build\n",
            "[ 37%] Performing build step for 'Eigen-Release'\n",
            "[ 43%] Performing install step for 'Eigen-Release'\n",
            "Install the project...\n",
            "-- Install configuration: \"Release\"\n",
            "-- Installing: /root/.hunter/_Base/70287b1/02ccb06/dffbc08/Build/Eigen/Install/include/eigen3/signature_of_eigen3_matrix_library\n",
            "-- Installing: /root/.hunter/_Base/70287b1/02ccb06/dffbc08/Build/Eigen/Install/share/pkgconfig/eigen3.pc\n",
            "-- Installing: /root/.hunter/_Base/70287b1/02ccb06/dffbc08/Build/Eigen/Install/share/eigen3/cmake/Eigen3Targets.cmake\n",
            "-- Installing: /root/.hunter/_Base/70287b1/02ccb06/dffbc08/Build/Eigen/Install/share/eigen3/cmake/UseEigen3.cmake\n",
            "-- Installing: /root/.hunter/_Base/70287b1/02ccb06/dffbc08/Build/Eigen/Install/share/eigen3/cmake/Eigen3Config.cmake\n",
            "-- Installing: /root/.hunter/_Base/70287b1/02ccb06/dffbc08/Build/Eigen/Install/share/eigen3/cmake/Eigen3ConfigVersion.cmake\n",
            "-- Installing: /root/.hunter/_Base/70287b1/02ccb06/dffbc08/Build/Eigen/Install/include/eigen3/Eigen/Cholesky\n",
            "-- Installing: /root/.hunter/_Base/70287b1/02ccb06/dffbc08/Build/Eigen/Install/include/eigen3/Eigen/CholmodSupport\n",
            "-- Installing: /root/.hunter/_Base/70287b1/02ccb06/dffbc08/Build/Eigen/Install/include/eigen3/Eigen/Core\n",
            "-- Installing: /root/.hunter/_Base/70287b1/02ccb06/dffbc08/Build/Eigen/Install/include/eigen3/Eigen/Dense\n",
            "-- Installing: /root/.hunter/_Base/70287b1/02ccb06/dffbc08/Build/Eigen/Install/include/eigen3/Eigen/Eigen\n",
            "-- Installing: /root/.hunter/_Base/70287b1/02ccb06/dffbc08/Build/Eigen/Install/include/eigen3/Eigen/Eigenvalues\n",
            "-- Installing: /root/.hunter/_Base/70287b1/02ccb06/dffbc08/Build/Eigen/Install/include/eigen3/Eigen/Geometry\n",
            "-- Installing: /root/.hunter/_Base/70287b1/02ccb06/dffbc08/Build/Eigen/Install/include/eigen3/Eigen/Householder\n",
            "-- Installing: /root/.hunter/_Base/70287b1/02ccb06/dffbc08/Build/Eigen/Install/include/eigen3/Eigen/IterativeLinearSolvers\n",
            "-- Installing: /root/.hunter/_Base/70287b1/02ccb06/dffbc08/Build/Eigen/Install/include/eigen3/Eigen/Jacobi\n",
            "-- Installing: /root/.hunter/_Base/70287b1/02ccb06/dffbc08/Build/Eigen/Install/include/eigen3/Eigen/LU\n",
            "-- Installing: /root/.hunter/_Base/70287b1/02ccb06/dffbc08/Build/Eigen/Install/include/eigen3/Eigen/MetisSupport\n",
            "-- Installing: /root/.hunter/_Base/70287b1/02ccb06/dffbc08/Build/Eigen/Install/include/eigen3/Eigen/OrderingMethods\n",
            "-- Installing: /root/.hunter/_Base/70287b1/02ccb06/dffbc08/Build/Eigen/Install/include/eigen3/Eigen/PaStiXSupport\n",
            "-- Installing: /root/.hunter/_Base/70287b1/02ccb06/dffbc08/Build/Eigen/Install/include/eigen3/Eigen/PardisoSupport\n",
            "-- Installing: /root/.hunter/_Base/70287b1/02ccb06/dffbc08/Build/Eigen/Install/include/eigen3/Eigen/QR\n",
            "-- Installing: /root/.hunter/_Base/70287b1/02ccb06/dffbc08/Build/Eigen/Install/include/eigen3/Eigen/QtAlignedMalloc\n",
            "-- Installing: /root/.hunter/_Base/70287b1/02ccb06/dffbc08/Build/Eigen/Install/include/eigen3/Eigen/SPQRSupport\n",
            "-- Installing: /root/.hunter/_Base/70287b1/02ccb06/dffbc08/Build/Eigen/Install/include/eigen3/Eigen/SVD\n",
            "-- Installing: /root/.hunter/_Base/70287b1/02ccb06/dffbc08/Build/Eigen/Install/include/eigen3/Eigen/Sparse\n",
            "-- Installing: /root/.hunter/_Base/70287b1/02ccb06/dffbc08/Build/Eigen/Install/include/eigen3/Eigen/SparseCholesky\n",
            "-- Installing: /root/.hunter/_Base/70287b1/02ccb06/dffbc08/Build/Eigen/Install/include/eigen3/Eigen/SparseCore\n",
            "-- Installing: /root/.hunter/_Base/70287b1/02ccb06/dffbc08/Build/Eigen/Install/include/eigen3/Eigen/SparseLU\n",
            "-- Installing: /root/.hunter/_Base/70287b1/02ccb06/dffbc08/Build/Eigen/Install/include/eigen3/Eigen/SparseQR\n",
            "-- Installing: /root/.hunter/_Base/70287b1/02ccb06/dffbc08/Build/Eigen/Install/include/eigen3/Eigen/StdDeque\n",
            "-- Installing: /root/.hunter/_Base/70287b1/02ccb06/dffbc08/Build/Eigen/Install/include/eigen3/Eigen/StdList\n",
            "-- Installing: /root/.hunter/_Base/70287b1/02ccb06/dffbc08/Build/Eigen/Install/include/eigen3/Eigen/StdVector\n",
            "-- Installing: /root/.hunter/_Base/70287b1/02ccb06/dffbc08/Build/Eigen/Install/include/eigen3/Eigen/SuperLUSupport\n",
            "-- Installing: /root/.hunter/_Base/70287b1/02ccb06/dffbc08/Build/Eigen/Install/include/eigen3/Eigen/UmfPackSupport\n",
            "-- Installing: /root/.hunter/_Base/70287b1/02ccb06/dffbc08/Build/Eigen/Install/include/eigen3/Eigen/src\n",
            "-- Installing: /root/.hunter/_Base/70287b1/02ccb06/dffbc08/Build/Eigen/Install/include/eigen3/Eigen/src/SuperLUSupport\n",
            "-- Installing: /root/.hunter/_Base/70287b1/02ccb06/dffbc08/Build/Eigen/Install/include/eigen3/Eigen/src/SuperLUSupport/SuperLUSupport.h\n",
            "-- Installing: /root/.hunter/_Base/70287b1/02ccb06/dffbc08/Build/Eigen/Install/include/eigen3/Eigen/src/SPQRSupport\n",
            "-- Installing: /root/.hunter/_Base/70287b1/02ccb06/dffbc08/Build/Eigen/Install/include/eigen3/Eigen/src/SPQRSupport/SuiteSparseQRSupport.h\n",
            "-- Installing: /root/.hunter/_Base/70287b1/02ccb06/dffbc08/Build/Eigen/Install/include/eigen3/Eigen/src/OrderingMethods\n",
            "-- Installing: /root/.hunter/_Base/70287b1/02ccb06/dffbc08/Build/Eigen/Install/include/eigen3/Eigen/src/OrderingMethods/Eigen_Colamd.h\n",
            "-- Installing: /root/.hunter/_Base/70287b1/02ccb06/dffbc08/Build/Eigen/Install/include/eigen3/Eigen/src/OrderingMethods/Ordering.h\n",
            "-- Installing: /root/.hunter/_Base/70287b1/02ccb06/dffbc08/Build/Eigen/Install/include/eigen3/Eigen/src/OrderingMethods/Amd.h\n",
            "-- Installing: /root/.hunter/_Base/70287b1/02ccb06/dffbc08/Build/Eigen/Install/include/eigen3/Eigen/src/Cholesky\n",
            "-- Installing: /root/.hunter/_Base/70287b1/02ccb06/dffbc08/Build/Eigen/Install/include/eigen3/Eigen/src/Cholesky/LLT.h\n",
            "-- Installing: /root/.hunter/_Base/70287b1/02ccb06/dffbc08/Build/Eigen/Install/include/eigen3/Eigen/src/Cholesky/LDLT.h\n",
            "-- Installing: /root/.hunter/_Base/70287b1/02ccb06/dffbc08/Build/Eigen/Install/include/eigen3/Eigen/src/Cholesky/LLT_LAPACKE.h\n",
            "-- Installing: /root/.hunter/_Base/70287b1/02ccb06/dffbc08/Build/Eigen/Install/include/eigen3/Eigen/src/misc\n",
            "-- Installing: /root/.hunter/_Base/70287b1/02ccb06/dffbc08/Build/Eigen/Install/include/eigen3/Eigen/src/misc/lapacke.h\n",
            "-- Installing: /root/.hunter/_Base/70287b1/02ccb06/dffbc08/Build/Eigen/Install/include/eigen3/Eigen/src/misc/blas.h\n",
            "-- Installing: /root/.hunter/_Base/70287b1/02ccb06/dffbc08/Build/Eigen/Install/include/eigen3/Eigen/src/misc/Kernel.h\n",
            "-- Installing: /root/.hunter/_Base/70287b1/02ccb06/dffbc08/Build/Eigen/Install/include/eigen3/Eigen/src/misc/Image.h\n",
            "-- Installing: /root/.hunter/_Base/70287b1/02ccb06/dffbc08/Build/Eigen/Install/include/eigen3/Eigen/src/misc/RealSvd2x2.h\n",
            "-- Installing: /root/.hunter/_Base/70287b1/02ccb06/dffbc08/Build/Eigen/Install/include/eigen3/Eigen/src/misc/lapack.h\n",
            "-- Installing: /root/.hunter/_Base/70287b1/02ccb06/dffbc08/Build/Eigen/Install/include/eigen3/Eigen/src/misc/lapacke_mangling.h\n",
            "-- Installing: /root/.hunter/_Base/70287b1/02ccb06/dffbc08/Build/Eigen/Install/include/eigen3/Eigen/src/Jacobi\n",
            "-- Installing: /root/.hunter/_Base/70287b1/02ccb06/dffbc08/Build/Eigen/Install/include/eigen3/Eigen/src/Jacobi/Jacobi.h\n",
            "-- Installing: /root/.hunter/_Base/70287b1/02ccb06/dffbc08/Build/Eigen/Install/include/eigen3/Eigen/src/LU\n",
            "-- Installing: /root/.hunter/_Base/70287b1/02ccb06/dffbc08/Build/Eigen/Install/include/eigen3/Eigen/src/LU/arch\n",
            "-- Installing: /root/.hunter/_Base/70287b1/02ccb06/dffbc08/Build/Eigen/Install/include/eigen3/Eigen/src/LU/arch/Inverse_SSE.h\n",
            "-- Installing: /root/.hunter/_Base/70287b1/02ccb06/dffbc08/Build/Eigen/Install/include/eigen3/Eigen/src/LU/PartialPivLU_LAPACKE.h\n",
            "-- Installing: /root/.hunter/_Base/70287b1/02ccb06/dffbc08/Build/Eigen/Install/include/eigen3/Eigen/src/LU/Determinant.h\n",
            "-- Installing: /root/.hunter/_Base/70287b1/02ccb06/dffbc08/Build/Eigen/Install/include/eigen3/Eigen/src/LU/InverseImpl.h\n",
            "-- Installing: /root/.hunter/_Base/70287b1/02ccb06/dffbc08/Build/Eigen/Install/include/eigen3/Eigen/src/LU/FullPivLU.h\n",
            "-- Installing: /root/.hunter/_Base/70287b1/02ccb06/dffbc08/Build/Eigen/Install/include/eigen3/Eigen/src/LU/PartialPivLU.h\n",
            "-- Installing: /root/.hunter/_Base/70287b1/02ccb06/dffbc08/Build/Eigen/Install/include/eigen3/Eigen/src/Eigenvalues\n",
            "-- Installing: /root/.hunter/_Base/70287b1/02ccb06/dffbc08/Build/Eigen/Install/include/eigen3/Eigen/src/Eigenvalues/SelfAdjointEigenSolver.h\n",
            "-- Installing: /root/.hunter/_Base/70287b1/02ccb06/dffbc08/Build/Eigen/Install/include/eigen3/Eigen/src/Eigenvalues/Tridiagonalization.h\n",
            "-- Installing: /root/.hunter/_Base/70287b1/02ccb06/dffbc08/Build/Eigen/Install/include/eigen3/Eigen/src/Eigenvalues/ComplexEigenSolver.h\n",
            "-- Installing: /root/.hunter/_Base/70287b1/02ccb06/dffbc08/Build/Eigen/Install/include/eigen3/Eigen/src/Eigenvalues/HessenbergDecomposition.h\n",
            "-- Installing: /root/.hunter/_Base/70287b1/02ccb06/dffbc08/Build/Eigen/Install/include/eigen3/Eigen/src/Eigenvalues/RealSchur_LAPACKE.h\n",
            "-- Installing: /root/.hunter/_Base/70287b1/02ccb06/dffbc08/Build/Eigen/Install/include/eigen3/Eigen/src/Eigenvalues/RealSchur.h\n",
            "-- Installing: /root/.hunter/_Base/70287b1/02ccb06/dffbc08/Build/Eigen/Install/include/eigen3/Eigen/src/Eigenvalues/GeneralizedSelfAdjointEigenSolver.h\n",
            "-- Installing: /root/.hunter/_Base/70287b1/02ccb06/dffbc08/Build/Eigen/Install/include/eigen3/Eigen/src/Eigenvalues/MatrixBaseEigenvalues.h\n",
            "-- Installing: /root/.hunter/_Base/70287b1/02ccb06/dffbc08/Build/Eigen/Install/include/eigen3/Eigen/src/Eigenvalues/SelfAdjointEigenSolver_LAPACKE.h\n",
            "-- Installing: /root/.hunter/_Base/70287b1/02ccb06/dffbc08/Build/Eigen/Install/include/eigen3/Eigen/src/Eigenvalues/GeneralizedEigenSolver.h\n",
            "-- Installing: /root/.hunter/_Base/70287b1/02ccb06/dffbc08/Build/Eigen/Install/include/eigen3/Eigen/src/Eigenvalues/RealQZ.h\n",
            "-- Installing: /root/.hunter/_Base/70287b1/02ccb06/dffbc08/Build/Eigen/Install/include/eigen3/Eigen/src/Eigenvalues/ComplexSchur_LAPACKE.h\n",
            "-- Installing: /root/.hunter/_Base/70287b1/02ccb06/dffbc08/Build/Eigen/Install/include/eigen3/Eigen/src/Eigenvalues/ComplexSchur.h\n",
            "-- Installing: /root/.hunter/_Base/70287b1/02ccb06/dffbc08/Build/Eigen/Install/include/eigen3/Eigen/src/Eigenvalues/EigenSolver.h\n",
            "-- Installing: /root/.hunter/_Base/70287b1/02ccb06/dffbc08/Build/Eigen/Install/include/eigen3/Eigen/src/UmfPackSupport\n",
            "-- Installing: /root/.hunter/_Base/70287b1/02ccb06/dffbc08/Build/Eigen/Install/include/eigen3/Eigen/src/UmfPackSupport/UmfPackSupport.h\n",
            "-- Installing: /root/.hunter/_Base/70287b1/02ccb06/dffbc08/Build/Eigen/Install/include/eigen3/Eigen/src/SparseCore\n",
            "-- Installing: /root/.hunter/_Base/70287b1/02ccb06/dffbc08/Build/Eigen/Install/include/eigen3/Eigen/src/SparseCore/TriangularSolver.h\n",
            "-- Installing: /root/.hunter/_Base/70287b1/02ccb06/dffbc08/Build/Eigen/Install/include/eigen3/Eigen/src/SparseCore/SparseView.h\n",
            "-- Installing: /root/.hunter/_Base/70287b1/02ccb06/dffbc08/Build/Eigen/Install/include/eigen3/Eigen/src/SparseCore/MappedSparseMatrix.h\n",
            "-- Installing: /root/.hunter/_Base/70287b1/02ccb06/dffbc08/Build/Eigen/Install/include/eigen3/Eigen/src/SparseCore/SparseSelfAdjointView.h\n",
            "-- Installing: /root/.hunter/_Base/70287b1/02ccb06/dffbc08/Build/Eigen/Install/include/eigen3/Eigen/src/SparseCore/CompressedStorage.h\n",
            "-- Installing: /root/.hunter/_Base/70287b1/02ccb06/dffbc08/Build/Eigen/Install/include/eigen3/Eigen/src/SparseCore/ConservativeSparseSparseProduct.h\n",
            "-- Installing: /root/.hunter/_Base/70287b1/02ccb06/dffbc08/Build/Eigen/Install/include/eigen3/Eigen/src/SparseCore/SparseFuzzy.h\n",
            "-- Installing: /root/.hunter/_Base/70287b1/02ccb06/dffbc08/Build/Eigen/Install/include/eigen3/Eigen/src/SparseCore/SparseTriangularView.h\n",
            "-- Installing: /root/.hunter/_Base/70287b1/02ccb06/dffbc08/Build/Eigen/Install/include/eigen3/Eigen/src/SparseCore/SparseDot.h\n",
            "-- Installing: /root/.hunter/_Base/70287b1/02ccb06/dffbc08/Build/Eigen/Install/include/eigen3/Eigen/src/SparseCore/SparseMatrix.h\n",
            "-- Installing: /root/.hunter/_Base/70287b1/02ccb06/dffbc08/Build/Eigen/Install/include/eigen3/Eigen/src/SparseCore/SparseDenseProduct.h\n",
            "-- Installing: /root/.hunter/_Base/70287b1/02ccb06/dffbc08/Build/Eigen/Install/include/eigen3/Eigen/src/SparseCore/SparseSparseProductWithPruning.h\n",
            "-- Installing: /root/.hunter/_Base/70287b1/02ccb06/dffbc08/Build/Eigen/Install/include/eigen3/Eigen/src/SparseCore/SparseDiagonalProduct.h\n",
            "-- Installing: /root/.hunter/_Base/70287b1/02ccb06/dffbc08/Build/Eigen/Install/include/eigen3/Eigen/src/SparseCore/SparseRedux.h\n",
            "-- Installing: /root/.hunter/_Base/70287b1/02ccb06/dffbc08/Build/Eigen/Install/include/eigen3/Eigen/src/SparseCore/SparseCwiseBinaryOp.h\n",
            "-- Installing: /root/.hunter/_Base/70287b1/02ccb06/dffbc08/Build/Eigen/Install/include/eigen3/Eigen/src/SparseCore/SparseMap.h\n",
            "-- Installing: /root/.hunter/_Base/70287b1/02ccb06/dffbc08/Build/Eigen/Install/include/eigen3/Eigen/src/SparseCore/SparseTranspose.h\n",
            "-- Installing: /root/.hunter/_Base/70287b1/02ccb06/dffbc08/Build/Eigen/Install/include/eigen3/Eigen/src/SparseCore/SparseCwiseUnaryOp.h\n",
            "-- Installing: /root/.hunter/_Base/70287b1/02ccb06/dffbc08/Build/Eigen/Install/include/eigen3/Eigen/src/SparseCore/AmbiVector.h\n",
            "-- Installing: /root/.hunter/_Base/70287b1/02ccb06/dffbc08/Build/Eigen/Install/include/eigen3/Eigen/src/SparseCore/SparseRef.h\n",
            "-- Installing: /root/.hunter/_Base/70287b1/02ccb06/dffbc08/Build/Eigen/Install/include/eigen3/Eigen/src/SparseCore/SparseSolverBase.h\n",
            "-- Installing: /root/.hunter/_Base/70287b1/02ccb06/dffbc08/Build/Eigen/Install/include/eigen3/Eigen/src/SparseCore/SparseUtil.h\n",
            "-- Installing: /root/.hunter/_Base/70287b1/02ccb06/dffbc08/Build/Eigen/Install/include/eigen3/Eigen/src/SparseCore/SparsePermutation.h\n",
            "-- Installing: /root/.hunter/_Base/70287b1/02ccb06/dffbc08/Build/Eigen/Install/include/eigen3/Eigen/src/SparseCore/SparseColEtree.h\n",
            "-- Installing: /root/.hunter/_Base/70287b1/02ccb06/dffbc08/Build/Eigen/Install/include/eigen3/Eigen/src/SparseCore/SparseMatrixBase.h\n",
            "-- Installing: /root/.hunter/_Base/70287b1/02ccb06/dffbc08/Build/Eigen/Install/include/eigen3/Eigen/src/SparseCore/SparseBlock.h\n",
            "-- Installing: /root/.hunter/_Base/70287b1/02ccb06/dffbc08/Build/Eigen/Install/include/eigen3/Eigen/src/SparseCore/SparseAssign.h\n",
            "-- Installing: /root/.hunter/_Base/70287b1/02ccb06/dffbc08/Build/Eigen/Install/include/eigen3/Eigen/src/SparseCore/SparseProduct.h\n",
            "-- Installing: /root/.hunter/_Base/70287b1/02ccb06/dffbc08/Build/Eigen/Install/include/eigen3/Eigen/src/SparseCore/SparseCompressedBase.h\n",
            "-- Installing: /root/.hunter/_Base/70287b1/02ccb06/dffbc08/Build/Eigen/Install/include/eigen3/Eigen/src/SparseCore/SparseVector.h\n",
            "-- Installing: /root/.hunter/_Base/70287b1/02ccb06/dffbc08/Build/Eigen/Install/include/eigen3/Eigen/src/SparseCholesky\n",
            "-- Installing: /root/.hunter/_Base/70287b1/02ccb06/dffbc08/Build/Eigen/Install/include/eigen3/Eigen/src/SparseCholesky/SimplicialCholesky.h\n",
            "-- Installing: /root/.hunter/_Base/70287b1/02ccb06/dffbc08/Build/Eigen/Install/include/eigen3/Eigen/src/SparseCholesky/SimplicialCholesky_impl.h\n",
            "-- Installing: /root/.hunter/_Base/70287b1/02ccb06/dffbc08/Build/Eigen/Install/include/eigen3/Eigen/src/SVD\n",
            "-- Installing: /root/.hunter/_Base/70287b1/02ccb06/dffbc08/Build/Eigen/Install/include/eigen3/Eigen/src/SVD/BDCSVD.h\n",
            "-- Installing: /root/.hunter/_Base/70287b1/02ccb06/dffbc08/Build/Eigen/Install/include/eigen3/Eigen/src/SVD/SVDBase.h\n",
            "-- Installing: /root/.hunter/_Base/70287b1/02ccb06/dffbc08/Build/Eigen/Install/include/eigen3/Eigen/src/SVD/UpperBidiagonalization.h\n",
            "-- Installing: /root/.hunter/_Base/70287b1/02ccb06/dffbc08/Build/Eigen/Install/include/eigen3/Eigen/src/SVD/JacobiSVD.h\n",
            "-- Installing: /root/.hunter/_Base/70287b1/02ccb06/dffbc08/Build/Eigen/Install/include/eigen3/Eigen/src/SVD/JacobiSVD_LAPACKE.h\n",
            "-- Installing: /root/.hunter/_Base/70287b1/02ccb06/dffbc08/Build/Eigen/Install/include/eigen3/Eigen/src/Householder\n",
            "-- Installing: /root/.hunter/_Base/70287b1/02ccb06/dffbc08/Build/Eigen/Install/include/eigen3/Eigen/src/Householder/Householder.h\n",
            "-- Installing: /root/.hunter/_Base/70287b1/02ccb06/dffbc08/Build/Eigen/Install/include/eigen3/Eigen/src/Householder/BlockHouseholder.h\n",
            "-- Installing: /root/.hunter/_Base/70287b1/02ccb06/dffbc08/Build/Eigen/Install/include/eigen3/Eigen/src/Householder/HouseholderSequence.h\n",
            "-- Installing: /root/.hunter/_Base/70287b1/02ccb06/dffbc08/Build/Eigen/Install/include/eigen3/Eigen/src/SparseLU\n",
            "-- Installing: /root/.hunter/_Base/70287b1/02ccb06/dffbc08/Build/Eigen/Install/include/eigen3/Eigen/src/SparseLU/SparseLU_panel_dfs.h\n",
            "-- Installing: /root/.hunter/_Base/70287b1/02ccb06/dffbc08/Build/Eigen/Install/include/eigen3/Eigen/src/SparseLU/SparseLU_gemm_kernel.h\n",
            "-- Installing: /root/.hunter/_Base/70287b1/02ccb06/dffbc08/Build/Eigen/Install/include/eigen3/Eigen/src/SparseLU/SparseLU_Structs.h\n",
            "-- Installing: /root/.hunter/_Base/70287b1/02ccb06/dffbc08/Build/Eigen/Install/include/eigen3/Eigen/src/SparseLU/SparseLU_column_bmod.h\n",
            "-- Installing: /root/.hunter/_Base/70287b1/02ccb06/dffbc08/Build/Eigen/Install/include/eigen3/Eigen/src/SparseLU/SparseLU_heap_relax_snode.h\n",
            "-- Installing: /root/.hunter/_Base/70287b1/02ccb06/dffbc08/Build/Eigen/Install/include/eigen3/Eigen/src/SparseLU/SparseLU_column_dfs.h\n",
            "-- Installing: /root/.hunter/_Base/70287b1/02ccb06/dffbc08/Build/Eigen/Install/include/eigen3/Eigen/src/SparseLU/SparseLU_panel_bmod.h\n",
            "-- Installing: /root/.hunter/_Base/70287b1/02ccb06/dffbc08/Build/Eigen/Install/include/eigen3/Eigen/src/SparseLU/SparseLU_relax_snode.h\n",
            "-- Installing: /root/.hunter/_Base/70287b1/02ccb06/dffbc08/Build/Eigen/Install/include/eigen3/Eigen/src/SparseLU/SparseLU_Memory.h\n",
            "-- Installing: /root/.hunter/_Base/70287b1/02ccb06/dffbc08/Build/Eigen/Install/include/eigen3/Eigen/src/SparseLU/SparseLU_copy_to_ucol.h\n",
            "-- Installing: /root/.hunter/_Base/70287b1/02ccb06/dffbc08/Build/Eigen/Install/include/eigen3/Eigen/src/SparseLU/SparseLU.h\n",
            "-- Installing: /root/.hunter/_Base/70287b1/02ccb06/dffbc08/Build/Eigen/Install/include/eigen3/Eigen/src/SparseLU/SparseLUImpl.h\n",
            "-- Installing: /root/.hunter/_Base/70287b1/02ccb06/dffbc08/Build/Eigen/Install/include/eigen3/Eigen/src/SparseLU/SparseLU_pivotL.h\n",
            "-- Installing: /root/.hunter/_Base/70287b1/02ccb06/dffbc08/Build/Eigen/Install/include/eigen3/Eigen/src/SparseLU/SparseLU_SupernodalMatrix.h\n",
            "-- Installing: /root/.hunter/_Base/70287b1/02ccb06/dffbc08/Build/Eigen/Install/include/eigen3/Eigen/src/SparseLU/SparseLU_kernel_bmod.h\n",
            "-- Installing: /root/.hunter/_Base/70287b1/02ccb06/dffbc08/Build/Eigen/Install/include/eigen3/Eigen/src/SparseLU/SparseLU_Utils.h\n",
            "-- Installing: /root/.hunter/_Base/70287b1/02ccb06/dffbc08/Build/Eigen/Install/include/eigen3/Eigen/src/SparseLU/SparseLU_pruneL.h\n",
            "-- Installing: /root/.hunter/_Base/70287b1/02ccb06/dffbc08/Build/Eigen/Install/include/eigen3/Eigen/src/Geometry\n",
            "-- Installing: /root/.hunter/_Base/70287b1/02ccb06/dffbc08/Build/Eigen/Install/include/eigen3/Eigen/src/Geometry/Quaternion.h\n",
            "-- Installing: /root/.hunter/_Base/70287b1/02ccb06/dffbc08/Build/Eigen/Install/include/eigen3/Eigen/src/Geometry/Scaling.h\n",
            "-- Installing: /root/.hunter/_Base/70287b1/02ccb06/dffbc08/Build/Eigen/Install/include/eigen3/Eigen/src/Geometry/Umeyama.h\n",
            "-- Installing: /root/.hunter/_Base/70287b1/02ccb06/dffbc08/Build/Eigen/Install/include/eigen3/Eigen/src/Geometry/Homogeneous.h\n",
            "-- Installing: /root/.hunter/_Base/70287b1/02ccb06/dffbc08/Build/Eigen/Install/include/eigen3/Eigen/src/Geometry/Hyperplane.h\n",
            "-- Installing: /root/.hunter/_Base/70287b1/02ccb06/dffbc08/Build/Eigen/Install/include/eigen3/Eigen/src/Geometry/ParametrizedLine.h\n",
            "-- Installing: /root/.hunter/_Base/70287b1/02ccb06/dffbc08/Build/Eigen/Install/include/eigen3/Eigen/src/Geometry/arch\n",
            "-- Installing: /root/.hunter/_Base/70287b1/02ccb06/dffbc08/Build/Eigen/Install/include/eigen3/Eigen/src/Geometry/arch/Geometry_SSE.h\n",
            "-- Installing: /root/.hunter/_Base/70287b1/02ccb06/dffbc08/Build/Eigen/Install/include/eigen3/Eigen/src/Geometry/Rotation2D.h\n",
            "-- Installing: /root/.hunter/_Base/70287b1/02ccb06/dffbc08/Build/Eigen/Install/include/eigen3/Eigen/src/Geometry/Translation.h\n",
            "-- Installing: /root/.hunter/_Base/70287b1/02ccb06/dffbc08/Build/Eigen/Install/include/eigen3/Eigen/src/Geometry/RotationBase.h\n",
            "-- Installing: /root/.hunter/_Base/70287b1/02ccb06/dffbc08/Build/Eigen/Install/include/eigen3/Eigen/src/Geometry/EulerAngles.h\n",
            "-- Installing: /root/.hunter/_Base/70287b1/02ccb06/dffbc08/Build/Eigen/Install/include/eigen3/Eigen/src/Geometry/OrthoMethods.h\n",
            "-- Installing: /root/.hunter/_Base/70287b1/02ccb06/dffbc08/Build/Eigen/Install/include/eigen3/Eigen/src/Geometry/AlignedBox.h\n",
            "-- Installing: /root/.hunter/_Base/70287b1/02ccb06/dffbc08/Build/Eigen/Install/include/eigen3/Eigen/src/Geometry/AngleAxis.h\n",
            "-- Installing: /root/.hunter/_Base/70287b1/02ccb06/dffbc08/Build/Eigen/Install/include/eigen3/Eigen/src/Geometry/Transform.h\n",
            "-- Installing: /root/.hunter/_Base/70287b1/02ccb06/dffbc08/Build/Eigen/Install/include/eigen3/Eigen/src/plugins\n",
            "-- Installing: /root/.hunter/_Base/70287b1/02ccb06/dffbc08/Build/Eigen/Install/include/eigen3/Eigen/src/plugins/MatrixCwiseBinaryOps.h\n",
            "-- Installing: /root/.hunter/_Base/70287b1/02ccb06/dffbc08/Build/Eigen/Install/include/eigen3/Eigen/src/plugins/ArrayCwiseUnaryOps.h\n",
            "-- Installing: /root/.hunter/_Base/70287b1/02ccb06/dffbc08/Build/Eigen/Install/include/eigen3/Eigen/src/plugins/ArrayCwiseBinaryOps.h\n",
            "-- Installing: /root/.hunter/_Base/70287b1/02ccb06/dffbc08/Build/Eigen/Install/include/eigen3/Eigen/src/plugins/CommonCwiseBinaryOps.h\n",
            "-- Installing: /root/.hunter/_Base/70287b1/02ccb06/dffbc08/Build/Eigen/Install/include/eigen3/Eigen/src/plugins/BlockMethods.h\n",
            "-- Installing: /root/.hunter/_Base/70287b1/02ccb06/dffbc08/Build/Eigen/Install/include/eigen3/Eigen/src/plugins/CommonCwiseUnaryOps.h\n",
            "-- Installing: /root/.hunter/_Base/70287b1/02ccb06/dffbc08/Build/Eigen/Install/include/eigen3/Eigen/src/plugins/MatrixCwiseUnaryOps.h\n",
            "-- Installing: /root/.hunter/_Base/70287b1/02ccb06/dffbc08/Build/Eigen/Install/include/eigen3/Eigen/src/MetisSupport\n",
            "-- Installing: /root/.hunter/_Base/70287b1/02ccb06/dffbc08/Build/Eigen/Install/include/eigen3/Eigen/src/MetisSupport/MetisSupport.h\n",
            "-- Installing: /root/.hunter/_Base/70287b1/02ccb06/dffbc08/Build/Eigen/Install/include/eigen3/Eigen/src/StlSupport\n",
            "-- Installing: /root/.hunter/_Base/70287b1/02ccb06/dffbc08/Build/Eigen/Install/include/eigen3/Eigen/src/StlSupport/StdVector.h\n",
            "-- Installing: /root/.hunter/_Base/70287b1/02ccb06/dffbc08/Build/Eigen/Install/include/eigen3/Eigen/src/StlSupport/StdDeque.h\n",
            "-- Installing: /root/.hunter/_Base/70287b1/02ccb06/dffbc08/Build/Eigen/Install/include/eigen3/Eigen/src/StlSupport/details.h\n",
            "-- Installing: /root/.hunter/_Base/70287b1/02ccb06/dffbc08/Build/Eigen/Install/include/eigen3/Eigen/src/StlSupport/StdList.h\n",
            "-- Installing: /root/.hunter/_Base/70287b1/02ccb06/dffbc08/Build/Eigen/Install/include/eigen3/Eigen/src/Core\n",
            "-- Installing: /root/.hunter/_Base/70287b1/02ccb06/dffbc08/Build/Eigen/Install/include/eigen3/Eigen/src/Core/DiagonalProduct.h\n",
            "-- Installing: /root/.hunter/_Base/70287b1/02ccb06/dffbc08/Build/Eigen/Install/include/eigen3/Eigen/src/Core/Random.h\n",
            "-- Installing: /root/.hunter/_Base/70287b1/02ccb06/dffbc08/Build/Eigen/Install/include/eigen3/Eigen/src/Core/NoAlias.h\n",
            "-- Installing: /root/.hunter/_Base/70287b1/02ccb06/dffbc08/Build/Eigen/Install/include/eigen3/Eigen/src/Core/Fuzzy.h\n",
            "-- Installing: /root/.hunter/_Base/70287b1/02ccb06/dffbc08/Build/Eigen/Install/include/eigen3/Eigen/src/Core/MathFunctions.h\n",
            "-- Installing: /root/.hunter/_Base/70287b1/02ccb06/dffbc08/Build/Eigen/Install/include/eigen3/Eigen/src/Core/DenseStorage.h\n",
            "-- Installing: /root/.hunter/_Base/70287b1/02ccb06/dffbc08/Build/Eigen/Install/include/eigen3/Eigen/src/Core/ArrayBase.h\n",
            "-- Installing: /root/.hunter/_Base/70287b1/02ccb06/dffbc08/Build/Eigen/Install/include/eigen3/Eigen/src/Core/Solve.h\n",
            "-- Installing: /root/.hunter/_Base/70287b1/02ccb06/dffbc08/Build/Eigen/Install/include/eigen3/Eigen/src/Core/SolverBase.h\n",
            "-- Installing: /root/.hunter/_Base/70287b1/02ccb06/dffbc08/Build/Eigen/Install/include/eigen3/Eigen/src/Core/Dot.h\n",
            "-- Installing: /root/.hunter/_Base/70287b1/02ccb06/dffbc08/Build/Eigen/Install/include/eigen3/Eigen/src/Core/ReturnByValue.h\n",
            "-- Installing: /root/.hunter/_Base/70287b1/02ccb06/dffbc08/Build/Eigen/Install/include/eigen3/Eigen/src/Core/DenseCoeffsBase.h\n",
            "-- Installing: /root/.hunter/_Base/70287b1/02ccb06/dffbc08/Build/Eigen/Install/include/eigen3/Eigen/src/Core/arch\n",
            "-- Installing: /root/.hunter/_Base/70287b1/02ccb06/dffbc08/Build/Eigen/Install/include/eigen3/Eigen/src/Core/arch/CUDA\n",
            "-- Installing: /root/.hunter/_Base/70287b1/02ccb06/dffbc08/Build/Eigen/Install/include/eigen3/Eigen/src/Core/arch/CUDA/Complex.h\n",
            "-- Installing: /root/.hunter/_Base/70287b1/02ccb06/dffbc08/Build/Eigen/Install/include/eigen3/Eigen/src/Core/arch/CUDA/MathFunctions.h\n",
            "-- Installing: /root/.hunter/_Base/70287b1/02ccb06/dffbc08/Build/Eigen/Install/include/eigen3/Eigen/src/Core/arch/CUDA/PacketMathHalf.h\n",
            "-- Installing: /root/.hunter/_Base/70287b1/02ccb06/dffbc08/Build/Eigen/Install/include/eigen3/Eigen/src/Core/arch/CUDA/PacketMath.h\n",
            "-- Installing: /root/.hunter/_Base/70287b1/02ccb06/dffbc08/Build/Eigen/Install/include/eigen3/Eigen/src/Core/arch/CUDA/Half.h\n",
            "-- Installing: /root/.hunter/_Base/70287b1/02ccb06/dffbc08/Build/Eigen/Install/include/eigen3/Eigen/src/Core/arch/CUDA/TypeCasting.h\n",
            "-- Installing: /root/.hunter/_Base/70287b1/02ccb06/dffbc08/Build/Eigen/Install/include/eigen3/Eigen/src/Core/arch/AVX\n",
            "-- Installing: /root/.hunter/_Base/70287b1/02ccb06/dffbc08/Build/Eigen/Install/include/eigen3/Eigen/src/Core/arch/AVX/Complex.h\n",
            "-- Installing: /root/.hunter/_Base/70287b1/02ccb06/dffbc08/Build/Eigen/Install/include/eigen3/Eigen/src/Core/arch/AVX/MathFunctions.h\n",
            "-- Installing: /root/.hunter/_Base/70287b1/02ccb06/dffbc08/Build/Eigen/Install/include/eigen3/Eigen/src/Core/arch/AVX/PacketMath.h\n",
            "-- Installing: /root/.hunter/_Base/70287b1/02ccb06/dffbc08/Build/Eigen/Install/include/eigen3/Eigen/src/Core/arch/AVX/TypeCasting.h\n",
            "-- Installing: /root/.hunter/_Base/70287b1/02ccb06/dffbc08/Build/Eigen/Install/include/eigen3/Eigen/src/Core/arch/AltiVec\n",
            "-- Installing: /root/.hunter/_Base/70287b1/02ccb06/dffbc08/Build/Eigen/Install/include/eigen3/Eigen/src/Core/arch/AltiVec/Complex.h\n",
            "-- Installing: /root/.hunter/_Base/70287b1/02ccb06/dffbc08/Build/Eigen/Install/include/eigen3/Eigen/src/Core/arch/AltiVec/MathFunctions.h\n",
            "-- Installing: /root/.hunter/_Base/70287b1/02ccb06/dffbc08/Build/Eigen/Install/include/eigen3/Eigen/src/Core/arch/AltiVec/PacketMath.h\n",
            "-- Installing: /root/.hunter/_Base/70287b1/02ccb06/dffbc08/Build/Eigen/Install/include/eigen3/Eigen/src/Core/arch/ZVector\n",
            "-- Installing: /root/.hunter/_Base/70287b1/02ccb06/dffbc08/Build/Eigen/Install/include/eigen3/Eigen/src/Core/arch/ZVector/Complex.h\n",
            "-- Installing: /root/.hunter/_Base/70287b1/02ccb06/dffbc08/Build/Eigen/Install/include/eigen3/Eigen/src/Core/arch/ZVector/MathFunctions.h\n",
            "-- Installing: /root/.hunter/_Base/70287b1/02ccb06/dffbc08/Build/Eigen/Install/include/eigen3/Eigen/src/Core/arch/ZVector/PacketMath.h\n",
            "-- Installing: /root/.hunter/_Base/70287b1/02ccb06/dffbc08/Build/Eigen/Install/include/eigen3/Eigen/src/Core/arch/NEON\n",
            "-- Installing: /root/.hunter/_Base/70287b1/02ccb06/dffbc08/Build/Eigen/Install/include/eigen3/Eigen/src/Core/arch/NEON/Complex.h\n",
            "-- Installing: /root/.hunter/_Base/70287b1/02ccb06/dffbc08/Build/Eigen/Install/include/eigen3/Eigen/src/Core/arch/NEON/MathFunctions.h\n",
            "-- Installing: /root/.hunter/_Base/70287b1/02ccb06/dffbc08/Build/Eigen/Install/include/eigen3/Eigen/src/Core/arch/NEON/PacketMath.h\n",
            "-- Installing: /root/.hunter/_Base/70287b1/02ccb06/dffbc08/Build/Eigen/Install/include/eigen3/Eigen/src/Core/arch/SSE\n",
            "-- Installing: /root/.hunter/_Base/70287b1/02ccb06/dffbc08/Build/Eigen/Install/include/eigen3/Eigen/src/Core/arch/SSE/Complex.h\n",
            "-- Installing: /root/.hunter/_Base/70287b1/02ccb06/dffbc08/Build/Eigen/Install/include/eigen3/Eigen/src/Core/arch/SSE/MathFunctions.h\n",
            "-- Installing: /root/.hunter/_Base/70287b1/02ccb06/dffbc08/Build/Eigen/Install/include/eigen3/Eigen/src/Core/arch/SSE/PacketMath.h\n",
            "-- Installing: /root/.hunter/_Base/70287b1/02ccb06/dffbc08/Build/Eigen/Install/include/eigen3/Eigen/src/Core/arch/SSE/TypeCasting.h\n",
            "-- Installing: /root/.hunter/_Base/70287b1/02ccb06/dffbc08/Build/Eigen/Install/include/eigen3/Eigen/src/Core/arch/Default\n",
            "-- Installing: /root/.hunter/_Base/70287b1/02ccb06/dffbc08/Build/Eigen/Install/include/eigen3/Eigen/src/Core/arch/Default/Settings.h\n",
            "-- Installing: /root/.hunter/_Base/70287b1/02ccb06/dffbc08/Build/Eigen/Install/include/eigen3/Eigen/src/Core/arch/Default/ConjHelper.h\n",
            "-- Installing: /root/.hunter/_Base/70287b1/02ccb06/dffbc08/Build/Eigen/Install/include/eigen3/Eigen/src/Core/arch/AVX512\n",
            "-- Installing: /root/.hunter/_Base/70287b1/02ccb06/dffbc08/Build/Eigen/Install/include/eigen3/Eigen/src/Core/arch/AVX512/MathFunctions.h\n",
            "-- Installing: /root/.hunter/_Base/70287b1/02ccb06/dffbc08/Build/Eigen/Install/include/eigen3/Eigen/src/Core/arch/AVX512/PacketMath.h\n",
            "-- Installing: /root/.hunter/_Base/70287b1/02ccb06/dffbc08/Build/Eigen/Install/include/eigen3/Eigen/src/Core/CoreIterators.h\n",
            "-- Installing: /root/.hunter/_Base/70287b1/02ccb06/dffbc08/Build/Eigen/Install/include/eigen3/Eigen/src/Core/Diagonal.h\n",
            "-- Installing: /root/.hunter/_Base/70287b1/02ccb06/dffbc08/Build/Eigen/Install/include/eigen3/Eigen/src/Core/GlobalFunctions.h\n",
            "-- Installing: /root/.hunter/_Base/70287b1/02ccb06/dffbc08/Build/Eigen/Install/include/eigen3/Eigen/src/Core/ForceAlignedAccess.h\n",
            "-- Installing: /root/.hunter/_Base/70287b1/02ccb06/dffbc08/Build/Eigen/Install/include/eigen3/Eigen/src/Core/DiagonalMatrix.h\n",
            "-- Installing: /root/.hunter/_Base/70287b1/02ccb06/dffbc08/Build/Eigen/Install/include/eigen3/Eigen/src/Core/NestByValue.h\n",
            "-- Installing: /root/.hunter/_Base/70287b1/02ccb06/dffbc08/Build/Eigen/Install/include/eigen3/Eigen/src/Core/MapBase.h\n",
            "-- Installing: /root/.hunter/_Base/70287b1/02ccb06/dffbc08/Build/Eigen/Install/include/eigen3/Eigen/src/Core/GenericPacketMath.h\n",
            "-- Installing: /root/.hunter/_Base/70287b1/02ccb06/dffbc08/Build/Eigen/Install/include/eigen3/Eigen/src/Core/SelfCwiseBinaryOp.h\n",
            "-- Installing: /root/.hunter/_Base/70287b1/02ccb06/dffbc08/Build/Eigen/Install/include/eigen3/Eigen/src/Core/CwiseUnaryOp.h\n",
            "-- Installing: /root/.hunter/_Base/70287b1/02ccb06/dffbc08/Build/Eigen/Install/include/eigen3/Eigen/src/Core/Assign_MKL.h\n",
            "-- Installing: /root/.hunter/_Base/70287b1/02ccb06/dffbc08/Build/Eigen/Install/include/eigen3/Eigen/src/Core/TriangularMatrix.h\n",
            "-- Installing: /root/.hunter/_Base/70287b1/02ccb06/dffbc08/Build/Eigen/Install/include/eigen3/Eigen/src/Core/SelfAdjointView.h\n",
            "-- Installing: /root/.hunter/_Base/70287b1/02ccb06/dffbc08/Build/Eigen/Install/include/eigen3/Eigen/src/Core/DenseBase.h\n",
            "-- Installing: /root/.hunter/_Base/70287b1/02ccb06/dffbc08/Build/Eigen/Install/include/eigen3/Eigen/src/Core/GeneralProduct.h\n",
            "-- Installing: /root/.hunter/_Base/70287b1/02ccb06/dffbc08/Build/Eigen/Install/include/eigen3/Eigen/src/Core/BooleanRedux.h\n",
            "-- Installing: /root/.hunter/_Base/70287b1/02ccb06/dffbc08/Build/Eigen/Install/include/eigen3/Eigen/src/Core/util\n",
            "-- Installing: /root/.hunter/_Base/70287b1/02ccb06/dffbc08/Build/Eigen/Install/include/eigen3/Eigen/src/Core/util/Macros.h\n",
            "-- Installing: /root/.hunter/_Base/70287b1/02ccb06/dffbc08/Build/Eigen/Install/include/eigen3/Eigen/src/Core/util/StaticAssert.h\n",
            "-- Installing: /root/.hunter/_Base/70287b1/02ccb06/dffbc08/Build/Eigen/Install/include/eigen3/Eigen/src/Core/util/Meta.h\n",
            "-- Installing: /root/.hunter/_Base/70287b1/02ccb06/dffbc08/Build/Eigen/Install/include/eigen3/Eigen/src/Core/util/BlasUtil.h\n",
            "-- Installing: /root/.hunter/_Base/70287b1/02ccb06/dffbc08/Build/Eigen/Install/include/eigen3/Eigen/src/Core/util/ReenableStupidWarnings.h\n",
            "-- Installing: /root/.hunter/_Base/70287b1/02ccb06/dffbc08/Build/Eigen/Install/include/eigen3/Eigen/src/Core/util/DisableStupidWarnings.h\n",
            "-- Installing: /root/.hunter/_Base/70287b1/02ccb06/dffbc08/Build/Eigen/Install/include/eigen3/Eigen/src/Core/util/Constants.h\n",
            "-- Installing: /root/.hunter/_Base/70287b1/02ccb06/dffbc08/Build/Eigen/Install/include/eigen3/Eigen/src/Core/util/XprHelper.h\n",
            "-- Installing: /root/.hunter/_Base/70287b1/02ccb06/dffbc08/Build/Eigen/Install/include/eigen3/Eigen/src/Core/util/MKL_support.h\n",
            "-- Installing: /root/.hunter/_Base/70287b1/02ccb06/dffbc08/Build/Eigen/Install/include/eigen3/Eigen/src/Core/util/NonMPL2.h\n",
            "-- Installing: /root/.hunter/_Base/70287b1/02ccb06/dffbc08/Build/Eigen/Install/include/eigen3/Eigen/src/Core/util/Memory.h\n",
            "-- Installing: /root/.hunter/_Base/70287b1/02ccb06/dffbc08/Build/Eigen/Install/include/eigen3/Eigen/src/Core/util/ForwardDeclarations.h\n",
            "-- Installing: /root/.hunter/_Base/70287b1/02ccb06/dffbc08/Build/Eigen/Install/include/eigen3/Eigen/src/Core/PlainObjectBase.h\n",
            "-- Installing: /root/.hunter/_Base/70287b1/02ccb06/dffbc08/Build/Eigen/Install/include/eigen3/Eigen/src/Core/Map.h\n",
            "-- Installing: /root/.hunter/_Base/70287b1/02ccb06/dffbc08/Build/Eigen/Install/include/eigen3/Eigen/src/Core/IO.h\n",
            "-- Installing: /root/.hunter/_Base/70287b1/02ccb06/dffbc08/Build/Eigen/Install/include/eigen3/Eigen/src/Core/Transpose.h\n",
            "-- Installing: /root/.hunter/_Base/70287b1/02ccb06/dffbc08/Build/Eigen/Install/include/eigen3/Eigen/src/Core/Redux.h\n",
            "-- Installing: /root/.hunter/_Base/70287b1/02ccb06/dffbc08/Build/Eigen/Install/include/eigen3/Eigen/src/Core/CommaInitializer.h\n",
            "-- Installing: /root/.hunter/_Base/70287b1/02ccb06/dffbc08/Build/Eigen/Install/include/eigen3/Eigen/src/Core/Block.h\n",
            "-- Installing: /root/.hunter/_Base/70287b1/02ccb06/dffbc08/Build/Eigen/Install/include/eigen3/Eigen/src/Core/Matrix.h\n",
            "-- Installing: /root/.hunter/_Base/70287b1/02ccb06/dffbc08/Build/Eigen/Install/include/eigen3/Eigen/src/Core/AssignEvaluator.h\n",
            "-- Installing: /root/.hunter/_Base/70287b1/02ccb06/dffbc08/Build/Eigen/Install/include/eigen3/Eigen/src/Core/Stride.h\n",
            "-- Installing: /root/.hunter/_Base/70287b1/02ccb06/dffbc08/Build/Eigen/Install/include/eigen3/Eigen/src/Core/Select.h\n",
            "-- Installing: /root/.hunter/_Base/70287b1/02ccb06/dffbc08/Build/Eigen/Install/include/eigen3/Eigen/src/Core/SolveTriangular.h\n",
            "-- Installing: /root/.hunter/_Base/70287b1/02ccb06/dffbc08/Build/Eigen/Install/include/eigen3/Eigen/src/Core/Inverse.h\n",
            "-- Installing: /root/.hunter/_Base/70287b1/02ccb06/dffbc08/Build/Eigen/Install/include/eigen3/Eigen/src/Core/ProductEvaluators.h\n",
            "-- Installing: /root/.hunter/_Base/70287b1/02ccb06/dffbc08/Build/Eigen/Install/include/eigen3/Eigen/src/Core/BandMatrix.h\n",
            "-- Installing: /root/.hunter/_Base/70287b1/02ccb06/dffbc08/Build/Eigen/Install/include/eigen3/Eigen/src/Core/MatrixBase.h\n",
            "-- Installing: /root/.hunter/_Base/70287b1/02ccb06/dffbc08/Build/Eigen/Install/include/eigen3/Eigen/src/Core/NumTraits.h\n",
            "-- Installing: /root/.hunter/_Base/70287b1/02ccb06/dffbc08/Build/Eigen/Install/include/eigen3/Eigen/src/Core/VectorBlock.h\n",
            "-- Installing: /root/.hunter/_Base/70287b1/02ccb06/dffbc08/Build/Eigen/Install/include/eigen3/Eigen/src/Core/VectorwiseOp.h\n",
            "-- Installing: /root/.hunter/_Base/70287b1/02ccb06/dffbc08/Build/Eigen/Install/include/eigen3/Eigen/src/Core/Transpositions.h\n",
            "-- Installing: /root/.hunter/_Base/70287b1/02ccb06/dffbc08/Build/Eigen/Install/include/eigen3/Eigen/src/Core/EigenBase.h\n",
            "-- Installing: /root/.hunter/_Base/70287b1/02ccb06/dffbc08/Build/Eigen/Install/include/eigen3/Eigen/src/Core/CwiseTernaryOp.h\n",
            "-- Installing: /root/.hunter/_Base/70287b1/02ccb06/dffbc08/Build/Eigen/Install/include/eigen3/Eigen/src/Core/CwiseUnaryView.h\n",
            "-- Installing: /root/.hunter/_Base/70287b1/02ccb06/dffbc08/Build/Eigen/Install/include/eigen3/Eigen/src/Core/Array.h\n",
            "-- Installing: /root/.hunter/_Base/70287b1/02ccb06/dffbc08/Build/Eigen/Install/include/eigen3/Eigen/src/Core/Swap.h\n",
            "-- Installing: /root/.hunter/_Base/70287b1/02ccb06/dffbc08/Build/Eigen/Install/include/eigen3/Eigen/src/Core/MathFunctionsImpl.h\n",
            "-- Installing: /root/.hunter/_Base/70287b1/02ccb06/dffbc08/Build/Eigen/Install/include/eigen3/Eigen/src/Core/ArrayWrapper.h\n",
            "-- Installing: /root/.hunter/_Base/70287b1/02ccb06/dffbc08/Build/Eigen/Install/include/eigen3/Eigen/src/Core/PermutationMatrix.h\n",
            "-- Installing: /root/.hunter/_Base/70287b1/02ccb06/dffbc08/Build/Eigen/Install/include/eigen3/Eigen/src/Core/Replicate.h\n",
            "-- Installing: /root/.hunter/_Base/70287b1/02ccb06/dffbc08/Build/Eigen/Install/include/eigen3/Eigen/src/Core/products\n",
            "-- Installing: /root/.hunter/_Base/70287b1/02ccb06/dffbc08/Build/Eigen/Install/include/eigen3/Eigen/src/Core/products/GeneralBlockPanelKernel.h\n",
            "-- Installing: /root/.hunter/_Base/70287b1/02ccb06/dffbc08/Build/Eigen/Install/include/eigen3/Eigen/src/Core/products/SelfadjointMatrixVector_BLAS.h\n",
            "-- Installing: /root/.hunter/_Base/70287b1/02ccb06/dffbc08/Build/Eigen/Install/include/eigen3/Eigen/src/Core/products/TriangularSolverVector.h\n",
            "-- Installing: /root/.hunter/_Base/70287b1/02ccb06/dffbc08/Build/Eigen/Install/include/eigen3/Eigen/src/Core/products/GeneralMatrixVector_BLAS.h\n",
            "-- Installing: /root/.hunter/_Base/70287b1/02ccb06/dffbc08/Build/Eigen/Install/include/eigen3/Eigen/src/Core/products/GeneralMatrixVector.h\n",
            "-- Installing: /root/.hunter/_Base/70287b1/02ccb06/dffbc08/Build/Eigen/Install/include/eigen3/Eigen/src/Core/products/SelfadjointMatrixVector.h\n",
            "-- Installing: /root/.hunter/_Base/70287b1/02ccb06/dffbc08/Build/Eigen/Install/include/eigen3/Eigen/src/Core/products/TriangularSolverMatrix.h\n",
            "-- Installing: /root/.hunter/_Base/70287b1/02ccb06/dffbc08/Build/Eigen/Install/include/eigen3/Eigen/src/Core/products/GeneralMatrixMatrix.h\n",
            "-- Installing: /root/.hunter/_Base/70287b1/02ccb06/dffbc08/Build/Eigen/Install/include/eigen3/Eigen/src/Core/products/TriangularSolverMatrix_BLAS.h\n",
            "-- Installing: /root/.hunter/_Base/70287b1/02ccb06/dffbc08/Build/Eigen/Install/include/eigen3/Eigen/src/Core/products/SelfadjointMatrixMatrix_BLAS.h\n",
            "-- Installing: /root/.hunter/_Base/70287b1/02ccb06/dffbc08/Build/Eigen/Install/include/eigen3/Eigen/src/Core/products/TriangularMatrixVector_BLAS.h\n",
            "-- Installing: /root/.hunter/_Base/70287b1/02ccb06/dffbc08/Build/Eigen/Install/include/eigen3/Eigen/src/Core/products/SelfadjointRank2Update.h\n",
            "-- Installing: /root/.hunter/_Base/70287b1/02ccb06/dffbc08/Build/Eigen/Install/include/eigen3/Eigen/src/Core/products/GeneralMatrixMatrixTriangular_BLAS.h\n",
            "-- Installing: /root/.hunter/_Base/70287b1/02ccb06/dffbc08/Build/Eigen/Install/include/eigen3/Eigen/src/Core/products/TriangularMatrixMatrix.h\n",
            "-- Installing: /root/.hunter/_Base/70287b1/02ccb06/dffbc08/Build/Eigen/Install/include/eigen3/Eigen/src/Core/products/GeneralMatrixMatrixTriangular.h\n",
            "-- Installing: /root/.hunter/_Base/70287b1/02ccb06/dffbc08/Build/Eigen/Install/include/eigen3/Eigen/src/Core/products/SelfadjointProduct.h\n",
            "-- Installing: /root/.hunter/_Base/70287b1/02ccb06/dffbc08/Build/Eigen/Install/include/eigen3/Eigen/src/Core/products/SelfadjointMatrixMatrix.h\n",
            "-- Installing: /root/.hunter/_Base/70287b1/02ccb06/dffbc08/Build/Eigen/Install/include/eigen3/Eigen/src/Core/products/GeneralMatrixMatrix_BLAS.h\n",
            "-- Installing: /root/.hunter/_Base/70287b1/02ccb06/dffbc08/Build/Eigen/Install/include/eigen3/Eigen/src/Core/products/TriangularMatrixMatrix_BLAS.h\n",
            "-- Installing: /root/.hunter/_Base/70287b1/02ccb06/dffbc08/Build/Eigen/Install/include/eigen3/Eigen/src/Core/products/TriangularMatrixVector.h\n",
            "-- Installing: /root/.hunter/_Base/70287b1/02ccb06/dffbc08/Build/Eigen/Install/include/eigen3/Eigen/src/Core/products/Parallelizer.h\n",
            "-- Installing: /root/.hunter/_Base/70287b1/02ccb06/dffbc08/Build/Eigen/Install/include/eigen3/Eigen/src/Core/Product.h\n",
            "-- Installing: /root/.hunter/_Base/70287b1/02ccb06/dffbc08/Build/Eigen/Install/include/eigen3/Eigen/src/Core/Visitor.h\n",
            "-- Installing: /root/.hunter/_Base/70287b1/02ccb06/dffbc08/Build/Eigen/Install/include/eigen3/Eigen/src/Core/CwiseBinaryOp.h\n",
            "-- Installing: /root/.hunter/_Base/70287b1/02ccb06/dffbc08/Build/Eigen/Install/include/eigen3/Eigen/src/Core/Reverse.h\n",
            "-- Installing: /root/.hunter/_Base/70287b1/02ccb06/dffbc08/Build/Eigen/Install/include/eigen3/Eigen/src/Core/functors\n",
            "-- Installing: /root/.hunter/_Base/70287b1/02ccb06/dffbc08/Build/Eigen/Install/include/eigen3/Eigen/src/Core/functors/TernaryFunctors.h\n",
            "-- Installing: /root/.hunter/_Base/70287b1/02ccb06/dffbc08/Build/Eigen/Install/include/eigen3/Eigen/src/Core/functors/UnaryFunctors.h\n",
            "-- Installing: /root/.hunter/_Base/70287b1/02ccb06/dffbc08/Build/Eigen/Install/include/eigen3/Eigen/src/Core/functors/BinaryFunctors.h\n",
            "-- Installing: /root/.hunter/_Base/70287b1/02ccb06/dffbc08/Build/Eigen/Install/include/eigen3/Eigen/src/Core/functors/NullaryFunctors.h\n",
            "-- Installing: /root/.hunter/_Base/70287b1/02ccb06/dffbc08/Build/Eigen/Install/include/eigen3/Eigen/src/Core/functors/StlFunctors.h\n",
            "-- Installing: /root/.hunter/_Base/70287b1/02ccb06/dffbc08/Build/Eigen/Install/include/eigen3/Eigen/src/Core/functors/AssignmentFunctors.h\n",
            "-- Installing: /root/.hunter/_Base/70287b1/02ccb06/dffbc08/Build/Eigen/Install/include/eigen3/Eigen/src/Core/Assign.h\n",
            "-- Installing: /root/.hunter/_Base/70287b1/02ccb06/dffbc08/Build/Eigen/Install/include/eigen3/Eigen/src/Core/CwiseNullaryOp.h\n",
            "-- Installing: /root/.hunter/_Base/70287b1/02ccb06/dffbc08/Build/Eigen/Install/include/eigen3/Eigen/src/Core/StableNorm.h\n",
            "-- Installing: /root/.hunter/_Base/70287b1/02ccb06/dffbc08/Build/Eigen/Install/include/eigen3/Eigen/src/Core/Ref.h\n",
            "-- Installing: /root/.hunter/_Base/70287b1/02ccb06/dffbc08/Build/Eigen/Install/include/eigen3/Eigen/src/Core/CoreEvaluators.h\n",
            "-- Installing: /root/.hunter/_Base/70287b1/02ccb06/dffbc08/Build/Eigen/Install/include/eigen3/Eigen/src/Core/ConditionEstimator.h\n",
            "-- Installing: /root/.hunter/_Base/70287b1/02ccb06/dffbc08/Build/Eigen/Install/include/eigen3/Eigen/src/QR\n",
            "-- Installing: /root/.hunter/_Base/70287b1/02ccb06/dffbc08/Build/Eigen/Install/include/eigen3/Eigen/src/QR/CompleteOrthogonalDecomposition.h\n",
            "-- Installing: /root/.hunter/_Base/70287b1/02ccb06/dffbc08/Build/Eigen/Install/include/eigen3/Eigen/src/QR/ColPivHouseholderQR.h\n",
            "-- Installing: /root/.hunter/_Base/70287b1/02ccb06/dffbc08/Build/Eigen/Install/include/eigen3/Eigen/src/QR/HouseholderQR_LAPACKE.h\n",
            "-- Installing: /root/.hunter/_Base/70287b1/02ccb06/dffbc08/Build/Eigen/Install/include/eigen3/Eigen/src/QR/ColPivHouseholderQR_LAPACKE.h\n",
            "-- Installing: /root/.hunter/_Base/70287b1/02ccb06/dffbc08/Build/Eigen/Install/include/eigen3/Eigen/src/QR/FullPivHouseholderQR.h\n",
            "-- Installing: /root/.hunter/_Base/70287b1/02ccb06/dffbc08/Build/Eigen/Install/include/eigen3/Eigen/src/QR/HouseholderQR.h\n",
            "-- Installing: /root/.hunter/_Base/70287b1/02ccb06/dffbc08/Build/Eigen/Install/include/eigen3/Eigen/src/CholmodSupport\n",
            "-- Installing: /root/.hunter/_Base/70287b1/02ccb06/dffbc08/Build/Eigen/Install/include/eigen3/Eigen/src/CholmodSupport/CholmodSupport.h\n",
            "-- Installing: /root/.hunter/_Base/70287b1/02ccb06/dffbc08/Build/Eigen/Install/include/eigen3/Eigen/src/IterativeLinearSolvers\n",
            "-- Installing: /root/.hunter/_Base/70287b1/02ccb06/dffbc08/Build/Eigen/Install/include/eigen3/Eigen/src/IterativeLinearSolvers/SolveWithGuess.h\n",
            "-- Installing: /root/.hunter/_Base/70287b1/02ccb06/dffbc08/Build/Eigen/Install/include/eigen3/Eigen/src/IterativeLinearSolvers/LeastSquareConjugateGradient.h\n",
            "-- Installing: /root/.hunter/_Base/70287b1/02ccb06/dffbc08/Build/Eigen/Install/include/eigen3/Eigen/src/IterativeLinearSolvers/BiCGSTAB.h\n",
            "-- Installing: /root/.hunter/_Base/70287b1/02ccb06/dffbc08/Build/Eigen/Install/include/eigen3/Eigen/src/IterativeLinearSolvers/IncompleteCholesky.h\n",
            "-- Installing: /root/.hunter/_Base/70287b1/02ccb06/dffbc08/Build/Eigen/Install/include/eigen3/Eigen/src/IterativeLinearSolvers/ConjugateGradient.h\n",
            "-- Installing: /root/.hunter/_Base/70287b1/02ccb06/dffbc08/Build/Eigen/Install/include/eigen3/Eigen/src/IterativeLinearSolvers/IterativeSolverBase.h\n",
            "-- Installing: /root/.hunter/_Base/70287b1/02ccb06/dffbc08/Build/Eigen/Install/include/eigen3/Eigen/src/IterativeLinearSolvers/IncompleteLUT.h\n",
            "-- Installing: /root/.hunter/_Base/70287b1/02ccb06/dffbc08/Build/Eigen/Install/include/eigen3/Eigen/src/IterativeLinearSolvers/BasicPreconditioners.h\n",
            "-- Installing: /root/.hunter/_Base/70287b1/02ccb06/dffbc08/Build/Eigen/Install/include/eigen3/Eigen/src/PardisoSupport\n",
            "-- Installing: /root/.hunter/_Base/70287b1/02ccb06/dffbc08/Build/Eigen/Install/include/eigen3/Eigen/src/PardisoSupport/PardisoSupport.h\n",
            "-- Installing: /root/.hunter/_Base/70287b1/02ccb06/dffbc08/Build/Eigen/Install/include/eigen3/Eigen/src/PaStiXSupport\n",
            "-- Installing: /root/.hunter/_Base/70287b1/02ccb06/dffbc08/Build/Eigen/Install/include/eigen3/Eigen/src/PaStiXSupport/PaStiXSupport.h\n",
            "-- Installing: /root/.hunter/_Base/70287b1/02ccb06/dffbc08/Build/Eigen/Install/include/eigen3/Eigen/src/SparseQR\n",
            "-- Installing: /root/.hunter/_Base/70287b1/02ccb06/dffbc08/Build/Eigen/Install/include/eigen3/Eigen/src/SparseQR/SparseQR.h\n",
            "-- Installing: /root/.hunter/_Base/70287b1/02ccb06/dffbc08/Build/Eigen/Install/include/eigen3/unsupported/Eigen/AdolcForward\n",
            "-- Installing: /root/.hunter/_Base/70287b1/02ccb06/dffbc08/Build/Eigen/Install/include/eigen3/unsupported/Eigen/AlignedVector3\n",
            "-- Installing: /root/.hunter/_Base/70287b1/02ccb06/dffbc08/Build/Eigen/Install/include/eigen3/unsupported/Eigen/ArpackSupport\n",
            "-- Installing: /root/.hunter/_Base/70287b1/02ccb06/dffbc08/Build/Eigen/Install/include/eigen3/unsupported/Eigen/AutoDiff\n",
            "-- Installing: /root/.hunter/_Base/70287b1/02ccb06/dffbc08/Build/Eigen/Install/include/eigen3/unsupported/Eigen/BVH\n",
            "-- Installing: /root/.hunter/_Base/70287b1/02ccb06/dffbc08/Build/Eigen/Install/include/eigen3/unsupported/Eigen/EulerAngles\n",
            "-- Installing: /root/.hunter/_Base/70287b1/02ccb06/dffbc08/Build/Eigen/Install/include/eigen3/unsupported/Eigen/FFT\n",
            "-- Installing: /root/.hunter/_Base/70287b1/02ccb06/dffbc08/Build/Eigen/Install/include/eigen3/unsupported/Eigen/IterativeSolvers\n",
            "-- Installing: /root/.hunter/_Base/70287b1/02ccb06/dffbc08/Build/Eigen/Install/include/eigen3/unsupported/Eigen/KroneckerProduct\n",
            "-- Installing: /root/.hunter/_Base/70287b1/02ccb06/dffbc08/Build/Eigen/Install/include/eigen3/unsupported/Eigen/LevenbergMarquardt\n",
            "-- Installing: /root/.hunter/_Base/70287b1/02ccb06/dffbc08/Build/Eigen/Install/include/eigen3/unsupported/Eigen/MatrixFunctions\n",
            "-- Installing: /root/.hunter/_Base/70287b1/02ccb06/dffbc08/Build/Eigen/Install/include/eigen3/unsupported/Eigen/MoreVectorization\n",
            "-- Installing: /root/.hunter/_Base/70287b1/02ccb06/dffbc08/Build/Eigen/Install/include/eigen3/unsupported/Eigen/MPRealSupport\n",
            "-- Installing: /root/.hunter/_Base/70287b1/02ccb06/dffbc08/Build/Eigen/Install/include/eigen3/unsupported/Eigen/NonLinearOptimization\n",
            "-- Installing: /root/.hunter/_Base/70287b1/02ccb06/dffbc08/Build/Eigen/Install/include/eigen3/unsupported/Eigen/NumericalDiff\n",
            "-- Installing: /root/.hunter/_Base/70287b1/02ccb06/dffbc08/Build/Eigen/Install/include/eigen3/unsupported/Eigen/OpenGLSupport\n",
            "-- Installing: /root/.hunter/_Base/70287b1/02ccb06/dffbc08/Build/Eigen/Install/include/eigen3/unsupported/Eigen/Polynomials\n",
            "-- Installing: /root/.hunter/_Base/70287b1/02ccb06/dffbc08/Build/Eigen/Install/include/eigen3/unsupported/Eigen/Skyline\n",
            "-- Installing: /root/.hunter/_Base/70287b1/02ccb06/dffbc08/Build/Eigen/Install/include/eigen3/unsupported/Eigen/SparseExtra\n",
            "-- Installing: /root/.hunter/_Base/70287b1/02ccb06/dffbc08/Build/Eigen/Install/include/eigen3/unsupported/Eigen/SpecialFunctions\n",
            "-- Installing: /root/.hunter/_Base/70287b1/02ccb06/dffbc08/Build/Eigen/Install/include/eigen3/unsupported/Eigen/Splines\n",
            "-- Installing: /root/.hunter/_Base/70287b1/02ccb06/dffbc08/Build/Eigen/Install/include/eigen3/unsupported/Eigen/src\n",
            "-- Installing: /root/.hunter/_Base/70287b1/02ccb06/dffbc08/Build/Eigen/Install/include/eigen3/unsupported/Eigen/src/BVH\n",
            "-- Installing: /root/.hunter/_Base/70287b1/02ccb06/dffbc08/Build/Eigen/Install/include/eigen3/unsupported/Eigen/src/BVH/KdBVH.h\n",
            "-- Installing: /root/.hunter/_Base/70287b1/02ccb06/dffbc08/Build/Eigen/Install/include/eigen3/unsupported/Eigen/src/BVH/BVAlgorithms.h\n",
            "-- Installing: /root/.hunter/_Base/70287b1/02ccb06/dffbc08/Build/Eigen/Install/include/eigen3/unsupported/Eigen/src/AutoDiff\n",
            "-- Installing: /root/.hunter/_Base/70287b1/02ccb06/dffbc08/Build/Eigen/Install/include/eigen3/unsupported/Eigen/src/AutoDiff/AutoDiffScalar.h\n",
            "-- Installing: /root/.hunter/_Base/70287b1/02ccb06/dffbc08/Build/Eigen/Install/include/eigen3/unsupported/Eigen/src/AutoDiff/AutoDiffVector.h\n",
            "-- Installing: /root/.hunter/_Base/70287b1/02ccb06/dffbc08/Build/Eigen/Install/include/eigen3/unsupported/Eigen/src/AutoDiff/AutoDiffJacobian.h\n",
            "-- Installing: /root/.hunter/_Base/70287b1/02ccb06/dffbc08/Build/Eigen/Install/include/eigen3/unsupported/Eigen/src/MoreVectorization\n",
            "-- Installing: /root/.hunter/_Base/70287b1/02ccb06/dffbc08/Build/Eigen/Install/include/eigen3/unsupported/Eigen/src/MoreVectorization/MathFunctions.h\n",
            "-- Installing: /root/.hunter/_Base/70287b1/02ccb06/dffbc08/Build/Eigen/Install/include/eigen3/unsupported/Eigen/src/MatrixFunctions\n",
            "-- Installing: /root/.hunter/_Base/70287b1/02ccb06/dffbc08/Build/Eigen/Install/include/eigen3/unsupported/Eigen/src/MatrixFunctions/MatrixFunction.h\n",
            "-- Installing: /root/.hunter/_Base/70287b1/02ccb06/dffbc08/Build/Eigen/Install/include/eigen3/unsupported/Eigen/src/MatrixFunctions/MatrixExponential.h\n",
            "-- Installing: /root/.hunter/_Base/70287b1/02ccb06/dffbc08/Build/Eigen/Install/include/eigen3/unsupported/Eigen/src/MatrixFunctions/MatrixLogarithm.h\n",
            "-- Installing: /root/.hunter/_Base/70287b1/02ccb06/dffbc08/Build/Eigen/Install/include/eigen3/unsupported/Eigen/src/MatrixFunctions/MatrixPower.h\n",
            "-- Installing: /root/.hunter/_Base/70287b1/02ccb06/dffbc08/Build/Eigen/Install/include/eigen3/unsupported/Eigen/src/MatrixFunctions/StemFunction.h\n",
            "-- Installing: /root/.hunter/_Base/70287b1/02ccb06/dffbc08/Build/Eigen/Install/include/eigen3/unsupported/Eigen/src/MatrixFunctions/MatrixSquareRoot.h\n",
            "-- Installing: /root/.hunter/_Base/70287b1/02ccb06/dffbc08/Build/Eigen/Install/include/eigen3/unsupported/Eigen/src/KroneckerProduct\n",
            "-- Installing: /root/.hunter/_Base/70287b1/02ccb06/dffbc08/Build/Eigen/Install/include/eigen3/unsupported/Eigen/src/KroneckerProduct/KroneckerTensorProduct.h\n",
            "-- Installing: /root/.hunter/_Base/70287b1/02ccb06/dffbc08/Build/Eigen/Install/include/eigen3/unsupported/Eigen/src/LevenbergMarquardt\n",
            "-- Installing: /root/.hunter/_Base/70287b1/02ccb06/dffbc08/Build/Eigen/Install/include/eigen3/unsupported/Eigen/src/LevenbergMarquardt/LMqrsolv.h\n",
            "-- Installing: /root/.hunter/_Base/70287b1/02ccb06/dffbc08/Build/Eigen/Install/include/eigen3/unsupported/Eigen/src/LevenbergMarquardt/LMpar.h\n",
            "-- Installing: /root/.hunter/_Base/70287b1/02ccb06/dffbc08/Build/Eigen/Install/include/eigen3/unsupported/Eigen/src/LevenbergMarquardt/LMcovar.h\n",
            "-- Installing: /root/.hunter/_Base/70287b1/02ccb06/dffbc08/Build/Eigen/Install/include/eigen3/unsupported/Eigen/src/LevenbergMarquardt/LevenbergMarquardt.h\n",
            "-- Installing: /root/.hunter/_Base/70287b1/02ccb06/dffbc08/Build/Eigen/Install/include/eigen3/unsupported/Eigen/src/LevenbergMarquardt/LMonestep.h\n",
            "-- Installing: /root/.hunter/_Base/70287b1/02ccb06/dffbc08/Build/Eigen/Install/include/eigen3/unsupported/Eigen/src/Eigenvalues\n",
            "-- Installing: /root/.hunter/_Base/70287b1/02ccb06/dffbc08/Build/Eigen/Install/include/eigen3/unsupported/Eigen/src/Eigenvalues/ArpackSelfAdjointEigenSolver.h\n",
            "-- Installing: /root/.hunter/_Base/70287b1/02ccb06/dffbc08/Build/Eigen/Install/include/eigen3/unsupported/Eigen/src/Polynomials\n",
            "-- Installing: /root/.hunter/_Base/70287b1/02ccb06/dffbc08/Build/Eigen/Install/include/eigen3/unsupported/Eigen/src/Polynomials/PolynomialSolver.h\n",
            "-- Installing: /root/.hunter/_Base/70287b1/02ccb06/dffbc08/Build/Eigen/Install/include/eigen3/unsupported/Eigen/src/Polynomials/Companion.h\n",
            "-- Installing: /root/.hunter/_Base/70287b1/02ccb06/dffbc08/Build/Eigen/Install/include/eigen3/unsupported/Eigen/src/Polynomials/PolynomialUtils.h\n",
            "-- Installing: /root/.hunter/_Base/70287b1/02ccb06/dffbc08/Build/Eigen/Install/include/eigen3/unsupported/Eigen/src/FFT\n",
            "-- Installing: /root/.hunter/_Base/70287b1/02ccb06/dffbc08/Build/Eigen/Install/include/eigen3/unsupported/Eigen/src/FFT/ei_fftw_impl.h\n",
            "-- Installing: /root/.hunter/_Base/70287b1/02ccb06/dffbc08/Build/Eigen/Install/include/eigen3/unsupported/Eigen/src/FFT/ei_kissfft_impl.h\n",
            "-- Installing: /root/.hunter/_Base/70287b1/02ccb06/dffbc08/Build/Eigen/Install/include/eigen3/unsupported/Eigen/src/NonLinearOptimization\n",
            "-- Installing: /root/.hunter/_Base/70287b1/02ccb06/dffbc08/Build/Eigen/Install/include/eigen3/unsupported/Eigen/src/NonLinearOptimization/dogleg.h\n",
            "-- Installing: /root/.hunter/_Base/70287b1/02ccb06/dffbc08/Build/Eigen/Install/include/eigen3/unsupported/Eigen/src/NonLinearOptimization/chkder.h\n",
            "-- Installing: /root/.hunter/_Base/70287b1/02ccb06/dffbc08/Build/Eigen/Install/include/eigen3/unsupported/Eigen/src/NonLinearOptimization/HybridNonLinearSolver.h\n",
            "-- Installing: /root/.hunter/_Base/70287b1/02ccb06/dffbc08/Build/Eigen/Install/include/eigen3/unsupported/Eigen/src/NonLinearOptimization/rwupdt.h\n",
            "-- Installing: /root/.hunter/_Base/70287b1/02ccb06/dffbc08/Build/Eigen/Install/include/eigen3/unsupported/Eigen/src/NonLinearOptimization/qrsolv.h\n",
            "-- Installing: /root/.hunter/_Base/70287b1/02ccb06/dffbc08/Build/Eigen/Install/include/eigen3/unsupported/Eigen/src/NonLinearOptimization/r1mpyq.h\n",
            "-- Installing: /root/.hunter/_Base/70287b1/02ccb06/dffbc08/Build/Eigen/Install/include/eigen3/unsupported/Eigen/src/NonLinearOptimization/covar.h\n",
            "-- Installing: /root/.hunter/_Base/70287b1/02ccb06/dffbc08/Build/Eigen/Install/include/eigen3/unsupported/Eigen/src/NonLinearOptimization/lmpar.h\n",
            "-- Installing: /root/.hunter/_Base/70287b1/02ccb06/dffbc08/Build/Eigen/Install/include/eigen3/unsupported/Eigen/src/NonLinearOptimization/fdjac1.h\n",
            "-- Installing: /root/.hunter/_Base/70287b1/02ccb06/dffbc08/Build/Eigen/Install/include/eigen3/unsupported/Eigen/src/NonLinearOptimization/LevenbergMarquardt.h\n",
            "-- Installing: /root/.hunter/_Base/70287b1/02ccb06/dffbc08/Build/Eigen/Install/include/eigen3/unsupported/Eigen/src/NonLinearOptimization/r1updt.h\n",
            "-- Installing: /root/.hunter/_Base/70287b1/02ccb06/dffbc08/Build/Eigen/Install/include/eigen3/unsupported/Eigen/src/EulerAngles\n",
            "-- Installing: /root/.hunter/_Base/70287b1/02ccb06/dffbc08/Build/Eigen/Install/include/eigen3/unsupported/Eigen/src/EulerAngles/EulerSystem.h\n",
            "-- Installing: /root/.hunter/_Base/70287b1/02ccb06/dffbc08/Build/Eigen/Install/include/eigen3/unsupported/Eigen/src/EulerAngles/EulerAngles.h\n",
            "-- Installing: /root/.hunter/_Base/70287b1/02ccb06/dffbc08/Build/Eigen/Install/include/eigen3/unsupported/Eigen/src/NumericalDiff\n",
            "-- Installing: /root/.hunter/_Base/70287b1/02ccb06/dffbc08/Build/Eigen/Install/include/eigen3/unsupported/Eigen/src/NumericalDiff/NumericalDiff.h\n",
            "-- Installing: /root/.hunter/_Base/70287b1/02ccb06/dffbc08/Build/Eigen/Install/include/eigen3/unsupported/Eigen/src/IterativeSolvers\n",
            "-- Installing: /root/.hunter/_Base/70287b1/02ccb06/dffbc08/Build/Eigen/Install/include/eigen3/unsupported/Eigen/src/IterativeSolvers/Scaling.h\n",
            "-- Installing: /root/.hunter/_Base/70287b1/02ccb06/dffbc08/Build/Eigen/Install/include/eigen3/unsupported/Eigen/src/IterativeSolvers/DGMRES.h\n",
            "-- Installing: /root/.hunter/_Base/70287b1/02ccb06/dffbc08/Build/Eigen/Install/include/eigen3/unsupported/Eigen/src/IterativeSolvers/GMRES.h\n",
            "-- Installing: /root/.hunter/_Base/70287b1/02ccb06/dffbc08/Build/Eigen/Install/include/eigen3/unsupported/Eigen/src/IterativeSolvers/IncompleteLU.h\n",
            "-- Installing: /root/.hunter/_Base/70287b1/02ccb06/dffbc08/Build/Eigen/Install/include/eigen3/unsupported/Eigen/src/IterativeSolvers/ConstrainedConjGrad.h\n",
            "-- Installing: /root/.hunter/_Base/70287b1/02ccb06/dffbc08/Build/Eigen/Install/include/eigen3/unsupported/Eigen/src/IterativeSolvers/IterationController.h\n",
            "-- Installing: /root/.hunter/_Base/70287b1/02ccb06/dffbc08/Build/Eigen/Install/include/eigen3/unsupported/Eigen/src/IterativeSolvers/MINRES.h\n",
            "-- Installing: /root/.hunter/_Base/70287b1/02ccb06/dffbc08/Build/Eigen/Install/include/eigen3/unsupported/Eigen/src/Skyline\n",
            "-- Installing: /root/.hunter/_Base/70287b1/02ccb06/dffbc08/Build/Eigen/Install/include/eigen3/unsupported/Eigen/src/Skyline/SkylineMatrix.h\n",
            "-- Installing: /root/.hunter/_Base/70287b1/02ccb06/dffbc08/Build/Eigen/Install/include/eigen3/unsupported/Eigen/src/Skyline/SkylineStorage.h\n",
            "-- Installing: /root/.hunter/_Base/70287b1/02ccb06/dffbc08/Build/Eigen/Install/include/eigen3/unsupported/Eigen/src/Skyline/SkylineMatrixBase.h\n",
            "-- Installing: /root/.hunter/_Base/70287b1/02ccb06/dffbc08/Build/Eigen/Install/include/eigen3/unsupported/Eigen/src/Skyline/SkylineInplaceLU.h\n",
            "-- Installing: /root/.hunter/_Base/70287b1/02ccb06/dffbc08/Build/Eigen/Install/include/eigen3/unsupported/Eigen/src/Skyline/SkylineUtil.h\n",
            "-- Installing: /root/.hunter/_Base/70287b1/02ccb06/dffbc08/Build/Eigen/Install/include/eigen3/unsupported/Eigen/src/Skyline/SkylineProduct.h\n",
            "-- Installing: /root/.hunter/_Base/70287b1/02ccb06/dffbc08/Build/Eigen/Install/include/eigen3/unsupported/Eigen/src/SpecialFunctions\n",
            "-- Installing: /root/.hunter/_Base/70287b1/02ccb06/dffbc08/Build/Eigen/Install/include/eigen3/unsupported/Eigen/src/SpecialFunctions/SpecialFunctionsHalf.h\n",
            "-- Installing: /root/.hunter/_Base/70287b1/02ccb06/dffbc08/Build/Eigen/Install/include/eigen3/unsupported/Eigen/src/SpecialFunctions/arch\n",
            "-- Installing: /root/.hunter/_Base/70287b1/02ccb06/dffbc08/Build/Eigen/Install/include/eigen3/unsupported/Eigen/src/SpecialFunctions/arch/CUDA\n",
            "-- Installing: /root/.hunter/_Base/70287b1/02ccb06/dffbc08/Build/Eigen/Install/include/eigen3/unsupported/Eigen/src/SpecialFunctions/arch/CUDA/CudaSpecialFunctions.h\n",
            "-- Installing: /root/.hunter/_Base/70287b1/02ccb06/dffbc08/Build/Eigen/Install/include/eigen3/unsupported/Eigen/src/SpecialFunctions/SpecialFunctionsFunctors.h\n",
            "-- Installing: /root/.hunter/_Base/70287b1/02ccb06/dffbc08/Build/Eigen/Install/include/eigen3/unsupported/Eigen/src/SpecialFunctions/SpecialFunctionsPacketMath.h\n",
            "-- Installing: /root/.hunter/_Base/70287b1/02ccb06/dffbc08/Build/Eigen/Install/include/eigen3/unsupported/Eigen/src/SpecialFunctions/SpecialFunctionsArrayAPI.h\n",
            "-- Installing: /root/.hunter/_Base/70287b1/02ccb06/dffbc08/Build/Eigen/Install/include/eigen3/unsupported/Eigen/src/SpecialFunctions/SpecialFunctionsImpl.h\n",
            "-- Installing: /root/.hunter/_Base/70287b1/02ccb06/dffbc08/Build/Eigen/Install/include/eigen3/unsupported/Eigen/src/SparseExtra\n",
            "-- Installing: /root/.hunter/_Base/70287b1/02ccb06/dffbc08/Build/Eigen/Install/include/eigen3/unsupported/Eigen/src/SparseExtra/BlockSparseMatrix.h\n",
            "-- Installing: /root/.hunter/_Base/70287b1/02ccb06/dffbc08/Build/Eigen/Install/include/eigen3/unsupported/Eigen/src/SparseExtra/MarketIO.h\n",
            "-- Installing: /root/.hunter/_Base/70287b1/02ccb06/dffbc08/Build/Eigen/Install/include/eigen3/unsupported/Eigen/src/SparseExtra/BlockOfDynamicSparseMatrix.h\n",
            "-- Installing: /root/.hunter/_Base/70287b1/02ccb06/dffbc08/Build/Eigen/Install/include/eigen3/unsupported/Eigen/src/SparseExtra/MatrixMarketIterator.h\n",
            "-- Installing: /root/.hunter/_Base/70287b1/02ccb06/dffbc08/Build/Eigen/Install/include/eigen3/unsupported/Eigen/src/SparseExtra/RandomSetter.h\n",
            "-- Installing: /root/.hunter/_Base/70287b1/02ccb06/dffbc08/Build/Eigen/Install/include/eigen3/unsupported/Eigen/src/SparseExtra/DynamicSparseMatrix.h\n",
            "-- Installing: /root/.hunter/_Base/70287b1/02ccb06/dffbc08/Build/Eigen/Install/include/eigen3/unsupported/Eigen/src/Splines\n",
            "-- Installing: /root/.hunter/_Base/70287b1/02ccb06/dffbc08/Build/Eigen/Install/include/eigen3/unsupported/Eigen/src/Splines/SplineFitting.h\n",
            "-- Installing: /root/.hunter/_Base/70287b1/02ccb06/dffbc08/Build/Eigen/Install/include/eigen3/unsupported/Eigen/src/Splines/SplineFwd.h\n",
            "-- Installing: /root/.hunter/_Base/70287b1/02ccb06/dffbc08/Build/Eigen/Install/include/eigen3/unsupported/Eigen/src/Splines/Spline.h\n",
            "-- Installing: /root/.hunter/_Base/70287b1/02ccb06/dffbc08/Build/Eigen/Install/include/eigen3/unsupported/Eigen/CXX11/Tensor\n",
            "-- Installing: /root/.hunter/_Base/70287b1/02ccb06/dffbc08/Build/Eigen/Install/include/eigen3/unsupported/Eigen/CXX11/TensorSymmetry\n",
            "-- Installing: /root/.hunter/_Base/70287b1/02ccb06/dffbc08/Build/Eigen/Install/include/eigen3/unsupported/Eigen/CXX11/ThreadPool\n",
            "-- Installing: /root/.hunter/_Base/70287b1/02ccb06/dffbc08/Build/Eigen/Install/include/eigen3/unsupported/Eigen/CXX11/src\n",
            "-- Installing: /root/.hunter/_Base/70287b1/02ccb06/dffbc08/Build/Eigen/Install/include/eigen3/unsupported/Eigen/CXX11/src/Tensor\n",
            "-- Installing: /root/.hunter/_Base/70287b1/02ccb06/dffbc08/Build/Eigen/Install/include/eigen3/unsupported/Eigen/CXX11/src/Tensor/TensorMeta.h\n",
            "-- Installing: /root/.hunter/_Base/70287b1/02ccb06/dffbc08/Build/Eigen/Install/include/eigen3/unsupported/Eigen/CXX11/src/Tensor/TensorSyclLeafCount.h\n",
            "-- Installing: /root/.hunter/_Base/70287b1/02ccb06/dffbc08/Build/Eigen/Install/include/eigen3/unsupported/Eigen/CXX11/src/Tensor/TensorConversion.h\n",
            "-- Installing: /root/.hunter/_Base/70287b1/02ccb06/dffbc08/Build/Eigen/Install/include/eigen3/unsupported/Eigen/CXX11/src/Tensor/TensorRandom.h\n",
            "-- Installing: /root/.hunter/_Base/70287b1/02ccb06/dffbc08/Build/Eigen/Install/include/eigen3/unsupported/Eigen/CXX11/src/Tensor/TensorMorphing.h\n",
            "-- Installing: /root/.hunter/_Base/70287b1/02ccb06/dffbc08/Build/Eigen/Install/include/eigen3/unsupported/Eigen/CXX11/src/Tensor/TensorSyclExprConstructor.h\n",
            "-- Installing: /root/.hunter/_Base/70287b1/02ccb06/dffbc08/Build/Eigen/Install/include/eigen3/unsupported/Eigen/CXX11/src/Tensor/TensorIndexList.h\n",
            "-- Installing: /root/.hunter/_Base/70287b1/02ccb06/dffbc08/Build/Eigen/Install/include/eigen3/unsupported/Eigen/CXX11/src/Tensor/TensorStriding.h\n",
            "-- Installing: /root/.hunter/_Base/70287b1/02ccb06/dffbc08/Build/Eigen/Install/include/eigen3/unsupported/Eigen/CXX11/src/Tensor/TensorEvalTo.h\n",
            "-- Installing: /root/.hunter/_Base/70287b1/02ccb06/dffbc08/Build/Eigen/Install/include/eigen3/unsupported/Eigen/CXX11/src/Tensor/TensorCustomOp.h\n",
            "-- Installing: /root/.hunter/_Base/70287b1/02ccb06/dffbc08/Build/Eigen/Install/include/eigen3/unsupported/Eigen/CXX11/src/Tensor/TensorContractionMapper.h\n",
            "-- Installing: /root/.hunter/_Base/70287b1/02ccb06/dffbc08/Build/Eigen/Install/include/eigen3/unsupported/Eigen/CXX11/src/Tensor/TensorBroadcasting.h\n",
            "-- Installing: /root/.hunter/_Base/70287b1/02ccb06/dffbc08/Build/Eigen/Install/include/eigen3/unsupported/Eigen/CXX11/src/Tensor/TensorAssign.h\n",
            "-- Installing: /root/.hunter/_Base/70287b1/02ccb06/dffbc08/Build/Eigen/Install/include/eigen3/unsupported/Eigen/CXX11/src/Tensor/TensorConvolution.h\n",
            "-- Installing: /root/.hunter/_Base/70287b1/02ccb06/dffbc08/Build/Eigen/Install/include/eigen3/unsupported/Eigen/CXX11/src/Tensor/TensorMacros.h\n",
            "-- Installing: /root/.hunter/_Base/70287b1/02ccb06/dffbc08/Build/Eigen/Install/include/eigen3/unsupported/Eigen/CXX11/src/Tensor/TensorPatch.h\n",
            "-- Installing: /root/.hunter/_Base/70287b1/02ccb06/dffbc08/Build/Eigen/Install/include/eigen3/unsupported/Eigen/CXX11/src/Tensor/TensorDevice.h\n",
            "-- Installing: /root/.hunter/_Base/70287b1/02ccb06/dffbc08/Build/Eigen/Install/include/eigen3/unsupported/Eigen/CXX11/src/Tensor/TensorUInt128.h\n",
            "-- Installing: /root/.hunter/_Base/70287b1/02ccb06/dffbc08/Build/Eigen/Install/include/eigen3/unsupported/Eigen/CXX11/src/Tensor/TensorIO.h\n",
            "-- Installing: /root/.hunter/_Base/70287b1/02ccb06/dffbc08/Build/Eigen/Install/include/eigen3/unsupported/Eigen/CXX11/src/Tensor/TensorScan.h\n",
            "-- Installing: /root/.hunter/_Base/70287b1/02ccb06/dffbc08/Build/Eigen/Install/include/eigen3/unsupported/Eigen/CXX11/src/Tensor/TensorIntDiv.h\n",
            "-- Installing: /root/.hunter/_Base/70287b1/02ccb06/dffbc08/Build/Eigen/Install/include/eigen3/unsupported/Eigen/CXX11/src/Tensor/TensorForcedEval.h\n",
            "-- Installing: /root/.hunter/_Base/70287b1/02ccb06/dffbc08/Build/Eigen/Install/include/eigen3/unsupported/Eigen/CXX11/src/Tensor/TensorConcatenation.h\n",
            "-- Installing: /root/.hunter/_Base/70287b1/02ccb06/dffbc08/Build/Eigen/Install/include/eigen3/unsupported/Eigen/CXX11/src/Tensor/TensorArgMax.h\n",
            "-- Installing: /root/.hunter/_Base/70287b1/02ccb06/dffbc08/Build/Eigen/Install/include/eigen3/unsupported/Eigen/CXX11/src/Tensor/TensorCostModel.h\n",
            "-- Installing: /root/.hunter/_Base/70287b1/02ccb06/dffbc08/Build/Eigen/Install/include/eigen3/unsupported/Eigen/CXX11/src/Tensor/TensorChipping.h\n",
            "-- Installing: /root/.hunter/_Base/70287b1/02ccb06/dffbc08/Build/Eigen/Install/include/eigen3/unsupported/Eigen/CXX11/src/Tensor/TensorPadding.h\n",
            "-- Installing: /root/.hunter/_Base/70287b1/02ccb06/dffbc08/Build/Eigen/Install/include/eigen3/unsupported/Eigen/CXX11/src/Tensor/TensorShuffling.h\n",
            "-- Installing: /root/.hunter/_Base/70287b1/02ccb06/dffbc08/Build/Eigen/Install/include/eigen3/unsupported/Eigen/CXX11/src/Tensor/TensorGlobalFunctions.h\n",
            "-- Installing: /root/.hunter/_Base/70287b1/02ccb06/dffbc08/Build/Eigen/Install/include/eigen3/unsupported/Eigen/CXX11/src/Tensor/TensorExpr.h\n",
            "-- Installing: /root/.hunter/_Base/70287b1/02ccb06/dffbc08/Build/Eigen/Install/include/eigen3/unsupported/Eigen/CXX11/src/Tensor/TensorFunctors.h\n",
            "-- Installing: /root/.hunter/_Base/70287b1/02ccb06/dffbc08/Build/Eigen/Install/include/eigen3/unsupported/Eigen/CXX11/src/Tensor/TensorDimensionList.h\n",
            "-- Installing: /root/.hunter/_Base/70287b1/02ccb06/dffbc08/Build/Eigen/Install/include/eigen3/unsupported/Eigen/CXX11/src/Tensor/TensorFFT.h\n",
            "-- Installing: /root/.hunter/_Base/70287b1/02ccb06/dffbc08/Build/Eigen/Install/include/eigen3/unsupported/Eigen/CXX11/src/Tensor/TensorReductionSycl.h\n",
            "-- Installing: /root/.hunter/_Base/70287b1/02ccb06/dffbc08/Build/Eigen/Install/include/eigen3/unsupported/Eigen/CXX11/src/Tensor/TensorSyclExtractFunctors.h\n",
            "-- Installing: /root/.hunter/_Base/70287b1/02ccb06/dffbc08/Build/Eigen/Install/include/eigen3/unsupported/Eigen/CXX11/src/Tensor/TensorSyclRun.h\n",
            "-- Installing: /root/.hunter/_Base/70287b1/02ccb06/dffbc08/Build/Eigen/Install/include/eigen3/unsupported/Eigen/CXX11/src/Tensor/TensorVolumePatch.h\n",
            "-- Installing: /root/.hunter/_Base/70287b1/02ccb06/dffbc08/Build/Eigen/Install/include/eigen3/unsupported/Eigen/CXX11/src/Tensor/TensorDeviceCuda.h\n",
            "-- Installing: /root/.hunter/_Base/70287b1/02ccb06/dffbc08/Build/Eigen/Install/include/eigen3/unsupported/Eigen/CXX11/src/Tensor/TensorContractionCuda.h\n",
            "-- Installing: /root/.hunter/_Base/70287b1/02ccb06/dffbc08/Build/Eigen/Install/include/eigen3/unsupported/Eigen/CXX11/src/Tensor/TensorReduction.h\n",
            "-- Installing: /root/.hunter/_Base/70287b1/02ccb06/dffbc08/Build/Eigen/Install/include/eigen3/unsupported/Eigen/CXX11/src/Tensor/TensorContractionThreadPool.h\n",
            "-- Installing: /root/.hunter/_Base/70287b1/02ccb06/dffbc08/Build/Eigen/Install/include/eigen3/unsupported/Eigen/CXX11/src/Tensor/TensorMap.h\n",
            "-- Installing: /root/.hunter/_Base/70287b1/02ccb06/dffbc08/Build/Eigen/Install/include/eigen3/unsupported/Eigen/CXX11/src/Tensor/TensorDimensions.h\n",
            "-- Installing: /root/.hunter/_Base/70287b1/02ccb06/dffbc08/Build/Eigen/Install/include/eigen3/unsupported/Eigen/CXX11/src/Tensor/TensorSyclConvertToDeviceExpression.h\n",
            "-- Installing: /root/.hunter/_Base/70287b1/02ccb06/dffbc08/Build/Eigen/Install/include/eigen3/unsupported/Eigen/CXX11/src/Tensor/TensorForwardDeclarations.h\n",
            "-- Installing: /root/.hunter/_Base/70287b1/02ccb06/dffbc08/Build/Eigen/Install/include/eigen3/unsupported/Eigen/CXX11/src/Tensor/TensorFixedSize.h\n",
            "-- Installing: /root/.hunter/_Base/70287b1/02ccb06/dffbc08/Build/Eigen/Install/include/eigen3/unsupported/Eigen/CXX11/src/Tensor/TensorDeviceDefault.h\n",
            "-- Installing: /root/.hunter/_Base/70287b1/02ccb06/dffbc08/Build/Eigen/Install/include/eigen3/unsupported/Eigen/CXX11/src/Tensor/TensorRef.h\n",
            "-- Installing: /root/.hunter/_Base/70287b1/02ccb06/dffbc08/Build/Eigen/Install/include/eigen3/unsupported/Eigen/CXX11/src/Tensor/Tensor.h\n",
            "-- Installing: /root/.hunter/_Base/70287b1/02ccb06/dffbc08/Build/Eigen/Install/include/eigen3/unsupported/Eigen/CXX11/src/Tensor/TensorBase.h\n",
            "-- Installing: /root/.hunter/_Base/70287b1/02ccb06/dffbc08/Build/Eigen/Install/include/eigen3/unsupported/Eigen/CXX11/src/Tensor/TensorSyclExtractAccessor.h\n",
            "-- Installing: /root/.hunter/_Base/70287b1/02ccb06/dffbc08/Build/Eigen/Install/include/eigen3/unsupported/Eigen/CXX11/src/Tensor/TensorInitializer.h\n",
            "-- Installing: /root/.hunter/_Base/70287b1/02ccb06/dffbc08/Build/Eigen/Install/include/eigen3/unsupported/Eigen/CXX11/src/Tensor/TensorInflation.h\n",
            "-- Installing: /root/.hunter/_Base/70287b1/02ccb06/dffbc08/Build/Eigen/Install/include/eigen3/unsupported/Eigen/CXX11/src/Tensor/TensorReductionCuda.h\n",
            "-- Installing: /root/.hunter/_Base/70287b1/02ccb06/dffbc08/Build/Eigen/Install/include/eigen3/unsupported/Eigen/CXX11/src/Tensor/TensorContractionBlocking.h\n",
            "-- Installing: /root/.hunter/_Base/70287b1/02ccb06/dffbc08/Build/Eigen/Install/include/eigen3/unsupported/Eigen/CXX11/src/Tensor/TensorGenerator.h\n",
            "-- Installing: /root/.hunter/_Base/70287b1/02ccb06/dffbc08/Build/Eigen/Install/include/eigen3/unsupported/Eigen/CXX11/src/Tensor/TensorContraction.h\n",
            "-- Installing: /root/.hunter/_Base/70287b1/02ccb06/dffbc08/Build/Eigen/Install/include/eigen3/unsupported/Eigen/CXX11/src/Tensor/TensorTraits.h\n",
            "-- Installing: /root/.hunter/_Base/70287b1/02ccb06/dffbc08/Build/Eigen/Install/include/eigen3/unsupported/Eigen/CXX11/src/Tensor/TensorDeviceSycl.h\n",
            "-- Installing: /root/.hunter/_Base/70287b1/02ccb06/dffbc08/Build/Eigen/Install/include/eigen3/unsupported/Eigen/CXX11/src/Tensor/TensorSycl.h\n",
            "-- Installing: /root/.hunter/_Base/70287b1/02ccb06/dffbc08/Build/Eigen/Install/include/eigen3/unsupported/Eigen/CXX11/src/Tensor/TensorStorage.h\n",
            "-- Installing: /root/.hunter/_Base/70287b1/02ccb06/dffbc08/Build/Eigen/Install/include/eigen3/unsupported/Eigen/CXX11/src/Tensor/TensorImagePatch.h\n",
            "-- Installing: /root/.hunter/_Base/70287b1/02ccb06/dffbc08/Build/Eigen/Install/include/eigen3/unsupported/Eigen/CXX11/src/Tensor/TensorReverse.h\n",
            "-- Installing: /root/.hunter/_Base/70287b1/02ccb06/dffbc08/Build/Eigen/Install/include/eigen3/unsupported/Eigen/CXX11/src/Tensor/TensorLayoutSwap.h\n",
            "-- Installing: /root/.hunter/_Base/70287b1/02ccb06/dffbc08/Build/Eigen/Install/include/eigen3/unsupported/Eigen/CXX11/src/Tensor/TensorSyclPlaceHolderExpr.h\n",
            "-- Installing: /root/.hunter/_Base/70287b1/02ccb06/dffbc08/Build/Eigen/Install/include/eigen3/unsupported/Eigen/CXX11/src/Tensor/TensorEvaluator.h\n",
            "-- Installing: /root/.hunter/_Base/70287b1/02ccb06/dffbc08/Build/Eigen/Install/include/eigen3/unsupported/Eigen/CXX11/src/Tensor/TensorSyclTuple.h\n",
            "-- Installing: /root/.hunter/_Base/70287b1/02ccb06/dffbc08/Build/Eigen/Install/include/eigen3/unsupported/Eigen/CXX11/src/Tensor/TensorDeviceThreadPool.h\n",
            "-- Installing: /root/.hunter/_Base/70287b1/02ccb06/dffbc08/Build/Eigen/Install/include/eigen3/unsupported/Eigen/CXX11/src/Tensor/TensorExecutor.h\n",
            "-- Installing: /root/.hunter/_Base/70287b1/02ccb06/dffbc08/Build/Eigen/Install/include/eigen3/unsupported/Eigen/CXX11/src/ThreadPool\n",
            "-- Installing: /root/.hunter/_Base/70287b1/02ccb06/dffbc08/Build/Eigen/Install/include/eigen3/unsupported/Eigen/CXX11/src/ThreadPool/RunQueue.h\n",
            "-- Installing: /root/.hunter/_Base/70287b1/02ccb06/dffbc08/Build/Eigen/Install/include/eigen3/unsupported/Eigen/CXX11/src/ThreadPool/NonBlockingThreadPool.h\n",
            "-- Installing: /root/.hunter/_Base/70287b1/02ccb06/dffbc08/Build/Eigen/Install/include/eigen3/unsupported/Eigen/CXX11/src/ThreadPool/ThreadLocal.h\n",
            "-- Installing: /root/.hunter/_Base/70287b1/02ccb06/dffbc08/Build/Eigen/Install/include/eigen3/unsupported/Eigen/CXX11/src/ThreadPool/EventCount.h\n",
            "-- Installing: /root/.hunter/_Base/70287b1/02ccb06/dffbc08/Build/Eigen/Install/include/eigen3/unsupported/Eigen/CXX11/src/ThreadPool/ThreadEnvironment.h\n",
            "-- Installing: /root/.hunter/_Base/70287b1/02ccb06/dffbc08/Build/Eigen/Install/include/eigen3/unsupported/Eigen/CXX11/src/ThreadPool/SimpleThreadPool.h\n",
            "-- Installing: /root/.hunter/_Base/70287b1/02ccb06/dffbc08/Build/Eigen/Install/include/eigen3/unsupported/Eigen/CXX11/src/ThreadPool/ThreadPoolInterface.h\n",
            "-- Installing: /root/.hunter/_Base/70287b1/02ccb06/dffbc08/Build/Eigen/Install/include/eigen3/unsupported/Eigen/CXX11/src/ThreadPool/ThreadYield.h\n",
            "-- Installing: /root/.hunter/_Base/70287b1/02ccb06/dffbc08/Build/Eigen/Install/include/eigen3/unsupported/Eigen/CXX11/src/util\n",
            "-- Installing: /root/.hunter/_Base/70287b1/02ccb06/dffbc08/Build/Eigen/Install/include/eigen3/unsupported/Eigen/CXX11/src/util/CXX11Meta.h\n",
            "-- Installing: /root/.hunter/_Base/70287b1/02ccb06/dffbc08/Build/Eigen/Install/include/eigen3/unsupported/Eigen/CXX11/src/util/EmulateCXX11Meta.h\n",
            "-- Installing: /root/.hunter/_Base/70287b1/02ccb06/dffbc08/Build/Eigen/Install/include/eigen3/unsupported/Eigen/CXX11/src/util/EmulateArray.h\n",
            "-- Installing: /root/.hunter/_Base/70287b1/02ccb06/dffbc08/Build/Eigen/Install/include/eigen3/unsupported/Eigen/CXX11/src/util/CXX11Workarounds.h\n",
            "-- Installing: /root/.hunter/_Base/70287b1/02ccb06/dffbc08/Build/Eigen/Install/include/eigen3/unsupported/Eigen/CXX11/src/util/MaxSizeVector.h\n",
            "-- Installing: /root/.hunter/_Base/70287b1/02ccb06/dffbc08/Build/Eigen/Install/include/eigen3/unsupported/Eigen/CXX11/src/TensorSymmetry\n",
            "-- Installing: /root/.hunter/_Base/70287b1/02ccb06/dffbc08/Build/Eigen/Install/include/eigen3/unsupported/Eigen/CXX11/src/TensorSymmetry/Symmetry.h\n",
            "-- Installing: /root/.hunter/_Base/70287b1/02ccb06/dffbc08/Build/Eigen/Install/include/eigen3/unsupported/Eigen/CXX11/src/TensorSymmetry/StaticSymmetry.h\n",
            "-- Installing: /root/.hunter/_Base/70287b1/02ccb06/dffbc08/Build/Eigen/Install/include/eigen3/unsupported/Eigen/CXX11/src/TensorSymmetry/util\n",
            "-- Installing: /root/.hunter/_Base/70287b1/02ccb06/dffbc08/Build/Eigen/Install/include/eigen3/unsupported/Eigen/CXX11/src/TensorSymmetry/util/TemplateGroupTheory.h\n",
            "-- Installing: /root/.hunter/_Base/70287b1/02ccb06/dffbc08/Build/Eigen/Install/include/eigen3/unsupported/Eigen/CXX11/src/TensorSymmetry/DynamicSymmetry.h\n",
            "loading initial cache file /root/.hunter/_Base/70287b1/02ccb06/dffbc08/Build/Eigen/args.cmake\n",
            "[ 50%] Completed 'Eigen-Release'\n",
            "[ 50%] Built target Eigen-Release\n",
            "Scanning dependencies of target Eigen-Debug\n",
            "[ 56%] Creating directories for 'Eigen-Debug'\n",
            "[ 62%] Performing download step (download, verify and extract) for 'Eigen-Debug'\n",
            "-- verifying file...\n",
            "       file='/root/.hunter/_Base/Download/Eigen/3.3.5/c1801a3/3.3.5.tar.gz'\n",
            "-- File already exists and hash match (skip download):\n",
            "  file='/root/.hunter/_Base/Download/Eigen/3.3.5/c1801a3/3.3.5.tar.gz'\n",
            "  SHA1='c1801a3b37c7fd734c756b9dce4d00a3cd685b7a'\n",
            "-- extracting...\n",
            "     src='/root/.hunter/_Base/Download/Eigen/3.3.5/c1801a3/3.3.5.tar.gz'\n",
            "     dst='/root/.hunter/_Base/70287b1/02ccb06/dffbc08/Build/Eigen/Source'\n",
            "-- extracting... [tar xfz]\n",
            "-- extracting... [analysis]\n",
            "-- extracting... [rename]\n",
            "-- extracting... [clean up]\n",
            "-- extracting... done\n",
            "[ 68%] No patch step for 'Eigen-Debug'\n",
            "[ 75%] No update step for 'Eigen-Debug'\n",
            "[ 81%] Performing configure step for 'Eigen-Debug'\n",
            "loading initial cache file /root/.hunter/_Base/70287b1/02ccb06/dffbc08/cache.cmake\n",
            "loading initial cache file /root/.hunter/_Base/70287b1/02ccb06/dffbc08/Build/Eigen/args.cmake\n",
            "-- The C compiler identification is GNU 7.5.0\n",
            "-- The CXX compiler identification is GNU 7.5.0\n",
            "-- Check for working C compiler: /usr/bin/cc\n",
            "-- Check for working C compiler: /usr/bin/cc -- works\n",
            "-- Detecting C compile features\n",
            "-- Detecting C compile features - done\n",
            "-- Check for working CXX compiler: /usr/bin/c++\n",
            "-- Check for working CXX compiler: /usr/bin/c++ -- works\n",
            "-- Detecting CXX compile features\n",
            "-- Detecting CXX compile features - done\n",
            "-- Performing Test standard_math_library_linked_to_automatically\n",
            "-- Performing Test standard_math_library_linked_to_automatically - Success\n",
            "-- Standard libraries to link to explicitly: none\n",
            "-- Performing Test COMPILER_SUPPORT_WERROR\n",
            "-- Performing Test COMPILER_SUPPORT_WERROR - Success\n",
            "-- Performing Test COMPILER_SUPPORT_pedantic\n",
            "-- Performing Test COMPILER_SUPPORT_pedantic - Success\n",
            "-- Performing Test COMPILER_SUPPORT_Wall\n",
            "-- Performing Test COMPILER_SUPPORT_Wall - Success\n",
            "-- Performing Test COMPILER_SUPPORT_Wextra\n",
            "-- Performing Test COMPILER_SUPPORT_Wextra - Success\n",
            "-- Performing Test COMPILER_SUPPORT_Wundef\n",
            "-- Performing Test COMPILER_SUPPORT_Wundef - Success\n",
            "-- Performing Test COMPILER_SUPPORT_Wcastalign\n",
            "-- Performing Test COMPILER_SUPPORT_Wcastalign - Success\n",
            "-- Performing Test COMPILER_SUPPORT_Wcharsubscripts\n",
            "-- Performing Test COMPILER_SUPPORT_Wcharsubscripts - Success\n",
            "-- Performing Test COMPILER_SUPPORT_Wnonvirtualdtor\n",
            "-- Performing Test COMPILER_SUPPORT_Wnonvirtualdtor - Success\n",
            "-- Performing Test COMPILER_SUPPORT_Wunusedlocaltypedefs\n",
            "-- Performing Test COMPILER_SUPPORT_Wunusedlocaltypedefs - Success\n",
            "-- Performing Test COMPILER_SUPPORT_Wpointerarith\n",
            "-- Performing Test COMPILER_SUPPORT_Wpointerarith - Success\n",
            "-- Performing Test COMPILER_SUPPORT_Wwritestrings\n",
            "-- Performing Test COMPILER_SUPPORT_Wwritestrings - Success\n",
            "-- Performing Test COMPILER_SUPPORT_Wformatsecurity\n",
            "-- Performing Test COMPILER_SUPPORT_Wformatsecurity - Success\n",
            "-- Performing Test COMPILER_SUPPORT_Wshorten64to32\n",
            "-- Performing Test COMPILER_SUPPORT_Wshorten64to32 - Failed\n",
            "-- Performing Test COMPILER_SUPPORT_Wlogicalop\n",
            "-- Performing Test COMPILER_SUPPORT_Wlogicalop - Success\n",
            "-- Performing Test COMPILER_SUPPORT_Wenumconversion\n",
            "-- Performing Test COMPILER_SUPPORT_Wenumconversion - Failed\n",
            "-- Performing Test COMPILER_SUPPORT_Wcpp11extensions\n",
            "-- Performing Test COMPILER_SUPPORT_Wcpp11extensions - Failed\n",
            "-- Performing Test COMPILER_SUPPORT_Wdoublepromotion\n",
            "-- Performing Test COMPILER_SUPPORT_Wdoublepromotion - Success\n",
            "-- Performing Test COMPILER_SUPPORT_Wnopsabi\n",
            "-- Performing Test COMPILER_SUPPORT_Wnopsabi - Success\n",
            "-- Performing Test COMPILER_SUPPORT_Wnovariadicmacros\n",
            "-- Performing Test COMPILER_SUPPORT_Wnovariadicmacros - Success\n",
            "-- Performing Test COMPILER_SUPPORT_Wnolonglong\n",
            "-- Performing Test COMPILER_SUPPORT_Wnolonglong - Success\n",
            "-- Performing Test COMPILER_SUPPORT_fnochecknew\n",
            "-- Performing Test COMPILER_SUPPORT_fnochecknew - Success\n",
            "-- Performing Test COMPILER_SUPPORT_fnocommon\n",
            "-- Performing Test COMPILER_SUPPORT_fnocommon - Success\n",
            "-- Performing Test COMPILER_SUPPORT_fstrictaliasing\n",
            "-- Performing Test COMPILER_SUPPORT_fstrictaliasing - Success\n",
            "-- Performing Test COMPILER_SUPPORT_wd981\n",
            "-- Performing Test COMPILER_SUPPORT_wd981 - Failed\n",
            "-- Performing Test COMPILER_SUPPORT_wd2304\n",
            "-- Performing Test COMPILER_SUPPORT_wd2304 - Failed\n",
            "-- Performing Test COMPILER_SUPPORT_STRICTANSI\n",
            "-- Performing Test COMPILER_SUPPORT_STRICTANSI - Failed\n",
            "-- Performing Test COMPILER_SUPPORT_Qunusedarguments\n",
            "-- Performing Test COMPILER_SUPPORT_Qunusedarguments - Failed\n",
            "-- Performing Test COMPILER_SUPPORT_ansi\n",
            "-- Performing Test COMPILER_SUPPORT_ansi - Success\n",
            "-- Performing Test COMPILER_SUPPORT_OPENMP\n",
            "-- Performing Test COMPILER_SUPPORT_OPENMP - Success\n",
            "-- Performing Test EIGEN_COMPILER_SUPPORT_CPP11\n",
            "-- Performing Test EIGEN_COMPILER_SUPPORT_CPP11 - Success\n",
            "-- Found unsuitable Qt version \"5.9.5\" from /usr/bin/qmake\n",
            "-- The Fortran compiler identification is GNU 7.5.0\n",
            "-- Check for working Fortran compiler: /usr/bin/gfortran\n",
            "-- Check for working Fortran compiler: /usr/bin/gfortran  -- works\n",
            "-- Detecting Fortran compiler ABI info\n",
            "-- Detecting Fortran compiler ABI info - done\n",
            "-- Checking whether /usr/bin/gfortran supports Fortran 90\n",
            "-- Checking whether /usr/bin/gfortran supports Fortran 90 -- yes\n",
            "-- Found unsuitable Qt version \"5.9.5\" from /usr/bin/qmake\n",
            "-- Qt4 not found, so disabling the mandelbrot and opengl demos\n",
            "-- Could NOT find CHOLMOD (missing: CHOLMOD_INCLUDES CHOLMOD_LIBRARIES) \n",
            "-- Could NOT find UMFPACK (missing: UMFPACK_INCLUDES UMFPACK_LIBRARIES) \n",
            "-- Could NOT find SUPERLU (missing: SUPERLU_INCLUDES SUPERLU_LIBRARIES SUPERLU_VERSION_OK) \n",
            "-- A version of Pastix has been found but pastix_nompi.h does not exist in the include directory. Because Eigen tests require a version without MPI, we disable the Pastix backend.\n",
            "-- \n",
            "-- Configured Eigen 3.3.5\n",
            "-- \n",
            "-- Some things you can do now:\n",
            "-- --------------+--------------------------------------------------------------\n",
            "-- Command       |   Description\n",
            "-- --------------+--------------------------------------------------------------\n",
            "-- make install  | Install Eigen. Headers will be installed to:\n",
            "--               |     <CMAKE_INSTALL_PREFIX>/<INCLUDE_INSTALL_DIR>\n",
            "--               |   Using the following values:\n",
            "--               |     CMAKE_INSTALL_PREFIX: /root/.hunter/_Base/70287b1/02ccb06/dffbc08/Build/Eigen/Install\n",
            "--               |     INCLUDE_INSTALL_DIR:  include/eigen3\n",
            "--               |   Change the install location of Eigen headers using:\n",
            "--               |     cmake . -DCMAKE_INSTALL_PREFIX=yourprefix\n",
            "--               |   Or:\n",
            "--               |     cmake . -DINCLUDE_INSTALL_DIR=yourdir\n",
            "-- make doc      | Generate the API documentation, requires Doxygen & LaTeX\n",
            "-- make check    | Build and run the unit-tests. Read this page:\n",
            "--               |   http://eigen.tuxfamily.org/index.php?title=Tests\n",
            "-- make blas     | Build BLAS library (not the same thing as Eigen)\n",
            "-- make uninstall| Removes files installed by make install\n",
            "-- --------------+--------------------------------------------------------------\n",
            "-- \n",
            "-- Configuring done\n",
            "-- Generating done\n",
            "-- Build files have been written to: /root/.hunter/_Base/70287b1/02ccb06/dffbc08/Build/Eigen/Build/Eigen-Debug-prefix/src/Eigen-Debug-build\n",
            "[ 87%] Performing build step for 'Eigen-Debug'\n",
            "[ 93%] Performing install step for 'Eigen-Debug'\n",
            "Install the project...\n",
            "-- Install configuration: \"Debug\"\n",
            "-- Up-to-date: /root/.hunter/_Base/70287b1/02ccb06/dffbc08/Build/Eigen/Install/include/eigen3/signature_of_eigen3_matrix_library\n",
            "-- Installing: /root/.hunter/_Base/70287b1/02ccb06/dffbc08/Build/Eigen/Install/share/pkgconfig/eigen3.pc\n",
            "-- Installing: /root/.hunter/_Base/70287b1/02ccb06/dffbc08/Build/Eigen/Install/share/eigen3/cmake/Eigen3Targets.cmake\n",
            "-- Up-to-date: /root/.hunter/_Base/70287b1/02ccb06/dffbc08/Build/Eigen/Install/share/eigen3/cmake/UseEigen3.cmake\n",
            "-- Installing: /root/.hunter/_Base/70287b1/02ccb06/dffbc08/Build/Eigen/Install/share/eigen3/cmake/Eigen3Config.cmake\n",
            "-- Installing: /root/.hunter/_Base/70287b1/02ccb06/dffbc08/Build/Eigen/Install/share/eigen3/cmake/Eigen3ConfigVersion.cmake\n",
            "-- Up-to-date: /root/.hunter/_Base/70287b1/02ccb06/dffbc08/Build/Eigen/Install/include/eigen3/Eigen/Cholesky\n",
            "-- Up-to-date: /root/.hunter/_Base/70287b1/02ccb06/dffbc08/Build/Eigen/Install/include/eigen3/Eigen/CholmodSupport\n",
            "-- Up-to-date: /root/.hunter/_Base/70287b1/02ccb06/dffbc08/Build/Eigen/Install/include/eigen3/Eigen/Core\n",
            "-- Up-to-date: /root/.hunter/_Base/70287b1/02ccb06/dffbc08/Build/Eigen/Install/include/eigen3/Eigen/Dense\n",
            "-- Up-to-date: /root/.hunter/_Base/70287b1/02ccb06/dffbc08/Build/Eigen/Install/include/eigen3/Eigen/Eigen\n",
            "-- Up-to-date: /root/.hunter/_Base/70287b1/02ccb06/dffbc08/Build/Eigen/Install/include/eigen3/Eigen/Eigenvalues\n",
            "-- Up-to-date: /root/.hunter/_Base/70287b1/02ccb06/dffbc08/Build/Eigen/Install/include/eigen3/Eigen/Geometry\n",
            "-- Up-to-date: /root/.hunter/_Base/70287b1/02ccb06/dffbc08/Build/Eigen/Install/include/eigen3/Eigen/Householder\n",
            "-- Up-to-date: /root/.hunter/_Base/70287b1/02ccb06/dffbc08/Build/Eigen/Install/include/eigen3/Eigen/IterativeLinearSolvers\n",
            "-- Up-to-date: /root/.hunter/_Base/70287b1/02ccb06/dffbc08/Build/Eigen/Install/include/eigen3/Eigen/Jacobi\n",
            "-- Up-to-date: /root/.hunter/_Base/70287b1/02ccb06/dffbc08/Build/Eigen/Install/include/eigen3/Eigen/LU\n",
            "-- Up-to-date: /root/.hunter/_Base/70287b1/02ccb06/dffbc08/Build/Eigen/Install/include/eigen3/Eigen/MetisSupport\n",
            "-- Up-to-date: /root/.hunter/_Base/70287b1/02ccb06/dffbc08/Build/Eigen/Install/include/eigen3/Eigen/OrderingMethods\n",
            "-- Up-to-date: /root/.hunter/_Base/70287b1/02ccb06/dffbc08/Build/Eigen/Install/include/eigen3/Eigen/PaStiXSupport\n",
            "-- Up-to-date: /root/.hunter/_Base/70287b1/02ccb06/dffbc08/Build/Eigen/Install/include/eigen3/Eigen/PardisoSupport\n",
            "-- Up-to-date: /root/.hunter/_Base/70287b1/02ccb06/dffbc08/Build/Eigen/Install/include/eigen3/Eigen/QR\n",
            "-- Up-to-date: /root/.hunter/_Base/70287b1/02ccb06/dffbc08/Build/Eigen/Install/include/eigen3/Eigen/QtAlignedMalloc\n",
            "-- Up-to-date: /root/.hunter/_Base/70287b1/02ccb06/dffbc08/Build/Eigen/Install/include/eigen3/Eigen/SPQRSupport\n",
            "-- Up-to-date: /root/.hunter/_Base/70287b1/02ccb06/dffbc08/Build/Eigen/Install/include/eigen3/Eigen/SVD\n",
            "-- Up-to-date: /root/.hunter/_Base/70287b1/02ccb06/dffbc08/Build/Eigen/Install/include/eigen3/Eigen/Sparse\n",
            "-- Up-to-date: /root/.hunter/_Base/70287b1/02ccb06/dffbc08/Build/Eigen/Install/include/eigen3/Eigen/SparseCholesky\n",
            "-- Up-to-date: /root/.hunter/_Base/70287b1/02ccb06/dffbc08/Build/Eigen/Install/include/eigen3/Eigen/SparseCore\n",
            "-- Up-to-date: /root/.hunter/_Base/70287b1/02ccb06/dffbc08/Build/Eigen/Install/include/eigen3/Eigen/SparseLU\n",
            "-- Up-to-date: /root/.hunter/_Base/70287b1/02ccb06/dffbc08/Build/Eigen/Install/include/eigen3/Eigen/SparseQR\n",
            "-- Up-to-date: /root/.hunter/_Base/70287b1/02ccb06/dffbc08/Build/Eigen/Install/include/eigen3/Eigen/StdDeque\n",
            "-- Up-to-date: /root/.hunter/_Base/70287b1/02ccb06/dffbc08/Build/Eigen/Install/include/eigen3/Eigen/StdList\n",
            "-- Up-to-date: /root/.hunter/_Base/70287b1/02ccb06/dffbc08/Build/Eigen/Install/include/eigen3/Eigen/StdVector\n",
            "-- Up-to-date: /root/.hunter/_Base/70287b1/02ccb06/dffbc08/Build/Eigen/Install/include/eigen3/Eigen/SuperLUSupport\n",
            "-- Up-to-date: /root/.hunter/_Base/70287b1/02ccb06/dffbc08/Build/Eigen/Install/include/eigen3/Eigen/UmfPackSupport\n",
            "-- Up-to-date: /root/.hunter/_Base/70287b1/02ccb06/dffbc08/Build/Eigen/Install/include/eigen3/Eigen/src\n",
            "-- Up-to-date: /root/.hunter/_Base/70287b1/02ccb06/dffbc08/Build/Eigen/Install/include/eigen3/Eigen/src/SuperLUSupport\n",
            "-- Up-to-date: /root/.hunter/_Base/70287b1/02ccb06/dffbc08/Build/Eigen/Install/include/eigen3/Eigen/src/SuperLUSupport/SuperLUSupport.h\n",
            "-- Up-to-date: /root/.hunter/_Base/70287b1/02ccb06/dffbc08/Build/Eigen/Install/include/eigen3/Eigen/src/SPQRSupport\n",
            "-- Up-to-date: /root/.hunter/_Base/70287b1/02ccb06/dffbc08/Build/Eigen/Install/include/eigen3/Eigen/src/SPQRSupport/SuiteSparseQRSupport.h\n",
            "-- Up-to-date: /root/.hunter/_Base/70287b1/02ccb06/dffbc08/Build/Eigen/Install/include/eigen3/Eigen/src/OrderingMethods\n",
            "-- Up-to-date: /root/.hunter/_Base/70287b1/02ccb06/dffbc08/Build/Eigen/Install/include/eigen3/Eigen/src/OrderingMethods/Eigen_Colamd.h\n",
            "-- Up-to-date: /root/.hunter/_Base/70287b1/02ccb06/dffbc08/Build/Eigen/Install/include/eigen3/Eigen/src/OrderingMethods/Ordering.h\n",
            "-- Up-to-date: /root/.hunter/_Base/70287b1/02ccb06/dffbc08/Build/Eigen/Install/include/eigen3/Eigen/src/OrderingMethods/Amd.h\n",
            "-- Up-to-date: /root/.hunter/_Base/70287b1/02ccb06/dffbc08/Build/Eigen/Install/include/eigen3/Eigen/src/Cholesky\n",
            "-- Up-to-date: /root/.hunter/_Base/70287b1/02ccb06/dffbc08/Build/Eigen/Install/include/eigen3/Eigen/src/Cholesky/LLT.h\n",
            "-- Up-to-date: /root/.hunter/_Base/70287b1/02ccb06/dffbc08/Build/Eigen/Install/include/eigen3/Eigen/src/Cholesky/LDLT.h\n",
            "-- Up-to-date: /root/.hunter/_Base/70287b1/02ccb06/dffbc08/Build/Eigen/Install/include/eigen3/Eigen/src/Cholesky/LLT_LAPACKE.h\n",
            "-- Up-to-date: /root/.hunter/_Base/70287b1/02ccb06/dffbc08/Build/Eigen/Install/include/eigen3/Eigen/src/misc\n",
            "-- Up-to-date: /root/.hunter/_Base/70287b1/02ccb06/dffbc08/Build/Eigen/Install/include/eigen3/Eigen/src/misc/lapacke.h\n",
            "-- Up-to-date: /root/.hunter/_Base/70287b1/02ccb06/dffbc08/Build/Eigen/Install/include/eigen3/Eigen/src/misc/blas.h\n",
            "-- Up-to-date: /root/.hunter/_Base/70287b1/02ccb06/dffbc08/Build/Eigen/Install/include/eigen3/Eigen/src/misc/Kernel.h\n",
            "-- Up-to-date: /root/.hunter/_Base/70287b1/02ccb06/dffbc08/Build/Eigen/Install/include/eigen3/Eigen/src/misc/Image.h\n",
            "-- Up-to-date: /root/.hunter/_Base/70287b1/02ccb06/dffbc08/Build/Eigen/Install/include/eigen3/Eigen/src/misc/RealSvd2x2.h\n",
            "-- Up-to-date: /root/.hunter/_Base/70287b1/02ccb06/dffbc08/Build/Eigen/Install/include/eigen3/Eigen/src/misc/lapack.h\n",
            "-- Up-to-date: /root/.hunter/_Base/70287b1/02ccb06/dffbc08/Build/Eigen/Install/include/eigen3/Eigen/src/misc/lapacke_mangling.h\n",
            "-- Up-to-date: /root/.hunter/_Base/70287b1/02ccb06/dffbc08/Build/Eigen/Install/include/eigen3/Eigen/src/Jacobi\n",
            "-- Up-to-date: /root/.hunter/_Base/70287b1/02ccb06/dffbc08/Build/Eigen/Install/include/eigen3/Eigen/src/Jacobi/Jacobi.h\n",
            "-- Up-to-date: /root/.hunter/_Base/70287b1/02ccb06/dffbc08/Build/Eigen/Install/include/eigen3/Eigen/src/LU\n",
            "-- Up-to-date: /root/.hunter/_Base/70287b1/02ccb06/dffbc08/Build/Eigen/Install/include/eigen3/Eigen/src/LU/arch\n",
            "-- Up-to-date: /root/.hunter/_Base/70287b1/02ccb06/dffbc08/Build/Eigen/Install/include/eigen3/Eigen/src/LU/arch/Inverse_SSE.h\n",
            "-- Up-to-date: /root/.hunter/_Base/70287b1/02ccb06/dffbc08/Build/Eigen/Install/include/eigen3/Eigen/src/LU/PartialPivLU_LAPACKE.h\n",
            "-- Up-to-date: /root/.hunter/_Base/70287b1/02ccb06/dffbc08/Build/Eigen/Install/include/eigen3/Eigen/src/LU/Determinant.h\n",
            "-- Up-to-date: /root/.hunter/_Base/70287b1/02ccb06/dffbc08/Build/Eigen/Install/include/eigen3/Eigen/src/LU/InverseImpl.h\n",
            "-- Up-to-date: /root/.hunter/_Base/70287b1/02ccb06/dffbc08/Build/Eigen/Install/include/eigen3/Eigen/src/LU/FullPivLU.h\n",
            "-- Up-to-date: /root/.hunter/_Base/70287b1/02ccb06/dffbc08/Build/Eigen/Install/include/eigen3/Eigen/src/LU/PartialPivLU.h\n",
            "-- Up-to-date: /root/.hunter/_Base/70287b1/02ccb06/dffbc08/Build/Eigen/Install/include/eigen3/Eigen/src/Eigenvalues\n",
            "-- Up-to-date: /root/.hunter/_Base/70287b1/02ccb06/dffbc08/Build/Eigen/Install/include/eigen3/Eigen/src/Eigenvalues/SelfAdjointEigenSolver.h\n",
            "-- Up-to-date: /root/.hunter/_Base/70287b1/02ccb06/dffbc08/Build/Eigen/Install/include/eigen3/Eigen/src/Eigenvalues/Tridiagonalization.h\n",
            "-- Up-to-date: /root/.hunter/_Base/70287b1/02ccb06/dffbc08/Build/Eigen/Install/include/eigen3/Eigen/src/Eigenvalues/ComplexEigenSolver.h\n",
            "-- Up-to-date: /root/.hunter/_Base/70287b1/02ccb06/dffbc08/Build/Eigen/Install/include/eigen3/Eigen/src/Eigenvalues/HessenbergDecomposition.h\n",
            "-- Up-to-date: /root/.hunter/_Base/70287b1/02ccb06/dffbc08/Build/Eigen/Install/include/eigen3/Eigen/src/Eigenvalues/RealSchur_LAPACKE.h\n",
            "-- Up-to-date: /root/.hunter/_Base/70287b1/02ccb06/dffbc08/Build/Eigen/Install/include/eigen3/Eigen/src/Eigenvalues/RealSchur.h\n",
            "-- Up-to-date: /root/.hunter/_Base/70287b1/02ccb06/dffbc08/Build/Eigen/Install/include/eigen3/Eigen/src/Eigenvalues/GeneralizedSelfAdjointEigenSolver.h\n",
            "-- Up-to-date: /root/.hunter/_Base/70287b1/02ccb06/dffbc08/Build/Eigen/Install/include/eigen3/Eigen/src/Eigenvalues/MatrixBaseEigenvalues.h\n",
            "-- Up-to-date: /root/.hunter/_Base/70287b1/02ccb06/dffbc08/Build/Eigen/Install/include/eigen3/Eigen/src/Eigenvalues/SelfAdjointEigenSolver_LAPACKE.h\n",
            "-- Up-to-date: /root/.hunter/_Base/70287b1/02ccb06/dffbc08/Build/Eigen/Install/include/eigen3/Eigen/src/Eigenvalues/GeneralizedEigenSolver.h\n",
            "-- Up-to-date: /root/.hunter/_Base/70287b1/02ccb06/dffbc08/Build/Eigen/Install/include/eigen3/Eigen/src/Eigenvalues/RealQZ.h\n",
            "-- Up-to-date: /root/.hunter/_Base/70287b1/02ccb06/dffbc08/Build/Eigen/Install/include/eigen3/Eigen/src/Eigenvalues/ComplexSchur_LAPACKE.h\n",
            "-- Up-to-date: /root/.hunter/_Base/70287b1/02ccb06/dffbc08/Build/Eigen/Install/include/eigen3/Eigen/src/Eigenvalues/ComplexSchur.h\n",
            "-- Up-to-date: /root/.hunter/_Base/70287b1/02ccb06/dffbc08/Build/Eigen/Install/include/eigen3/Eigen/src/Eigenvalues/EigenSolver.h\n",
            "-- Up-to-date: /root/.hunter/_Base/70287b1/02ccb06/dffbc08/Build/Eigen/Install/include/eigen3/Eigen/src/UmfPackSupport\n",
            "-- Up-to-date: /root/.hunter/_Base/70287b1/02ccb06/dffbc08/Build/Eigen/Install/include/eigen3/Eigen/src/UmfPackSupport/UmfPackSupport.h\n",
            "-- Up-to-date: /root/.hunter/_Base/70287b1/02ccb06/dffbc08/Build/Eigen/Install/include/eigen3/Eigen/src/SparseCore\n",
            "-- Up-to-date: /root/.hunter/_Base/70287b1/02ccb06/dffbc08/Build/Eigen/Install/include/eigen3/Eigen/src/SparseCore/TriangularSolver.h\n",
            "-- Up-to-date: /root/.hunter/_Base/70287b1/02ccb06/dffbc08/Build/Eigen/Install/include/eigen3/Eigen/src/SparseCore/SparseView.h\n",
            "-- Up-to-date: /root/.hunter/_Base/70287b1/02ccb06/dffbc08/Build/Eigen/Install/include/eigen3/Eigen/src/SparseCore/MappedSparseMatrix.h\n",
            "-- Up-to-date: /root/.hunter/_Base/70287b1/02ccb06/dffbc08/Build/Eigen/Install/include/eigen3/Eigen/src/SparseCore/SparseSelfAdjointView.h\n",
            "-- Up-to-date: /root/.hunter/_Base/70287b1/02ccb06/dffbc08/Build/Eigen/Install/include/eigen3/Eigen/src/SparseCore/CompressedStorage.h\n",
            "-- Up-to-date: /root/.hunter/_Base/70287b1/02ccb06/dffbc08/Build/Eigen/Install/include/eigen3/Eigen/src/SparseCore/ConservativeSparseSparseProduct.h\n",
            "-- Up-to-date: /root/.hunter/_Base/70287b1/02ccb06/dffbc08/Build/Eigen/Install/include/eigen3/Eigen/src/SparseCore/SparseFuzzy.h\n",
            "-- Up-to-date: /root/.hunter/_Base/70287b1/02ccb06/dffbc08/Build/Eigen/Install/include/eigen3/Eigen/src/SparseCore/SparseTriangularView.h\n",
            "-- Up-to-date: /root/.hunter/_Base/70287b1/02ccb06/dffbc08/Build/Eigen/Install/include/eigen3/Eigen/src/SparseCore/SparseDot.h\n",
            "-- Up-to-date: /root/.hunter/_Base/70287b1/02ccb06/dffbc08/Build/Eigen/Install/include/eigen3/Eigen/src/SparseCore/SparseMatrix.h\n",
            "-- Up-to-date: /root/.hunter/_Base/70287b1/02ccb06/dffbc08/Build/Eigen/Install/include/eigen3/Eigen/src/SparseCore/SparseDenseProduct.h\n",
            "-- Up-to-date: /root/.hunter/_Base/70287b1/02ccb06/dffbc08/Build/Eigen/Install/include/eigen3/Eigen/src/SparseCore/SparseSparseProductWithPruning.h\n",
            "-- Up-to-date: /root/.hunter/_Base/70287b1/02ccb06/dffbc08/Build/Eigen/Install/include/eigen3/Eigen/src/SparseCore/SparseDiagonalProduct.h\n",
            "-- Up-to-date: /root/.hunter/_Base/70287b1/02ccb06/dffbc08/Build/Eigen/Install/include/eigen3/Eigen/src/SparseCore/SparseRedux.h\n",
            "-- Up-to-date: /root/.hunter/_Base/70287b1/02ccb06/dffbc08/Build/Eigen/Install/include/eigen3/Eigen/src/SparseCore/SparseCwiseBinaryOp.h\n",
            "-- Up-to-date: /root/.hunter/_Base/70287b1/02ccb06/dffbc08/Build/Eigen/Install/include/eigen3/Eigen/src/SparseCore/SparseMap.h\n",
            "-- Up-to-date: /root/.hunter/_Base/70287b1/02ccb06/dffbc08/Build/Eigen/Install/include/eigen3/Eigen/src/SparseCore/SparseTranspose.h\n",
            "-- Up-to-date: /root/.hunter/_Base/70287b1/02ccb06/dffbc08/Build/Eigen/Install/include/eigen3/Eigen/src/SparseCore/SparseCwiseUnaryOp.h\n",
            "-- Up-to-date: /root/.hunter/_Base/70287b1/02ccb06/dffbc08/Build/Eigen/Install/include/eigen3/Eigen/src/SparseCore/AmbiVector.h\n",
            "-- Up-to-date: /root/.hunter/_Base/70287b1/02ccb06/dffbc08/Build/Eigen/Install/include/eigen3/Eigen/src/SparseCore/SparseRef.h\n",
            "-- Up-to-date: /root/.hunter/_Base/70287b1/02ccb06/dffbc08/Build/Eigen/Install/include/eigen3/Eigen/src/SparseCore/SparseSolverBase.h\n",
            "-- Up-to-date: /root/.hunter/_Base/70287b1/02ccb06/dffbc08/Build/Eigen/Install/include/eigen3/Eigen/src/SparseCore/SparseUtil.h\n",
            "-- Up-to-date: /root/.hunter/_Base/70287b1/02ccb06/dffbc08/Build/Eigen/Install/include/eigen3/Eigen/src/SparseCore/SparsePermutation.h\n",
            "-- Up-to-date: /root/.hunter/_Base/70287b1/02ccb06/dffbc08/Build/Eigen/Install/include/eigen3/Eigen/src/SparseCore/SparseColEtree.h\n",
            "-- Up-to-date: /root/.hunter/_Base/70287b1/02ccb06/dffbc08/Build/Eigen/Install/include/eigen3/Eigen/src/SparseCore/SparseMatrixBase.h\n",
            "-- Up-to-date: /root/.hunter/_Base/70287b1/02ccb06/dffbc08/Build/Eigen/Install/include/eigen3/Eigen/src/SparseCore/SparseBlock.h\n",
            "-- Up-to-date: /root/.hunter/_Base/70287b1/02ccb06/dffbc08/Build/Eigen/Install/include/eigen3/Eigen/src/SparseCore/SparseAssign.h\n",
            "-- Up-to-date: /root/.hunter/_Base/70287b1/02ccb06/dffbc08/Build/Eigen/Install/include/eigen3/Eigen/src/SparseCore/SparseProduct.h\n",
            "-- Up-to-date: /root/.hunter/_Base/70287b1/02ccb06/dffbc08/Build/Eigen/Install/include/eigen3/Eigen/src/SparseCore/SparseCompressedBase.h\n",
            "-- Up-to-date: /root/.hunter/_Base/70287b1/02ccb06/dffbc08/Build/Eigen/Install/include/eigen3/Eigen/src/SparseCore/SparseVector.h\n",
            "-- Up-to-date: /root/.hunter/_Base/70287b1/02ccb06/dffbc08/Build/Eigen/Install/include/eigen3/Eigen/src/SparseCholesky\n",
            "-- Up-to-date: /root/.hunter/_Base/70287b1/02ccb06/dffbc08/Build/Eigen/Install/include/eigen3/Eigen/src/SparseCholesky/SimplicialCholesky.h\n",
            "-- Up-to-date: /root/.hunter/_Base/70287b1/02ccb06/dffbc08/Build/Eigen/Install/include/eigen3/Eigen/src/SparseCholesky/SimplicialCholesky_impl.h\n",
            "-- Up-to-date: /root/.hunter/_Base/70287b1/02ccb06/dffbc08/Build/Eigen/Install/include/eigen3/Eigen/src/SVD\n",
            "-- Up-to-date: /root/.hunter/_Base/70287b1/02ccb06/dffbc08/Build/Eigen/Install/include/eigen3/Eigen/src/SVD/BDCSVD.h\n",
            "-- Up-to-date: /root/.hunter/_Base/70287b1/02ccb06/dffbc08/Build/Eigen/Install/include/eigen3/Eigen/src/SVD/SVDBase.h\n",
            "-- Up-to-date: /root/.hunter/_Base/70287b1/02ccb06/dffbc08/Build/Eigen/Install/include/eigen3/Eigen/src/SVD/UpperBidiagonalization.h\n",
            "-- Up-to-date: /root/.hunter/_Base/70287b1/02ccb06/dffbc08/Build/Eigen/Install/include/eigen3/Eigen/src/SVD/JacobiSVD.h\n",
            "-- Up-to-date: /root/.hunter/_Base/70287b1/02ccb06/dffbc08/Build/Eigen/Install/include/eigen3/Eigen/src/SVD/JacobiSVD_LAPACKE.h\n",
            "-- Up-to-date: /root/.hunter/_Base/70287b1/02ccb06/dffbc08/Build/Eigen/Install/include/eigen3/Eigen/src/Householder\n",
            "-- Up-to-date: /root/.hunter/_Base/70287b1/02ccb06/dffbc08/Build/Eigen/Install/include/eigen3/Eigen/src/Householder/Householder.h\n",
            "-- Up-to-date: /root/.hunter/_Base/70287b1/02ccb06/dffbc08/Build/Eigen/Install/include/eigen3/Eigen/src/Householder/BlockHouseholder.h\n",
            "-- Up-to-date: /root/.hunter/_Base/70287b1/02ccb06/dffbc08/Build/Eigen/Install/include/eigen3/Eigen/src/Householder/HouseholderSequence.h\n",
            "-- Up-to-date: /root/.hunter/_Base/70287b1/02ccb06/dffbc08/Build/Eigen/Install/include/eigen3/Eigen/src/SparseLU\n",
            "-- Up-to-date: /root/.hunter/_Base/70287b1/02ccb06/dffbc08/Build/Eigen/Install/include/eigen3/Eigen/src/SparseLU/SparseLU_panel_dfs.h\n",
            "-- Up-to-date: /root/.hunter/_Base/70287b1/02ccb06/dffbc08/Build/Eigen/Install/include/eigen3/Eigen/src/SparseLU/SparseLU_gemm_kernel.h\n",
            "-- Up-to-date: /root/.hunter/_Base/70287b1/02ccb06/dffbc08/Build/Eigen/Install/include/eigen3/Eigen/src/SparseLU/SparseLU_Structs.h\n",
            "-- Up-to-date: /root/.hunter/_Base/70287b1/02ccb06/dffbc08/Build/Eigen/Install/include/eigen3/Eigen/src/SparseLU/SparseLU_column_bmod.h\n",
            "-- Up-to-date: /root/.hunter/_Base/70287b1/02ccb06/dffbc08/Build/Eigen/Install/include/eigen3/Eigen/src/SparseLU/SparseLU_heap_relax_snode.h\n",
            "-- Up-to-date: /root/.hunter/_Base/70287b1/02ccb06/dffbc08/Build/Eigen/Install/include/eigen3/Eigen/src/SparseLU/SparseLU_column_dfs.h\n",
            "-- Up-to-date: /root/.hunter/_Base/70287b1/02ccb06/dffbc08/Build/Eigen/Install/include/eigen3/Eigen/src/SparseLU/SparseLU_panel_bmod.h\n",
            "-- Up-to-date: /root/.hunter/_Base/70287b1/02ccb06/dffbc08/Build/Eigen/Install/include/eigen3/Eigen/src/SparseLU/SparseLU_relax_snode.h\n",
            "-- Up-to-date: /root/.hunter/_Base/70287b1/02ccb06/dffbc08/Build/Eigen/Install/include/eigen3/Eigen/src/SparseLU/SparseLU_Memory.h\n",
            "-- Up-to-date: /root/.hunter/_Base/70287b1/02ccb06/dffbc08/Build/Eigen/Install/include/eigen3/Eigen/src/SparseLU/SparseLU_copy_to_ucol.h\n",
            "-- Up-to-date: /root/.hunter/_Base/70287b1/02ccb06/dffbc08/Build/Eigen/Install/include/eigen3/Eigen/src/SparseLU/SparseLU.h\n",
            "-- Up-to-date: /root/.hunter/_Base/70287b1/02ccb06/dffbc08/Build/Eigen/Install/include/eigen3/Eigen/src/SparseLU/SparseLUImpl.h\n",
            "-- Up-to-date: /root/.hunter/_Base/70287b1/02ccb06/dffbc08/Build/Eigen/Install/include/eigen3/Eigen/src/SparseLU/SparseLU_pivotL.h\n",
            "-- Up-to-date: /root/.hunter/_Base/70287b1/02ccb06/dffbc08/Build/Eigen/Install/include/eigen3/Eigen/src/SparseLU/SparseLU_SupernodalMatrix.h\n",
            "-- Up-to-date: /root/.hunter/_Base/70287b1/02ccb06/dffbc08/Build/Eigen/Install/include/eigen3/Eigen/src/SparseLU/SparseLU_kernel_bmod.h\n",
            "-- Up-to-date: /root/.hunter/_Base/70287b1/02ccb06/dffbc08/Build/Eigen/Install/include/eigen3/Eigen/src/SparseLU/SparseLU_Utils.h\n",
            "-- Up-to-date: /root/.hunter/_Base/70287b1/02ccb06/dffbc08/Build/Eigen/Install/include/eigen3/Eigen/src/SparseLU/SparseLU_pruneL.h\n",
            "-- Up-to-date: /root/.hunter/_Base/70287b1/02ccb06/dffbc08/Build/Eigen/Install/include/eigen3/Eigen/src/Geometry\n",
            "-- Up-to-date: /root/.hunter/_Base/70287b1/02ccb06/dffbc08/Build/Eigen/Install/include/eigen3/Eigen/src/Geometry/Quaternion.h\n",
            "-- Up-to-date: /root/.hunter/_Base/70287b1/02ccb06/dffbc08/Build/Eigen/Install/include/eigen3/Eigen/src/Geometry/Scaling.h\n",
            "-- Up-to-date: /root/.hunter/_Base/70287b1/02ccb06/dffbc08/Build/Eigen/Install/include/eigen3/Eigen/src/Geometry/Umeyama.h\n",
            "-- Up-to-date: /root/.hunter/_Base/70287b1/02ccb06/dffbc08/Build/Eigen/Install/include/eigen3/Eigen/src/Geometry/Homogeneous.h\n",
            "-- Up-to-date: /root/.hunter/_Base/70287b1/02ccb06/dffbc08/Build/Eigen/Install/include/eigen3/Eigen/src/Geometry/Hyperplane.h\n",
            "-- Up-to-date: /root/.hunter/_Base/70287b1/02ccb06/dffbc08/Build/Eigen/Install/include/eigen3/Eigen/src/Geometry/ParametrizedLine.h\n",
            "-- Up-to-date: /root/.hunter/_Base/70287b1/02ccb06/dffbc08/Build/Eigen/Install/include/eigen3/Eigen/src/Geometry/arch\n",
            "-- Up-to-date: /root/.hunter/_Base/70287b1/02ccb06/dffbc08/Build/Eigen/Install/include/eigen3/Eigen/src/Geometry/arch/Geometry_SSE.h\n",
            "-- Up-to-date: /root/.hunter/_Base/70287b1/02ccb06/dffbc08/Build/Eigen/Install/include/eigen3/Eigen/src/Geometry/Rotation2D.h\n",
            "-- Up-to-date: /root/.hunter/_Base/70287b1/02ccb06/dffbc08/Build/Eigen/Install/include/eigen3/Eigen/src/Geometry/Translation.h\n",
            "-- Up-to-date: /root/.hunter/_Base/70287b1/02ccb06/dffbc08/Build/Eigen/Install/include/eigen3/Eigen/src/Geometry/RotationBase.h\n",
            "-- Up-to-date: /root/.hunter/_Base/70287b1/02ccb06/dffbc08/Build/Eigen/Install/include/eigen3/Eigen/src/Geometry/EulerAngles.h\n",
            "-- Up-to-date: /root/.hunter/_Base/70287b1/02ccb06/dffbc08/Build/Eigen/Install/include/eigen3/Eigen/src/Geometry/OrthoMethods.h\n",
            "-- Up-to-date: /root/.hunter/_Base/70287b1/02ccb06/dffbc08/Build/Eigen/Install/include/eigen3/Eigen/src/Geometry/AlignedBox.h\n",
            "-- Up-to-date: /root/.hunter/_Base/70287b1/02ccb06/dffbc08/Build/Eigen/Install/include/eigen3/Eigen/src/Geometry/AngleAxis.h\n",
            "-- Up-to-date: /root/.hunter/_Base/70287b1/02ccb06/dffbc08/Build/Eigen/Install/include/eigen3/Eigen/src/Geometry/Transform.h\n",
            "-- Up-to-date: /root/.hunter/_Base/70287b1/02ccb06/dffbc08/Build/Eigen/Install/include/eigen3/Eigen/src/plugins\n",
            "-- Up-to-date: /root/.hunter/_Base/70287b1/02ccb06/dffbc08/Build/Eigen/Install/include/eigen3/Eigen/src/plugins/MatrixCwiseBinaryOps.h\n",
            "-- Up-to-date: /root/.hunter/_Base/70287b1/02ccb06/dffbc08/Build/Eigen/Install/include/eigen3/Eigen/src/plugins/ArrayCwiseUnaryOps.h\n",
            "-- Up-to-date: /root/.hunter/_Base/70287b1/02ccb06/dffbc08/Build/Eigen/Install/include/eigen3/Eigen/src/plugins/ArrayCwiseBinaryOps.h\n",
            "-- Up-to-date: /root/.hunter/_Base/70287b1/02ccb06/dffbc08/Build/Eigen/Install/include/eigen3/Eigen/src/plugins/CommonCwiseBinaryOps.h\n",
            "-- Up-to-date: /root/.hunter/_Base/70287b1/02ccb06/dffbc08/Build/Eigen/Install/include/eigen3/Eigen/src/plugins/BlockMethods.h\n",
            "-- Up-to-date: /root/.hunter/_Base/70287b1/02ccb06/dffbc08/Build/Eigen/Install/include/eigen3/Eigen/src/plugins/CommonCwiseUnaryOps.h\n",
            "-- Up-to-date: /root/.hunter/_Base/70287b1/02ccb06/dffbc08/Build/Eigen/Install/include/eigen3/Eigen/src/plugins/MatrixCwiseUnaryOps.h\n",
            "-- Up-to-date: /root/.hunter/_Base/70287b1/02ccb06/dffbc08/Build/Eigen/Install/include/eigen3/Eigen/src/MetisSupport\n",
            "-- Up-to-date: /root/.hunter/_Base/70287b1/02ccb06/dffbc08/Build/Eigen/Install/include/eigen3/Eigen/src/MetisSupport/MetisSupport.h\n",
            "-- Up-to-date: /root/.hunter/_Base/70287b1/02ccb06/dffbc08/Build/Eigen/Install/include/eigen3/Eigen/src/StlSupport\n",
            "-- Up-to-date: /root/.hunter/_Base/70287b1/02ccb06/dffbc08/Build/Eigen/Install/include/eigen3/Eigen/src/StlSupport/StdVector.h\n",
            "-- Up-to-date: /root/.hunter/_Base/70287b1/02ccb06/dffbc08/Build/Eigen/Install/include/eigen3/Eigen/src/StlSupport/StdDeque.h\n",
            "-- Up-to-date: /root/.hunter/_Base/70287b1/02ccb06/dffbc08/Build/Eigen/Install/include/eigen3/Eigen/src/StlSupport/details.h\n",
            "-- Up-to-date: /root/.hunter/_Base/70287b1/02ccb06/dffbc08/Build/Eigen/Install/include/eigen3/Eigen/src/StlSupport/StdList.h\n",
            "-- Up-to-date: /root/.hunter/_Base/70287b1/02ccb06/dffbc08/Build/Eigen/Install/include/eigen3/Eigen/src/Core\n",
            "-- Up-to-date: /root/.hunter/_Base/70287b1/02ccb06/dffbc08/Build/Eigen/Install/include/eigen3/Eigen/src/Core/DiagonalProduct.h\n",
            "-- Up-to-date: /root/.hunter/_Base/70287b1/02ccb06/dffbc08/Build/Eigen/Install/include/eigen3/Eigen/src/Core/Random.h\n",
            "-- Up-to-date: /root/.hunter/_Base/70287b1/02ccb06/dffbc08/Build/Eigen/Install/include/eigen3/Eigen/src/Core/NoAlias.h\n",
            "-- Up-to-date: /root/.hunter/_Base/70287b1/02ccb06/dffbc08/Build/Eigen/Install/include/eigen3/Eigen/src/Core/Fuzzy.h\n",
            "-- Up-to-date: /root/.hunter/_Base/70287b1/02ccb06/dffbc08/Build/Eigen/Install/include/eigen3/Eigen/src/Core/MathFunctions.h\n",
            "-- Up-to-date: /root/.hunter/_Base/70287b1/02ccb06/dffbc08/Build/Eigen/Install/include/eigen3/Eigen/src/Core/DenseStorage.h\n",
            "-- Up-to-date: /root/.hunter/_Base/70287b1/02ccb06/dffbc08/Build/Eigen/Install/include/eigen3/Eigen/src/Core/ArrayBase.h\n",
            "-- Up-to-date: /root/.hunter/_Base/70287b1/02ccb06/dffbc08/Build/Eigen/Install/include/eigen3/Eigen/src/Core/Solve.h\n",
            "-- Up-to-date: /root/.hunter/_Base/70287b1/02ccb06/dffbc08/Build/Eigen/Install/include/eigen3/Eigen/src/Core/SolverBase.h\n",
            "-- Up-to-date: /root/.hunter/_Base/70287b1/02ccb06/dffbc08/Build/Eigen/Install/include/eigen3/Eigen/src/Core/Dot.h\n",
            "-- Up-to-date: /root/.hunter/_Base/70287b1/02ccb06/dffbc08/Build/Eigen/Install/include/eigen3/Eigen/src/Core/ReturnByValue.h\n",
            "-- Up-to-date: /root/.hunter/_Base/70287b1/02ccb06/dffbc08/Build/Eigen/Install/include/eigen3/Eigen/src/Core/DenseCoeffsBase.h\n",
            "-- Up-to-date: /root/.hunter/_Base/70287b1/02ccb06/dffbc08/Build/Eigen/Install/include/eigen3/Eigen/src/Core/arch\n",
            "-- Up-to-date: /root/.hunter/_Base/70287b1/02ccb06/dffbc08/Build/Eigen/Install/include/eigen3/Eigen/src/Core/arch/CUDA\n",
            "-- Up-to-date: /root/.hunter/_Base/70287b1/02ccb06/dffbc08/Build/Eigen/Install/include/eigen3/Eigen/src/Core/arch/CUDA/Complex.h\n",
            "-- Up-to-date: /root/.hunter/_Base/70287b1/02ccb06/dffbc08/Build/Eigen/Install/include/eigen3/Eigen/src/Core/arch/CUDA/MathFunctions.h\n",
            "-- Up-to-date: /root/.hunter/_Base/70287b1/02ccb06/dffbc08/Build/Eigen/Install/include/eigen3/Eigen/src/Core/arch/CUDA/PacketMathHalf.h\n",
            "-- Up-to-date: /root/.hunter/_Base/70287b1/02ccb06/dffbc08/Build/Eigen/Install/include/eigen3/Eigen/src/Core/arch/CUDA/PacketMath.h\n",
            "-- Up-to-date: /root/.hunter/_Base/70287b1/02ccb06/dffbc08/Build/Eigen/Install/include/eigen3/Eigen/src/Core/arch/CUDA/Half.h\n",
            "-- Up-to-date: /root/.hunter/_Base/70287b1/02ccb06/dffbc08/Build/Eigen/Install/include/eigen3/Eigen/src/Core/arch/CUDA/TypeCasting.h\n",
            "-- Up-to-date: /root/.hunter/_Base/70287b1/02ccb06/dffbc08/Build/Eigen/Install/include/eigen3/Eigen/src/Core/arch/AVX\n",
            "-- Up-to-date: /root/.hunter/_Base/70287b1/02ccb06/dffbc08/Build/Eigen/Install/include/eigen3/Eigen/src/Core/arch/AVX/Complex.h\n",
            "-- Up-to-date: /root/.hunter/_Base/70287b1/02ccb06/dffbc08/Build/Eigen/Install/include/eigen3/Eigen/src/Core/arch/AVX/MathFunctions.h\n",
            "-- Up-to-date: /root/.hunter/_Base/70287b1/02ccb06/dffbc08/Build/Eigen/Install/include/eigen3/Eigen/src/Core/arch/AVX/PacketMath.h\n",
            "-- Up-to-date: /root/.hunter/_Base/70287b1/02ccb06/dffbc08/Build/Eigen/Install/include/eigen3/Eigen/src/Core/arch/AVX/TypeCasting.h\n",
            "-- Up-to-date: /root/.hunter/_Base/70287b1/02ccb06/dffbc08/Build/Eigen/Install/include/eigen3/Eigen/src/Core/arch/AltiVec\n",
            "-- Up-to-date: /root/.hunter/_Base/70287b1/02ccb06/dffbc08/Build/Eigen/Install/include/eigen3/Eigen/src/Core/arch/AltiVec/Complex.h\n",
            "-- Up-to-date: /root/.hunter/_Base/70287b1/02ccb06/dffbc08/Build/Eigen/Install/include/eigen3/Eigen/src/Core/arch/AltiVec/MathFunctions.h\n",
            "-- Up-to-date: /root/.hunter/_Base/70287b1/02ccb06/dffbc08/Build/Eigen/Install/include/eigen3/Eigen/src/Core/arch/AltiVec/PacketMath.h\n",
            "-- Up-to-date: /root/.hunter/_Base/70287b1/02ccb06/dffbc08/Build/Eigen/Install/include/eigen3/Eigen/src/Core/arch/ZVector\n",
            "-- Up-to-date: /root/.hunter/_Base/70287b1/02ccb06/dffbc08/Build/Eigen/Install/include/eigen3/Eigen/src/Core/arch/ZVector/Complex.h\n",
            "-- Up-to-date: /root/.hunter/_Base/70287b1/02ccb06/dffbc08/Build/Eigen/Install/include/eigen3/Eigen/src/Core/arch/ZVector/MathFunctions.h\n",
            "-- Up-to-date: /root/.hunter/_Base/70287b1/02ccb06/dffbc08/Build/Eigen/Install/include/eigen3/Eigen/src/Core/arch/ZVector/PacketMath.h\n",
            "-- Up-to-date: /root/.hunter/_Base/70287b1/02ccb06/dffbc08/Build/Eigen/Install/include/eigen3/Eigen/src/Core/arch/NEON\n",
            "-- Up-to-date: /root/.hunter/_Base/70287b1/02ccb06/dffbc08/Build/Eigen/Install/include/eigen3/Eigen/src/Core/arch/NEON/Complex.h\n",
            "-- Up-to-date: /root/.hunter/_Base/70287b1/02ccb06/dffbc08/Build/Eigen/Install/include/eigen3/Eigen/src/Core/arch/NEON/MathFunctions.h\n",
            "-- Up-to-date: /root/.hunter/_Base/70287b1/02ccb06/dffbc08/Build/Eigen/Install/include/eigen3/Eigen/src/Core/arch/NEON/PacketMath.h\n",
            "-- Up-to-date: /root/.hunter/_Base/70287b1/02ccb06/dffbc08/Build/Eigen/Install/include/eigen3/Eigen/src/Core/arch/SSE\n",
            "-- Up-to-date: /root/.hunter/_Base/70287b1/02ccb06/dffbc08/Build/Eigen/Install/include/eigen3/Eigen/src/Core/arch/SSE/Complex.h\n",
            "-- Up-to-date: /root/.hunter/_Base/70287b1/02ccb06/dffbc08/Build/Eigen/Install/include/eigen3/Eigen/src/Core/arch/SSE/MathFunctions.h\n",
            "-- Up-to-date: /root/.hunter/_Base/70287b1/02ccb06/dffbc08/Build/Eigen/Install/include/eigen3/Eigen/src/Core/arch/SSE/PacketMath.h\n",
            "-- Up-to-date: /root/.hunter/_Base/70287b1/02ccb06/dffbc08/Build/Eigen/Install/include/eigen3/Eigen/src/Core/arch/SSE/TypeCasting.h\n",
            "-- Up-to-date: /root/.hunter/_Base/70287b1/02ccb06/dffbc08/Build/Eigen/Install/include/eigen3/Eigen/src/Core/arch/Default\n",
            "-- Up-to-date: /root/.hunter/_Base/70287b1/02ccb06/dffbc08/Build/Eigen/Install/include/eigen3/Eigen/src/Core/arch/Default/Settings.h\n",
            "-- Up-to-date: /root/.hunter/_Base/70287b1/02ccb06/dffbc08/Build/Eigen/Install/include/eigen3/Eigen/src/Core/arch/Default/ConjHelper.h\n",
            "-- Up-to-date: /root/.hunter/_Base/70287b1/02ccb06/dffbc08/Build/Eigen/Install/include/eigen3/Eigen/src/Core/arch/AVX512\n",
            "-- Up-to-date: /root/.hunter/_Base/70287b1/02ccb06/dffbc08/Build/Eigen/Install/include/eigen3/Eigen/src/Core/arch/AVX512/MathFunctions.h\n",
            "-- Up-to-date: /root/.hunter/_Base/70287b1/02ccb06/dffbc08/Build/Eigen/Install/include/eigen3/Eigen/src/Core/arch/AVX512/PacketMath.h\n",
            "-- Up-to-date: /root/.hunter/_Base/70287b1/02ccb06/dffbc08/Build/Eigen/Install/include/eigen3/Eigen/src/Core/CoreIterators.h\n",
            "-- Up-to-date: /root/.hunter/_Base/70287b1/02ccb06/dffbc08/Build/Eigen/Install/include/eigen3/Eigen/src/Core/Diagonal.h\n",
            "-- Up-to-date: /root/.hunter/_Base/70287b1/02ccb06/dffbc08/Build/Eigen/Install/include/eigen3/Eigen/src/Core/GlobalFunctions.h\n",
            "-- Up-to-date: /root/.hunter/_Base/70287b1/02ccb06/dffbc08/Build/Eigen/Install/include/eigen3/Eigen/src/Core/ForceAlignedAccess.h\n",
            "-- Up-to-date: /root/.hunter/_Base/70287b1/02ccb06/dffbc08/Build/Eigen/Install/include/eigen3/Eigen/src/Core/DiagonalMatrix.h\n",
            "-- Up-to-date: /root/.hunter/_Base/70287b1/02ccb06/dffbc08/Build/Eigen/Install/include/eigen3/Eigen/src/Core/NestByValue.h\n",
            "-- Up-to-date: /root/.hunter/_Base/70287b1/02ccb06/dffbc08/Build/Eigen/Install/include/eigen3/Eigen/src/Core/MapBase.h\n",
            "-- Up-to-date: /root/.hunter/_Base/70287b1/02ccb06/dffbc08/Build/Eigen/Install/include/eigen3/Eigen/src/Core/GenericPacketMath.h\n",
            "-- Up-to-date: /root/.hunter/_Base/70287b1/02ccb06/dffbc08/Build/Eigen/Install/include/eigen3/Eigen/src/Core/SelfCwiseBinaryOp.h\n",
            "-- Up-to-date: /root/.hunter/_Base/70287b1/02ccb06/dffbc08/Build/Eigen/Install/include/eigen3/Eigen/src/Core/CwiseUnaryOp.h\n",
            "-- Up-to-date: /root/.hunter/_Base/70287b1/02ccb06/dffbc08/Build/Eigen/Install/include/eigen3/Eigen/src/Core/Assign_MKL.h\n",
            "-- Up-to-date: /root/.hunter/_Base/70287b1/02ccb06/dffbc08/Build/Eigen/Install/include/eigen3/Eigen/src/Core/TriangularMatrix.h\n",
            "-- Up-to-date: /root/.hunter/_Base/70287b1/02ccb06/dffbc08/Build/Eigen/Install/include/eigen3/Eigen/src/Core/SelfAdjointView.h\n",
            "-- Up-to-date: /root/.hunter/_Base/70287b1/02ccb06/dffbc08/Build/Eigen/Install/include/eigen3/Eigen/src/Core/DenseBase.h\n",
            "-- Up-to-date: /root/.hunter/_Base/70287b1/02ccb06/dffbc08/Build/Eigen/Install/include/eigen3/Eigen/src/Core/GeneralProduct.h\n",
            "-- Up-to-date: /root/.hunter/_Base/70287b1/02ccb06/dffbc08/Build/Eigen/Install/include/eigen3/Eigen/src/Core/BooleanRedux.h\n",
            "-- Up-to-date: /root/.hunter/_Base/70287b1/02ccb06/dffbc08/Build/Eigen/Install/include/eigen3/Eigen/src/Core/util\n",
            "-- Up-to-date: /root/.hunter/_Base/70287b1/02ccb06/dffbc08/Build/Eigen/Install/include/eigen3/Eigen/src/Core/util/Macros.h\n",
            "-- Up-to-date: /root/.hunter/_Base/70287b1/02ccb06/dffbc08/Build/Eigen/Install/include/eigen3/Eigen/src/Core/util/StaticAssert.h\n",
            "-- Up-to-date: /root/.hunter/_Base/70287b1/02ccb06/dffbc08/Build/Eigen/Install/include/eigen3/Eigen/src/Core/util/Meta.h\n",
            "-- Up-to-date: /root/.hunter/_Base/70287b1/02ccb06/dffbc08/Build/Eigen/Install/include/eigen3/Eigen/src/Core/util/BlasUtil.h\n",
            "-- Up-to-date: /root/.hunter/_Base/70287b1/02ccb06/dffbc08/Build/Eigen/Install/include/eigen3/Eigen/src/Core/util/ReenableStupidWarnings.h\n",
            "-- Up-to-date: /root/.hunter/_Base/70287b1/02ccb06/dffbc08/Build/Eigen/Install/include/eigen3/Eigen/src/Core/util/DisableStupidWarnings.h\n",
            "-- Up-to-date: /root/.hunter/_Base/70287b1/02ccb06/dffbc08/Build/Eigen/Install/include/eigen3/Eigen/src/Core/util/Constants.h\n",
            "-- Up-to-date: /root/.hunter/_Base/70287b1/02ccb06/dffbc08/Build/Eigen/Install/include/eigen3/Eigen/src/Core/util/XprHelper.h\n",
            "-- Up-to-date: /root/.hunter/_Base/70287b1/02ccb06/dffbc08/Build/Eigen/Install/include/eigen3/Eigen/src/Core/util/MKL_support.h\n",
            "-- Up-to-date: /root/.hunter/_Base/70287b1/02ccb06/dffbc08/Build/Eigen/Install/include/eigen3/Eigen/src/Core/util/NonMPL2.h\n",
            "-- Up-to-date: /root/.hunter/_Base/70287b1/02ccb06/dffbc08/Build/Eigen/Install/include/eigen3/Eigen/src/Core/util/Memory.h\n",
            "-- Up-to-date: /root/.hunter/_Base/70287b1/02ccb06/dffbc08/Build/Eigen/Install/include/eigen3/Eigen/src/Core/util/ForwardDeclarations.h\n",
            "-- Up-to-date: /root/.hunter/_Base/70287b1/02ccb06/dffbc08/Build/Eigen/Install/include/eigen3/Eigen/src/Core/PlainObjectBase.h\n",
            "-- Up-to-date: /root/.hunter/_Base/70287b1/02ccb06/dffbc08/Build/Eigen/Install/include/eigen3/Eigen/src/Core/Map.h\n",
            "-- Up-to-date: /root/.hunter/_Base/70287b1/02ccb06/dffbc08/Build/Eigen/Install/include/eigen3/Eigen/src/Core/IO.h\n",
            "-- Up-to-date: /root/.hunter/_Base/70287b1/02ccb06/dffbc08/Build/Eigen/Install/include/eigen3/Eigen/src/Core/Transpose.h\n",
            "-- Up-to-date: /root/.hunter/_Base/70287b1/02ccb06/dffbc08/Build/Eigen/Install/include/eigen3/Eigen/src/Core/Redux.h\n",
            "-- Up-to-date: /root/.hunter/_Base/70287b1/02ccb06/dffbc08/Build/Eigen/Install/include/eigen3/Eigen/src/Core/CommaInitializer.h\n",
            "-- Up-to-date: /root/.hunter/_Base/70287b1/02ccb06/dffbc08/Build/Eigen/Install/include/eigen3/Eigen/src/Core/Block.h\n",
            "-- Up-to-date: /root/.hunter/_Base/70287b1/02ccb06/dffbc08/Build/Eigen/Install/include/eigen3/Eigen/src/Core/Matrix.h\n",
            "-- Up-to-date: /root/.hunter/_Base/70287b1/02ccb06/dffbc08/Build/Eigen/Install/include/eigen3/Eigen/src/Core/AssignEvaluator.h\n",
            "-- Up-to-date: /root/.hunter/_Base/70287b1/02ccb06/dffbc08/Build/Eigen/Install/include/eigen3/Eigen/src/Core/Stride.h\n",
            "-- Up-to-date: /root/.hunter/_Base/70287b1/02ccb06/dffbc08/Build/Eigen/Install/include/eigen3/Eigen/src/Core/Select.h\n",
            "-- Up-to-date: /root/.hunter/_Base/70287b1/02ccb06/dffbc08/Build/Eigen/Install/include/eigen3/Eigen/src/Core/SolveTriangular.h\n",
            "-- Up-to-date: /root/.hunter/_Base/70287b1/02ccb06/dffbc08/Build/Eigen/Install/include/eigen3/Eigen/src/Core/Inverse.h\n",
            "-- Up-to-date: /root/.hunter/_Base/70287b1/02ccb06/dffbc08/Build/Eigen/Install/include/eigen3/Eigen/src/Core/ProductEvaluators.h\n",
            "-- Up-to-date: /root/.hunter/_Base/70287b1/02ccb06/dffbc08/Build/Eigen/Install/include/eigen3/Eigen/src/Core/BandMatrix.h\n",
            "-- Up-to-date: /root/.hunter/_Base/70287b1/02ccb06/dffbc08/Build/Eigen/Install/include/eigen3/Eigen/src/Core/MatrixBase.h\n",
            "-- Up-to-date: /root/.hunter/_Base/70287b1/02ccb06/dffbc08/Build/Eigen/Install/include/eigen3/Eigen/src/Core/NumTraits.h\n",
            "-- Up-to-date: /root/.hunter/_Base/70287b1/02ccb06/dffbc08/Build/Eigen/Install/include/eigen3/Eigen/src/Core/VectorBlock.h\n",
            "-- Up-to-date: /root/.hunter/_Base/70287b1/02ccb06/dffbc08/Build/Eigen/Install/include/eigen3/Eigen/src/Core/VectorwiseOp.h\n",
            "-- Up-to-date: /root/.hunter/_Base/70287b1/02ccb06/dffbc08/Build/Eigen/Install/include/eigen3/Eigen/src/Core/Transpositions.h\n",
            "-- Up-to-date: /root/.hunter/_Base/70287b1/02ccb06/dffbc08/Build/Eigen/Install/include/eigen3/Eigen/src/Core/EigenBase.h\n",
            "-- Up-to-date: /root/.hunter/_Base/70287b1/02ccb06/dffbc08/Build/Eigen/Install/include/eigen3/Eigen/src/Core/CwiseTernaryOp.h\n",
            "-- Up-to-date: /root/.hunter/_Base/70287b1/02ccb06/dffbc08/Build/Eigen/Install/include/eigen3/Eigen/src/Core/CwiseUnaryView.h\n",
            "-- Up-to-date: /root/.hunter/_Base/70287b1/02ccb06/dffbc08/Build/Eigen/Install/include/eigen3/Eigen/src/Core/Array.h\n",
            "-- Up-to-date: /root/.hunter/_Base/70287b1/02ccb06/dffbc08/Build/Eigen/Install/include/eigen3/Eigen/src/Core/Swap.h\n",
            "-- Up-to-date: /root/.hunter/_Base/70287b1/02ccb06/dffbc08/Build/Eigen/Install/include/eigen3/Eigen/src/Core/MathFunctionsImpl.h\n",
            "-- Up-to-date: /root/.hunter/_Base/70287b1/02ccb06/dffbc08/Build/Eigen/Install/include/eigen3/Eigen/src/Core/ArrayWrapper.h\n",
            "-- Up-to-date: /root/.hunter/_Base/70287b1/02ccb06/dffbc08/Build/Eigen/Install/include/eigen3/Eigen/src/Core/PermutationMatrix.h\n",
            "-- Up-to-date: /root/.hunter/_Base/70287b1/02ccb06/dffbc08/Build/Eigen/Install/include/eigen3/Eigen/src/Core/Replicate.h\n",
            "-- Up-to-date: /root/.hunter/_Base/70287b1/02ccb06/dffbc08/Build/Eigen/Install/include/eigen3/Eigen/src/Core/products\n",
            "-- Up-to-date: /root/.hunter/_Base/70287b1/02ccb06/dffbc08/Build/Eigen/Install/include/eigen3/Eigen/src/Core/products/GeneralBlockPanelKernel.h\n",
            "-- Up-to-date: /root/.hunter/_Base/70287b1/02ccb06/dffbc08/Build/Eigen/Install/include/eigen3/Eigen/src/Core/products/SelfadjointMatrixVector_BLAS.h\n",
            "-- Up-to-date: /root/.hunter/_Base/70287b1/02ccb06/dffbc08/Build/Eigen/Install/include/eigen3/Eigen/src/Core/products/TriangularSolverVector.h\n",
            "-- Up-to-date: /root/.hunter/_Base/70287b1/02ccb06/dffbc08/Build/Eigen/Install/include/eigen3/Eigen/src/Core/products/GeneralMatrixVector_BLAS.h\n",
            "-- Up-to-date: /root/.hunter/_Base/70287b1/02ccb06/dffbc08/Build/Eigen/Install/include/eigen3/Eigen/src/Core/products/GeneralMatrixVector.h\n",
            "-- Up-to-date: /root/.hunter/_Base/70287b1/02ccb06/dffbc08/Build/Eigen/Install/include/eigen3/Eigen/src/Core/products/SelfadjointMatrixVector.h\n",
            "-- Up-to-date: /root/.hunter/_Base/70287b1/02ccb06/dffbc08/Build/Eigen/Install/include/eigen3/Eigen/src/Core/products/TriangularSolverMatrix.h\n",
            "-- Up-to-date: /root/.hunter/_Base/70287b1/02ccb06/dffbc08/Build/Eigen/Install/include/eigen3/Eigen/src/Core/products/GeneralMatrixMatrix.h\n",
            "-- Up-to-date: /root/.hunter/_Base/70287b1/02ccb06/dffbc08/Build/Eigen/Install/include/eigen3/Eigen/src/Core/products/TriangularSolverMatrix_BLAS.h\n",
            "-- Up-to-date: /root/.hunter/_Base/70287b1/02ccb06/dffbc08/Build/Eigen/Install/include/eigen3/Eigen/src/Core/products/SelfadjointMatrixMatrix_BLAS.h\n",
            "-- Up-to-date: /root/.hunter/_Base/70287b1/02ccb06/dffbc08/Build/Eigen/Install/include/eigen3/Eigen/src/Core/products/TriangularMatrixVector_BLAS.h\n",
            "-- Up-to-date: /root/.hunter/_Base/70287b1/02ccb06/dffbc08/Build/Eigen/Install/include/eigen3/Eigen/src/Core/products/SelfadjointRank2Update.h\n",
            "-- Up-to-date: /root/.hunter/_Base/70287b1/02ccb06/dffbc08/Build/Eigen/Install/include/eigen3/Eigen/src/Core/products/GeneralMatrixMatrixTriangular_BLAS.h\n",
            "-- Up-to-date: /root/.hunter/_Base/70287b1/02ccb06/dffbc08/Build/Eigen/Install/include/eigen3/Eigen/src/Core/products/TriangularMatrixMatrix.h\n",
            "-- Up-to-date: /root/.hunter/_Base/70287b1/02ccb06/dffbc08/Build/Eigen/Install/include/eigen3/Eigen/src/Core/products/GeneralMatrixMatrixTriangular.h\n",
            "-- Up-to-date: /root/.hunter/_Base/70287b1/02ccb06/dffbc08/Build/Eigen/Install/include/eigen3/Eigen/src/Core/products/SelfadjointProduct.h\n",
            "-- Up-to-date: /root/.hunter/_Base/70287b1/02ccb06/dffbc08/Build/Eigen/Install/include/eigen3/Eigen/src/Core/products/SelfadjointMatrixMatrix.h\n",
            "-- Up-to-date: /root/.hunter/_Base/70287b1/02ccb06/dffbc08/Build/Eigen/Install/include/eigen3/Eigen/src/Core/products/GeneralMatrixMatrix_BLAS.h\n",
            "-- Up-to-date: /root/.hunter/_Base/70287b1/02ccb06/dffbc08/Build/Eigen/Install/include/eigen3/Eigen/src/Core/products/TriangularMatrixMatrix_BLAS.h\n",
            "-- Up-to-date: /root/.hunter/_Base/70287b1/02ccb06/dffbc08/Build/Eigen/Install/include/eigen3/Eigen/src/Core/products/TriangularMatrixVector.h\n",
            "-- Up-to-date: /root/.hunter/_Base/70287b1/02ccb06/dffbc08/Build/Eigen/Install/include/eigen3/Eigen/src/Core/products/Parallelizer.h\n",
            "-- Up-to-date: /root/.hunter/_Base/70287b1/02ccb06/dffbc08/Build/Eigen/Install/include/eigen3/Eigen/src/Core/Product.h\n",
            "-- Up-to-date: /root/.hunter/_Base/70287b1/02ccb06/dffbc08/Build/Eigen/Install/include/eigen3/Eigen/src/Core/Visitor.h\n",
            "-- Up-to-date: /root/.hunter/_Base/70287b1/02ccb06/dffbc08/Build/Eigen/Install/include/eigen3/Eigen/src/Core/CwiseBinaryOp.h\n",
            "-- Up-to-date: /root/.hunter/_Base/70287b1/02ccb06/dffbc08/Build/Eigen/Install/include/eigen3/Eigen/src/Core/Reverse.h\n",
            "-- Up-to-date: /root/.hunter/_Base/70287b1/02ccb06/dffbc08/Build/Eigen/Install/include/eigen3/Eigen/src/Core/functors\n",
            "-- Up-to-date: /root/.hunter/_Base/70287b1/02ccb06/dffbc08/Build/Eigen/Install/include/eigen3/Eigen/src/Core/functors/TernaryFunctors.h\n",
            "-- Up-to-date: /root/.hunter/_Base/70287b1/02ccb06/dffbc08/Build/Eigen/Install/include/eigen3/Eigen/src/Core/functors/UnaryFunctors.h\n",
            "-- Up-to-date: /root/.hunter/_Base/70287b1/02ccb06/dffbc08/Build/Eigen/Install/include/eigen3/Eigen/src/Core/functors/BinaryFunctors.h\n",
            "-- Up-to-date: /root/.hunter/_Base/70287b1/02ccb06/dffbc08/Build/Eigen/Install/include/eigen3/Eigen/src/Core/functors/NullaryFunctors.h\n",
            "-- Up-to-date: /root/.hunter/_Base/70287b1/02ccb06/dffbc08/Build/Eigen/Install/include/eigen3/Eigen/src/Core/functors/StlFunctors.h\n",
            "-- Up-to-date: /root/.hunter/_Base/70287b1/02ccb06/dffbc08/Build/Eigen/Install/include/eigen3/Eigen/src/Core/functors/AssignmentFunctors.h\n",
            "-- Up-to-date: /root/.hunter/_Base/70287b1/02ccb06/dffbc08/Build/Eigen/Install/include/eigen3/Eigen/src/Core/Assign.h\n",
            "-- Up-to-date: /root/.hunter/_Base/70287b1/02ccb06/dffbc08/Build/Eigen/Install/include/eigen3/Eigen/src/Core/CwiseNullaryOp.h\n",
            "-- Up-to-date: /root/.hunter/_Base/70287b1/02ccb06/dffbc08/Build/Eigen/Install/include/eigen3/Eigen/src/Core/StableNorm.h\n",
            "-- Up-to-date: /root/.hunter/_Base/70287b1/02ccb06/dffbc08/Build/Eigen/Install/include/eigen3/Eigen/src/Core/Ref.h\n",
            "-- Up-to-date: /root/.hunter/_Base/70287b1/02ccb06/dffbc08/Build/Eigen/Install/include/eigen3/Eigen/src/Core/CoreEvaluators.h\n",
            "-- Up-to-date: /root/.hunter/_Base/70287b1/02ccb06/dffbc08/Build/Eigen/Install/include/eigen3/Eigen/src/Core/ConditionEstimator.h\n",
            "-- Up-to-date: /root/.hunter/_Base/70287b1/02ccb06/dffbc08/Build/Eigen/Install/include/eigen3/Eigen/src/QR\n",
            "-- Up-to-date: /root/.hunter/_Base/70287b1/02ccb06/dffbc08/Build/Eigen/Install/include/eigen3/Eigen/src/QR/CompleteOrthogonalDecomposition.h\n",
            "-- Up-to-date: /root/.hunter/_Base/70287b1/02ccb06/dffbc08/Build/Eigen/Install/include/eigen3/Eigen/src/QR/ColPivHouseholderQR.h\n",
            "-- Up-to-date: /root/.hunter/_Base/70287b1/02ccb06/dffbc08/Build/Eigen/Install/include/eigen3/Eigen/src/QR/HouseholderQR_LAPACKE.h\n",
            "-- Up-to-date: /root/.hunter/_Base/70287b1/02ccb06/dffbc08/Build/Eigen/Install/include/eigen3/Eigen/src/QR/ColPivHouseholderQR_LAPACKE.h\n",
            "-- Up-to-date: /root/.hunter/_Base/70287b1/02ccb06/dffbc08/Build/Eigen/Install/include/eigen3/Eigen/src/QR/FullPivHouseholderQR.h\n",
            "-- Up-to-date: /root/.hunter/_Base/70287b1/02ccb06/dffbc08/Build/Eigen/Install/include/eigen3/Eigen/src/QR/HouseholderQR.h\n",
            "-- Up-to-date: /root/.hunter/_Base/70287b1/02ccb06/dffbc08/Build/Eigen/Install/include/eigen3/Eigen/src/CholmodSupport\n",
            "-- Up-to-date: /root/.hunter/_Base/70287b1/02ccb06/dffbc08/Build/Eigen/Install/include/eigen3/Eigen/src/CholmodSupport/CholmodSupport.h\n",
            "-- Up-to-date: /root/.hunter/_Base/70287b1/02ccb06/dffbc08/Build/Eigen/Install/include/eigen3/Eigen/src/IterativeLinearSolvers\n",
            "-- Up-to-date: /root/.hunter/_Base/70287b1/02ccb06/dffbc08/Build/Eigen/Install/include/eigen3/Eigen/src/IterativeLinearSolvers/SolveWithGuess.h\n",
            "-- Up-to-date: /root/.hunter/_Base/70287b1/02ccb06/dffbc08/Build/Eigen/Install/include/eigen3/Eigen/src/IterativeLinearSolvers/LeastSquareConjugateGradient.h\n",
            "-- Up-to-date: /root/.hunter/_Base/70287b1/02ccb06/dffbc08/Build/Eigen/Install/include/eigen3/Eigen/src/IterativeLinearSolvers/BiCGSTAB.h\n",
            "-- Up-to-date: /root/.hunter/_Base/70287b1/02ccb06/dffbc08/Build/Eigen/Install/include/eigen3/Eigen/src/IterativeLinearSolvers/IncompleteCholesky.h\n",
            "-- Up-to-date: /root/.hunter/_Base/70287b1/02ccb06/dffbc08/Build/Eigen/Install/include/eigen3/Eigen/src/IterativeLinearSolvers/ConjugateGradient.h\n",
            "-- Up-to-date: /root/.hunter/_Base/70287b1/02ccb06/dffbc08/Build/Eigen/Install/include/eigen3/Eigen/src/IterativeLinearSolvers/IterativeSolverBase.h\n",
            "-- Up-to-date: /root/.hunter/_Base/70287b1/02ccb06/dffbc08/Build/Eigen/Install/include/eigen3/Eigen/src/IterativeLinearSolvers/IncompleteLUT.h\n",
            "-- Up-to-date: /root/.hunter/_Base/70287b1/02ccb06/dffbc08/Build/Eigen/Install/include/eigen3/Eigen/src/IterativeLinearSolvers/BasicPreconditioners.h\n",
            "-- Up-to-date: /root/.hunter/_Base/70287b1/02ccb06/dffbc08/Build/Eigen/Install/include/eigen3/Eigen/src/PardisoSupport\n",
            "-- Up-to-date: /root/.hunter/_Base/70287b1/02ccb06/dffbc08/Build/Eigen/Install/include/eigen3/Eigen/src/PardisoSupport/PardisoSupport.h\n",
            "-- Up-to-date: /root/.hunter/_Base/70287b1/02ccb06/dffbc08/Build/Eigen/Install/include/eigen3/Eigen/src/PaStiXSupport\n",
            "-- Up-to-date: /root/.hunter/_Base/70287b1/02ccb06/dffbc08/Build/Eigen/Install/include/eigen3/Eigen/src/PaStiXSupport/PaStiXSupport.h\n",
            "-- Up-to-date: /root/.hunter/_Base/70287b1/02ccb06/dffbc08/Build/Eigen/Install/include/eigen3/Eigen/src/SparseQR\n",
            "-- Up-to-date: /root/.hunter/_Base/70287b1/02ccb06/dffbc08/Build/Eigen/Install/include/eigen3/Eigen/src/SparseQR/SparseQR.h\n",
            "-- Up-to-date: /root/.hunter/_Base/70287b1/02ccb06/dffbc08/Build/Eigen/Install/include/eigen3/unsupported/Eigen/AdolcForward\n",
            "-- Up-to-date: /root/.hunter/_Base/70287b1/02ccb06/dffbc08/Build/Eigen/Install/include/eigen3/unsupported/Eigen/AlignedVector3\n",
            "-- Up-to-date: /root/.hunter/_Base/70287b1/02ccb06/dffbc08/Build/Eigen/Install/include/eigen3/unsupported/Eigen/ArpackSupport\n",
            "-- Up-to-date: /root/.hunter/_Base/70287b1/02ccb06/dffbc08/Build/Eigen/Install/include/eigen3/unsupported/Eigen/AutoDiff\n",
            "-- Up-to-date: /root/.hunter/_Base/70287b1/02ccb06/dffbc08/Build/Eigen/Install/include/eigen3/unsupported/Eigen/BVH\n",
            "-- Up-to-date: /root/.hunter/_Base/70287b1/02ccb06/dffbc08/Build/Eigen/Install/include/eigen3/unsupported/Eigen/EulerAngles\n",
            "-- Up-to-date: /root/.hunter/_Base/70287b1/02ccb06/dffbc08/Build/Eigen/Install/include/eigen3/unsupported/Eigen/FFT\n",
            "-- Up-to-date: /root/.hunter/_Base/70287b1/02ccb06/dffbc08/Build/Eigen/Install/include/eigen3/unsupported/Eigen/IterativeSolvers\n",
            "-- Up-to-date: /root/.hunter/_Base/70287b1/02ccb06/dffbc08/Build/Eigen/Install/include/eigen3/unsupported/Eigen/KroneckerProduct\n",
            "-- Up-to-date: /root/.hunter/_Base/70287b1/02ccb06/dffbc08/Build/Eigen/Install/include/eigen3/unsupported/Eigen/LevenbergMarquardt\n",
            "-- Up-to-date: /root/.hunter/_Base/70287b1/02ccb06/dffbc08/Build/Eigen/Install/include/eigen3/unsupported/Eigen/MatrixFunctions\n",
            "-- Up-to-date: /root/.hunter/_Base/70287b1/02ccb06/dffbc08/Build/Eigen/Install/include/eigen3/unsupported/Eigen/MoreVectorization\n",
            "-- Up-to-date: /root/.hunter/_Base/70287b1/02ccb06/dffbc08/Build/Eigen/Install/include/eigen3/unsupported/Eigen/MPRealSupport\n",
            "-- Up-to-date: /root/.hunter/_Base/70287b1/02ccb06/dffbc08/Build/Eigen/Install/include/eigen3/unsupported/Eigen/NonLinearOptimization\n",
            "-- Up-to-date: /root/.hunter/_Base/70287b1/02ccb06/dffbc08/Build/Eigen/Install/include/eigen3/unsupported/Eigen/NumericalDiff\n",
            "-- Up-to-date: /root/.hunter/_Base/70287b1/02ccb06/dffbc08/Build/Eigen/Install/include/eigen3/unsupported/Eigen/OpenGLSupport\n",
            "-- Up-to-date: /root/.hunter/_Base/70287b1/02ccb06/dffbc08/Build/Eigen/Install/include/eigen3/unsupported/Eigen/Polynomials\n",
            "-- Up-to-date: /root/.hunter/_Base/70287b1/02ccb06/dffbc08/Build/Eigen/Install/include/eigen3/unsupported/Eigen/Skyline\n",
            "-- Up-to-date: /root/.hunter/_Base/70287b1/02ccb06/dffbc08/Build/Eigen/Install/include/eigen3/unsupported/Eigen/SparseExtra\n",
            "-- Up-to-date: /root/.hunter/_Base/70287b1/02ccb06/dffbc08/Build/Eigen/Install/include/eigen3/unsupported/Eigen/SpecialFunctions\n",
            "-- Up-to-date: /root/.hunter/_Base/70287b1/02ccb06/dffbc08/Build/Eigen/Install/include/eigen3/unsupported/Eigen/Splines\n",
            "-- Up-to-date: /root/.hunter/_Base/70287b1/02ccb06/dffbc08/Build/Eigen/Install/include/eigen3/unsupported/Eigen/src\n",
            "-- Up-to-date: /root/.hunter/_Base/70287b1/02ccb06/dffbc08/Build/Eigen/Install/include/eigen3/unsupported/Eigen/src/BVH\n",
            "-- Up-to-date: /root/.hunter/_Base/70287b1/02ccb06/dffbc08/Build/Eigen/Install/include/eigen3/unsupported/Eigen/src/BVH/KdBVH.h\n",
            "-- Up-to-date: /root/.hunter/_Base/70287b1/02ccb06/dffbc08/Build/Eigen/Install/include/eigen3/unsupported/Eigen/src/BVH/BVAlgorithms.h\n",
            "-- Up-to-date: /root/.hunter/_Base/70287b1/02ccb06/dffbc08/Build/Eigen/Install/include/eigen3/unsupported/Eigen/src/AutoDiff\n",
            "-- Up-to-date: /root/.hunter/_Base/70287b1/02ccb06/dffbc08/Build/Eigen/Install/include/eigen3/unsupported/Eigen/src/AutoDiff/AutoDiffScalar.h\n",
            "-- Up-to-date: /root/.hunter/_Base/70287b1/02ccb06/dffbc08/Build/Eigen/Install/include/eigen3/unsupported/Eigen/src/AutoDiff/AutoDiffVector.h\n",
            "-- Up-to-date: /root/.hunter/_Base/70287b1/02ccb06/dffbc08/Build/Eigen/Install/include/eigen3/unsupported/Eigen/src/AutoDiff/AutoDiffJacobian.h\n",
            "-- Up-to-date: /root/.hunter/_Base/70287b1/02ccb06/dffbc08/Build/Eigen/Install/include/eigen3/unsupported/Eigen/src/MoreVectorization\n",
            "-- Up-to-date: /root/.hunter/_Base/70287b1/02ccb06/dffbc08/Build/Eigen/Install/include/eigen3/unsupported/Eigen/src/MoreVectorization/MathFunctions.h\n",
            "-- Up-to-date: /root/.hunter/_Base/70287b1/02ccb06/dffbc08/Build/Eigen/Install/include/eigen3/unsupported/Eigen/src/MatrixFunctions\n",
            "-- Up-to-date: /root/.hunter/_Base/70287b1/02ccb06/dffbc08/Build/Eigen/Install/include/eigen3/unsupported/Eigen/src/MatrixFunctions/MatrixFunction.h\n",
            "-- Up-to-date: /root/.hunter/_Base/70287b1/02ccb06/dffbc08/Build/Eigen/Install/include/eigen3/unsupported/Eigen/src/MatrixFunctions/MatrixExponential.h\n",
            "-- Up-to-date: /root/.hunter/_Base/70287b1/02ccb06/dffbc08/Build/Eigen/Install/include/eigen3/unsupported/Eigen/src/MatrixFunctions/MatrixLogarithm.h\n",
            "-- Up-to-date: /root/.hunter/_Base/70287b1/02ccb06/dffbc08/Build/Eigen/Install/include/eigen3/unsupported/Eigen/src/MatrixFunctions/MatrixPower.h\n",
            "-- Up-to-date: /root/.hunter/_Base/70287b1/02ccb06/dffbc08/Build/Eigen/Install/include/eigen3/unsupported/Eigen/src/MatrixFunctions/StemFunction.h\n",
            "-- Up-to-date: /root/.hunter/_Base/70287b1/02ccb06/dffbc08/Build/Eigen/Install/include/eigen3/unsupported/Eigen/src/MatrixFunctions/MatrixSquareRoot.h\n",
            "-- Up-to-date: /root/.hunter/_Base/70287b1/02ccb06/dffbc08/Build/Eigen/Install/include/eigen3/unsupported/Eigen/src/KroneckerProduct\n",
            "-- Up-to-date: /root/.hunter/_Base/70287b1/02ccb06/dffbc08/Build/Eigen/Install/include/eigen3/unsupported/Eigen/src/KroneckerProduct/KroneckerTensorProduct.h\n",
            "-- Up-to-date: /root/.hunter/_Base/70287b1/02ccb06/dffbc08/Build/Eigen/Install/include/eigen3/unsupported/Eigen/src/LevenbergMarquardt\n",
            "-- Up-to-date: /root/.hunter/_Base/70287b1/02ccb06/dffbc08/Build/Eigen/Install/include/eigen3/unsupported/Eigen/src/LevenbergMarquardt/LMqrsolv.h\n",
            "-- Up-to-date: /root/.hunter/_Base/70287b1/02ccb06/dffbc08/Build/Eigen/Install/include/eigen3/unsupported/Eigen/src/LevenbergMarquardt/LMpar.h\n",
            "-- Up-to-date: /root/.hunter/_Base/70287b1/02ccb06/dffbc08/Build/Eigen/Install/include/eigen3/unsupported/Eigen/src/LevenbergMarquardt/LMcovar.h\n",
            "-- Up-to-date: /root/.hunter/_Base/70287b1/02ccb06/dffbc08/Build/Eigen/Install/include/eigen3/unsupported/Eigen/src/LevenbergMarquardt/LevenbergMarquardt.h\n",
            "-- Up-to-date: /root/.hunter/_Base/70287b1/02ccb06/dffbc08/Build/Eigen/Install/include/eigen3/unsupported/Eigen/src/LevenbergMarquardt/LMonestep.h\n",
            "-- Up-to-date: /root/.hunter/_Base/70287b1/02ccb06/dffbc08/Build/Eigen/Install/include/eigen3/unsupported/Eigen/src/Eigenvalues\n",
            "-- Up-to-date: /root/.hunter/_Base/70287b1/02ccb06/dffbc08/Build/Eigen/Install/include/eigen3/unsupported/Eigen/src/Eigenvalues/ArpackSelfAdjointEigenSolver.h\n",
            "-- Up-to-date: /root/.hunter/_Base/70287b1/02ccb06/dffbc08/Build/Eigen/Install/include/eigen3/unsupported/Eigen/src/Polynomials\n",
            "-- Up-to-date: /root/.hunter/_Base/70287b1/02ccb06/dffbc08/Build/Eigen/Install/include/eigen3/unsupported/Eigen/src/Polynomials/PolynomialSolver.h\n",
            "-- Up-to-date: /root/.hunter/_Base/70287b1/02ccb06/dffbc08/Build/Eigen/Install/include/eigen3/unsupported/Eigen/src/Polynomials/Companion.h\n",
            "-- Up-to-date: /root/.hunter/_Base/70287b1/02ccb06/dffbc08/Build/Eigen/Install/include/eigen3/unsupported/Eigen/src/Polynomials/PolynomialUtils.h\n",
            "-- Up-to-date: /root/.hunter/_Base/70287b1/02ccb06/dffbc08/Build/Eigen/Install/include/eigen3/unsupported/Eigen/src/FFT\n",
            "-- Up-to-date: /root/.hunter/_Base/70287b1/02ccb06/dffbc08/Build/Eigen/Install/include/eigen3/unsupported/Eigen/src/FFT/ei_fftw_impl.h\n",
            "-- Up-to-date: /root/.hunter/_Base/70287b1/02ccb06/dffbc08/Build/Eigen/Install/include/eigen3/unsupported/Eigen/src/FFT/ei_kissfft_impl.h\n",
            "-- Up-to-date: /root/.hunter/_Base/70287b1/02ccb06/dffbc08/Build/Eigen/Install/include/eigen3/unsupported/Eigen/src/NonLinearOptimization\n",
            "-- Up-to-date: /root/.hunter/_Base/70287b1/02ccb06/dffbc08/Build/Eigen/Install/include/eigen3/unsupported/Eigen/src/NonLinearOptimization/dogleg.h\n",
            "-- Up-to-date: /root/.hunter/_Base/70287b1/02ccb06/dffbc08/Build/Eigen/Install/include/eigen3/unsupported/Eigen/src/NonLinearOptimization/chkder.h\n",
            "-- Up-to-date: /root/.hunter/_Base/70287b1/02ccb06/dffbc08/Build/Eigen/Install/include/eigen3/unsupported/Eigen/src/NonLinearOptimization/HybridNonLinearSolver.h\n",
            "-- Up-to-date: /root/.hunter/_Base/70287b1/02ccb06/dffbc08/Build/Eigen/Install/include/eigen3/unsupported/Eigen/src/NonLinearOptimization/rwupdt.h\n",
            "-- Up-to-date: /root/.hunter/_Base/70287b1/02ccb06/dffbc08/Build/Eigen/Install/include/eigen3/unsupported/Eigen/src/NonLinearOptimization/qrsolv.h\n",
            "-- Up-to-date: /root/.hunter/_Base/70287b1/02ccb06/dffbc08/Build/Eigen/Install/include/eigen3/unsupported/Eigen/src/NonLinearOptimization/r1mpyq.h\n",
            "-- Up-to-date: /root/.hunter/_Base/70287b1/02ccb06/dffbc08/Build/Eigen/Install/include/eigen3/unsupported/Eigen/src/NonLinearOptimization/covar.h\n",
            "-- Up-to-date: /root/.hunter/_Base/70287b1/02ccb06/dffbc08/Build/Eigen/Install/include/eigen3/unsupported/Eigen/src/NonLinearOptimization/lmpar.h\n",
            "-- Up-to-date: /root/.hunter/_Base/70287b1/02ccb06/dffbc08/Build/Eigen/Install/include/eigen3/unsupported/Eigen/src/NonLinearOptimization/fdjac1.h\n",
            "-- Up-to-date: /root/.hunter/_Base/70287b1/02ccb06/dffbc08/Build/Eigen/Install/include/eigen3/unsupported/Eigen/src/NonLinearOptimization/LevenbergMarquardt.h\n",
            "-- Up-to-date: /root/.hunter/_Base/70287b1/02ccb06/dffbc08/Build/Eigen/Install/include/eigen3/unsupported/Eigen/src/NonLinearOptimization/r1updt.h\n",
            "-- Up-to-date: /root/.hunter/_Base/70287b1/02ccb06/dffbc08/Build/Eigen/Install/include/eigen3/unsupported/Eigen/src/EulerAngles\n",
            "-- Up-to-date: /root/.hunter/_Base/70287b1/02ccb06/dffbc08/Build/Eigen/Install/include/eigen3/unsupported/Eigen/src/EulerAngles/EulerSystem.h\n",
            "-- Up-to-date: /root/.hunter/_Base/70287b1/02ccb06/dffbc08/Build/Eigen/Install/include/eigen3/unsupported/Eigen/src/EulerAngles/EulerAngles.h\n",
            "-- Up-to-date: /root/.hunter/_Base/70287b1/02ccb06/dffbc08/Build/Eigen/Install/include/eigen3/unsupported/Eigen/src/NumericalDiff\n",
            "-- Up-to-date: /root/.hunter/_Base/70287b1/02ccb06/dffbc08/Build/Eigen/Install/include/eigen3/unsupported/Eigen/src/NumericalDiff/NumericalDiff.h\n",
            "-- Up-to-date: /root/.hunter/_Base/70287b1/02ccb06/dffbc08/Build/Eigen/Install/include/eigen3/unsupported/Eigen/src/IterativeSolvers\n",
            "-- Up-to-date: /root/.hunter/_Base/70287b1/02ccb06/dffbc08/Build/Eigen/Install/include/eigen3/unsupported/Eigen/src/IterativeSolvers/Scaling.h\n",
            "-- Up-to-date: /root/.hunter/_Base/70287b1/02ccb06/dffbc08/Build/Eigen/Install/include/eigen3/unsupported/Eigen/src/IterativeSolvers/DGMRES.h\n",
            "-- Up-to-date: /root/.hunter/_Base/70287b1/02ccb06/dffbc08/Build/Eigen/Install/include/eigen3/unsupported/Eigen/src/IterativeSolvers/GMRES.h\n",
            "-- Up-to-date: /root/.hunter/_Base/70287b1/02ccb06/dffbc08/Build/Eigen/Install/include/eigen3/unsupported/Eigen/src/IterativeSolvers/IncompleteLU.h\n",
            "-- Up-to-date: /root/.hunter/_Base/70287b1/02ccb06/dffbc08/Build/Eigen/Install/include/eigen3/unsupported/Eigen/src/IterativeSolvers/ConstrainedConjGrad.h\n",
            "-- Up-to-date: /root/.hunter/_Base/70287b1/02ccb06/dffbc08/Build/Eigen/Install/include/eigen3/unsupported/Eigen/src/IterativeSolvers/IterationController.h\n",
            "-- Up-to-date: /root/.hunter/_Base/70287b1/02ccb06/dffbc08/Build/Eigen/Install/include/eigen3/unsupported/Eigen/src/IterativeSolvers/MINRES.h\n",
            "-- Up-to-date: /root/.hunter/_Base/70287b1/02ccb06/dffbc08/Build/Eigen/Install/include/eigen3/unsupported/Eigen/src/Skyline\n",
            "-- Up-to-date: /root/.hunter/_Base/70287b1/02ccb06/dffbc08/Build/Eigen/Install/include/eigen3/unsupported/Eigen/src/Skyline/SkylineMatrix.h\n",
            "-- Up-to-date: /root/.hunter/_Base/70287b1/02ccb06/dffbc08/Build/Eigen/Install/include/eigen3/unsupported/Eigen/src/Skyline/SkylineStorage.h\n",
            "-- Up-to-date: /root/.hunter/_Base/70287b1/02ccb06/dffbc08/Build/Eigen/Install/include/eigen3/unsupported/Eigen/src/Skyline/SkylineMatrixBase.h\n",
            "-- Up-to-date: /root/.hunter/_Base/70287b1/02ccb06/dffbc08/Build/Eigen/Install/include/eigen3/unsupported/Eigen/src/Skyline/SkylineInplaceLU.h\n",
            "-- Up-to-date: /root/.hunter/_Base/70287b1/02ccb06/dffbc08/Build/Eigen/Install/include/eigen3/unsupported/Eigen/src/Skyline/SkylineUtil.h\n",
            "-- Up-to-date: /root/.hunter/_Base/70287b1/02ccb06/dffbc08/Build/Eigen/Install/include/eigen3/unsupported/Eigen/src/Skyline/SkylineProduct.h\n",
            "-- Up-to-date: /root/.hunter/_Base/70287b1/02ccb06/dffbc08/Build/Eigen/Install/include/eigen3/unsupported/Eigen/src/SpecialFunctions\n",
            "-- Up-to-date: /root/.hunter/_Base/70287b1/02ccb06/dffbc08/Build/Eigen/Install/include/eigen3/unsupported/Eigen/src/SpecialFunctions/SpecialFunctionsHalf.h\n",
            "-- Up-to-date: /root/.hunter/_Base/70287b1/02ccb06/dffbc08/Build/Eigen/Install/include/eigen3/unsupported/Eigen/src/SpecialFunctions/arch\n",
            "-- Up-to-date: /root/.hunter/_Base/70287b1/02ccb06/dffbc08/Build/Eigen/Install/include/eigen3/unsupported/Eigen/src/SpecialFunctions/arch/CUDA\n",
            "-- Up-to-date: /root/.hunter/_Base/70287b1/02ccb06/dffbc08/Build/Eigen/Install/include/eigen3/unsupported/Eigen/src/SpecialFunctions/arch/CUDA/CudaSpecialFunctions.h\n",
            "-- Up-to-date: /root/.hunter/_Base/70287b1/02ccb06/dffbc08/Build/Eigen/Install/include/eigen3/unsupported/Eigen/src/SpecialFunctions/SpecialFunctionsFunctors.h\n",
            "-- Up-to-date: /root/.hunter/_Base/70287b1/02ccb06/dffbc08/Build/Eigen/Install/include/eigen3/unsupported/Eigen/src/SpecialFunctions/SpecialFunctionsPacketMath.h\n",
            "-- Up-to-date: /root/.hunter/_Base/70287b1/02ccb06/dffbc08/Build/Eigen/Install/include/eigen3/unsupported/Eigen/src/SpecialFunctions/SpecialFunctionsArrayAPI.h\n",
            "-- Up-to-date: /root/.hunter/_Base/70287b1/02ccb06/dffbc08/Build/Eigen/Install/include/eigen3/unsupported/Eigen/src/SpecialFunctions/SpecialFunctionsImpl.h\n",
            "-- Up-to-date: /root/.hunter/_Base/70287b1/02ccb06/dffbc08/Build/Eigen/Install/include/eigen3/unsupported/Eigen/src/SparseExtra\n",
            "-- Up-to-date: /root/.hunter/_Base/70287b1/02ccb06/dffbc08/Build/Eigen/Install/include/eigen3/unsupported/Eigen/src/SparseExtra/BlockSparseMatrix.h\n",
            "-- Up-to-date: /root/.hunter/_Base/70287b1/02ccb06/dffbc08/Build/Eigen/Install/include/eigen3/unsupported/Eigen/src/SparseExtra/MarketIO.h\n",
            "-- Up-to-date: /root/.hunter/_Base/70287b1/02ccb06/dffbc08/Build/Eigen/Install/include/eigen3/unsupported/Eigen/src/SparseExtra/BlockOfDynamicSparseMatrix.h\n",
            "-- Up-to-date: /root/.hunter/_Base/70287b1/02ccb06/dffbc08/Build/Eigen/Install/include/eigen3/unsupported/Eigen/src/SparseExtra/MatrixMarketIterator.h\n",
            "-- Up-to-date: /root/.hunter/_Base/70287b1/02ccb06/dffbc08/Build/Eigen/Install/include/eigen3/unsupported/Eigen/src/SparseExtra/RandomSetter.h\n",
            "-- Up-to-date: /root/.hunter/_Base/70287b1/02ccb06/dffbc08/Build/Eigen/Install/include/eigen3/unsupported/Eigen/src/SparseExtra/DynamicSparseMatrix.h\n",
            "-- Up-to-date: /root/.hunter/_Base/70287b1/02ccb06/dffbc08/Build/Eigen/Install/include/eigen3/unsupported/Eigen/src/Splines\n",
            "-- Up-to-date: /root/.hunter/_Base/70287b1/02ccb06/dffbc08/Build/Eigen/Install/include/eigen3/unsupported/Eigen/src/Splines/SplineFitting.h\n",
            "-- Up-to-date: /root/.hunter/_Base/70287b1/02ccb06/dffbc08/Build/Eigen/Install/include/eigen3/unsupported/Eigen/src/Splines/SplineFwd.h\n",
            "-- Up-to-date: /root/.hunter/_Base/70287b1/02ccb06/dffbc08/Build/Eigen/Install/include/eigen3/unsupported/Eigen/src/Splines/Spline.h\n",
            "-- Up-to-date: /root/.hunter/_Base/70287b1/02ccb06/dffbc08/Build/Eigen/Install/include/eigen3/unsupported/Eigen/CXX11/Tensor\n",
            "-- Up-to-date: /root/.hunter/_Base/70287b1/02ccb06/dffbc08/Build/Eigen/Install/include/eigen3/unsupported/Eigen/CXX11/TensorSymmetry\n",
            "-- Up-to-date: /root/.hunter/_Base/70287b1/02ccb06/dffbc08/Build/Eigen/Install/include/eigen3/unsupported/Eigen/CXX11/ThreadPool\n",
            "-- Up-to-date: /root/.hunter/_Base/70287b1/02ccb06/dffbc08/Build/Eigen/Install/include/eigen3/unsupported/Eigen/CXX11/src\n",
            "-- Up-to-date: /root/.hunter/_Base/70287b1/02ccb06/dffbc08/Build/Eigen/Install/include/eigen3/unsupported/Eigen/CXX11/src/Tensor\n",
            "-- Up-to-date: /root/.hunter/_Base/70287b1/02ccb06/dffbc08/Build/Eigen/Install/include/eigen3/unsupported/Eigen/CXX11/src/Tensor/TensorMeta.h\n",
            "-- Up-to-date: /root/.hunter/_Base/70287b1/02ccb06/dffbc08/Build/Eigen/Install/include/eigen3/unsupported/Eigen/CXX11/src/Tensor/TensorSyclLeafCount.h\n",
            "-- Up-to-date: /root/.hunter/_Base/70287b1/02ccb06/dffbc08/Build/Eigen/Install/include/eigen3/unsupported/Eigen/CXX11/src/Tensor/TensorConversion.h\n",
            "-- Up-to-date: /root/.hunter/_Base/70287b1/02ccb06/dffbc08/Build/Eigen/Install/include/eigen3/unsupported/Eigen/CXX11/src/Tensor/TensorRandom.h\n",
            "-- Up-to-date: /root/.hunter/_Base/70287b1/02ccb06/dffbc08/Build/Eigen/Install/include/eigen3/unsupported/Eigen/CXX11/src/Tensor/TensorMorphing.h\n",
            "-- Up-to-date: /root/.hunter/_Base/70287b1/02ccb06/dffbc08/Build/Eigen/Install/include/eigen3/unsupported/Eigen/CXX11/src/Tensor/TensorSyclExprConstructor.h\n",
            "-- Up-to-date: /root/.hunter/_Base/70287b1/02ccb06/dffbc08/Build/Eigen/Install/include/eigen3/unsupported/Eigen/CXX11/src/Tensor/TensorIndexList.h\n",
            "-- Up-to-date: /root/.hunter/_Base/70287b1/02ccb06/dffbc08/Build/Eigen/Install/include/eigen3/unsupported/Eigen/CXX11/src/Tensor/TensorStriding.h\n",
            "-- Up-to-date: /root/.hunter/_Base/70287b1/02ccb06/dffbc08/Build/Eigen/Install/include/eigen3/unsupported/Eigen/CXX11/src/Tensor/TensorEvalTo.h\n",
            "-- Up-to-date: /root/.hunter/_Base/70287b1/02ccb06/dffbc08/Build/Eigen/Install/include/eigen3/unsupported/Eigen/CXX11/src/Tensor/TensorCustomOp.h\n",
            "-- Up-to-date: /root/.hunter/_Base/70287b1/02ccb06/dffbc08/Build/Eigen/Install/include/eigen3/unsupported/Eigen/CXX11/src/Tensor/TensorContractionMapper.h\n",
            "-- Up-to-date: /root/.hunter/_Base/70287b1/02ccb06/dffbc08/Build/Eigen/Install/include/eigen3/unsupported/Eigen/CXX11/src/Tensor/TensorBroadcasting.h\n",
            "-- Up-to-date: /root/.hunter/_Base/70287b1/02ccb06/dffbc08/Build/Eigen/Install/include/eigen3/unsupported/Eigen/CXX11/src/Tensor/TensorAssign.h\n",
            "-- Up-to-date: /root/.hunter/_Base/70287b1/02ccb06/dffbc08/Build/Eigen/Install/include/eigen3/unsupported/Eigen/CXX11/src/Tensor/TensorConvolution.h\n",
            "-- Up-to-date: /root/.hunter/_Base/70287b1/02ccb06/dffbc08/Build/Eigen/Install/include/eigen3/unsupported/Eigen/CXX11/src/Tensor/TensorMacros.h\n",
            "-- Up-to-date: /root/.hunter/_Base/70287b1/02ccb06/dffbc08/Build/Eigen/Install/include/eigen3/unsupported/Eigen/CXX11/src/Tensor/TensorPatch.h\n",
            "-- Up-to-date: /root/.hunter/_Base/70287b1/02ccb06/dffbc08/Build/Eigen/Install/include/eigen3/unsupported/Eigen/CXX11/src/Tensor/TensorDevice.h\n",
            "-- Up-to-date: /root/.hunter/_Base/70287b1/02ccb06/dffbc08/Build/Eigen/Install/include/eigen3/unsupported/Eigen/CXX11/src/Tensor/TensorUInt128.h\n",
            "-- Up-to-date: /root/.hunter/_Base/70287b1/02ccb06/dffbc08/Build/Eigen/Install/include/eigen3/unsupported/Eigen/CXX11/src/Tensor/TensorIO.h\n",
            "-- Up-to-date: /root/.hunter/_Base/70287b1/02ccb06/dffbc08/Build/Eigen/Install/include/eigen3/unsupported/Eigen/CXX11/src/Tensor/TensorScan.h\n",
            "-- Up-to-date: /root/.hunter/_Base/70287b1/02ccb06/dffbc08/Build/Eigen/Install/include/eigen3/unsupported/Eigen/CXX11/src/Tensor/TensorIntDiv.h\n",
            "-- Up-to-date: /root/.hunter/_Base/70287b1/02ccb06/dffbc08/Build/Eigen/Install/include/eigen3/unsupported/Eigen/CXX11/src/Tensor/TensorForcedEval.h\n",
            "-- Up-to-date: /root/.hunter/_Base/70287b1/02ccb06/dffbc08/Build/Eigen/Install/include/eigen3/unsupported/Eigen/CXX11/src/Tensor/TensorConcatenation.h\n",
            "-- Up-to-date: /root/.hunter/_Base/70287b1/02ccb06/dffbc08/Build/Eigen/Install/include/eigen3/unsupported/Eigen/CXX11/src/Tensor/TensorArgMax.h\n",
            "-- Up-to-date: /root/.hunter/_Base/70287b1/02ccb06/dffbc08/Build/Eigen/Install/include/eigen3/unsupported/Eigen/CXX11/src/Tensor/TensorCostModel.h\n",
            "-- Up-to-date: /root/.hunter/_Base/70287b1/02ccb06/dffbc08/Build/Eigen/Install/include/eigen3/unsupported/Eigen/CXX11/src/Tensor/TensorChipping.h\n",
            "-- Up-to-date: /root/.hunter/_Base/70287b1/02ccb06/dffbc08/Build/Eigen/Install/include/eigen3/unsupported/Eigen/CXX11/src/Tensor/TensorPadding.h\n",
            "-- Up-to-date: /root/.hunter/_Base/70287b1/02ccb06/dffbc08/Build/Eigen/Install/include/eigen3/unsupported/Eigen/CXX11/src/Tensor/TensorShuffling.h\n",
            "-- Up-to-date: /root/.hunter/_Base/70287b1/02ccb06/dffbc08/Build/Eigen/Install/include/eigen3/unsupported/Eigen/CXX11/src/Tensor/TensorGlobalFunctions.h\n",
            "-- Up-to-date: /root/.hunter/_Base/70287b1/02ccb06/dffbc08/Build/Eigen/Install/include/eigen3/unsupported/Eigen/CXX11/src/Tensor/TensorExpr.h\n",
            "-- Up-to-date: /root/.hunter/_Base/70287b1/02ccb06/dffbc08/Build/Eigen/Install/include/eigen3/unsupported/Eigen/CXX11/src/Tensor/TensorFunctors.h\n",
            "-- Up-to-date: /root/.hunter/_Base/70287b1/02ccb06/dffbc08/Build/Eigen/Install/include/eigen3/unsupported/Eigen/CXX11/src/Tensor/TensorDimensionList.h\n",
            "-- Up-to-date: /root/.hunter/_Base/70287b1/02ccb06/dffbc08/Build/Eigen/Install/include/eigen3/unsupported/Eigen/CXX11/src/Tensor/TensorFFT.h\n",
            "-- Up-to-date: /root/.hunter/_Base/70287b1/02ccb06/dffbc08/Build/Eigen/Install/include/eigen3/unsupported/Eigen/CXX11/src/Tensor/TensorReductionSycl.h\n",
            "-- Up-to-date: /root/.hunter/_Base/70287b1/02ccb06/dffbc08/Build/Eigen/Install/include/eigen3/unsupported/Eigen/CXX11/src/Tensor/TensorSyclExtractFunctors.h\n",
            "-- Up-to-date: /root/.hunter/_Base/70287b1/02ccb06/dffbc08/Build/Eigen/Install/include/eigen3/unsupported/Eigen/CXX11/src/Tensor/TensorSyclRun.h\n",
            "-- Up-to-date: /root/.hunter/_Base/70287b1/02ccb06/dffbc08/Build/Eigen/Install/include/eigen3/unsupported/Eigen/CXX11/src/Tensor/TensorVolumePatch.h\n",
            "-- Up-to-date: /root/.hunter/_Base/70287b1/02ccb06/dffbc08/Build/Eigen/Install/include/eigen3/unsupported/Eigen/CXX11/src/Tensor/TensorDeviceCuda.h\n",
            "-- Up-to-date: /root/.hunter/_Base/70287b1/02ccb06/dffbc08/Build/Eigen/Install/include/eigen3/unsupported/Eigen/CXX11/src/Tensor/TensorContractionCuda.h\n",
            "-- Up-to-date: /root/.hunter/_Base/70287b1/02ccb06/dffbc08/Build/Eigen/Install/include/eigen3/unsupported/Eigen/CXX11/src/Tensor/TensorReduction.h\n",
            "-- Up-to-date: /root/.hunter/_Base/70287b1/02ccb06/dffbc08/Build/Eigen/Install/include/eigen3/unsupported/Eigen/CXX11/src/Tensor/TensorContractionThreadPool.h\n",
            "-- Up-to-date: /root/.hunter/_Base/70287b1/02ccb06/dffbc08/Build/Eigen/Install/include/eigen3/unsupported/Eigen/CXX11/src/Tensor/TensorMap.h\n",
            "-- Up-to-date: /root/.hunter/_Base/70287b1/02ccb06/dffbc08/Build/Eigen/Install/include/eigen3/unsupported/Eigen/CXX11/src/Tensor/TensorDimensions.h\n",
            "-- Up-to-date: /root/.hunter/_Base/70287b1/02ccb06/dffbc08/Build/Eigen/Install/include/eigen3/unsupported/Eigen/CXX11/src/Tensor/TensorSyclConvertToDeviceExpression.h\n",
            "-- Up-to-date: /root/.hunter/_Base/70287b1/02ccb06/dffbc08/Build/Eigen/Install/include/eigen3/unsupported/Eigen/CXX11/src/Tensor/TensorForwardDeclarations.h\n",
            "-- Up-to-date: /root/.hunter/_Base/70287b1/02ccb06/dffbc08/Build/Eigen/Install/include/eigen3/unsupported/Eigen/CXX11/src/Tensor/TensorFixedSize.h\n",
            "-- Up-to-date: /root/.hunter/_Base/70287b1/02ccb06/dffbc08/Build/Eigen/Install/include/eigen3/unsupported/Eigen/CXX11/src/Tensor/TensorDeviceDefault.h\n",
            "-- Up-to-date: /root/.hunter/_Base/70287b1/02ccb06/dffbc08/Build/Eigen/Install/include/eigen3/unsupported/Eigen/CXX11/src/Tensor/TensorRef.h\n",
            "-- Up-to-date: /root/.hunter/_Base/70287b1/02ccb06/dffbc08/Build/Eigen/Install/include/eigen3/unsupported/Eigen/CXX11/src/Tensor/Tensor.h\n",
            "-- Up-to-date: /root/.hunter/_Base/70287b1/02ccb06/dffbc08/Build/Eigen/Install/include/eigen3/unsupported/Eigen/CXX11/src/Tensor/TensorBase.h\n",
            "-- Up-to-date: /root/.hunter/_Base/70287b1/02ccb06/dffbc08/Build/Eigen/Install/include/eigen3/unsupported/Eigen/CXX11/src/Tensor/TensorSyclExtractAccessor.h\n",
            "-- Up-to-date: /root/.hunter/_Base/70287b1/02ccb06/dffbc08/Build/Eigen/Install/include/eigen3/unsupported/Eigen/CXX11/src/Tensor/TensorInitializer.h\n",
            "-- Up-to-date: /root/.hunter/_Base/70287b1/02ccb06/dffbc08/Build/Eigen/Install/include/eigen3/unsupported/Eigen/CXX11/src/Tensor/TensorInflation.h\n",
            "-- Up-to-date: /root/.hunter/_Base/70287b1/02ccb06/dffbc08/Build/Eigen/Install/include/eigen3/unsupported/Eigen/CXX11/src/Tensor/TensorReductionCuda.h\n",
            "-- Up-to-date: /root/.hunter/_Base/70287b1/02ccb06/dffbc08/Build/Eigen/Install/include/eigen3/unsupported/Eigen/CXX11/src/Tensor/TensorContractionBlocking.h\n",
            "-- Up-to-date: /root/.hunter/_Base/70287b1/02ccb06/dffbc08/Build/Eigen/Install/include/eigen3/unsupported/Eigen/CXX11/src/Tensor/TensorGenerator.h\n",
            "-- Up-to-date: /root/.hunter/_Base/70287b1/02ccb06/dffbc08/Build/Eigen/Install/include/eigen3/unsupported/Eigen/CXX11/src/Tensor/TensorContraction.h\n",
            "-- Up-to-date: /root/.hunter/_Base/70287b1/02ccb06/dffbc08/Build/Eigen/Install/include/eigen3/unsupported/Eigen/CXX11/src/Tensor/TensorTraits.h\n",
            "-- Up-to-date: /root/.hunter/_Base/70287b1/02ccb06/dffbc08/Build/Eigen/Install/include/eigen3/unsupported/Eigen/CXX11/src/Tensor/TensorDeviceSycl.h\n",
            "-- Up-to-date: /root/.hunter/_Base/70287b1/02ccb06/dffbc08/Build/Eigen/Install/include/eigen3/unsupported/Eigen/CXX11/src/Tensor/TensorSycl.h\n",
            "-- Up-to-date: /root/.hunter/_Base/70287b1/02ccb06/dffbc08/Build/Eigen/Install/include/eigen3/unsupported/Eigen/CXX11/src/Tensor/TensorStorage.h\n",
            "-- Up-to-date: /root/.hunter/_Base/70287b1/02ccb06/dffbc08/Build/Eigen/Install/include/eigen3/unsupported/Eigen/CXX11/src/Tensor/TensorImagePatch.h\n",
            "-- Up-to-date: /root/.hunter/_Base/70287b1/02ccb06/dffbc08/Build/Eigen/Install/include/eigen3/unsupported/Eigen/CXX11/src/Tensor/TensorReverse.h\n",
            "-- Up-to-date: /root/.hunter/_Base/70287b1/02ccb06/dffbc08/Build/Eigen/Install/include/eigen3/unsupported/Eigen/CXX11/src/Tensor/TensorLayoutSwap.h\n",
            "-- Up-to-date: /root/.hunter/_Base/70287b1/02ccb06/dffbc08/Build/Eigen/Install/include/eigen3/unsupported/Eigen/CXX11/src/Tensor/TensorSyclPlaceHolderExpr.h\n",
            "-- Up-to-date: /root/.hunter/_Base/70287b1/02ccb06/dffbc08/Build/Eigen/Install/include/eigen3/unsupported/Eigen/CXX11/src/Tensor/TensorEvaluator.h\n",
            "-- Up-to-date: /root/.hunter/_Base/70287b1/02ccb06/dffbc08/Build/Eigen/Install/include/eigen3/unsupported/Eigen/CXX11/src/Tensor/TensorSyclTuple.h\n",
            "-- Up-to-date: /root/.hunter/_Base/70287b1/02ccb06/dffbc08/Build/Eigen/Install/include/eigen3/unsupported/Eigen/CXX11/src/Tensor/TensorDeviceThreadPool.h\n",
            "-- Up-to-date: /root/.hunter/_Base/70287b1/02ccb06/dffbc08/Build/Eigen/Install/include/eigen3/unsupported/Eigen/CXX11/src/Tensor/TensorExecutor.h\n",
            "-- Up-to-date: /root/.hunter/_Base/70287b1/02ccb06/dffbc08/Build/Eigen/Install/include/eigen3/unsupported/Eigen/CXX11/src/ThreadPool\n",
            "-- Up-to-date: /root/.hunter/_Base/70287b1/02ccb06/dffbc08/Build/Eigen/Install/include/eigen3/unsupported/Eigen/CXX11/src/ThreadPool/RunQueue.h\n",
            "-- Up-to-date: /root/.hunter/_Base/70287b1/02ccb06/dffbc08/Build/Eigen/Install/include/eigen3/unsupported/Eigen/CXX11/src/ThreadPool/NonBlockingThreadPool.h\n",
            "-- Up-to-date: /root/.hunter/_Base/70287b1/02ccb06/dffbc08/Build/Eigen/Install/include/eigen3/unsupported/Eigen/CXX11/src/ThreadPool/ThreadLocal.h\n",
            "-- Up-to-date: /root/.hunter/_Base/70287b1/02ccb06/dffbc08/Build/Eigen/Install/include/eigen3/unsupported/Eigen/CXX11/src/ThreadPool/EventCount.h\n",
            "-- Up-to-date: /root/.hunter/_Base/70287b1/02ccb06/dffbc08/Build/Eigen/Install/include/eigen3/unsupported/Eigen/CXX11/src/ThreadPool/ThreadEnvironment.h\n",
            "-- Up-to-date: /root/.hunter/_Base/70287b1/02ccb06/dffbc08/Build/Eigen/Install/include/eigen3/unsupported/Eigen/CXX11/src/ThreadPool/SimpleThreadPool.h\n",
            "-- Up-to-date: /root/.hunter/_Base/70287b1/02ccb06/dffbc08/Build/Eigen/Install/include/eigen3/unsupported/Eigen/CXX11/src/ThreadPool/ThreadPoolInterface.h\n",
            "-- Up-to-date: /root/.hunter/_Base/70287b1/02ccb06/dffbc08/Build/Eigen/Install/include/eigen3/unsupported/Eigen/CXX11/src/ThreadPool/ThreadYield.h\n",
            "-- Up-to-date: /root/.hunter/_Base/70287b1/02ccb06/dffbc08/Build/Eigen/Install/include/eigen3/unsupported/Eigen/CXX11/src/util\n",
            "-- Up-to-date: /root/.hunter/_Base/70287b1/02ccb06/dffbc08/Build/Eigen/Install/include/eigen3/unsupported/Eigen/CXX11/src/util/CXX11Meta.h\n",
            "-- Up-to-date: /root/.hunter/_Base/70287b1/02ccb06/dffbc08/Build/Eigen/Install/include/eigen3/unsupported/Eigen/CXX11/src/util/EmulateCXX11Meta.h\n",
            "-- Up-to-date: /root/.hunter/_Base/70287b1/02ccb06/dffbc08/Build/Eigen/Install/include/eigen3/unsupported/Eigen/CXX11/src/util/EmulateArray.h\n",
            "-- Up-to-date: /root/.hunter/_Base/70287b1/02ccb06/dffbc08/Build/Eigen/Install/include/eigen3/unsupported/Eigen/CXX11/src/util/CXX11Workarounds.h\n",
            "-- Up-to-date: /root/.hunter/_Base/70287b1/02ccb06/dffbc08/Build/Eigen/Install/include/eigen3/unsupported/Eigen/CXX11/src/util/MaxSizeVector.h\n",
            "-- Up-to-date: /root/.hunter/_Base/70287b1/02ccb06/dffbc08/Build/Eigen/Install/include/eigen3/unsupported/Eigen/CXX11/src/TensorSymmetry\n",
            "-- Up-to-date: /root/.hunter/_Base/70287b1/02ccb06/dffbc08/Build/Eigen/Install/include/eigen3/unsupported/Eigen/CXX11/src/TensorSymmetry/Symmetry.h\n",
            "-- Up-to-date: /root/.hunter/_Base/70287b1/02ccb06/dffbc08/Build/Eigen/Install/include/eigen3/unsupported/Eigen/CXX11/src/TensorSymmetry/StaticSymmetry.h\n",
            "-- Up-to-date: /root/.hunter/_Base/70287b1/02ccb06/dffbc08/Build/Eigen/Install/include/eigen3/unsupported/Eigen/CXX11/src/TensorSymmetry/util\n",
            "-- Up-to-date: /root/.hunter/_Base/70287b1/02ccb06/dffbc08/Build/Eigen/Install/include/eigen3/unsupported/Eigen/CXX11/src/TensorSymmetry/util/TemplateGroupTheory.h\n",
            "-- Up-to-date: /root/.hunter/_Base/70287b1/02ccb06/dffbc08/Build/Eigen/Install/include/eigen3/unsupported/Eigen/CXX11/src/TensorSymmetry/DynamicSymmetry.h\n",
            "loading initial cache file /root/.hunter/_Base/70287b1/02ccb06/dffbc08/Build/Eigen/args.cmake\n",
            "[100%] Completed 'Eigen-Debug'\n",
            "[100%] Built target Eigen-Debug\n",
            "-- [hunter] Build step successful (dir: /root/.hunter/_Base/70287b1/02ccb06/dffbc08/Build/Eigen)\n",
            "-- [hunter] Cache saved: /root/.hunter/_Base/Cache/raw/76b6522833d7d5ed01c89e5e96027c7dfb0b1be9.tar.bz2\n",
            "-- [hunter] FMT_ROOT: /root/.hunter/_Base/70287b1/02ccb06/dffbc08/Install (ver.: 4.1.0)\n",
            "-- [hunter] Building fmt\n",
            "loading initial cache file /root/.hunter/_Base/70287b1/02ccb06/dffbc08/cache.cmake\n",
            "loading initial cache file /root/.hunter/_Base/70287b1/02ccb06/dffbc08/Build/fmt/args.cmake\n",
            "-- The C compiler identification is GNU 7.5.0\n",
            "-- The CXX compiler identification is GNU 7.5.0\n",
            "-- Check for working C compiler: /usr/bin/cc\n",
            "-- Check for working C compiler: /usr/bin/cc -- works\n",
            "-- Detecting C compile features\n",
            "-- Detecting C compile features - done\n",
            "-- Check for working CXX compiler: /usr/bin/c++\n",
            "-- Check for working CXX compiler: /usr/bin/c++ -- works\n",
            "-- Detecting CXX compile features\n",
            "-- Detecting CXX compile features - done\n",
            "-- Configuring done\n",
            "-- Generating done\n",
            "-- Build files have been written to: /root/.hunter/_Base/70287b1/02ccb06/dffbc08/Build/fmt/Build\n",
            "Scanning dependencies of target fmt-Release\n",
            "[  6%] Creating directories for 'fmt-Release'\n",
            "[ 12%] Performing download step (download, verify and extract) for 'fmt-Release'\n",
            "-- Downloading...\n",
            "   dst='/root/.hunter/_Base/Download/fmt/4.1.0/9df8f7a/4.1.0.tar.gz'\n",
            "   timeout='none'\n",
            "-- Using src='https://github.com/fmtlib/fmt/archive/4.1.0.tar.gz'\n",
            "-- [download 100% complete]\n",
            "-- verifying file...\n",
            "       file='/root/.hunter/_Base/Download/fmt/4.1.0/9df8f7a/4.1.0.tar.gz'\n",
            "-- Downloading... done\n",
            "-- extracting...\n",
            "     src='/root/.hunter/_Base/Download/fmt/4.1.0/9df8f7a/4.1.0.tar.gz'\n",
            "     dst='/root/.hunter/_Base/70287b1/02ccb06/dffbc08/Build/fmt/Source'\n",
            "-- extracting... [tar xfz]\n",
            "-- extracting... [analysis]\n",
            "-- extracting... [rename]\n",
            "-- extracting... [clean up]\n",
            "-- extracting... done\n",
            "[ 18%] No patch step for 'fmt-Release'\n",
            "[ 25%] No update step for 'fmt-Release'\n",
            "[ 31%] Performing configure step for 'fmt-Release'\n",
            "loading initial cache file /root/.hunter/_Base/70287b1/02ccb06/dffbc08/cache.cmake\n",
            "loading initial cache file /root/.hunter/_Base/70287b1/02ccb06/dffbc08/Build/fmt/args.cmake\n",
            "-- CMake version: 3.12.0\n",
            "CMake Deprecation Warning at CMakeLists.txt:6 (cmake_policy):\n",
            "  The OLD behavior for policy CMP0048 will be removed from a future version\n",
            "  of CMake.\n",
            "\n",
            "  The cmake-policies(7) manual explains that the OLD behaviors of all\n",
            "  policies are deprecated and that a policy should be set to OLD only under\n",
            "  specific short-term circumstances.  Projects should be ported to the NEW\n",
            "  behavior and not rely on setting a policy to OLD.\n",
            "\n",
            "\n",
            "-- The C compiler identification is GNU 7.5.0\n",
            "-- The CXX compiler identification is GNU 7.5.0\n",
            "-- Check for working C compiler: /usr/bin/cc\n",
            "-- Check for working C compiler: /usr/bin/cc -- works\n",
            "-- Detecting C compile features\n",
            "-- Detecting C compile features - done\n",
            "-- Check for working CXX compiler: /usr/bin/c++\n",
            "-- Check for working CXX compiler: /usr/bin/c++ -- works\n",
            "-- Detecting CXX compile features\n",
            "-- Detecting CXX compile features - done\n",
            "-- Version: 4.1.0\n",
            "-- Build type: Release\n",
            "-- Performing Test HAVE_STD_CPP11_FLAG\n",
            "-- Performing Test HAVE_STD_CPP11_FLAG - Success\n",
            "-- Performing Test FMT_CPP11_CMATH\n",
            "-- Performing Test FMT_CPP11_CMATH - Success\n",
            "-- Performing Test FMT_CPP11_UNISTD_H\n",
            "-- Performing Test FMT_CPP11_UNISTD_H - Success\n",
            "-- Performing Test FMT_CPP11_SNPRINTF\n",
            "-- Performing Test FMT_CPP11_SNPRINTF - Success\n",
            "-- Performing Test SUPPORTS_VARIADIC_TEMPLATES\n",
            "-- Performing Test SUPPORTS_VARIADIC_TEMPLATES - Success\n",
            "-- Performing Test SUPPORTS_INITIALIZER_LIST\n",
            "-- Performing Test SUPPORTS_INITIALIZER_LIST - Success\n",
            "-- Performing Test SUPPORTS_ENUM_BASE\n",
            "-- Performing Test SUPPORTS_ENUM_BASE - Success\n",
            "-- Performing Test SUPPORTS_TYPE_TRAITS\n",
            "-- Performing Test SUPPORTS_TYPE_TRAITS - Success\n",
            "-- Performing Test SUPPORTS_USER_DEFINED_LITERALS\n",
            "-- Performing Test SUPPORTS_USER_DEFINED_LITERALS - Success\n",
            "-- Looking for open\n",
            "-- Looking for open - found\n",
            "-- Configuring done\n",
            "-- Generating done\n",
            "-- Build files have been written to: /root/.hunter/_Base/70287b1/02ccb06/dffbc08/Build/fmt/Build/fmt-Release-prefix/src/fmt-Release-build\n",
            "[ 37%] Performing build step for 'fmt-Release'\n",
            "Scanning dependencies of target fmt\n",
            "[ 20%] Building CXX object fmt/CMakeFiles/fmt.dir/posix.cc.o\n",
            "[ 40%] Building CXX object fmt/CMakeFiles/fmt.dir/format.cc.o\n",
            "[ 60%] Building CXX object fmt/CMakeFiles/fmt.dir/ostream.cc.o\n",
            "[ 80%] Building CXX object fmt/CMakeFiles/fmt.dir/printf.cc.o\n",
            "[100%] Linking CXX shared library libfmt.so\n",
            "[100%] Built target fmt\n",
            "[ 43%] Performing install step for 'fmt-Release'\n",
            "[100%] Built target fmt\n",
            "Install the project...\n",
            "-- Install configuration: \"Release\"\n",
            "-- Installing: /root/.hunter/_Base/70287b1/02ccb06/dffbc08/Build/fmt/Install/lib/cmake/fmt/fmt-config.cmake\n",
            "-- Installing: /root/.hunter/_Base/70287b1/02ccb06/dffbc08/Build/fmt/Install/lib/cmake/fmt/fmt-config-version.cmake\n",
            "-- Installing: /root/.hunter/_Base/70287b1/02ccb06/dffbc08/Build/fmt/Install/lib/cmake/fmt/fmt-targets.cmake\n",
            "-- Installing: /root/.hunter/_Base/70287b1/02ccb06/dffbc08/Build/fmt/Install/lib/cmake/fmt/fmt-targets-release.cmake\n",
            "-- Installing: /root/.hunter/_Base/70287b1/02ccb06/dffbc08/Build/fmt/Install/lib/libfmt.so.4.1.0\n",
            "-- Installing: /root/.hunter/_Base/70287b1/02ccb06/dffbc08/Build/fmt/Install/lib/libfmt.so.4\n",
            "-- Installing: /root/.hunter/_Base/70287b1/02ccb06/dffbc08/Build/fmt/Install/lib/libfmt.so\n",
            "-- Installing: /root/.hunter/_Base/70287b1/02ccb06/dffbc08/Build/fmt/Install/include/fmt/container.h\n",
            "-- Installing: /root/.hunter/_Base/70287b1/02ccb06/dffbc08/Build/fmt/Install/include/fmt/format.h\n",
            "-- Installing: /root/.hunter/_Base/70287b1/02ccb06/dffbc08/Build/fmt/Install/include/fmt/format.cc\n",
            "-- Installing: /root/.hunter/_Base/70287b1/02ccb06/dffbc08/Build/fmt/Install/include/fmt/ostream.h\n",
            "-- Installing: /root/.hunter/_Base/70287b1/02ccb06/dffbc08/Build/fmt/Install/include/fmt/ostream.cc\n",
            "-- Installing: /root/.hunter/_Base/70287b1/02ccb06/dffbc08/Build/fmt/Install/include/fmt/printf.h\n",
            "-- Installing: /root/.hunter/_Base/70287b1/02ccb06/dffbc08/Build/fmt/Install/include/fmt/printf.cc\n",
            "-- Installing: /root/.hunter/_Base/70287b1/02ccb06/dffbc08/Build/fmt/Install/include/fmt/string.h\n",
            "-- Installing: /root/.hunter/_Base/70287b1/02ccb06/dffbc08/Build/fmt/Install/include/fmt/time.h\n",
            "-- Installing: /root/.hunter/_Base/70287b1/02ccb06/dffbc08/Build/fmt/Install/include/fmt/posix.h\n",
            "loading initial cache file /root/.hunter/_Base/70287b1/02ccb06/dffbc08/Build/fmt/args.cmake\n",
            "[ 50%] Completed 'fmt-Release'\n",
            "[ 50%] Built target fmt-Release\n",
            "Scanning dependencies of target fmt-Debug\n",
            "[ 56%] Creating directories for 'fmt-Debug'\n",
            "[ 62%] Performing download step (download, verify and extract) for 'fmt-Debug'\n",
            "-- verifying file...\n",
            "       file='/root/.hunter/_Base/Download/fmt/4.1.0/9df8f7a/4.1.0.tar.gz'\n",
            "-- File already exists and hash match (skip download):\n",
            "  file='/root/.hunter/_Base/Download/fmt/4.1.0/9df8f7a/4.1.0.tar.gz'\n",
            "  SHA1='9df8f7a70c1b45ffe308e8e3f4f92b31cb927a7a'\n",
            "-- extracting...\n",
            "     src='/root/.hunter/_Base/Download/fmt/4.1.0/9df8f7a/4.1.0.tar.gz'\n",
            "     dst='/root/.hunter/_Base/70287b1/02ccb06/dffbc08/Build/fmt/Source'\n",
            "-- extracting... [tar xfz]\n",
            "-- extracting... [analysis]\n",
            "-- extracting... [rename]\n",
            "-- extracting... [clean up]\n",
            "-- extracting... done\n",
            "[ 68%] No patch step for 'fmt-Debug'\n",
            "[ 75%] No update step for 'fmt-Debug'\n",
            "[ 81%] Performing configure step for 'fmt-Debug'\n",
            "loading initial cache file /root/.hunter/_Base/70287b1/02ccb06/dffbc08/cache.cmake\n",
            "loading initial cache file /root/.hunter/_Base/70287b1/02ccb06/dffbc08/Build/fmt/args.cmake\n",
            "-- CMake version: 3.12.0\n",
            "CMake Deprecation Warning at CMakeLists.txt:6 (cmake_policy):\n",
            "  The OLD behavior for policy CMP0048 will be removed from a future version\n",
            "  of CMake.\n",
            "\n",
            "  The cmake-policies(7) manual explains that the OLD behaviors of all\n",
            "  policies are deprecated and that a policy should be set to OLD only under\n",
            "  specific short-term circumstances.  Projects should be ported to the NEW\n",
            "  behavior and not rely on setting a policy to OLD.\n",
            "\n",
            "\n",
            "-- The C compiler identification is GNU 7.5.0\n",
            "-- The CXX compiler identification is GNU 7.5.0\n",
            "-- Check for working C compiler: /usr/bin/cc\n",
            "-- Check for working C compiler: /usr/bin/cc -- works\n",
            "-- Detecting C compile features\n",
            "-- Detecting C compile features - done\n",
            "-- Check for working CXX compiler: /usr/bin/c++\n",
            "-- Check for working CXX compiler: /usr/bin/c++ -- works\n",
            "-- Detecting CXX compile features\n",
            "-- Detecting CXX compile features - done\n",
            "-- Version: 4.1.0\n",
            "-- Build type: Debug\n",
            "-- Performing Test HAVE_STD_CPP11_FLAG\n",
            "-- Performing Test HAVE_STD_CPP11_FLAG - Success\n",
            "-- Performing Test FMT_CPP11_CMATH\n",
            "-- Performing Test FMT_CPP11_CMATH - Success\n",
            "-- Performing Test FMT_CPP11_UNISTD_H\n",
            "-- Performing Test FMT_CPP11_UNISTD_H - Success\n",
            "-- Performing Test FMT_CPP11_SNPRINTF\n",
            "-- Performing Test FMT_CPP11_SNPRINTF - Success\n",
            "-- Performing Test SUPPORTS_VARIADIC_TEMPLATES\n",
            "-- Performing Test SUPPORTS_VARIADIC_TEMPLATES - Success\n",
            "-- Performing Test SUPPORTS_INITIALIZER_LIST\n",
            "-- Performing Test SUPPORTS_INITIALIZER_LIST - Success\n",
            "-- Performing Test SUPPORTS_ENUM_BASE\n",
            "-- Performing Test SUPPORTS_ENUM_BASE - Success\n",
            "-- Performing Test SUPPORTS_TYPE_TRAITS\n",
            "-- Performing Test SUPPORTS_TYPE_TRAITS - Success\n",
            "-- Performing Test SUPPORTS_USER_DEFINED_LITERALS\n",
            "-- Performing Test SUPPORTS_USER_DEFINED_LITERALS - Success\n",
            "-- Looking for open\n",
            "-- Looking for open - found\n",
            "-- Configuring done\n",
            "-- Generating done\n",
            "-- Build files have been written to: /root/.hunter/_Base/70287b1/02ccb06/dffbc08/Build/fmt/Build/fmt-Debug-prefix/src/fmt-Debug-build\n",
            "[ 87%] Performing build step for 'fmt-Debug'\n",
            "Scanning dependencies of target fmt\n",
            "[ 20%] Building CXX object fmt/CMakeFiles/fmt.dir/posix.cc.o\n",
            "[ 40%] Building CXX object fmt/CMakeFiles/fmt.dir/format.cc.o\n",
            "[ 60%] Building CXX object fmt/CMakeFiles/fmt.dir/ostream.cc.o\n",
            "[ 80%] Building CXX object fmt/CMakeFiles/fmt.dir/printf.cc.o\n",
            "[100%] Linking CXX shared library libfmt_debug.so\n",
            "[100%] Built target fmt\n",
            "[ 93%] Performing install step for 'fmt-Debug'\n",
            "[100%] Built target fmt\n",
            "Install the project...\n",
            "-- Install configuration: \"Debug\"\n",
            "-- Installing: /root/.hunter/_Base/70287b1/02ccb06/dffbc08/Build/fmt/Install/lib/cmake/fmt/fmt-config.cmake\n",
            "-- Installing: /root/.hunter/_Base/70287b1/02ccb06/dffbc08/Build/fmt/Install/lib/cmake/fmt/fmt-config-version.cmake\n",
            "-- Installing: /root/.hunter/_Base/70287b1/02ccb06/dffbc08/Build/fmt/Install/lib/cmake/fmt/fmt-targets.cmake\n",
            "-- Installing: /root/.hunter/_Base/70287b1/02ccb06/dffbc08/Build/fmt/Install/lib/cmake/fmt/fmt-targets-debug.cmake\n",
            "-- Installing: /root/.hunter/_Base/70287b1/02ccb06/dffbc08/Build/fmt/Install/lib/libfmt_debug.so.4.1.0\n",
            "-- Installing: /root/.hunter/_Base/70287b1/02ccb06/dffbc08/Build/fmt/Install/lib/libfmt_debug.so.4\n",
            "-- Installing: /root/.hunter/_Base/70287b1/02ccb06/dffbc08/Build/fmt/Install/lib/libfmt_debug.so\n",
            "-- Up-to-date: /root/.hunter/_Base/70287b1/02ccb06/dffbc08/Build/fmt/Install/include/fmt/container.h\n",
            "-- Up-to-date: /root/.hunter/_Base/70287b1/02ccb06/dffbc08/Build/fmt/Install/include/fmt/format.h\n",
            "-- Up-to-date: /root/.hunter/_Base/70287b1/02ccb06/dffbc08/Build/fmt/Install/include/fmt/format.cc\n",
            "-- Up-to-date: /root/.hunter/_Base/70287b1/02ccb06/dffbc08/Build/fmt/Install/include/fmt/ostream.h\n",
            "-- Up-to-date: /root/.hunter/_Base/70287b1/02ccb06/dffbc08/Build/fmt/Install/include/fmt/ostream.cc\n",
            "-- Up-to-date: /root/.hunter/_Base/70287b1/02ccb06/dffbc08/Build/fmt/Install/include/fmt/printf.h\n",
            "-- Up-to-date: /root/.hunter/_Base/70287b1/02ccb06/dffbc08/Build/fmt/Install/include/fmt/printf.cc\n",
            "-- Up-to-date: /root/.hunter/_Base/70287b1/02ccb06/dffbc08/Build/fmt/Install/include/fmt/string.h\n",
            "-- Up-to-date: /root/.hunter/_Base/70287b1/02ccb06/dffbc08/Build/fmt/Install/include/fmt/time.h\n",
            "-- Up-to-date: /root/.hunter/_Base/70287b1/02ccb06/dffbc08/Build/fmt/Install/include/fmt/posix.h\n",
            "loading initial cache file /root/.hunter/_Base/70287b1/02ccb06/dffbc08/Build/fmt/args.cmake\n",
            "[100%] Completed 'fmt-Debug'\n",
            "[100%] Built target fmt-Debug\n",
            "-- [hunter] Build step successful (dir: /root/.hunter/_Base/70287b1/02ccb06/dffbc08/Build/fmt)\n",
            "-- [hunter] Cache saved: /root/.hunter/_Base/Cache/raw/a830f929b9c25971a9fd22558c8955e7a897cf47.tar.bz2\n",
            "-- [hunter] GTEST_ROOT: /root/.hunter/_Base/70287b1/02ccb06/dffbc08/Install (ver.: 1.8.0-hunter-p11)\n",
            "-- [hunter] Building GTest\n",
            "loading initial cache file /root/.hunter/_Base/70287b1/02ccb06/dffbc08/cache.cmake\n",
            "loading initial cache file /root/.hunter/_Base/70287b1/02ccb06/dffbc08/Build/GTest/args.cmake\n",
            "-- The C compiler identification is GNU 7.5.0\n",
            "-- The CXX compiler identification is GNU 7.5.0\n",
            "-- Check for working C compiler: /usr/bin/cc\n",
            "-- Check for working C compiler: /usr/bin/cc -- works\n",
            "-- Detecting C compile features\n",
            "-- Detecting C compile features - done\n",
            "-- Check for working CXX compiler: /usr/bin/c++\n",
            "-- Check for working CXX compiler: /usr/bin/c++ -- works\n",
            "-- Detecting CXX compile features\n",
            "-- Detecting CXX compile features - done\n",
            "-- Configuring done\n",
            "-- Generating done\n",
            "-- Build files have been written to: /root/.hunter/_Base/70287b1/02ccb06/dffbc08/Build/GTest/Build\n",
            "Scanning dependencies of target GTest-Release\n",
            "[  6%] Creating directories for 'GTest-Release'\n",
            "[ 12%] Performing download step (download, verify and extract) for 'GTest-Release'\n",
            "-- Downloading...\n",
            "   dst='/root/.hunter/_Base/Download/GTest/1.8.0-hunter-p11/76c6aec/1.8.0-hunter-p11.tar.gz'\n",
            "   timeout='none'\n",
            "-- Using src='https://github.com/hunter-packages/googletest/archive/1.8.0-hunter-p11.tar.gz'\n",
            "-- verifying file...\n",
            "       file='/root/.hunter/_Base/Download/GTest/1.8.0-hunter-p11/76c6aec/1.8.0-hunter-p11.tar.gz'\n",
            "-- Downloading... done\n",
            "-- extracting...\n",
            "     src='/root/.hunter/_Base/Download/GTest/1.8.0-hunter-p11/76c6aec/1.8.0-hunter-p11.tar.gz'\n",
            "     dst='/root/.hunter/_Base/70287b1/02ccb06/dffbc08/Build/GTest/Source'\n",
            "-- extracting... [tar xfz]\n",
            "-- extracting... [analysis]\n",
            "-- extracting... [rename]\n",
            "-- extracting... [clean up]\n",
            "-- extracting... done\n",
            "[ 18%] No patch step for 'GTest-Release'\n",
            "[ 25%] No update step for 'GTest-Release'\n",
            "[ 31%] Performing configure step for 'GTest-Release'\n",
            "loading initial cache file /root/.hunter/_Base/70287b1/02ccb06/dffbc08/cache.cmake\n",
            "loading initial cache file /root/.hunter/_Base/70287b1/02ccb06/dffbc08/Build/GTest/args.cmake\n",
            "-- The C compiler identification is GNU 7.5.0\n",
            "-- The CXX compiler identification is GNU 7.5.0\n",
            "-- Check for working C compiler: /usr/bin/cc\n",
            "-- Check for working C compiler: /usr/bin/cc -- works\n",
            "-- Detecting C compile features\n",
            "-- Detecting C compile features - done\n",
            "-- Check for working CXX compiler: /usr/bin/c++\n",
            "-- Check for working CXX compiler: /usr/bin/c++ -- works\n",
            "-- Detecting CXX compile features\n",
            "-- Detecting CXX compile features - done\n",
            "-- Found PythonInterp: /usr/local/bin/python (found version \"2.7.17\") \n",
            "-- Looking for pthread.h\n",
            "-- Looking for pthread.h - found\n",
            "-- Looking for pthread_create\n",
            "-- Looking for pthread_create - not found\n",
            "-- Check if compiler accepts -pthread\n",
            "-- Check if compiler accepts -pthread - yes\n",
            "-- Found Threads: TRUE  \n",
            "-- Configuring done\n",
            "-- Generating done\n",
            "-- Build files have been written to: /root/.hunter/_Base/70287b1/02ccb06/dffbc08/Build/GTest/Build/GTest-Release-prefix/src/GTest-Release-build\n",
            "[ 37%] Performing build step for 'GTest-Release'\n",
            "Scanning dependencies of target gmock\n",
            "Scanning dependencies of target gmock_main\n",
            "[  9%] Building CXX object googlemock/CMakeFiles/gmock.dir/__/googletest/src/gtest-all.cc.o\n",
            "[ 18%] Building CXX object googlemock/CMakeFiles/gmock_main.dir/__/googletest/src/gtest-all.cc.o\n",
            "[ 36%] Building CXX object googlemock/CMakeFiles/gmock_main.dir/src/gmock-all.cc.o\n",
            "[ 36%] Building CXX object googlemock/CMakeFiles/gmock.dir/src/gmock-all.cc.o\n",
            "[ 45%] Linking CXX shared library libgmock.so\n",
            "[ 54%] Building CXX object googlemock/CMakeFiles/gmock_main.dir/src/gmock_main.cc.o\n",
            "[ 54%] Built target gmock\n",
            "Scanning dependencies of target gtest\n",
            "[ 63%] Building CXX object googlemock/gtest/CMakeFiles/gtest.dir/src/gtest-all.cc.o\n",
            "[ 72%] Linking CXX shared library libgmock_main.so\n",
            "[ 72%] Built target gmock_main\n",
            "[ 81%] Linking CXX shared library libgtest.so\n",
            "[ 81%] Built target gtest\n",
            "Scanning dependencies of target gtest_main\n",
            "[ 90%] Building CXX object googlemock/gtest/CMakeFiles/gtest_main.dir/src/gtest_main.cc.o\n",
            "[100%] Linking CXX shared library libgtest_main.so\n",
            "[100%] Built target gtest_main\n",
            "[ 43%] Performing install step for 'GTest-Release'\n",
            "[ 36%] Built target gmock_main\n",
            "[ 63%] Built target gmock\n",
            "[ 81%] Built target gtest\n",
            "[100%] Built target gtest_main\n",
            "Install the project...\n",
            "-- Install configuration: \"Release\"\n",
            "-- Installing: /root/.hunter/_Base/70287b1/02ccb06/dffbc08/Build/GTest/Install/lib/libgmock.so\n",
            "-- Installing: /root/.hunter/_Base/70287b1/02ccb06/dffbc08/Build/GTest/Install/lib/libgmock_main.so\n",
            "-- Installing: /root/.hunter/_Base/70287b1/02ccb06/dffbc08/Build/GTest/Install/include/gmock\n",
            "-- Installing: /root/.hunter/_Base/70287b1/02ccb06/dffbc08/Build/GTest/Install/include/gmock/gmock-matchers.h\n",
            "-- Installing: /root/.hunter/_Base/70287b1/02ccb06/dffbc08/Build/GTest/Install/include/gmock/gmock-generated-nice-strict.h\n",
            "-- Installing: /root/.hunter/_Base/70287b1/02ccb06/dffbc08/Build/GTest/Install/include/gmock/gmock.h\n",
            "-- Installing: /root/.hunter/_Base/70287b1/02ccb06/dffbc08/Build/GTest/Install/include/gmock/gmock-more-matchers.h\n",
            "-- Installing: /root/.hunter/_Base/70287b1/02ccb06/dffbc08/Build/GTest/Install/include/gmock/gmock-generated-matchers.h\n",
            "-- Installing: /root/.hunter/_Base/70287b1/02ccb06/dffbc08/Build/GTest/Install/include/gmock/gmock-cardinalities.h\n",
            "-- Installing: /root/.hunter/_Base/70287b1/02ccb06/dffbc08/Build/GTest/Install/include/gmock/gmock-generated-function-mockers.h\n",
            "-- Installing: /root/.hunter/_Base/70287b1/02ccb06/dffbc08/Build/GTest/Install/include/gmock/internal\n",
            "-- Installing: /root/.hunter/_Base/70287b1/02ccb06/dffbc08/Build/GTest/Install/include/gmock/internal/gmock-port.h\n",
            "-- Installing: /root/.hunter/_Base/70287b1/02ccb06/dffbc08/Build/GTest/Install/include/gmock/internal/gmock-internal-utils.h\n",
            "-- Installing: /root/.hunter/_Base/70287b1/02ccb06/dffbc08/Build/GTest/Install/include/gmock/internal/gmock-generated-internal-utils.h\n",
            "-- Installing: /root/.hunter/_Base/70287b1/02ccb06/dffbc08/Build/GTest/Install/include/gmock/internal/custom\n",
            "-- Installing: /root/.hunter/_Base/70287b1/02ccb06/dffbc08/Build/GTest/Install/include/gmock/internal/custom/gmock-matchers.h\n",
            "-- Installing: /root/.hunter/_Base/70287b1/02ccb06/dffbc08/Build/GTest/Install/include/gmock/internal/custom/gmock-port.h\n",
            "-- Installing: /root/.hunter/_Base/70287b1/02ccb06/dffbc08/Build/GTest/Install/include/gmock/internal/custom/gmock-generated-actions.h\n",
            "-- Installing: /root/.hunter/_Base/70287b1/02ccb06/dffbc08/Build/GTest/Install/include/gmock/gmock-more-actions.h\n",
            "-- Installing: /root/.hunter/_Base/70287b1/02ccb06/dffbc08/Build/GTest/Install/include/gmock/gmock-spec-builders.h\n",
            "-- Installing: /root/.hunter/_Base/70287b1/02ccb06/dffbc08/Build/GTest/Install/include/gmock/gmock-generated-actions.h\n",
            "-- Installing: /root/.hunter/_Base/70287b1/02ccb06/dffbc08/Build/GTest/Install/include/gmock/gmock-actions.h\n",
            "-- Installing: /root/.hunter/_Base/70287b1/02ccb06/dffbc08/Build/GTest/Install/lib/cmake/GMock/GMockConfig.cmake\n",
            "-- Installing: /root/.hunter/_Base/70287b1/02ccb06/dffbc08/Build/GTest/Install/lib/cmake/GMock/GMockConfigVersion.cmake\n",
            "-- Installing: /root/.hunter/_Base/70287b1/02ccb06/dffbc08/Build/GTest/Install/lib/cmake/GMock/GMockTargets.cmake\n",
            "-- Installing: /root/.hunter/_Base/70287b1/02ccb06/dffbc08/Build/GTest/Install/lib/cmake/GMock/GMockTargets-release.cmake\n",
            "-- Installing: /root/.hunter/_Base/70287b1/02ccb06/dffbc08/Build/GTest/Install/lib/libgtest.so\n",
            "-- Installing: /root/.hunter/_Base/70287b1/02ccb06/dffbc08/Build/GTest/Install/lib/libgtest_main.so\n",
            "-- Set runtime path of \"/root/.hunter/_Base/70287b1/02ccb06/dffbc08/Build/GTest/Install/lib/libgtest_main.so\" to \"\"\n",
            "-- Installing: /root/.hunter/_Base/70287b1/02ccb06/dffbc08/Build/GTest/Install/include/gtest\n",
            "-- Installing: /root/.hunter/_Base/70287b1/02ccb06/dffbc08/Build/GTest/Install/include/gtest/gtest-spi.h\n",
            "-- Installing: /root/.hunter/_Base/70287b1/02ccb06/dffbc08/Build/GTest/Install/include/gtest/gtest-typed-test.h\n",
            "-- Installing: /root/.hunter/_Base/70287b1/02ccb06/dffbc08/Build/GTest/Install/include/gtest/gtest_pred_impl.h\n",
            "-- Installing: /root/.hunter/_Base/70287b1/02ccb06/dffbc08/Build/GTest/Install/include/gtest/gtest-printers.h\n",
            "-- Installing: /root/.hunter/_Base/70287b1/02ccb06/dffbc08/Build/GTest/Install/include/gtest/gtest-message.h\n",
            "-- Installing: /root/.hunter/_Base/70287b1/02ccb06/dffbc08/Build/GTest/Install/include/gtest/internal\n",
            "-- Installing: /root/.hunter/_Base/70287b1/02ccb06/dffbc08/Build/GTest/Install/include/gtest/internal/gtest-filepath.h\n",
            "-- Installing: /root/.hunter/_Base/70287b1/02ccb06/dffbc08/Build/GTest/Install/include/gtest/internal/gtest-death-test-internal.h\n",
            "-- Installing: /root/.hunter/_Base/70287b1/02ccb06/dffbc08/Build/GTest/Install/include/gtest/internal/gtest-param-util.h\n",
            "-- Installing: /root/.hunter/_Base/70287b1/02ccb06/dffbc08/Build/GTest/Install/include/gtest/internal/gtest-internal.h\n",
            "-- Installing: /root/.hunter/_Base/70287b1/02ccb06/dffbc08/Build/GTest/Install/include/gtest/internal/gtest-port-arch.h\n",
            "-- Installing: /root/.hunter/_Base/70287b1/02ccb06/dffbc08/Build/GTest/Install/include/gtest/internal/gtest-param-util-generated.h\n",
            "-- Installing: /root/.hunter/_Base/70287b1/02ccb06/dffbc08/Build/GTest/Install/include/gtest/internal/gtest-string.h\n",
            "-- Installing: /root/.hunter/_Base/70287b1/02ccb06/dffbc08/Build/GTest/Install/include/gtest/internal/gtest-tuple.h\n",
            "-- Installing: /root/.hunter/_Base/70287b1/02ccb06/dffbc08/Build/GTest/Install/include/gtest/internal/custom\n",
            "-- Installing: /root/.hunter/_Base/70287b1/02ccb06/dffbc08/Build/GTest/Install/include/gtest/internal/custom/gtest-printers.h\n",
            "-- Installing: /root/.hunter/_Base/70287b1/02ccb06/dffbc08/Build/GTest/Install/include/gtest/internal/custom/gtest.h\n",
            "-- Installing: /root/.hunter/_Base/70287b1/02ccb06/dffbc08/Build/GTest/Install/include/gtest/internal/custom/gtest-port.h\n",
            "-- Installing: /root/.hunter/_Base/70287b1/02ccb06/dffbc08/Build/GTest/Install/include/gtest/internal/gtest-type-util.h\n",
            "-- Installing: /root/.hunter/_Base/70287b1/02ccb06/dffbc08/Build/GTest/Install/include/gtest/internal/gtest-port.h\n",
            "-- Installing: /root/.hunter/_Base/70287b1/02ccb06/dffbc08/Build/GTest/Install/include/gtest/internal/gtest-linked_ptr.h\n",
            "-- Installing: /root/.hunter/_Base/70287b1/02ccb06/dffbc08/Build/GTest/Install/include/gtest/gtest_prod.h\n",
            "-- Installing: /root/.hunter/_Base/70287b1/02ccb06/dffbc08/Build/GTest/Install/include/gtest/gtest.h\n",
            "-- Installing: /root/.hunter/_Base/70287b1/02ccb06/dffbc08/Build/GTest/Install/include/gtest/gtest-death-test.h\n",
            "-- Installing: /root/.hunter/_Base/70287b1/02ccb06/dffbc08/Build/GTest/Install/include/gtest/gtest-param-test.h\n",
            "-- Installing: /root/.hunter/_Base/70287b1/02ccb06/dffbc08/Build/GTest/Install/include/gtest/gtest-test-part.h\n",
            "-- Installing: /root/.hunter/_Base/70287b1/02ccb06/dffbc08/Build/GTest/Install/lib/cmake/GTest/GTestConfig.cmake\n",
            "-- Installing: /root/.hunter/_Base/70287b1/02ccb06/dffbc08/Build/GTest/Install/lib/cmake/GTest/GTestConfigVersion.cmake\n",
            "-- Installing: /root/.hunter/_Base/70287b1/02ccb06/dffbc08/Build/GTest/Install/lib/cmake/GTest/GTestTargets.cmake\n",
            "-- Installing: /root/.hunter/_Base/70287b1/02ccb06/dffbc08/Build/GTest/Install/lib/cmake/GTest/GTestTargets-release.cmake\n",
            "loading initial cache file /root/.hunter/_Base/70287b1/02ccb06/dffbc08/Build/GTest/args.cmake\n",
            "[ 50%] Completed 'GTest-Release'\n",
            "[ 50%] Built target GTest-Release\n",
            "Scanning dependencies of target GTest-Debug\n",
            "[ 56%] Creating directories for 'GTest-Debug'\n",
            "[ 62%] Performing download step (download, verify and extract) for 'GTest-Debug'\n",
            "-- verifying file...\n",
            "       file='/root/.hunter/_Base/Download/GTest/1.8.0-hunter-p11/76c6aec/1.8.0-hunter-p11.tar.gz'\n",
            "-- File already exists and hash match (skip download):\n",
            "  file='/root/.hunter/_Base/Download/GTest/1.8.0-hunter-p11/76c6aec/1.8.0-hunter-p11.tar.gz'\n",
            "  SHA1='76c6aec038f7d7258bf5c4f45c4817b34039d285'\n",
            "-- extracting...\n",
            "     src='/root/.hunter/_Base/Download/GTest/1.8.0-hunter-p11/76c6aec/1.8.0-hunter-p11.tar.gz'\n",
            "     dst='/root/.hunter/_Base/70287b1/02ccb06/dffbc08/Build/GTest/Source'\n",
            "-- extracting... [tar xfz]\n",
            "-- extracting... [analysis]\n",
            "-- extracting... [rename]\n",
            "-- extracting... [clean up]\n",
            "-- extracting... done\n",
            "[ 68%] No patch step for 'GTest-Debug'\n",
            "[ 75%] No update step for 'GTest-Debug'\n",
            "[ 81%] Performing configure step for 'GTest-Debug'\n",
            "loading initial cache file /root/.hunter/_Base/70287b1/02ccb06/dffbc08/cache.cmake\n",
            "loading initial cache file /root/.hunter/_Base/70287b1/02ccb06/dffbc08/Build/GTest/args.cmake\n",
            "-- The C compiler identification is GNU 7.5.0\n",
            "-- The CXX compiler identification is GNU 7.5.0\n",
            "-- Check for working C compiler: /usr/bin/cc\n",
            "-- Check for working C compiler: /usr/bin/cc -- works\n",
            "-- Detecting C compile features\n",
            "-- Detecting C compile features - done\n",
            "-- Check for working CXX compiler: /usr/bin/c++\n",
            "-- Check for working CXX compiler: /usr/bin/c++ -- works\n",
            "-- Detecting CXX compile features\n",
            "-- Detecting CXX compile features - done\n",
            "-- Found PythonInterp: /usr/local/bin/python (found version \"2.7.17\") \n",
            "-- Looking for pthread.h\n",
            "-- Looking for pthread.h - found\n",
            "-- Looking for pthread_create\n",
            "-- Looking for pthread_create - not found\n",
            "-- Check if compiler accepts -pthread\n",
            "-- Check if compiler accepts -pthread - yes\n",
            "-- Found Threads: TRUE  \n",
            "-- Configuring done\n",
            "-- Generating done\n",
            "-- Build files have been written to: /root/.hunter/_Base/70287b1/02ccb06/dffbc08/Build/GTest/Build/GTest-Debug-prefix/src/GTest-Debug-build\n",
            "[ 87%] Performing build step for 'GTest-Debug'\n",
            "Scanning dependencies of target gmock\n",
            "Scanning dependencies of target gmock_main\n",
            "[  9%] Building CXX object googlemock/CMakeFiles/gmock_main.dir/__/googletest/src/gtest-all.cc.o\n",
            "[ 18%] Building CXX object googlemock/CMakeFiles/gmock.dir/__/googletest/src/gtest-all.cc.o\n",
            "[ 27%] Building CXX object googlemock/CMakeFiles/gmock_main.dir/src/gmock-all.cc.o\n",
            "[ 36%] Building CXX object googlemock/CMakeFiles/gmock.dir/src/gmock-all.cc.o\n",
            "[ 45%] Building CXX object googlemock/CMakeFiles/gmock_main.dir/src/gmock_main.cc.o\n",
            "[ 54%] Linking CXX shared library libgmock_debug.so\n",
            "[ 54%] Built target gmock\n",
            "Scanning dependencies of target gtest\n",
            "[ 63%] Building CXX object googlemock/gtest/CMakeFiles/gtest.dir/src/gtest-all.cc.o\n",
            "[ 72%] Linking CXX shared library libgmock_main_debug.so\n",
            "[ 72%] Built target gmock_main\n",
            "[ 81%] Linking CXX shared library libgtest_debug.so\n",
            "[ 81%] Built target gtest\n",
            "Scanning dependencies of target gtest_main\n",
            "[ 90%] Building CXX object googlemock/gtest/CMakeFiles/gtest_main.dir/src/gtest_main.cc.o\n",
            "[100%] Linking CXX shared library libgtest_main_debug.so\n",
            "[100%] Built target gtest_main\n",
            "[ 93%] Performing install step for 'GTest-Debug'\n",
            "[ 36%] Built target gmock_main\n",
            "[ 63%] Built target gmock\n",
            "[ 81%] Built target gtest\n",
            "[100%] Built target gtest_main\n",
            "Install the project...\n",
            "-- Install configuration: \"Debug\"\n",
            "-- Installing: /root/.hunter/_Base/70287b1/02ccb06/dffbc08/Build/GTest/Install/lib/libgmock_debug.so\n",
            "-- Installing: /root/.hunter/_Base/70287b1/02ccb06/dffbc08/Build/GTest/Install/lib/libgmock_main_debug.so\n",
            "-- Up-to-date: /root/.hunter/_Base/70287b1/02ccb06/dffbc08/Build/GTest/Install/include/gmock\n",
            "-- Up-to-date: /root/.hunter/_Base/70287b1/02ccb06/dffbc08/Build/GTest/Install/include/gmock/gmock-matchers.h\n",
            "-- Up-to-date: /root/.hunter/_Base/70287b1/02ccb06/dffbc08/Build/GTest/Install/include/gmock/gmock-generated-nice-strict.h\n",
            "-- Up-to-date: /root/.hunter/_Base/70287b1/02ccb06/dffbc08/Build/GTest/Install/include/gmock/gmock.h\n",
            "-- Up-to-date: /root/.hunter/_Base/70287b1/02ccb06/dffbc08/Build/GTest/Install/include/gmock/gmock-more-matchers.h\n",
            "-- Up-to-date: /root/.hunter/_Base/70287b1/02ccb06/dffbc08/Build/GTest/Install/include/gmock/gmock-generated-matchers.h\n",
            "-- Up-to-date: /root/.hunter/_Base/70287b1/02ccb06/dffbc08/Build/GTest/Install/include/gmock/gmock-cardinalities.h\n",
            "-- Up-to-date: /root/.hunter/_Base/70287b1/02ccb06/dffbc08/Build/GTest/Install/include/gmock/gmock-generated-function-mockers.h\n",
            "-- Up-to-date: /root/.hunter/_Base/70287b1/02ccb06/dffbc08/Build/GTest/Install/include/gmock/internal\n",
            "-- Up-to-date: /root/.hunter/_Base/70287b1/02ccb06/dffbc08/Build/GTest/Install/include/gmock/internal/gmock-port.h\n",
            "-- Up-to-date: /root/.hunter/_Base/70287b1/02ccb06/dffbc08/Build/GTest/Install/include/gmock/internal/gmock-internal-utils.h\n",
            "-- Up-to-date: /root/.hunter/_Base/70287b1/02ccb06/dffbc08/Build/GTest/Install/include/gmock/internal/gmock-generated-internal-utils.h\n",
            "-- Up-to-date: /root/.hunter/_Base/70287b1/02ccb06/dffbc08/Build/GTest/Install/include/gmock/internal/custom\n",
            "-- Up-to-date: /root/.hunter/_Base/70287b1/02ccb06/dffbc08/Build/GTest/Install/include/gmock/internal/custom/gmock-matchers.h\n",
            "-- Up-to-date: /root/.hunter/_Base/70287b1/02ccb06/dffbc08/Build/GTest/Install/include/gmock/internal/custom/gmock-port.h\n",
            "-- Up-to-date: /root/.hunter/_Base/70287b1/02ccb06/dffbc08/Build/GTest/Install/include/gmock/internal/custom/gmock-generated-actions.h\n",
            "-- Up-to-date: /root/.hunter/_Base/70287b1/02ccb06/dffbc08/Build/GTest/Install/include/gmock/gmock-more-actions.h\n",
            "-- Up-to-date: /root/.hunter/_Base/70287b1/02ccb06/dffbc08/Build/GTest/Install/include/gmock/gmock-spec-builders.h\n",
            "-- Up-to-date: /root/.hunter/_Base/70287b1/02ccb06/dffbc08/Build/GTest/Install/include/gmock/gmock-generated-actions.h\n",
            "-- Up-to-date: /root/.hunter/_Base/70287b1/02ccb06/dffbc08/Build/GTest/Install/include/gmock/gmock-actions.h\n",
            "-- Installing: /root/.hunter/_Base/70287b1/02ccb06/dffbc08/Build/GTest/Install/lib/cmake/GMock/GMockConfig.cmake\n",
            "-- Installing: /root/.hunter/_Base/70287b1/02ccb06/dffbc08/Build/GTest/Install/lib/cmake/GMock/GMockConfigVersion.cmake\n",
            "-- Installing: /root/.hunter/_Base/70287b1/02ccb06/dffbc08/Build/GTest/Install/lib/cmake/GMock/GMockTargets.cmake\n",
            "-- Installing: /root/.hunter/_Base/70287b1/02ccb06/dffbc08/Build/GTest/Install/lib/cmake/GMock/GMockTargets-debug.cmake\n",
            "-- Installing: /root/.hunter/_Base/70287b1/02ccb06/dffbc08/Build/GTest/Install/lib/libgtest_debug.so\n",
            "-- Installing: /root/.hunter/_Base/70287b1/02ccb06/dffbc08/Build/GTest/Install/lib/libgtest_main_debug.so\n",
            "-- Set runtime path of \"/root/.hunter/_Base/70287b1/02ccb06/dffbc08/Build/GTest/Install/lib/libgtest_main_debug.so\" to \"\"\n",
            "-- Up-to-date: /root/.hunter/_Base/70287b1/02ccb06/dffbc08/Build/GTest/Install/include/gtest\n",
            "-- Up-to-date: /root/.hunter/_Base/70287b1/02ccb06/dffbc08/Build/GTest/Install/include/gtest/gtest-spi.h\n",
            "-- Up-to-date: /root/.hunter/_Base/70287b1/02ccb06/dffbc08/Build/GTest/Install/include/gtest/gtest-typed-test.h\n",
            "-- Up-to-date: /root/.hunter/_Base/70287b1/02ccb06/dffbc08/Build/GTest/Install/include/gtest/gtest_pred_impl.h\n",
            "-- Up-to-date: /root/.hunter/_Base/70287b1/02ccb06/dffbc08/Build/GTest/Install/include/gtest/gtest-printers.h\n",
            "-- Up-to-date: /root/.hunter/_Base/70287b1/02ccb06/dffbc08/Build/GTest/Install/include/gtest/gtest-message.h\n",
            "-- Up-to-date: /root/.hunter/_Base/70287b1/02ccb06/dffbc08/Build/GTest/Install/include/gtest/internal\n",
            "-- Up-to-date: /root/.hunter/_Base/70287b1/02ccb06/dffbc08/Build/GTest/Install/include/gtest/internal/gtest-filepath.h\n",
            "-- Up-to-date: /root/.hunter/_Base/70287b1/02ccb06/dffbc08/Build/GTest/Install/include/gtest/internal/gtest-death-test-internal.h\n",
            "-- Up-to-date: /root/.hunter/_Base/70287b1/02ccb06/dffbc08/Build/GTest/Install/include/gtest/internal/gtest-param-util.h\n",
            "-- Up-to-date: /root/.hunter/_Base/70287b1/02ccb06/dffbc08/Build/GTest/Install/include/gtest/internal/gtest-internal.h\n",
            "-- Up-to-date: /root/.hunter/_Base/70287b1/02ccb06/dffbc08/Build/GTest/Install/include/gtest/internal/gtest-port-arch.h\n",
            "-- Up-to-date: /root/.hunter/_Base/70287b1/02ccb06/dffbc08/Build/GTest/Install/include/gtest/internal/gtest-param-util-generated.h\n",
            "-- Up-to-date: /root/.hunter/_Base/70287b1/02ccb06/dffbc08/Build/GTest/Install/include/gtest/internal/gtest-string.h\n",
            "-- Up-to-date: /root/.hunter/_Base/70287b1/02ccb06/dffbc08/Build/GTest/Install/include/gtest/internal/gtest-tuple.h\n",
            "-- Up-to-date: /root/.hunter/_Base/70287b1/02ccb06/dffbc08/Build/GTest/Install/include/gtest/internal/custom\n",
            "-- Up-to-date: /root/.hunter/_Base/70287b1/02ccb06/dffbc08/Build/GTest/Install/include/gtest/internal/custom/gtest-printers.h\n",
            "-- Up-to-date: /root/.hunter/_Base/70287b1/02ccb06/dffbc08/Build/GTest/Install/include/gtest/internal/custom/gtest.h\n",
            "-- Up-to-date: /root/.hunter/_Base/70287b1/02ccb06/dffbc08/Build/GTest/Install/include/gtest/internal/custom/gtest-port.h\n",
            "-- Up-to-date: /root/.hunter/_Base/70287b1/02ccb06/dffbc08/Build/GTest/Install/include/gtest/internal/gtest-type-util.h\n",
            "-- Up-to-date: /root/.hunter/_Base/70287b1/02ccb06/dffbc08/Build/GTest/Install/include/gtest/internal/gtest-port.h\n",
            "-- Up-to-date: /root/.hunter/_Base/70287b1/02ccb06/dffbc08/Build/GTest/Install/include/gtest/internal/gtest-linked_ptr.h\n",
            "-- Up-to-date: /root/.hunter/_Base/70287b1/02ccb06/dffbc08/Build/GTest/Install/include/gtest/gtest_prod.h\n",
            "-- Up-to-date: /root/.hunter/_Base/70287b1/02ccb06/dffbc08/Build/GTest/Install/include/gtest/gtest.h\n",
            "-- Up-to-date: /root/.hunter/_Base/70287b1/02ccb06/dffbc08/Build/GTest/Install/include/gtest/gtest-death-test.h\n",
            "-- Up-to-date: /root/.hunter/_Base/70287b1/02ccb06/dffbc08/Build/GTest/Install/include/gtest/gtest-param-test.h\n",
            "-- Up-to-date: /root/.hunter/_Base/70287b1/02ccb06/dffbc08/Build/GTest/Install/include/gtest/gtest-test-part.h\n",
            "-- Installing: /root/.hunter/_Base/70287b1/02ccb06/dffbc08/Build/GTest/Install/lib/cmake/GTest/GTestConfig.cmake\n",
            "-- Installing: /root/.hunter/_Base/70287b1/02ccb06/dffbc08/Build/GTest/Install/lib/cmake/GTest/GTestConfigVersion.cmake\n",
            "-- Installing: /root/.hunter/_Base/70287b1/02ccb06/dffbc08/Build/GTest/Install/lib/cmake/GTest/GTestTargets.cmake\n",
            "-- Installing: /root/.hunter/_Base/70287b1/02ccb06/dffbc08/Build/GTest/Install/lib/cmake/GTest/GTestTargets-debug.cmake\n",
            "loading initial cache file /root/.hunter/_Base/70287b1/02ccb06/dffbc08/Build/GTest/args.cmake\n",
            "[100%] Completed 'GTest-Debug'\n",
            "[100%] Built target GTest-Debug\n",
            "-- [hunter] Build step successful (dir: /root/.hunter/_Base/70287b1/02ccb06/dffbc08/Build/GTest)\n",
            "-- [hunter] Cache saved: /root/.hunter/_Base/Cache/raw/a77d87fd3c5369dab12b3d72079119efee957ffd.tar.bz2\n",
            "-- [hunter] NLOHMANN_JSON_ROOT: /root/.hunter/_Base/70287b1/02ccb06/dffbc08/Install (ver.: 3.3.0)\n",
            "-- [hunter] Building nlohmann_json\n",
            "loading initial cache file /root/.hunter/_Base/70287b1/02ccb06/dffbc08/cache.cmake\n",
            "loading initial cache file /root/.hunter/_Base/70287b1/02ccb06/dffbc08/Build/nlohmann_json/args.cmake\n",
            "-- The C compiler identification is GNU 7.5.0\n",
            "-- The CXX compiler identification is GNU 7.5.0\n",
            "-- Check for working C compiler: /usr/bin/cc\n",
            "-- Check for working C compiler: /usr/bin/cc -- works\n",
            "-- Detecting C compile features\n",
            "-- Detecting C compile features - done\n",
            "-- Check for working CXX compiler: /usr/bin/c++\n",
            "-- Check for working CXX compiler: /usr/bin/c++ -- works\n",
            "-- Detecting CXX compile features\n",
            "-- Detecting CXX compile features - done\n",
            "-- Configuring done\n",
            "-- Generating done\n",
            "-- Build files have been written to: /root/.hunter/_Base/70287b1/02ccb06/dffbc08/Build/nlohmann_json/Build\n",
            "Scanning dependencies of target nlohmann_json-Release\n",
            "[  6%] Creating directories for 'nlohmann_json-Release'\n",
            "[ 12%] Performing download step (download, verify and extract) for 'nlohmann_json-Release'\n",
            "-- Downloading...\n",
            "   dst='/root/.hunter/_Base/Download/nlohmann_json/3.3.0/90842f0/v3.3.0.tar.gz'\n",
            "   timeout='none'\n",
            "-- Using src='https://github.com/nlohmann/json/archive/v3.3.0.tar.gz'\n",
            "-- [download 100% complete]\n",
            "-- verifying file...\n",
            "       file='/root/.hunter/_Base/Download/nlohmann_json/3.3.0/90842f0/v3.3.0.tar.gz'\n",
            "-- Downloading... done\n",
            "-- extracting...\n",
            "     src='/root/.hunter/_Base/Download/nlohmann_json/3.3.0/90842f0/v3.3.0.tar.gz'\n",
            "     dst='/root/.hunter/_Base/70287b1/02ccb06/dffbc08/Build/nlohmann_json/Source'\n",
            "-- extracting... [tar xfz]\n",
            "-- extracting... [analysis]\n",
            "-- extracting... [rename]\n",
            "-- extracting... [clean up]\n",
            "-- extracting... done\n",
            "[ 18%] No patch step for 'nlohmann_json-Release'\n",
            "[ 25%] No update step for 'nlohmann_json-Release'\n",
            "[ 31%] Performing configure step for 'nlohmann_json-Release'\n",
            "loading initial cache file /root/.hunter/_Base/70287b1/02ccb06/dffbc08/cache.cmake\n",
            "loading initial cache file /root/.hunter/_Base/70287b1/02ccb06/dffbc08/Build/nlohmann_json/args.cmake\n",
            "-- The CXX compiler identification is GNU 7.5.0\n",
            "-- Check for working CXX compiler: /usr/bin/c++\n",
            "-- Check for working CXX compiler: /usr/bin/c++ -- works\n",
            "-- Detecting CXX compile features\n",
            "-- Detecting CXX compile features - done\n",
            "-- Using the single-header code from /root/.hunter/_Base/70287b1/02ccb06/dffbc08/Build/nlohmann_json/Source/single_include/\n",
            "-- Configuring done\n",
            "-- Generating done\n",
            "-- Build files have been written to: /root/.hunter/_Base/70287b1/02ccb06/dffbc08/Build/nlohmann_json/Build/nlohmann_json-Release-prefix/src/nlohmann_json-Release-build\n",
            "[ 37%] Performing build step for 'nlohmann_json-Release'\n",
            "[ 43%] Performing install step for 'nlohmann_json-Release'\n",
            "Install the project...\n",
            "-- Install configuration: \"Release\"\n",
            "-- Installing: /root/.hunter/_Base/70287b1/02ccb06/dffbc08/Build/nlohmann_json/Install/include\n",
            "-- Installing: /root/.hunter/_Base/70287b1/02ccb06/dffbc08/Build/nlohmann_json/Install/include/nlohmann\n",
            "-- Installing: /root/.hunter/_Base/70287b1/02ccb06/dffbc08/Build/nlohmann_json/Install/include/nlohmann/json.hpp\n",
            "-- Installing: /root/.hunter/_Base/70287b1/02ccb06/dffbc08/Build/nlohmann_json/Install/lib/cmake/nlohmann_json/nlohmann_jsonConfig.cmake\n",
            "-- Installing: /root/.hunter/_Base/70287b1/02ccb06/dffbc08/Build/nlohmann_json/Install/lib/cmake/nlohmann_json/nlohmann_jsonConfigVersion.cmake\n",
            "-- Installing: /root/.hunter/_Base/70287b1/02ccb06/dffbc08/Build/nlohmann_json/Install/lib/cmake/nlohmann_json/nlohmann_jsonTargets.cmake\n",
            "loading initial cache file /root/.hunter/_Base/70287b1/02ccb06/dffbc08/Build/nlohmann_json/args.cmake\n",
            "[ 50%] Completed 'nlohmann_json-Release'\n",
            "[ 50%] Built target nlohmann_json-Release\n",
            "Scanning dependencies of target nlohmann_json-Debug\n",
            "[ 56%] Creating directories for 'nlohmann_json-Debug'\n",
            "[ 62%] Performing download step (download, verify and extract) for 'nlohmann_json-Debug'\n",
            "-- verifying file...\n",
            "       file='/root/.hunter/_Base/Download/nlohmann_json/3.3.0/90842f0/v3.3.0.tar.gz'\n",
            "-- File already exists and hash match (skip download):\n",
            "  file='/root/.hunter/_Base/Download/nlohmann_json/3.3.0/90842f0/v3.3.0.tar.gz'\n",
            "  SHA1='90842f04aadc1af1af600ce84c7fbe0d1dfc3d3c'\n",
            "-- extracting...\n",
            "     src='/root/.hunter/_Base/Download/nlohmann_json/3.3.0/90842f0/v3.3.0.tar.gz'\n",
            "     dst='/root/.hunter/_Base/70287b1/02ccb06/dffbc08/Build/nlohmann_json/Source'\n",
            "-- extracting... [tar xfz]\n",
            "-- extracting... [analysis]\n",
            "-- extracting... [rename]\n",
            "-- extracting... [clean up]\n",
            "-- extracting... done\n",
            "[ 68%] No patch step for 'nlohmann_json-Debug'\n",
            "[ 75%] No update step for 'nlohmann_json-Debug'\n",
            "[ 81%] Performing configure step for 'nlohmann_json-Debug'\n",
            "loading initial cache file /root/.hunter/_Base/70287b1/02ccb06/dffbc08/cache.cmake\n",
            "loading initial cache file /root/.hunter/_Base/70287b1/02ccb06/dffbc08/Build/nlohmann_json/args.cmake\n",
            "-- The CXX compiler identification is GNU 7.5.0\n",
            "-- Check for working CXX compiler: /usr/bin/c++\n",
            "-- Check for working CXX compiler: /usr/bin/c++ -- works\n",
            "-- Detecting CXX compile features\n",
            "-- Detecting CXX compile features - done\n",
            "-- Using the single-header code from /root/.hunter/_Base/70287b1/02ccb06/dffbc08/Build/nlohmann_json/Source/single_include/\n",
            "-- Configuring done\n",
            "-- Generating done\n",
            "-- Build files have been written to: /root/.hunter/_Base/70287b1/02ccb06/dffbc08/Build/nlohmann_json/Build/nlohmann_json-Debug-prefix/src/nlohmann_json-Debug-build\n",
            "[ 87%] Performing build step for 'nlohmann_json-Debug'\n",
            "[ 93%] Performing install step for 'nlohmann_json-Debug'\n",
            "Install the project...\n",
            "-- Install configuration: \"Debug\"\n",
            "-- Up-to-date: /root/.hunter/_Base/70287b1/02ccb06/dffbc08/Build/nlohmann_json/Install/include\n",
            "-- Up-to-date: /root/.hunter/_Base/70287b1/02ccb06/dffbc08/Build/nlohmann_json/Install/include/nlohmann\n",
            "-- Up-to-date: /root/.hunter/_Base/70287b1/02ccb06/dffbc08/Build/nlohmann_json/Install/include/nlohmann/json.hpp\n",
            "-- Installing: /root/.hunter/_Base/70287b1/02ccb06/dffbc08/Build/nlohmann_json/Install/lib/cmake/nlohmann_json/nlohmann_jsonConfig.cmake\n",
            "-- Installing: /root/.hunter/_Base/70287b1/02ccb06/dffbc08/Build/nlohmann_json/Install/lib/cmake/nlohmann_json/nlohmann_jsonConfigVersion.cmake\n",
            "-- Installing: /root/.hunter/_Base/70287b1/02ccb06/dffbc08/Build/nlohmann_json/Install/lib/cmake/nlohmann_json/nlohmann_jsonTargets.cmake\n",
            "loading initial cache file /root/.hunter/_Base/70287b1/02ccb06/dffbc08/Build/nlohmann_json/args.cmake\n",
            "[100%] Completed 'nlohmann_json-Debug'\n",
            "[100%] Built target nlohmann_json-Debug\n",
            "-- [hunter] Build step successful (dir: /root/.hunter/_Base/70287b1/02ccb06/dffbc08/Build/nlohmann_json)\n",
            "-- [hunter] Cache saved: /root/.hunter/_Base/Cache/raw/2ed505d4b95ff8a0f236516e48058d6a56b024a4.tar.bz2\n",
            "-- Found nlohmann_json: /root/.hunter/_Base/70287b1/02ccb06/dffbc08/Install/lib/cmake/nlohmann_json/nlohmann_jsonConfig.cmake (found version \"3.3.0\") \n",
            "-- [hunter] SPDLOG_ROOT: /root/.hunter/_Base/70287b1/02ccb06/dffbc08/Install (ver.: 0.16.3-p1)\n",
            "-- [hunter] Building spdlog\n",
            "loading initial cache file /root/.hunter/_Base/70287b1/02ccb06/dffbc08/cache.cmake\n",
            "loading initial cache file /root/.hunter/_Base/70287b1/02ccb06/dffbc08/Build/spdlog/args.cmake\n",
            "-- The C compiler identification is GNU 7.5.0\n",
            "-- The CXX compiler identification is GNU 7.5.0\n",
            "-- Check for working C compiler: /usr/bin/cc\n",
            "-- Check for working C compiler: /usr/bin/cc -- works\n",
            "-- Detecting C compile features\n",
            "-- Detecting C compile features - done\n",
            "-- Check for working CXX compiler: /usr/bin/c++\n",
            "-- Check for working CXX compiler: /usr/bin/c++ -- works\n",
            "-- Detecting CXX compile features\n",
            "-- Detecting CXX compile features - done\n",
            "-- Configuring done\n",
            "-- Generating done\n",
            "-- Build files have been written to: /root/.hunter/_Base/70287b1/02ccb06/dffbc08/Build/spdlog/Build\n",
            "Scanning dependencies of target spdlog-Release\n",
            "[  6%] Creating directories for 'spdlog-Release'\n",
            "[ 12%] Performing download step (download, verify and extract) for 'spdlog-Release'\n",
            "-- Downloading...\n",
            "   dst='/root/.hunter/_Base/Download/spdlog/0.16.3-p1/1400ca4/v0.16.3-p1.tar.gz'\n",
            "   timeout='none'\n",
            "-- Using src='https://github.com/hunter-packages/spdlog/archive/v0.16.3-p1.tar.gz'\n",
            "-- [download 100% complete]\n",
            "-- verifying file...\n",
            "       file='/root/.hunter/_Base/Download/spdlog/0.16.3-p1/1400ca4/v0.16.3-p1.tar.gz'\n",
            "-- Downloading... done\n",
            "-- extracting...\n",
            "     src='/root/.hunter/_Base/Download/spdlog/0.16.3-p1/1400ca4/v0.16.3-p1.tar.gz'\n",
            "     dst='/root/.hunter/_Base/70287b1/02ccb06/dffbc08/Build/spdlog/Source'\n",
            "-- extracting... [tar xfz]\n",
            "-- extracting... [analysis]\n",
            "-- extracting... [rename]\n",
            "-- extracting... [clean up]\n",
            "-- extracting... done\n",
            "[ 18%] No patch step for 'spdlog-Release'\n",
            "[ 25%] No update step for 'spdlog-Release'\n",
            "[ 31%] Performing configure step for 'spdlog-Release'\n",
            "loading initial cache file /root/.hunter/_Base/70287b1/02ccb06/dffbc08/cache.cmake\n",
            "loading initial cache file /root/.hunter/_Base/70287b1/02ccb06/dffbc08/Build/spdlog/args.cmake\n",
            "-- The C compiler identification is GNU 7.5.0\n",
            "-- The CXX compiler identification is GNU 7.5.0\n",
            "-- Check for working C compiler: /usr/bin/cc\n",
            "-- Check for working C compiler: /usr/bin/cc -- works\n",
            "-- Detecting C compile features\n",
            "-- Detecting C compile features - done\n",
            "-- Check for working CXX compiler: /usr/bin/c++\n",
            "-- Check for working CXX compiler: /usr/bin/c++ -- works\n",
            "-- Detecting CXX compile features\n",
            "-- Detecting CXX compile features - done\n",
            "-- [hunter] HUNTER_ROOT: /root/.hunter\n",
            "-- [hunter] [ Hunter-ID: 70287b1 | Toolchain-ID: 02ccb06 | Config-ID: dffbc08 ]\n",
            "-- [hunter] FMT_ROOT: /root/.hunter/_Base/70287b1/02ccb06/dffbc08/Install (ver.: 4.1.0)\n",
            "-- Looking for pthread.h\n",
            "-- Looking for pthread.h - found\n",
            "-- Looking for pthread_create\n",
            "-- Looking for pthread_create - not found\n",
            "-- Looking for pthread_create in pthreads\n",
            "-- Looking for pthread_create in pthreads - not found\n",
            "-- Looking for pthread_create in pthread\n",
            "-- Looking for pthread_create in pthread - found\n",
            "-- Found Threads: TRUE  \n",
            "-- Configuring done\n",
            "-- Generating done\n",
            "-- Build files have been written to: /root/.hunter/_Base/70287b1/02ccb06/dffbc08/Build/spdlog/Build/spdlog-Release-prefix/src/spdlog-Release-build\n",
            "[ 37%] Performing build step for 'spdlog-Release'\n",
            "[ 43%] Performing install step for 'spdlog-Release'\n",
            "Install the project...\n",
            "-- Install configuration: \"Release\"\n",
            "-- Installing: /root/.hunter/_Base/70287b1/02ccb06/dffbc08/Build/spdlog/Install/include/spdlog\n",
            "-- Installing: /root/.hunter/_Base/70287b1/02ccb06/dffbc08/Build/spdlog/Install/include/spdlog/details\n",
            "-- Installing: /root/.hunter/_Base/70287b1/02ccb06/dffbc08/Build/spdlog/Install/include/spdlog/details/registry.h\n",
            "-- Installing: /root/.hunter/_Base/70287b1/02ccb06/dffbc08/Build/spdlog/Install/include/spdlog/details/async_log_helper.h\n",
            "-- Installing: /root/.hunter/_Base/70287b1/02ccb06/dffbc08/Build/spdlog/Install/include/spdlog/details/logger_impl.h\n",
            "-- Installing: /root/.hunter/_Base/70287b1/02ccb06/dffbc08/Build/spdlog/Install/include/spdlog/details/null_mutex.h\n",
            "-- Installing: /root/.hunter/_Base/70287b1/02ccb06/dffbc08/Build/spdlog/Install/include/spdlog/details/mpmc_bounded_q.h\n",
            "-- Installing: /root/.hunter/_Base/70287b1/02ccb06/dffbc08/Build/spdlog/Install/include/spdlog/details/log_msg.h\n",
            "-- Installing: /root/.hunter/_Base/70287b1/02ccb06/dffbc08/Build/spdlog/Install/include/spdlog/details/async_logger_impl.h\n",
            "-- Installing: /root/.hunter/_Base/70287b1/02ccb06/dffbc08/Build/spdlog/Install/include/spdlog/details/os.h\n",
            "-- Installing: /root/.hunter/_Base/70287b1/02ccb06/dffbc08/Build/spdlog/Install/include/spdlog/details/pattern_formatter_impl.h\n",
            "-- Installing: /root/.hunter/_Base/70287b1/02ccb06/dffbc08/Build/spdlog/Install/include/spdlog/details/spdlog_impl.h\n",
            "-- Installing: /root/.hunter/_Base/70287b1/02ccb06/dffbc08/Build/spdlog/Install/include/spdlog/details/file_helper.h\n",
            "-- Installing: /root/.hunter/_Base/70287b1/02ccb06/dffbc08/Build/spdlog/Install/include/spdlog/sinks\n",
            "-- Installing: /root/.hunter/_Base/70287b1/02ccb06/dffbc08/Build/spdlog/Install/include/spdlog/sinks/dist_sink.h\n",
            "-- Installing: /root/.hunter/_Base/70287b1/02ccb06/dffbc08/Build/spdlog/Install/include/spdlog/sinks/base_sink.h\n",
            "-- Installing: /root/.hunter/_Base/70287b1/02ccb06/dffbc08/Build/spdlog/Install/include/spdlog/sinks/syslog_sink.h\n",
            "-- Installing: /root/.hunter/_Base/70287b1/02ccb06/dffbc08/Build/spdlog/Install/include/spdlog/sinks/android_sink.h\n",
            "-- Installing: /root/.hunter/_Base/70287b1/02ccb06/dffbc08/Build/spdlog/Install/include/spdlog/sinks/windebug_sink.h\n",
            "-- Installing: /root/.hunter/_Base/70287b1/02ccb06/dffbc08/Build/spdlog/Install/include/spdlog/sinks/ansicolor_sink.h\n",
            "-- Installing: /root/.hunter/_Base/70287b1/02ccb06/dffbc08/Build/spdlog/Install/include/spdlog/sinks/stdout_sinks.h\n",
            "-- Installing: /root/.hunter/_Base/70287b1/02ccb06/dffbc08/Build/spdlog/Install/include/spdlog/sinks/file_sinks.h\n",
            "-- Installing: /root/.hunter/_Base/70287b1/02ccb06/dffbc08/Build/spdlog/Install/include/spdlog/sinks/null_sink.h\n",
            "-- Installing: /root/.hunter/_Base/70287b1/02ccb06/dffbc08/Build/spdlog/Install/include/spdlog/sinks/msvc_sink.h\n",
            "-- Installing: /root/.hunter/_Base/70287b1/02ccb06/dffbc08/Build/spdlog/Install/include/spdlog/sinks/ostream_sink.h\n",
            "-- Installing: /root/.hunter/_Base/70287b1/02ccb06/dffbc08/Build/spdlog/Install/include/spdlog/sinks/wincolor_sink.h\n",
            "-- Installing: /root/.hunter/_Base/70287b1/02ccb06/dffbc08/Build/spdlog/Install/include/spdlog/sinks/sink.h\n",
            "-- Installing: /root/.hunter/_Base/70287b1/02ccb06/dffbc08/Build/spdlog/Install/include/spdlog/fmt\n",
            "-- Installing: /root/.hunter/_Base/70287b1/02ccb06/dffbc08/Build/spdlog/Install/include/spdlog/fmt/bundled\n",
            "-- Installing: /root/.hunter/_Base/70287b1/02ccb06/dffbc08/Build/spdlog/Install/include/spdlog/fmt/bundled/time.h\n",
            "-- Installing: /root/.hunter/_Base/70287b1/02ccb06/dffbc08/Build/spdlog/Install/include/spdlog/fmt/bundled/ostream.h\n",
            "-- Installing: /root/.hunter/_Base/70287b1/02ccb06/dffbc08/Build/spdlog/Install/include/spdlog/fmt/bundled/posix.cc\n",
            "-- Installing: /root/.hunter/_Base/70287b1/02ccb06/dffbc08/Build/spdlog/Install/include/spdlog/fmt/bundled/printf.cc\n",
            "-- Installing: /root/.hunter/_Base/70287b1/02ccb06/dffbc08/Build/spdlog/Install/include/spdlog/fmt/bundled/printf.h\n",
            "-- Installing: /root/.hunter/_Base/70287b1/02ccb06/dffbc08/Build/spdlog/Install/include/spdlog/fmt/bundled/LICENSE.rst\n",
            "-- Installing: /root/.hunter/_Base/70287b1/02ccb06/dffbc08/Build/spdlog/Install/include/spdlog/fmt/bundled/ostream.cc\n",
            "-- Installing: /root/.hunter/_Base/70287b1/02ccb06/dffbc08/Build/spdlog/Install/include/spdlog/fmt/bundled/format.h\n",
            "-- Installing: /root/.hunter/_Base/70287b1/02ccb06/dffbc08/Build/spdlog/Install/include/spdlog/fmt/bundled/format.cc\n",
            "-- Installing: /root/.hunter/_Base/70287b1/02ccb06/dffbc08/Build/spdlog/Install/include/spdlog/fmt/bundled/posix.h\n",
            "-- Installing: /root/.hunter/_Base/70287b1/02ccb06/dffbc08/Build/spdlog/Install/include/spdlog/fmt/ostr.h\n",
            "-- Installing: /root/.hunter/_Base/70287b1/02ccb06/dffbc08/Build/spdlog/Install/include/spdlog/fmt/fmt.h\n",
            "-- Installing: /root/.hunter/_Base/70287b1/02ccb06/dffbc08/Build/spdlog/Install/include/spdlog/spdlog.h\n",
            "-- Installing: /root/.hunter/_Base/70287b1/02ccb06/dffbc08/Build/spdlog/Install/include/spdlog/async_logger.h\n",
            "-- Installing: /root/.hunter/_Base/70287b1/02ccb06/dffbc08/Build/spdlog/Install/include/spdlog/tweakme.h\n",
            "-- Installing: /root/.hunter/_Base/70287b1/02ccb06/dffbc08/Build/spdlog/Install/include/spdlog/common.h\n",
            "-- Installing: /root/.hunter/_Base/70287b1/02ccb06/dffbc08/Build/spdlog/Install/include/spdlog/formatter.h\n",
            "-- Installing: /root/.hunter/_Base/70287b1/02ccb06/dffbc08/Build/spdlog/Install/include/spdlog/logger.h\n",
            "-- Installing: /root/.hunter/_Base/70287b1/02ccb06/dffbc08/Build/spdlog/Install/lib/cmake/spdlog/spdlogConfig.cmake\n",
            "-- Installing: /root/.hunter/_Base/70287b1/02ccb06/dffbc08/Build/spdlog/Install/lib/cmake/spdlog/spdlogConfigVersion.cmake\n",
            "-- Installing: /root/.hunter/_Base/70287b1/02ccb06/dffbc08/Build/spdlog/Install/lib/pkgconfig/spdlog.pc\n",
            "-- Installing: /root/.hunter/_Base/70287b1/02ccb06/dffbc08/Build/spdlog/Install/lib/cmake/spdlog/spdlogTargets.cmake\n",
            "loading initial cache file /root/.hunter/_Base/70287b1/02ccb06/dffbc08/Build/spdlog/args.cmake\n",
            "[ 50%] Completed 'spdlog-Release'\n",
            "[ 50%] Built target spdlog-Release\n",
            "Scanning dependencies of target spdlog-Debug\n",
            "[ 56%] Creating directories for 'spdlog-Debug'\n",
            "[ 62%] Performing download step (download, verify and extract) for 'spdlog-Debug'\n",
            "-- verifying file...\n",
            "       file='/root/.hunter/_Base/Download/spdlog/0.16.3-p1/1400ca4/v0.16.3-p1.tar.gz'\n",
            "-- File already exists and hash match (skip download):\n",
            "  file='/root/.hunter/_Base/Download/spdlog/0.16.3-p1/1400ca4/v0.16.3-p1.tar.gz'\n",
            "  SHA1='1400ca456ad7c5ba89491f0dd3cd8935a16fe65c'\n",
            "-- extracting...\n",
            "     src='/root/.hunter/_Base/Download/spdlog/0.16.3-p1/1400ca4/v0.16.3-p1.tar.gz'\n",
            "     dst='/root/.hunter/_Base/70287b1/02ccb06/dffbc08/Build/spdlog/Source'\n",
            "-- extracting... [tar xfz]\n",
            "-- extracting... [analysis]\n",
            "-- extracting... [rename]\n",
            "-- extracting... [clean up]\n",
            "-- extracting... done\n",
            "[ 68%] No patch step for 'spdlog-Debug'\n",
            "[ 75%] No update step for 'spdlog-Debug'\n",
            "[ 81%] Performing configure step for 'spdlog-Debug'\n",
            "loading initial cache file /root/.hunter/_Base/70287b1/02ccb06/dffbc08/cache.cmake\n",
            "loading initial cache file /root/.hunter/_Base/70287b1/02ccb06/dffbc08/Build/spdlog/args.cmake\n",
            "-- The C compiler identification is GNU 7.5.0\n",
            "-- The CXX compiler identification is GNU 7.5.0\n",
            "-- Check for working C compiler: /usr/bin/cc\n",
            "-- Check for working C compiler: /usr/bin/cc -- works\n",
            "-- Detecting C compile features\n",
            "-- Detecting C compile features - done\n",
            "-- Check for working CXX compiler: /usr/bin/c++\n",
            "-- Check for working CXX compiler: /usr/bin/c++ -- works\n",
            "-- Detecting CXX compile features\n",
            "-- Detecting CXX compile features - done\n",
            "-- [hunter] HUNTER_ROOT: /root/.hunter\n",
            "-- [hunter] [ Hunter-ID: 70287b1 | Toolchain-ID: 02ccb06 | Config-ID: dffbc08 ]\n",
            "-- [hunter] FMT_ROOT: /root/.hunter/_Base/70287b1/02ccb06/dffbc08/Install (ver.: 4.1.0)\n",
            "-- Looking for pthread.h\n",
            "-- Looking for pthread.h - found\n",
            "-- Looking for pthread_create\n",
            "-- Looking for pthread_create - not found\n",
            "-- Looking for pthread_create in pthreads\n",
            "-- Looking for pthread_create in pthreads - not found\n",
            "-- Looking for pthread_create in pthread\n",
            "-- Looking for pthread_create in pthread - found\n",
            "-- Found Threads: TRUE  \n",
            "-- Configuring done\n",
            "-- Generating done\n",
            "-- Build files have been written to: /root/.hunter/_Base/70287b1/02ccb06/dffbc08/Build/spdlog/Build/spdlog-Debug-prefix/src/spdlog-Debug-build\n",
            "[ 87%] Performing build step for 'spdlog-Debug'\n",
            "[ 93%] Performing install step for 'spdlog-Debug'\n",
            "Install the project...\n",
            "-- Install configuration: \"Debug\"\n",
            "-- Up-to-date: /root/.hunter/_Base/70287b1/02ccb06/dffbc08/Build/spdlog/Install/include/spdlog\n",
            "-- Up-to-date: /root/.hunter/_Base/70287b1/02ccb06/dffbc08/Build/spdlog/Install/include/spdlog/details\n",
            "-- Up-to-date: /root/.hunter/_Base/70287b1/02ccb06/dffbc08/Build/spdlog/Install/include/spdlog/details/registry.h\n",
            "-- Up-to-date: /root/.hunter/_Base/70287b1/02ccb06/dffbc08/Build/spdlog/Install/include/spdlog/details/async_log_helper.h\n",
            "-- Up-to-date: /root/.hunter/_Base/70287b1/02ccb06/dffbc08/Build/spdlog/Install/include/spdlog/details/logger_impl.h\n",
            "-- Up-to-date: /root/.hunter/_Base/70287b1/02ccb06/dffbc08/Build/spdlog/Install/include/spdlog/details/null_mutex.h\n",
            "-- Up-to-date: /root/.hunter/_Base/70287b1/02ccb06/dffbc08/Build/spdlog/Install/include/spdlog/details/mpmc_bounded_q.h\n",
            "-- Up-to-date: /root/.hunter/_Base/70287b1/02ccb06/dffbc08/Build/spdlog/Install/include/spdlog/details/log_msg.h\n",
            "-- Up-to-date: /root/.hunter/_Base/70287b1/02ccb06/dffbc08/Build/spdlog/Install/include/spdlog/details/async_logger_impl.h\n",
            "-- Up-to-date: /root/.hunter/_Base/70287b1/02ccb06/dffbc08/Build/spdlog/Install/include/spdlog/details/os.h\n",
            "-- Up-to-date: /root/.hunter/_Base/70287b1/02ccb06/dffbc08/Build/spdlog/Install/include/spdlog/details/pattern_formatter_impl.h\n",
            "-- Up-to-date: /root/.hunter/_Base/70287b1/02ccb06/dffbc08/Build/spdlog/Install/include/spdlog/details/spdlog_impl.h\n",
            "-- Up-to-date: /root/.hunter/_Base/70287b1/02ccb06/dffbc08/Build/spdlog/Install/include/spdlog/details/file_helper.h\n",
            "-- Up-to-date: /root/.hunter/_Base/70287b1/02ccb06/dffbc08/Build/spdlog/Install/include/spdlog/sinks\n",
            "-- Up-to-date: /root/.hunter/_Base/70287b1/02ccb06/dffbc08/Build/spdlog/Install/include/spdlog/sinks/dist_sink.h\n",
            "-- Up-to-date: /root/.hunter/_Base/70287b1/02ccb06/dffbc08/Build/spdlog/Install/include/spdlog/sinks/base_sink.h\n",
            "-- Up-to-date: /root/.hunter/_Base/70287b1/02ccb06/dffbc08/Build/spdlog/Install/include/spdlog/sinks/syslog_sink.h\n",
            "-- Up-to-date: /root/.hunter/_Base/70287b1/02ccb06/dffbc08/Build/spdlog/Install/include/spdlog/sinks/android_sink.h\n",
            "-- Up-to-date: /root/.hunter/_Base/70287b1/02ccb06/dffbc08/Build/spdlog/Install/include/spdlog/sinks/windebug_sink.h\n",
            "-- Up-to-date: /root/.hunter/_Base/70287b1/02ccb06/dffbc08/Build/spdlog/Install/include/spdlog/sinks/ansicolor_sink.h\n",
            "-- Up-to-date: /root/.hunter/_Base/70287b1/02ccb06/dffbc08/Build/spdlog/Install/include/spdlog/sinks/stdout_sinks.h\n",
            "-- Up-to-date: /root/.hunter/_Base/70287b1/02ccb06/dffbc08/Build/spdlog/Install/include/spdlog/sinks/file_sinks.h\n",
            "-- Up-to-date: /root/.hunter/_Base/70287b1/02ccb06/dffbc08/Build/spdlog/Install/include/spdlog/sinks/null_sink.h\n",
            "-- Up-to-date: /root/.hunter/_Base/70287b1/02ccb06/dffbc08/Build/spdlog/Install/include/spdlog/sinks/msvc_sink.h\n",
            "-- Up-to-date: /root/.hunter/_Base/70287b1/02ccb06/dffbc08/Build/spdlog/Install/include/spdlog/sinks/ostream_sink.h\n",
            "-- Up-to-date: /root/.hunter/_Base/70287b1/02ccb06/dffbc08/Build/spdlog/Install/include/spdlog/sinks/wincolor_sink.h\n",
            "-- Up-to-date: /root/.hunter/_Base/70287b1/02ccb06/dffbc08/Build/spdlog/Install/include/spdlog/sinks/sink.h\n",
            "-- Up-to-date: /root/.hunter/_Base/70287b1/02ccb06/dffbc08/Build/spdlog/Install/include/spdlog/fmt\n",
            "-- Up-to-date: /root/.hunter/_Base/70287b1/02ccb06/dffbc08/Build/spdlog/Install/include/spdlog/fmt/bundled\n",
            "-- Up-to-date: /root/.hunter/_Base/70287b1/02ccb06/dffbc08/Build/spdlog/Install/include/spdlog/fmt/bundled/time.h\n",
            "-- Up-to-date: /root/.hunter/_Base/70287b1/02ccb06/dffbc08/Build/spdlog/Install/include/spdlog/fmt/bundled/ostream.h\n",
            "-- Up-to-date: /root/.hunter/_Base/70287b1/02ccb06/dffbc08/Build/spdlog/Install/include/spdlog/fmt/bundled/posix.cc\n",
            "-- Up-to-date: /root/.hunter/_Base/70287b1/02ccb06/dffbc08/Build/spdlog/Install/include/spdlog/fmt/bundled/printf.cc\n",
            "-- Up-to-date: /root/.hunter/_Base/70287b1/02ccb06/dffbc08/Build/spdlog/Install/include/spdlog/fmt/bundled/printf.h\n",
            "-- Up-to-date: /root/.hunter/_Base/70287b1/02ccb06/dffbc08/Build/spdlog/Install/include/spdlog/fmt/bundled/LICENSE.rst\n",
            "-- Up-to-date: /root/.hunter/_Base/70287b1/02ccb06/dffbc08/Build/spdlog/Install/include/spdlog/fmt/bundled/ostream.cc\n",
            "-- Up-to-date: /root/.hunter/_Base/70287b1/02ccb06/dffbc08/Build/spdlog/Install/include/spdlog/fmt/bundled/format.h\n",
            "-- Up-to-date: /root/.hunter/_Base/70287b1/02ccb06/dffbc08/Build/spdlog/Install/include/spdlog/fmt/bundled/format.cc\n",
            "-- Up-to-date: /root/.hunter/_Base/70287b1/02ccb06/dffbc08/Build/spdlog/Install/include/spdlog/fmt/bundled/posix.h\n",
            "-- Up-to-date: /root/.hunter/_Base/70287b1/02ccb06/dffbc08/Build/spdlog/Install/include/spdlog/fmt/ostr.h\n",
            "-- Up-to-date: /root/.hunter/_Base/70287b1/02ccb06/dffbc08/Build/spdlog/Install/include/spdlog/fmt/fmt.h\n",
            "-- Up-to-date: /root/.hunter/_Base/70287b1/02ccb06/dffbc08/Build/spdlog/Install/include/spdlog/spdlog.h\n",
            "-- Up-to-date: /root/.hunter/_Base/70287b1/02ccb06/dffbc08/Build/spdlog/Install/include/spdlog/async_logger.h\n",
            "-- Up-to-date: /root/.hunter/_Base/70287b1/02ccb06/dffbc08/Build/spdlog/Install/include/spdlog/tweakme.h\n",
            "-- Up-to-date: /root/.hunter/_Base/70287b1/02ccb06/dffbc08/Build/spdlog/Install/include/spdlog/common.h\n",
            "-- Up-to-date: /root/.hunter/_Base/70287b1/02ccb06/dffbc08/Build/spdlog/Install/include/spdlog/formatter.h\n",
            "-- Up-to-date: /root/.hunter/_Base/70287b1/02ccb06/dffbc08/Build/spdlog/Install/include/spdlog/logger.h\n",
            "-- Installing: /root/.hunter/_Base/70287b1/02ccb06/dffbc08/Build/spdlog/Install/lib/cmake/spdlog/spdlogConfig.cmake\n",
            "-- Installing: /root/.hunter/_Base/70287b1/02ccb06/dffbc08/Build/spdlog/Install/lib/cmake/spdlog/spdlogConfigVersion.cmake\n",
            "-- Installing: /root/.hunter/_Base/70287b1/02ccb06/dffbc08/Build/spdlog/Install/lib/pkgconfig/spdlog.pc\n",
            "-- Installing: /root/.hunter/_Base/70287b1/02ccb06/dffbc08/Build/spdlog/Install/lib/cmake/spdlog/spdlogTargets.cmake\n",
            "loading initial cache file /root/.hunter/_Base/70287b1/02ccb06/dffbc08/Build/spdlog/args.cmake\n",
            "[100%] Completed 'spdlog-Debug'\n",
            "[100%] Built target spdlog-Debug\n",
            "-- [hunter] Build step successful (dir: /root/.hunter/_Base/70287b1/02ccb06/dffbc08/Build/spdlog)\n",
            "-- [hunter] Cache saved: /root/.hunter/_Base/Cache/raw/af7a45b4be67e7e3ad200971b7c935fdcab455a4.tar.bz2\n",
            "-- Looking for pthread.h\n",
            "-- Looking for pthread.h - found\n",
            "-- Looking for pthread_create\n",
            "-- Looking for pthread_create - not found\n",
            "-- Looking for pthread_create in pthreads\n",
            "-- Looking for pthread_create in pthreads - not found\n",
            "-- Looking for pthread_create in pthread\n",
            "-- Looking for pthread_create in pthread - found\n",
            "-- Found Threads: TRUE  \n",
            "-- Configuring done\n",
            "-- Generating done\n",
            "-- Build files have been written to: /content/build\n",
            "\u001b[35m\u001b[1mScanning dependencies of target obj_khaiii\u001b[0m\n",
            "[  3%] \u001b[32mBuilding CXX object CMakeFiles/obj_khaiii.dir/src/main/cpp/khaiii/Config.cpp.o\u001b[0m\n",
            "[  7%] \u001b[32mBuilding CXX object CMakeFiles/obj_khaiii.dir/src/main/cpp/khaiii/Embed.cpp.o\u001b[0m\n",
            "[ 11%] \u001b[32mBuilding CXX object CMakeFiles/obj_khaiii.dir/src/main/cpp/khaiii/ErrPatch.cpp.o\u001b[0m\n",
            "[ 15%] \u001b[32mBuilding CXX object CMakeFiles/obj_khaiii.dir/src/main/cpp/khaiii/KhaiiiImpl.cpp.o\u001b[0m\n",
            "[ 19%] \u001b[32mBuilding CXX object CMakeFiles/obj_khaiii.dir/src/main/cpp/khaiii/Morph.cpp.o\u001b[0m\n",
            "[ 23%] \u001b[32mBuilding CXX object CMakeFiles/obj_khaiii.dir/src/main/cpp/khaiii/Preanal.cpp.o\u001b[0m\n",
            "[ 26%] \u001b[32mBuilding CXX object CMakeFiles/obj_khaiii.dir/src/main/cpp/khaiii/Resource.cpp.o\u001b[0m\n",
            "[ 30%] \u001b[32mBuilding CXX object CMakeFiles/obj_khaiii.dir/src/main/cpp/khaiii/Restore.cpp.o\u001b[0m\n",
            "[ 34%] \u001b[32mBuilding CXX object CMakeFiles/obj_khaiii.dir/src/main/cpp/khaiii/Sentence.cpp.o\u001b[0m\n",
            "[ 38%] \u001b[32mBuilding CXX object CMakeFiles/obj_khaiii.dir/src/main/cpp/khaiii/Tagger.cpp.o\u001b[0m\n",
            "[ 42%] \u001b[32mBuilding CXX object CMakeFiles/obj_khaiii.dir/src/main/cpp/khaiii/Trie.cpp.o\u001b[0m\n",
            "[ 46%] \u001b[32mBuilding CXX object CMakeFiles/obj_khaiii.dir/src/main/cpp/khaiii/Word.cpp.o\u001b[0m\n",
            "[ 50%] \u001b[32mBuilding CXX object CMakeFiles/obj_khaiii.dir/src/main/cpp/khaiii/khaiii_api.cpp.o\u001b[0m\n",
            "[ 53%] \u001b[32mBuilding CXX object CMakeFiles/obj_khaiii.dir/src/main/cpp/khaiii/khaiii_dev.cpp.o\u001b[0m\n",
            "[ 57%] \u001b[32mBuilding CXX object CMakeFiles/obj_khaiii.dir/src/main/cpp/khaiii/nn/Conv1d.cpp.o\u001b[0m\n",
            "[ 61%] \u001b[32mBuilding CXX object CMakeFiles/obj_khaiii.dir/src/main/cpp/khaiii/nn/Linear.cpp.o\u001b[0m\n",
            "[ 65%] \u001b[32mBuilding CXX object CMakeFiles/obj_khaiii.dir/src/main/cpp/khaiii/nn/tensor.cpp.o\u001b[0m\n",
            "[ 65%] Built target obj_khaiii\n",
            "\u001b[35m\u001b[1mScanning dependencies of target khaiii\u001b[0m\n",
            "[ 69%] \u001b[32m\u001b[1mLinking CXX shared library lib/libkhaiii.so\u001b[0m\n",
            "[ 69%] Built target khaiii\n",
            "\u001b[35m\u001b[1mScanning dependencies of target bin_khaiii\u001b[0m\n",
            "[ 73%] \u001b[32mBuilding CXX object CMakeFiles/bin_khaiii.dir/src/main/cpp/main.cpp.o\u001b[0m\n",
            "[ 76%] \u001b[32m\u001b[1mLinking CXX executable bin/khaiii\u001b[0m\n",
            "[ 76%] Built target bin_khaiii\n",
            "\u001b[35m\u001b[1mScanning dependencies of target test_khaiii\u001b[0m\n",
            "[ 80%] \u001b[32mBuilding CXX object CMakeFiles/test_khaiii.dir/src/test/cpp/test_main.cpp.o\u001b[0m\n",
            "[ 84%] \u001b[32mBuilding CXX object CMakeFiles/test_khaiii.dir/src/test/cpp/khaiii/ErrPatchTest.cpp.o\u001b[0m\n",
            "[ 88%] \u001b[32mBuilding CXX object CMakeFiles/test_khaiii.dir/src/test/cpp/khaiii/KhaiiiApiTest.cpp.o\u001b[0m\n",
            "[ 92%] \u001b[32mBuilding CXX object CMakeFiles/test_khaiii.dir/src/test/cpp/khaiii/KhaiiiDevTest.cpp.o\u001b[0m\n",
            "[ 96%] \u001b[32mBuilding CXX object CMakeFiles/test_khaiii.dir/src/test/cpp/khaiii/PreanalTest.cpp.o\u001b[0m\n",
            "[100%] \u001b[32m\u001b[1mLinking CXX executable test/khaiii\u001b[0m\n",
            "[100%] Built target test_khaiii\n",
            "\u001b[35m\u001b[1mScanning dependencies of target resource\u001b[0m\n",
            "INFO:root:config: {\n",
            "    \"cutoff\": 1,\n",
            "    \"embed_dim\": 35,\n",
            "    \"hidden_dim\": 320,\n",
            "    \"model_id\": \"munjong.cut1.win4.sdo0.1.emb35.lr0.001.lrd0.9.bs500\",\n",
            "    \"rsc_src\": \"../rsc/src\",\n",
            "    \"window\": 4\n",
            "}\n",
            "INFO:root:vocab.in: 5621 entries, 0 cutoff\n",
            "INFO:root:vocab.out: 500 entries, 0 cutoff\n",
            "INFO:root:restore.dic: 4303 entries\n",
            "INFO:root:preanal.manual\n",
            "INFO:root:preanal.auto\n",
            "INFO:root:trie saved: /content/build/share/khaiii/preanal.tri\n",
            "INFO:root:total nodes: 120812\n",
            "INFO:root:expected size: 1932992\n",
            "INFO:root:value saved: /content/build/share/khaiii/preanal.val\n",
            "INFO:root:total entries: 83373\n",
            "INFO:root:expected size: 593730\n",
            "INFO:root:restore.key: 17212\n",
            "INFO:root:restore.val: 68848\n",
            "INFO:root:restore.one: 503\n",
            "INFO:root:base.errpatch.manual\n",
            "INFO:root:base.errpatch.auto\n",
            "INFO:root:trie saved: /content/build/share/khaiii/errpatch.tri\n",
            "INFO:root:total nodes: 2067\n",
            "INFO:root:expected size: 33072\n",
            "INFO:root:length saved: /content/build/share/khaiii/errpatch.len\n",
            "INFO:root:expected size: 551\n",
            "INFO:root:value saved: /content/build/share/khaiii/errpatch.val\n",
            "INFO:root:total entries: 550\n",
            "INFO:root:expected size: 7632\n",
            "Built target resource\n",
            "[ 65%] Built target obj_khaiii\n",
            "[ 69%] Built target khaiii\n",
            "[ 76%] Built target bin_khaiii\n",
            "[100%] Built target test_khaiii\n",
            "\u001b[36mInstall the project...\u001b[0m\n",
            "-- Install configuration: \"\"\n",
            "-- Installing: /usr/local/include/khaiii\n",
            "-- Installing: /usr/local/include/khaiii/khaiii_dev.h\n",
            "-- Installing: /usr/local/include/khaiii/KhaiiiApi.hpp\n",
            "-- Installing: /usr/local/include/khaiii/khaiii_api.h\n",
            "-- Installing: /usr/local/share/khaiii\n",
            "-- Installing: /usr/local/share/khaiii/conv.5.fil\n",
            "-- Installing: /usr/local/share/khaiii/preanal.tri\n",
            "-- Installing: /usr/local/share/khaiii/restore.one\n",
            "-- Installing: /usr/local/share/khaiii/conv.4.fil\n",
            "-- Installing: /usr/local/share/khaiii/hdn2tag.lin\n",
            "-- Installing: /usr/local/share/khaiii/conv.3.fil\n",
            "-- Installing: /usr/local/share/khaiii/cnv2hdn.lin\n",
            "-- Installing: /usr/local/share/khaiii/errpatch.val\n",
            "-- Installing: /usr/local/share/khaiii/errpatch.len\n",
            "-- Installing: /usr/local/share/khaiii/conv.2.fil\n",
            "-- Installing: /usr/local/share/khaiii/embed.bin\n",
            "-- Installing: /usr/local/share/khaiii/restore.key\n",
            "-- Installing: /usr/local/share/khaiii/errpatch.tri\n",
            "-- Installing: /usr/local/share/khaiii/restore.val\n",
            "-- Installing: /usr/local/share/khaiii/config.json\n",
            "-- Installing: /usr/local/share/khaiii/preanal.val\n",
            "-- Installing: /usr/local/lib/libkhaiii.so.0.4\n",
            "-- Installing: /usr/local/lib/libkhaiii.so.0\n",
            "-- Installing: /usr/local/lib/libkhaiii.so\n",
            "-- Installing: /usr/local/bin/khaiii\n",
            "\u001b[35m\u001b[1mScanning dependencies of target package_python\u001b[0m\n",
            "\u001b[36mRun CPack packaging tool for source...\u001b[0m\n",
            "CPack: Create package using ZIP\n",
            "CPack: Install projects\n",
            "CPack: - Install directory: /content/khaiii\n",
            "CPack: Create package\n",
            "CPack: - package: /content/build/khaiii-0.4.zip generated.\n",
            "Built target package_python\n",
            "Processing ./build/package_python\n",
            "Building wheels for collected packages: khaiii\n",
            "  Building wheel for khaiii (setup.py) ... \u001b[?25l\u001b[?25hdone\n",
            "  Created wheel for khaiii: filename=khaiii-0.4-cp36-none-any.whl size=22883126 sha256=1996bdf3af5404308b5c02667afc68bc3f0ad18239de0a8d05840885f5114a42\n",
            "  Stored in directory: /tmp/pip-ephem-wheel-cache-iar__sbm/wheels/6b/4d/23/84c4acc3ef5226ca75c4e3ad84c39a0654d11c3a9c1941193f\n",
            "Successfully built khaiii\n",
            "Installing collected packages: khaiii\n",
            "Successfully installed khaiii-0.4\n"
          ],
          "name": "stdout"
        }
      ]
    },
    {
      "cell_type": "code",
      "metadata": {
        "id": "NPAYcS170S5I",
        "colab_type": "code",
        "colab": {
          "base_uri": "https://localhost:8080/",
          "height": 1000
        },
        "outputId": "50d83bc6-a61d-4d20-f699-e79d83ade1d6"
      },
      "source": [
        "# Khaiii 사용자 사전 추가\n",
        "''' \n",
        "** Khaiii 사용자 사전 추가를 참고  **\n",
        "preanal.manual 데이터를 download 받아서,\n",
        "colab -> /content/khaiii/rsc/src 파일에 붙여넣기\n",
        "'''\n",
        "\n",
        "!cd /content/khaiii/rsc\n",
        "!mkdir -p /content/build/share/khaiii\n",
        "!PYTHONPATH=/content/khaiii/src/main/python /content/khaiii/rsc/bin/compile_preanal.py --rsc-src=/content/khaiii/rsc/src --rsc-dir=/content/build/share/khaiii"
      ],
      "execution_count": 2,
      "outputs": [
        {
          "output_type": "stream",
          "text": [
            "INFO:root:preanal.manual\n",
            "INFO:root:preanal.auto\n",
            "ERROR:root:preanal.auto:4555: [DUPLICATED] with \"가득*\t가득/NNP\": \"가득\t가득/MAG\"\n",
            "ERROR:root:preanal.auto:4703: [DUPLICATED] with \"가마솥*\t가마솥/NNP\": \"가마솥\t가마솥/NNG\"\n",
            "ERROR:root:preanal.auto:4909: [DUPLICATED] with \"가을*\t가을/NNP\": \"가을\t가을/NNG\"\n",
            "ERROR:root:preanal.auto:4985: [DUPLICATED] with \"가정용*\t가정용/NNP\": \"가정용\t가정/NNG + 용/XSN\"\n",
            "ERROR:root:preanal.auto:5250: [DUPLICATED] with \"각종*\t각종/NNP\": \"각종\t각종/NNG\"\n",
            "ERROR:root:preanal.auto:5756: [DUPLICATED] with \"감자*\t감자/NNP\": \"감자\t감자/NNG\"\n",
            "ERROR:root:preanal.auto:5931: [DUPLICATED] with \"강릉*\t강릉/NNP\": \"강릉\t강릉/NNP\"\n",
            "ERROR:root:preanal.auto:6296: [DUPLICATED] with \"개개*\t개개/NNP\": \"개개\t개개/NNG\"\n",
            "ERROR:root:preanal.auto:6555: [DUPLICATED] with \"개입*\t개입/NNP\": \"개입\t개입/NNG\"\n",
            "ERROR:root:preanal.auto:7122: [DUPLICATED] with \"건강한*\t건강한/NNP\": \"건강한\t건강/NNG + 하/XSA + ㄴ/ETM\"\n",
            "ERROR:root:preanal.auto:7959: [DUPLICATED] with \"겨울*\t겨울/NNP\": \"겨울\t겨울/NNG\"\n",
            "ERROR:root:preanal.auto:8891: [DUPLICATED] with \"곁들여*\t곁들여/NNP\": \"곁들여\t곁들이/VV + 어/EC\"\n",
            "ERROR:root:preanal.auto:8944: [DUPLICATED] with \"계란*\t계란/NNP\": \"계란\t계란/NNG\"\n",
            "ERROR:root:preanal.auto:9069: [DUPLICATED] with \"계절*\t계절/NNP\": \"계절\t계절/NNG\"\n",
            "ERROR:root:preanal.auto:9073: [DUPLICATED] with \"계절에*\t계절에/NNP\": \"계절에\t계절/NNG + 에/JKB\"\n",
            "ERROR:root:preanal.auto:9077: [DUPLICATED] with \"계절의*\t계절의/NNP\": \"계절의\t계절/NNG + 의/JKG\"\n",
            "ERROR:root:preanal.auto:9200: [DUPLICATED] with \"고구마*\t고구마/NNP\": \"고구마\t고구마/NNG\"\n",
            "ERROR:root:preanal.auto:9213: [DUPLICATED] with \"고급*\t고급/NNP\": \"고급\t고급/NNG\"\n",
            "ERROR:root:preanal.auto:9762: [DUPLICATED] with \"곡물*\t곡물/NNP\": \"곡물\t곡물/NNG\"\n",
            "ERROR:root:preanal.auto:9834: [DUPLICATED] with \"골든*\t골든/NNP\": \"골든\t골든/NNG\"\n",
            "ERROR:root:preanal.auto:10672: [DUPLICATED] with \"과일*\t과일/NNP\": \"과일\t과일/NNG\"\n",
            "ERROR:root:preanal.auto:10969: [DUPLICATED] with \"관련없는*\t관련없는/NNP\": \"관련없는\t관련/NNG + 없/VA + 는/ETM\"\n",
            "ERROR:root:preanal.auto:11299: [DUPLICATED] with \"광주*\t광주/NNP\": \"광주\t광주/NNP\"\n",
            "ERROR:root:preanal.auto:11690: [DUPLICATED] with \"교토*\t교토/NNP\": \"교토\t교토/NNP\"\n",
            "ERROR:root:preanal.auto:11832: [DUPLICATED] with \"구름*\t구름/NNP\": \"구름\t구름/NNG\"\n",
            "ERROR:root:preanal.auto:12628: [DUPLICATED] with \"군고구마*\t군고구마/NNP\": \"군고구마*\t군고구마/NNG\"\n",
            "ERROR:root:preanal.auto:12802: [DUPLICATED] with \"굽는*\t굽는/NNP\": \"굽는\t굽/VV + 는/ETM\"\n",
            "ERROR:root:preanal.auto:13266: [DUPLICATED] with \"그냥*\t그냥/NNP\": \"그냥\t그냥/MAG\"\n",
            "ERROR:root:preanal.auto:14686: [DUPLICATED] with \"기본*\t기본/NNP\": \"기본\t기본/NNG\"\n",
            "ERROR:root:preanal.auto:15169: [DUPLICATED] with \"기타*\t기타/NNP\": \"기타\t기타/NNG\"\n",
            "ERROR:root:preanal.auto:15582: [DUPLICATED] with \"깊고*\t깊고/NNP\": \"깊고\t깊/VA + 고/EC\"\n",
            "ERROR:root:preanal.auto:15869: [DUPLICATED] with \"껍질*\t껍질/NNP\": \"껍질\t껍질/NNG\"\n",
            "ERROR:root:preanal.auto:16259: [DUPLICATED] with \"끓여*\t끓여/NNP\": \"끓여\t끓이/VV + 어/EC\"\n",
            "ERROR:root:preanal.auto:16554: [DUPLICATED] with \"나른한*\t나른한/NNP\": \"나른한\t나른/XR + 하/XSA + ㄴ/ETM\"\n",
            "ERROR:root:preanal.auto:16571: [DUPLICATED] with \"나무*\t나무/NNP\": \"나무\t나무/NNG\"\n",
            "ERROR:root:preanal.auto:16819: [DUPLICATED] with \"나의*\t나의/NNP\": \"나의\t나/NP + 의/JKG\"\n",
            "ERROR:root:preanal.auto:16834: [DUPLICATED] with \"나이트*\t나이트/NNP\": \"나이트\t나이트/NNG\"\n",
            "ERROR:root:preanal.auto:17080: [DUPLICATED] with \"날마다*\t날마다/NNP\": \"날마다\t날/NNG + 마다/JX\"\n",
            "ERROR:root:preanal.auto:17087: [DUPLICATED] with \"날씨*\t날씨/NNP\": \"날씨\t날씨/NNG\"\n",
            "ERROR:root:preanal.auto:18342: [DUPLICATED] with \"넣은*\t넣은/NNP\": \"넣은\t넣/VV + 은/ETM\"\n",
            "ERROR:root:preanal.auto:18611: [DUPLICATED] with \"노르딕*\t노르딕/NNP\": \"노르딕\t노르딕/NNP\"\n",
            "ERROR:root:preanal.auto:18790: [DUPLICATED] with \"녹차*\t녹차/NNP\": \"녹차\t녹차/NNG\"\n",
            "ERROR:root:preanal.auto:19089: [DUPLICATED] with \"농부의*\t농부의/NNP\": \"농부의\t농부/NNG + 의/JKG\"\n",
            "ERROR:root:preanal.auto:19592: [DUPLICATED] with \"뉴욕*\t뉴욕/NNP\": \"뉴욕\t뉴욕/NNP\"\n",
            "ERROR:root:preanal.auto:20095: [DUPLICATED] with \"다름*\t다름/NNP\": \"다름\t다르/VA + ㅁ/ETN\"\n",
            "ERROR:root:preanal.auto:20160: [DUPLICATED] with \"다수*\t다수/NNP\": \"다수\t다수/NNG\"\n",
            "ERROR:root:preanal.auto:20228: [DUPLICATED] with \"다져*\t다져/NNP\": \"다져\t다지/VV + 어/EC\"\n",
            "ERROR:root:preanal.auto:20588: [DUPLICATED] with \"단호한*\t단호한/NNP\": \"단호한\t단호/XR + 하/XSA + ㄴ/ETM\"\n",
            "ERROR:root:preanal.auto:20613: [DUPLICATED] with \"달걀말이*\t달걀말이/NNP\": \"달걀말이*\t달걀말이/NNG\"\n",
            "ERROR:root:preanal.auto:20623: [DUPLICATED] with \"달달*\t달달/NNP\": \"달달\t달달/MAG\"\n",
            "ERROR:root:preanal.auto:20643: [DUPLICATED] with \"달라지는*\t달라지는/NNP\": \"달라지는\t달라지/VV + 는/ETM\"\n",
            "ERROR:root:preanal.auto:20733: [DUPLICATED] with \"달빛*\t달빛/NNP\": \"달빛\t달빛/NNG\"\n",
            "ERROR:root:preanal.auto:20773: [DUPLICATED] with \"달콤하고*\t달콤하고/NNP\": \"달콤하고\t달콤/XR + 하/XSA + 고/EC\"\n",
            "ERROR:root:preanal.auto:20774: [DUPLICATED] with \"달콤한*\t달콤한/NNP\": \"달콤한\t달콤/XR + 하/XSA + ㄴ/ETM\"\n",
            "ERROR:root:preanal.auto:20981: [DUPLICATED] with \"당근*\t당근/NNP\": \"당근\t당근/NNG\"\n",
            "ERROR:root:preanal.auto:21290: [DUPLICATED] with \"대나무*\t대나무/NNP\": \"대나무\t대나무/NNG\"\n",
            "ERROR:root:preanal.auto:21773: [DUPLICATED] with \"대추*\t대추/NNP\": \"대추\t대추/NNG\"\n",
            "ERROR:root:preanal.auto:22081: [DUPLICATED] with \"더블*\t더블/NNP\": \"더블\t더블/NNG\"\n",
            "ERROR:root:preanal.auto:22213: [DUPLICATED] with \"덮밥*\t덮밥/NNP\": \"덮밥\t덮밥/NNG\"\n",
            "ERROR:root:preanal.auto:22304: [DUPLICATED] with \"덴마크*\t덴마크/NNP\": \"덴마크\t덴마크/NNP\"\n",
            "ERROR:root:preanal.auto:22336: [DUPLICATED] with \"도넛*\t도넛/NNP\": \"도넛\t도넛/NNG\"\n",
            "ERROR:root:preanal.auto:22387: [DUPLICATED] with \"도라지*\t도라지/NNP\": \"도라지\t도라지/NNG\"\n",
            "ERROR:root:preanal.auto:23169: [DUPLICATED] with \"동동*\t동동/NNP\": \"동동\t동동/MAG\"\n",
            "ERROR:root:preanal.auto:23352: [DUPLICATED] with \"동안*\t동안/NNP\": \"동안\t동안/NNG\"\n",
            "ERROR:root:preanal.auto:23572: [DUPLICATED] with \"돼지고기*\t돼지고기/NNP\": \"돼지고기\t돼지고기/NNG\"\n",
            "ERROR:root:preanal.auto:24352: [DUPLICATED] with \"드레스*\t드레스/NNP\": \"드레스\t드레스/NNG\"\n",
            "ERROR:root:preanal.auto:24530: [DUPLICATED] with \"들어간*\t들어간/NNP\": \"들어간\t들어가/VV + ㄴ/ETM\"\n",
            "ERROR:root:preanal.auto:24710: [DUPLICATED] with \"듬뿍*\t듬뿍/NNP\": \"듬뿍\t듬뿍/MAG\"\n",
            "ERROR:root:preanal.auto:24895: [DUPLICATED] with \"디자인*\t디자인/NNP\": \"디자인\t디자인/NNG\"\n",
            "ERROR:root:preanal.auto:24937: [DUPLICATED] with \"따뜻한*\t따뜻한/NNP\": \"따뜻한\t따뜻/XR + 하/XSA + ㄴ/ETM\"\n",
            "ERROR:root:preanal.auto:24942: [DUPLICATED] with \"따라*\t따라/NNP\": \"따라\t따르/VV + 아/EC\"\n",
            "ERROR:root:preanal.auto:25063: [DUPLICATED] with \"딸기*\t딸기/NNP\": \"딸기\t딸기/NNG\"\n",
            "ERROR:root:preanal.auto:25132: [DUPLICATED] with \"땅콩*\t땅콩/NNP\": \"땅콩\t땅콩/NNG\"\n",
            "ERROR:root:preanal.auto:25840: [DUPLICATED] with \"라스트*\t라스트/NNP\": \"라스트\t라스트/NNG\"\n",
            "ERROR:root:preanal.auto:25906: [DUPLICATED] with \"레몬*\t레몬/NNP\": \"레몬\t레몬/NNG\"\n",
            "ERROR:root:preanal.auto:25924: [DUPLICATED] with \"레이디*\t레이디/NNP\": \"레이디\t레이디/NNG\"\n",
            "ERROR:root:preanal.auto:25969: [DUPLICATED] with \"로맨틱*\t로맨틱/NNP\": \"로맨틱\t로맨틱/NNG\"\n",
            "ERROR:root:preanal.auto:25984: [DUPLICATED] with \"로스*\t로스/NNP\": \"로스\t로스/NNP\"\n",
            "ERROR:root:preanal.auto:25987: [DUPLICATED] with \"로얄*\t로얄/NNP\": \"로얄\t로얄/NNG\"\n",
            "ERROR:root:preanal.auto:26011: [DUPLICATED] with \"루이스*\t루이스/NNP\": \"루이스\t루이스/NNP\"\n",
            "ERROR:root:preanal.auto:26211: [DUPLICATED] with \"마로니에*\t마로니에/NNP\": \"마로니에\t마로니에/NNG\"\n",
            "ERROR:root:preanal.auto:26233: [DUPLICATED] with \"마르코*\t마르코/NNP\": \"마르코\t마르코/NNP\"\n",
            "ERROR:root:preanal.auto:26438: [DUPLICATED] with \"마차*\t마차/NNP\": \"마차\t마차/NNG\"\n",
            "ERROR:root:preanal.auto:26643: [DUPLICATED] with \"만난*\t만난/NNP\": \"만난\t만나/VV + ㄴ/ETM\"\n",
            "ERROR:root:preanal.auto:26647: [DUPLICATED] with \"만남*\t만남/NNP\": \"만남\t만남/NNG\"\n",
            "ERROR:root:preanal.auto:26792: [DUPLICATED] with \"만물상*\t만물상/NNP\": \"만물상\t만물상/NNG\"\n",
            "ERROR:root:preanal.auto:27349: [DUPLICATED] with \"맛의*\t맛의/NNP\": \"맛의\t맛/NNG + 의/JKG\"\n",
            "ERROR:root:preanal.auto:27687: [DUPLICATED] with \"매장*\t매장/NNP\": \"매장\t매장/NNG\"\n",
            "ERROR:root:preanal.auto:27768: [DUPLICATED] with \"맥주*\t맥주/NNP\": \"맥주\t맥주/NNG\"\n",
            "ERROR:root:preanal.auto:27920: [DUPLICATED] with \"머신*\t머신/NNP\": \"머신\t머신/NNG\"\n",
            "ERROR:root:preanal.auto:28116: [DUPLICATED] with \"멋쟁이*\t멋쟁이/NNP\": \"멋쟁이\t멋/NNG + 쟁이/XSN\"\n",
            "ERROR:root:preanal.auto:28140: [DUPLICATED] with \"메뉴*\t메뉴/NNP\": \"메뉴\t메뉴/NNG\"\n",
            "ERROR:root:preanal.auto:28141: [DUPLICATED] with \"메뉴는*\t메뉴는/NNP\": \"메뉴는\t메뉴/NNG + 는/JX\"\n",
            "ERROR:root:preanal.auto:28516: [DUPLICATED] with \"모닝*\t모닝/NNP\": \"모닝\t모닝/NNG\"\n",
            "ERROR:root:preanal.auto:28552: [DUPLICATED] with \"모둠*\t모둠/NNP\": \"모둠\t모둠/NNG\"\n",
            "ERROR:root:preanal.auto:28609: [DUPLICATED] with \"모르는*\t모르는/NNP\": \"모르는\t모르/VV + 는/ETM\"\n",
            "ERROR:root:preanal.auto:28908: [DUPLICATED] with \"모험*\t모험/NNP\": \"모험\t모험/NNG\"\n",
            "ERROR:root:preanal.auto:29382: [DUPLICATED] with \"무궁화*\t무궁화/NNP\": \"무궁화\t무궁화/NNG\"\n",
            "ERROR:root:preanal.auto:29757: [DUPLICATED] with \"무지개*\t무지개/NNP\": \"무지개\t무지개/NNG\"\n",
            "ERROR:root:preanal.auto:30410: [DUPLICATED] with \"물방울*\t물방울/NNP\": \"물방울\t물방울/NNG\"\n",
            "ERROR:root:preanal.auto:30659: [DUPLICATED] with \"미녀*\t미녀/NNP\": \"미녀\t미녀/NNG\"\n",
            "ERROR:root:preanal.auto:30663: [DUPLICATED] with \"미니*\t미니/NNP\": \"미니\t미니/NNG\"\n",
            "ERROR:root:preanal.auto:30778: [DUPLICATED] with \"미수*\t미수/NNP\": \"미수\t미수/NNG\"\n",
            "ERROR:root:preanal.auto:30953: [DUPLICATED] with \"민들레*\t민들레/NNP\": \"민들레\t민들레/NNG\"\n",
            "ERROR:root:preanal.auto:31198: [DUPLICATED] with \"밀가루*\t밀가루/NNP\": \"밀가루\t밀가루/NNG\"\n",
            "ERROR:root:preanal.auto:31316: [DUPLICATED] with \"바게트*\t바게트/NNP\": \"바게트\t바게트/NNG\"\n",
            "ERROR:root:preanal.auto:31402: [DUPLICATED] with \"바나나*\t바나나/NNP\": \"바나나\t바나나/NNG\"\n",
            "ERROR:root:preanal.auto:31556: [DUPLICATED] with \"바보*\t바보/NNP\": \"바보\t바보/NNG\"\n",
            "ERROR:root:preanal.auto:31721: [DUPLICATED] with \"박스*\t박스/NNP\": \"박스\t박스/NNG\"\n",
            "ERROR:root:preanal.auto:32516: [DUPLICATED] with \"발송*\t발송/NNP\": \"발송\t발송/NNG\"\n",
            "ERROR:root:preanal.auto:32831: [DUPLICATED] with \"밤송이*\t밤송이/NNP\": \"밤송이\t밤송이/NNG\"\n",
            "ERROR:root:preanal.auto:33563: [DUPLICATED] with \"버라이어티*\t버라이어티/NNP\": \"버라이어티\t버라이어티/NNG\"\n",
            "ERROR:root:preanal.auto:33591: [DUPLICATED] with \"버섯*\t버섯/NNP\": \"버섯\t버섯/NNG\"\n",
            "ERROR:root:preanal.auto:33607: [DUPLICATED] with \"버터*\t버터/NNP\": \"버터\t버터/NNG\"\n",
            "ERROR:root:preanal.auto:33808: [DUPLICATED] with \"벌집*\t벌집/NNP\": \"벌집\t벌집/NNG\"\n",
            "ERROR:root:preanal.auto:33984: [DUPLICATED] with \"벗긴*\t벗긴/NNP\": \"벗긴\t벗기/VV + ㄴ/ETM\"\n",
            "ERROR:root:preanal.auto:34025: [DUPLICATED] with \"벚꽃*\t벚꽃/NNP\": \"벚꽃\t벚꽃/NNG\"\n",
            "ERROR:root:preanal.auto:34059: [DUPLICATED] with \"베이비*\t베이비/NNP\": \"베이비\t베이비/NNG\"\n",
            "ERROR:root:preanal.auto:34060: [DUPLICATED] with \"베이스*\t베이스/NNP\": \"베이스\t베이스/NNG\"\n",
            "ERROR:root:preanal.auto:34067: [DUPLICATED] with \"베이컨*\t베이컨/NNP\": \"베이컨\t베이컨/NNP\"\n",
            "ERROR:root:preanal.auto:34076: [DUPLICATED] with \"베트남*\t베트남/NNP\": \"베트남\t베트남/NNP\"\n",
            "ERROR:root:preanal.auto:34126: [DUPLICATED] with \"벨기에*\t벨기에/NNP\": \"벨기에\t벨기에/NNP\"\n",
            "ERROR:root:preanal.auto:34190: [DUPLICATED] with \"변경*\t변경/NNP\": \"변경\t변경/NNG\"\n",
            "ERROR:root:preanal.auto:34205: [DUPLICATED] with \"변동*\t변동/NNP\": \"변동\t변동/NNG\"\n",
            "ERROR:root:preanal.auto:34498: [DUPLICATED] with \"병아리*\t병아리/NNP\": \"병아리\t병아리/NNG\"\n",
            "ERROR:root:preanal.auto:34506: [DUPLICATED] with \"병에*\t병에/NNP\": \"병에\t병/NNG + 에/JKB\"\n",
            "ERROR:root:preanal.auto:34527: [DUPLICATED] with \"병을*\t병을/NNP\": \"병을\t병/NNG + 을/JKO\"\n",
            "ERROR:root:preanal.auto:34933: [DUPLICATED] with \"보자기*\t보자기/NNP\": \"보자기\t보자기/NNG\"\n",
            "ERROR:root:preanal.auto:35047: [DUPLICATED] with \"보편적인*\t보편적인/NNP\": \"보편적인\t보편/NNG + 적/XSN + 이/VCP + ㄴ/ETM\"\n",
            "ERROR:root:preanal.auto:35150: [DUPLICATED] with \"복숭아*\t복숭아/NNP\": \"복숭아\t복숭아/NNG\"\n",
            "ERROR:root:preanal.auto:35246: [DUPLICATED] with \"볶은*\t볶은/NNP\": \"볶은\t볶/VV + 은/ETM\"\n",
            "ERROR:root:preanal.auto:36141: [DUPLICATED] with \"부천*\t부천/NNP\": \"부천\t부천/NNP\"\n",
            "ERROR:root:preanal.auto:36602: [DUPLICATED] with \"불가*\t불가/NNP\": \"불가\t불가/NNG\"\n",
            "ERROR:root:preanal.auto:36649: [DUPLICATED] with \"불고기*\t불고기/NNP\": \"불고기\t불고기/NNG\"\n",
            "ERROR:root:preanal.auto:37046: [DUPLICATED] with \"붕어*\t붕어/NNP\": \"붕어\t붕어/NNG\"\n",
            "ERROR:root:preanal.auto:37102: [DUPLICATED] with \"뷔페*\t뷔페/NNP\": \"뷔페\t뷔페/NNG\"\n",
            "ERROR:root:preanal.auto:37110: [DUPLICATED] with \"브라질*\t브라질/NNP\": \"브라질\t브라질/NNP\"\n",
            "ERROR:root:preanal.auto:37123: [DUPLICATED] with \"브랜디*\t브랜디/NNP\": \"브랜디\t브랜디/NNG\"\n",
            "ERROR:root:preanal.auto:37140: [DUPLICATED] with \"블라디미르*\t블라디미르/NNP\": \"블라디미르\t블라디미르/NNP\"\n",
            "ERROR:root:preanal.auto:37148: [DUPLICATED] with \"블랙*\t블랙/NNP\": \"블랙\t블랙/NNG\"\n",
            "ERROR:root:preanal.auto:37155: [DUPLICATED] with \"블루*\t블루/NNP\": \"블루\t블루/NNG\"\n",
            "ERROR:root:preanal.auto:37392: [DUPLICATED] with \"비스킷*\t비스킷/NNP\": \"비스킷\t비스킷/NNG\"\n",
            "ERROR:root:preanal.auto:37432: [DUPLICATED] with \"비엔나*\t비엔나/NNP\": \"비엔나\t비엔나/NNP\"\n",
            "ERROR:root:preanal.auto:37689: [DUPLICATED] with \"빅토리아*\t빅토리아/NNP\": \"빅토리아\t빅토리아/NNP\"\n",
            "ERROR:root:preanal.auto:37830: [DUPLICATED] with \"빛나는*\t빛나는/NNP\": \"빛나는\t빛나/VV + 는/ETM\"\n",
            "ERROR:root:preanal.auto:37921: [DUPLICATED] with \"빨간*\t빨간/NNP\": \"빨간\t빨갛/VA + ㄴ/ETM\"\n",
            "ERROR:root:preanal.auto:38124: [DUPLICATED] with \"뿌려진*\t뿌려진/NNP\": \"뿌려진\t뿌리/VV + 어/EC + 지/VX + ㄴ/ETM\"\n",
            "ERROR:root:preanal.auto:38252: [DUPLICATED] with \"사과*\t사과/NNP\": \"사과\t사과/NNG\"\n",
            "ERROR:root:preanal.auto:38641: [DUPLICATED] with \"사르르*\t사르르/NNP\": \"사르르\t사르르/MAG\"\n",
            "ERROR:root:preanal.auto:38659: [DUPLICATED] with \"사막*\t사막/NNP\": \"사막\t사막/NNG\"\n",
            "ERROR:root:preanal.auto:39068: [DUPLICATED] with \"사이공*\t사이공/NNP\": \"사이공\t사이공/NNP\"\n",
            "ERROR:root:preanal.auto:39189: [DUPLICATED] with \"사진은*\t사진은/NNP\": \"사진은\t사진/NNG + 은/JX\"\n",
            "ERROR:root:preanal.auto:39253: [DUPLICATED] with \"사하라*\t사하라/NNP\": \"사하라\t사하라/NNP\"\n",
            "ERROR:root:preanal.auto:39279: [DUPLICATED] with \"사회*\t사회/NNP\": \"사회\t사회/NNG\"\n",
            "ERROR:root:preanal.auto:39411: [DUPLICATED] with \"사흘*\t사흘/NNP\": \"사흘\t사흘/NNG\"\n",
            "ERROR:root:preanal.auto:39674: [DUPLICATED] with \"살살*\t살살/NNP\": \"살살\t살살/MAG\"\n",
            "ERROR:root:preanal.auto:40026: [DUPLICATED] with \"상담*\t상담/NNP\": \"상담\t상담/NNG\"\n",
            "ERROR:root:preanal.auto:40368: [DUPLICATED] with \"상큼한*\t상큼한/NNP\": \"상큼한\t상큼/XR + 하/XSA + ㄴ/ETM\"\n",
            "ERROR:root:preanal.auto:40426: [DUPLICATED] with \"상품은*\t상품은/NNP\": \"상품은\t상품/NNG + 은/JX\"\n",
            "ERROR:root:preanal.auto:40598: [DUPLICATED] with \"새우*\t새우/NNP\": \"새우\t새우/NNG\"\n",
            "ERROR:root:preanal.auto:40659: [DUPLICATED] with \"샌드위치*\t샌드위치/NNP\": \"샌드위치\t샌드위치/NNG\"\n",
            "ERROR:root:preanal.auto:40666: [DUPLICATED] with \"샐러드*\t샐러드/NNP\": \"샐러드\t샐러드/NNG\"\n",
            "ERROR:root:preanal.auto:40867: [DUPLICATED] with \"생강*\t생강/NNP\": \"생강\t생강/NNG\"\n",
            "ERROR:root:preanal.auto:41190: [DUPLICATED] with \"생크림*\t생크림/NNP\": \"생크림\t생/XPN + 크림/NNG\"\n",
            "ERROR:root:preanal.auto:41260: [DUPLICATED] with \"샤워*\t샤워/NNP\": \"샤워\t샤워/NNG\"\n",
            "ERROR:root:preanal.auto:41263: [DUPLICATED] with \"샴페인*\t샴페인/NNP\": \"샴페인\t샴페인/NNG\"\n",
            "ERROR:root:preanal.auto:41269: [DUPLICATED] with \"샹들리에*\t샹들리에/NNP\": \"샹들리에*\t샹들리에/NNG\"\n",
            "ERROR:root:preanal.auto:41277: [DUPLICATED] with \"서귀포*\t서귀포/NNP\": \"서귀포\t서귀포/NNP\"\n",
            "ERROR:root:preanal.auto:41546: [DUPLICATED] with \"서울의*\t서울의/NNP\": \"서울의\t서울/NNP + 의/JKG\"\n",
            "ERROR:root:preanal.auto:41780: [DUPLICATED] with \"선물*\t선물/NNP\": \"선물\t선물/NNG\"\n",
            "ERROR:root:preanal.auto:41985: [DUPLICATED] with \"선인장*\t선인장/NNP\": \"선인장\t선인장/NNG\"\n",
            "ERROR:root:preanal.auto:42074: [DUPLICATED] with \"선택*\t선택/NNP\": \"선택\t선택/NNG\"\n",
            "ERROR:root:preanal.auto:42173: [DUPLICATED] with \"설날*\t설날/NNP\": \"설날\t설날/NNG\"\n",
            "ERROR:root:preanal.auto:42199: [DUPLICATED] with \"설레는*\t설레는/NNP\": \"설레는\t설레/VV + 는/ETM\"\n",
            "ERROR:root:preanal.auto:42779: [DUPLICATED] with \"세가지*\t세가지/NNP\": \"세가지\t세/MM + 가지/NNB\"\n",
            "ERROR:root:preanal.auto:42786: [DUPLICATED] with \"세계*\t세계/NNP\": \"세계\t세계/NNG\"\n",
            "ERROR:root:preanal.auto:42960: [DUPLICATED] with \"세상*\t세상/NNP\": \"세상\t세상/NNG\"\n",
            "ERROR:root:preanal.auto:43082: [DUPLICATED] with \"세트*\t세트/NNP\": \"세트\t세트/NNG\"\n",
            "ERROR:root:preanal.auto:43404: [DUPLICATED] with \"소반*\t소반/NNP\": \"소반\t소반/NNG\"\n",
            "ERROR:root:preanal.auto:43802: [DUPLICATED] with \"속에*\t속에/NNP\": \"속에\t속/NNG + 에/JKB\"\n",
            "ERROR:root:preanal.auto:44296: [DUPLICATED] with \"수박*\t수박/NNP\": \"수박\t수박/NNG\"\n",
            "ERROR:root:preanal.auto:44844: [DUPLICATED] with \"숙성*\t숙성/NNP\": \"숙성\t숙성/NNG\"\n",
            "ERROR:root:preanal.auto:44942: [DUPLICATED] with \"순수*\t순수/NNP\": \"순수\t순수/NNG\"\n",
            "ERROR:root:preanal.auto:45001: [DUPLICATED] with \"순진한*\t순진한/NNP\": \"순진한\t순진/XR + 하/XSA + ㄴ/ETM\"\n",
            "ERROR:root:preanal.auto:45209: [DUPLICATED] with \"슈퍼*\t슈퍼/NNP\": \"슈퍼\t슈퍼/NNG\"\n",
            "ERROR:root:preanal.auto:45274: [DUPLICATED] with \"스웨덴*\t스웨덴/NNP\": \"스웨덴\t스웨덴/NNP\"\n",
            "ERROR:root:preanal.auto:45301: [DUPLICATED] with \"스카치*\t스카치/NNP\": \"스카치\t스카치/NNG\"\n",
            "ERROR:root:preanal.auto:45361: [DUPLICATED] with \"스탠다드*\t스탠다드/NNP\": \"스탠다드\t스탠다드/NNG\"\n",
            "ERROR:root:preanal.auto:45366: [DUPLICATED] with \"스테이크*\t스테이크/NNP\": \"스테이크\t스테이크/NNG\"\n",
            "ERROR:root:preanal.auto:45372: [DUPLICATED] with \"스토리*\t스토리/NNP\": \"스토리\t스토리/NNG\"\n",
            "ERROR:root:preanal.auto:45404: [DUPLICATED] with \"스페셜*\t스페셜/NNP\": \"스페셜\t스페셜/NNG\"\n",
            "ERROR:root:preanal.auto:45419: [DUPLICATED] with \"스프레드*\t스프레드/NNP\": \"스프레드\t스프레드/NNG\"\n",
            "ERROR:root:preanal.auto:45705: [DUPLICATED] with \"시금치*\t시금치/NNP\": \"시금치\t시금치/NNG\"\n",
            "ERROR:root:preanal.auto:46111: [DUPLICATED] with \"시원한*\t시원한/NNP\": \"시원한\t시원/XR + 하/XSA + ㄴ/ETM\"\n",
            "ERROR:root:preanal.auto:46138: [DUPLICATED] with \"시인의*\t시인의/NNP\": \"시인의\t시인/NNG + 의/JKG\"\n",
            "ERROR:root:preanal.auto:46340: [DUPLICATED] with \"시즌*\t시즌/NNP\": \"시즌\t시즌/NNG\"\n",
            "ERROR:root:preanal.auto:46341: [DUPLICATED] with \"시즌에*\t시즌에/NNP\": \"시즌에\t시즌/NNG + 에/JKB\"\n",
            "ERROR:root:preanal.auto:46397: [DUPLICATED] with \"시카고*\t시카고/NNP\": \"시카고\t시카고/NNP\"\n",
            "ERROR:root:preanal.auto:46578: [DUPLICATED] with \"식빵*\t식빵/NNP\": \"식빵\t식빵/NNG\"\n",
            "ERROR:root:preanal.auto:46632: [DUPLICATED] with \"식초*\t식초/NNP\": \"식초\t식초/NNG\"\n",
            "ERROR:root:preanal.auto:46965: [DUPLICATED] with \"신선한*\t신선한/NNP\": \"신선한\t신선/XR + 하/XSA + ㄴ/ETM\"\n",
            "ERROR:root:preanal.auto:48170: [DUPLICATED] with \"쑥스러운*\t쑥스러운/NNP\": \"쑥스러운\t쑥스럽/VA + ㄴ/ETM\"\n",
            "ERROR:root:preanal.auto:48171: [DUPLICATED] with \"쑥스러워*\t쑥스러워/NNP\": \"쑥스러워\t쑥스럽/VA + 어/EC\"\n",
            "ERROR:root:preanal.auto:48174: [DUPLICATED] with \"쑥쑥*\t쑥쑥/NNP\": \"쑥쑥\t쑥쑥/MAG\"\n",
            "ERROR:root:preanal.auto:48772: [DUPLICATED] with \"아래*\t아래/NNP\": \"아래\t아래/NNG\"\n",
            "ERROR:root:preanal.auto:48870: [DUPLICATED] with \"아무거나*\t아무거나/NNP\": \"아무거나\t아무/MM + 거/NNB + 나/JX\"\n",
            "ERROR:root:preanal.auto:48880: [DUPLICATED] with \"아무르*\t아무르/NNP\": \"아무르\t아무르/NNP\"\n",
            "ERROR:root:preanal.auto:49090: [DUPLICATED] with \"아이스*\t아이스/NNP\": \"아이스\t아이스/NNG\"\n",
            "ERROR:root:preanal.auto:49091: [DUPLICATED] with \"아이스크림*\t아이스크림/NNP\": \"아이스크림*\t아이스크림/NNG\"\n",
            "ERROR:root:preanal.auto:49106: [DUPLICATED] with \"아일랜드*\t아일랜드/NNP\": \"아일랜드\t아일랜드/NNP\"\n",
            "ERROR:root:preanal.auto:49169: [DUPLICATED] with \"아침*\t아침/NNP\": \"아침\t아침/NNG\"\n",
            "ERROR:root:preanal.auto:49179: [DUPLICATED] with \"아침식사*\t아침식사/NNP\": \"아침식사\t아침/NNG + 식사/NNG\"\n",
            "ERROR:root:preanal.auto:49193: [DUPLICATED] with \"아카시아*\t아카시아/NNP\": \"아카시아*\t아카시아/NNG\"\n",
            "ERROR:root:preanal.auto:49250: [DUPLICATED] with \"아프리카*\t아프리카/NNP\": \"아프리카\t아프리카/NNP\"\n",
            "ERROR:root:preanal.auto:49261: [DUPLICATED] with \"아프리카의*\t아프리카의/NNP\": \"아프리카의\t아프리카/NNP + 의/JKG\"\n",
            "ERROR:root:preanal.auto:49290: [DUPLICATED] with \"악마*\t악마/NNP\": \"악마\t악마/NNG\"\n",
            "ERROR:root:preanal.auto:49296: [DUPLICATED] with \"악마의*\t악마의/NNP\": \"악마의\t악마/NNG + 의/JKG\"\n",
            "ERROR:root:preanal.auto:49384: [DUPLICATED] with \"안내*\t안내/NNP\": \"안내\t안내/NNG\"\n",
            "ERROR:root:preanal.auto:49412: [DUPLICATED] with \"안동*\t안동/NNP\": \"안동\t안동/NNP\"\n",
            "ERROR:root:preanal.auto:49661: [DUPLICATED] with \"앉은뱅이*\t앉은뱅이/NNP\": \"앉은뱅이\t앉은뱅이/NNG\"\n",
            "ERROR:root:preanal.auto:49921: [DUPLICATED] with \"알렉산드리아*\t알렉산드리아/NNP\": \"알렉산드리아*\t알렉산드리아/NNP\"\n",
            "ERROR:root:preanal.auto:49952: [DUPLICATED] with \"알록달록*\t알록달록/NNP\": \"알록달록\t알록달록/MAG\"\n",
            "ERROR:root:preanal.auto:49962: [DUPLICATED] with \"알린*\t알린/NNP\": \"알린\t알리/VV + ㄴ/ETM\"\n",
            "ERROR:root:preanal.auto:50098: [DUPLICATED] with \"알코올*\t알코올/NNP\": \"알코올\t알코올/NNG\"\n",
            "ERROR:root:preanal.auto:50103: [DUPLICATED] with \"알콜*\t알콜/NNP\": \"알콜\t알콜/NNG\"\n",
            "ERROR:root:preanal.auto:50105: [DUPLICATED] with \"알파*\t알파/NNP\": \"알파\t알파/NNG\"\n",
            "ERROR:root:preanal.auto:50108: [DUPLICATED] with \"알프스*\t알프스/NNP\": \"알프스\t알프스/NNP\"\n",
            "ERROR:root:preanal.auto:50426: [DUPLICATED] with \"애플*\t애플/NNP\": \"애플\t애플/NNP\"\n",
            "ERROR:root:preanal.auto:50555: [DUPLICATED] with \"약간*\t약간/NNP\": \"약간\t약간/MAG\"\n",
            "ERROR:root:preanal.auto:50838: [DUPLICATED] with \"양지*\t양지/NNP\": \"양지\t양지/NNG\"\n",
            "ERROR:root:preanal.auto:50852: [DUPLICATED] with \"양파*\t양파/NNP\": \"양파\t양파/NNG\"\n",
            "ERROR:root:preanal.auto:51219: [DUPLICATED] with \"어린이용*\t어린이용/NNP\": \"어린이용\t어린이/NNG + 용/XSN\"\n",
            "ERROR:root:preanal.auto:51836: [DUPLICATED] with \"엄마*\t엄마/NNP\": \"엄마\t엄마/NNG\"\n",
            "ERROR:root:preanal.auto:51843: [DUPLICATED] with \"엄마는*\t엄마는/NNP\": \"엄마는\t엄마/NNG + 는/JX\"\n",
            "ERROR:root:preanal.auto:52318: [DUPLICATED] with \"에티오피아*\t에티오피아/NNP\": \"에티오피아*\t에티오피아/NNP\"\n",
            "ERROR:root:preanal.auto:52516: [DUPLICATED] with \"여름*\t여름/NNP\": \"여름\t여름/NNG\"\n",
            "ERROR:root:preanal.auto:52531: [DUPLICATED] with \"여름을*\t여름을/NNP\": \"여름을\t여름/NNG + 을/JKO\"\n",
            "ERROR:root:preanal.auto:53278: [DUPLICATED] with \"연분홍*\t연분홍/NNP\": \"연분홍\t연분홍/NNG\"\n",
            "ERROR:root:preanal.auto:53361: [DUPLICATED] with \"연어*\t연어/NNP\": \"연어\t연어/NNG\"\n",
            "ERROR:root:preanal.auto:53849: [DUPLICATED] with \"영업*\t영업/NNP\": \"영업\t영업/NNG\"\n",
            "ERROR:root:preanal.auto:54249: [DUPLICATED] with \"예약*\t예약/NNP\": \"예약\t예약/NNG\"\n",
            "ERROR:root:preanal.auto:54336: [DUPLICATED] with \"옛날*\t옛날/NNP\": \"옛날\t옛날/NNG\"\n",
            "ERROR:root:preanal.auto:54390: [DUPLICATED] with \"오늘의*\t오늘의/NNP\": \"오늘의\t오늘/NNG + 의/JKG\"\n",
            "ERROR:root:preanal.auto:54439: [DUPLICATED] with \"오렌지*\t오렌지/NNP\": \"오렌지\t오렌지/NNG\"\n",
            "ERROR:root:preanal.auto:54503: [DUPLICATED] with \"오리지널*\t오리지널/NNP\": \"오리지널\t오리지널/NNG\"\n",
            "ERROR:root:preanal.auto:54531: [DUPLICATED] with \"오브*\t오브/NNP\": \"오브\t오브/NNG\"\n",
            "ERROR:root:preanal.auto:54581: [DUPLICATED] with \"오아시스*\t오아시스/NNP\": \"오아시스*\t오아시스/NNG\"\n",
            "ERROR:root:preanal.auto:54631: [DUPLICATED] with \"오징어*\t오징어/NNP\": \"오징어\t오징어/NNG\"\n",
            "ERROR:root:preanal.auto:54638: [DUPLICATED] with \"오케스트라*\t오케스트라/NNP\": \"오케스트라*\t오케스트라/NNG\"\n",
            "ERROR:root:preanal.auto:54648: [DUPLICATED] with \"오페라*\t오페라/NNP\": \"오페라\t오페라/NNG\"\n",
            "ERROR:root:preanal.auto:54656: [DUPLICATED] with \"오픈*\t오픈/NNP\": \"오픈\t오픈/NNG\"\n",
            "ERROR:root:preanal.auto:54660: [DUPLICATED] with \"오하이오*\t오하이오/NNP\": \"오하이오\t오하이오/NNP\"\n",
            "ERROR:root:preanal.auto:54682: [DUPLICATED] with \"오후의*\t오후의/NNP\": \"오후의\t오후/NNG + 의/JKG\"\n",
            "ERROR:root:preanal.auto:54694: [DUPLICATED] with \"옥수수*\t옥수수/NNP\": \"옥수수\t옥수수/NNG\"\n",
            "ERROR:root:preanal.auto:54728: [DUPLICATED] with \"온라인*\t온라인/NNP\": \"온라인\t온라인/NNG\"\n",
            "ERROR:root:preanal.auto:54753: [DUPLICATED] with \"올라가는*\t올라가는/NNP\": \"올라가는\t올라가/VV + 는/ETM\"\n",
            "ERROR:root:preanal.auto:54761: [DUPLICATED] with \"올라간*\t올라간/NNP\": \"올라간\t올라가/VV + ㄴ/ETM\"\n",
            "ERROR:root:preanal.auto:54843: [DUPLICATED] with \"올리브*\t올리브/NNP\": \"올리브\t올리브/NNG\"\n",
            "ERROR:root:preanal.auto:55359: [DUPLICATED] with \"외할머니*\t외할머니/NNP\": \"외할머니\t외할머니/NNG\"\n",
            "ERROR:root:preanal.auto:55416: [DUPLICATED] with \"요구르트*\t요구르트/NNP\": \"요구르트\t요구르트/NNG\"\n",
            "ERROR:root:preanal.auto:55570: [DUPLICATED] with \"요정*\t요정/NNP\": \"요정\t요정/NNG\"\n",
            "ERROR:root:preanal.auto:55696: [DUPLICATED] with \"용돈*\t용돈/NNP\": \"용돈\t용돈/NNG\"\n",
            "ERROR:root:preanal.auto:55788: [DUPLICATED] with \"우동*\t우동/NNP\": \"우동\t우동/NNG\"\n",
            "ERROR:root:preanal.auto:55948: [DUPLICATED] with \"우아한*\t우아한/NNP\": \"우아한\t우아/XR + 하/XSA + ㄴ/ETM\"\n",
            "ERROR:root:preanal.auto:55990: [DUPLICATED] with \"우유*\t우유/NNP\": \"우유\t우유/NNG\"\n",
            "ERROR:root:preanal.auto:56149: [DUPLICATED] with \"운영*\t운영/NNP\": \"운영\t운영/NNG\"\n",
            "ERROR:root:preanal.auto:56710: [DUPLICATED] with \"원통*\t원통/NNP\": \"원통\t원통/NNG\"\n",
            "ERROR:root:preanal.auto:56834: [DUPLICATED] with \"위대한*\t위대한/NNP\": \"위대한\t위대/XR + 하/XSA + ㄴ/ETM\"\n",
            "ERROR:root:preanal.auto:56879: [DUPLICATED] with \"위스키*\t위스키/NNP\": \"위스키\t위스키/NNG\"\n",
            "ERROR:root:preanal.auto:57016: [DUPLICATED] with \"위한*\t위한/NNP\": \"위한\t위하/VV + ㄴ/ETM\"\n",
            "ERROR:root:preanal.auto:57146: [DUPLICATED] with \"유기농*\t유기농/NNP\": \"유기농\t유기농/NNG\"\n",
            "ERROR:root:preanal.auto:57764: [DUPLICATED] with \"은은한*\t은은한/NNP\": \"은은한\t은은/XR + 하/XSA + ㄴ/ETM\"\n",
            "ERROR:root:preanal.auto:57821: [DUPLICATED] with \"을지로*\t을지로/NNP\": \"을지로\t을지로/NNP\"\n",
            "ERROR:root:preanal.auto:57831: [DUPLICATED] with \"음료*\t음료/NNP\": \"음료\t음료/NNG\"\n",
            "ERROR:root:preanal.auto:59004: [DUPLICATED] with \"이브닝*\t이브닝/NNP\": \"이브닝\t이브닝/NNG\"\n",
            "ERROR:root:preanal.auto:59511: [DUPLICATED] with \"이태리*\t이태리/NNP\": \"이태리\t이태리/NNP\"\n",
            "ERROR:root:preanal.auto:59513: [DUPLICATED] with \"이태원*\t이태원/NNP\": \"이태원\t이태원/NNP\"\n",
            "ERROR:root:preanal.auto:59514: [DUPLICATED] with \"이태원의*\t이태원의/NNP\": \"이태원의\t이태원/NNP + 의/JKG\"\n",
            "ERROR:root:preanal.auto:59828: [DUPLICATED] with \"인도네시아*\t인도네시아/NNP\": \"인도네시아*\t인도네시아/NNP\"\n",
            "ERROR:root:preanal.auto:59968: [DUPLICATED] with \"인삼*\t인삼/NNP\": \"인삼\t인삼/NNG\"\n",
            "ERROR:root:preanal.auto:60116: [DUPLICATED] with \"인절미*\t인절미/NNP\": \"인절미\t인절미/NNG\"\n",
            "ERROR:root:preanal.auto:60288: [DUPLICATED] with \"일괄*\t일괄/NNP\": \"일괄\t일괄/NNG\"\n",
            "ERROR:root:preanal.auto:61340: [DUPLICATED] with \"잉글랜드*\t잉글랜드/NNP\": \"잉글랜드*\t잉글랜드/NNP\"\n",
            "ERROR:root:preanal.auto:61798: [DUPLICATED] with \"자색*\t자색/NNP\": \"자색\t자색/NNG\"\n",
            "ERROR:root:preanal.auto:61826: [DUPLICATED] with \"자세한*\t자세한/NNP\": \"자세한\t자세/XR + 하/XSA + ㄴ/ETM\"\n",
            "ERROR:root:preanal.auto:62033: [DUPLICATED] with \"자유시간*\t자유시간/NNP\": \"자유시간*\t자유/NNG + 시간/NNG\"\n",
            "ERROR:root:preanal.auto:62083: [DUPLICATED] with \"자작나무*\t자작나무/NNP\": \"자작나무*\t자작나무/NNG\"\n",
            "ERROR:root:preanal.auto:62374: [DUPLICATED] with \"작은*\t작은/NNP\": \"작은\t작/VA + 은/ETM\"\n",
            "ERROR:root:preanal.auto:62875: [DUPLICATED] with \"장미*\t장미/NNP\": \"장미\t장미/NNG\"\n",
            "ERROR:root:preanal.auto:64191: [DUPLICATED] with \"전복*\t전복/NNP\": \"전복\t전복/NNG\"\n",
            "ERROR:root:preanal.auto:64463: [DUPLICATED] with \"전통*\t전통/NNP\": \"전통\t전통/NNG\"\n",
            "ERROR:root:preanal.auto:64983: [DUPLICATED] with \"정글*\t정글/NNP\": \"정글\t정글/NNG\"\n",
            "ERROR:root:preanal.auto:65310: [DUPLICATED] with \"정성스럽게*\t정성스럽게/NNP\": \"정성스럽게\t정성/NNG + 스럽/XSA + 게/EC\"\n",
            "ERROR:root:preanal.auto:65327: [DUPLICATED] with \"정식*\t정식/NNP\": \"정식\t정식/NNG\"\n",
            "ERROR:root:preanal.auto:65626: [DUPLICATED] with \"정통*\t정통/NNP\": \"정통\t정통/NNG\"\n",
            "ERROR:root:preanal.auto:65893: [DUPLICATED] with \"제리*\t제리/NNP\": \"제리\t제리/NNP\"\n",
            "ERROR:root:preanal.auto:66060: [DUPLICATED] with \"제작*\t제작/NNP\": \"제작\t제작/NNG\"\n",
            "ERROR:root:preanal.auto:66128: [DUPLICATED] with \"제주*\t제주/NNP\": \"제주\t제주/NNP\"\n",
            "ERROR:root:preanal.auto:66223: [DUPLICATED] with \"조각*\t조각/NNP\": \"조각\t조각/NNG\"\n",
            "ERROR:root:preanal.auto:66654: [DUPLICATED] with \"조합*\t조합/NNP\": \"조합\t조합/NNG\"\n",
            "ERROR:root:preanal.auto:66689: [DUPLICATED] with \"조화로운*\t조화로운/NNP\": \"조화로운\t조화/NNG + 롭/XSA + ㄴ/ETM\"\n",
            "ERROR:root:preanal.auto:66899: [DUPLICATED] with \"종류*\t종류/NNP\": \"종류\t종류/NNG\"\n",
            "ERROR:root:preanal.auto:66901: [DUPLICATED] with \"종류는*\t종류는/NNP\": \"종류는\t종류/NNG + 는/JX\"\n",
            "ERROR:root:preanal.auto:66909: [DUPLICATED] with \"종류의*\t종류의/NNP\": \"종류의\t종류/NNG + 의/JKG\"\n",
            "ERROR:root:preanal.auto:67125: [DUPLICATED] with \"좋은*\t좋은/NNP\": \"좋은\t좋/VA + 은/ETM\"\n",
            "ERROR:root:preanal.auto:67411: [DUPLICATED] with \"주문*\t주문/NNP\": \"주문\t주문/NNG\"\n",
            "ERROR:root:preanal.auto:67515: [DUPLICATED] with \"주스*\t주스/NNP\": \"주스\t주스/NNG\"\n",
            "ERROR:root:preanal.auto:68451: [DUPLICATED] with \"즉석*\t즉석/NNP\": \"즉석\t즉석/NNG\"\n",
            "ERROR:root:preanal.auto:69018: [DUPLICATED] with \"지리산*\t지리산/NNP\": \"지리산\t지리산/NNP\"\n",
            "ERROR:root:preanal.auto:70994: [DUPLICATED] with \"차이*\t차이/NNP\": \"차이\t차이/NNG\"\n",
            "ERROR:root:preanal.auto:71102: [DUPLICATED] with \"착한*\t착한/NNP\": \"착한\t착하/VA + ㄴ/ETM\"\n",
            "ERROR:root:preanal.auto:71275: [DUPLICATED] with \"참외*\t참외/NNP\": \"참외\t참외/NNG\"\n",
            "ERROR:root:preanal.auto:71297: [DUPLICATED] with \"참치*\t참치/NNP\": \"참치\t참치/NNG\"\n",
            "ERROR:root:preanal.auto:71300: [DUPLICATED] with \"찹쌀*\t찹쌀/NNP\": \"찹쌀\t찹쌀/NNG\"\n",
            "ERROR:root:preanal.auto:71389: [DUPLICATED] with \"창원*\t창원/NNP\": \"창원\t창원/NNP\"\n",
            "ERROR:root:preanal.auto:71978: [DUPLICATED] with \"천연*\t천연/NNP\": \"천연\t천연/NNG\"\n",
            "ERROR:root:preanal.auto:72128: [DUPLICATED] with \"첨가된*\t첨가된/NNP\": \"첨가된\t첨가/NNG + 되/XSV + ㄴ/ETM\"\n",
            "ERROR:root:preanal.auto:72576: [DUPLICATED] with \"초록*\t초록/NNP\": \"초록\t초록/NNG\"\n",
            "ERROR:root:preanal.auto:72669: [DUPLICATED] with \"초콜릿*\t초콜릿/NNP\": \"초콜릿\t초콜릿/NNG\"\n",
            "ERROR:root:preanal.auto:72671: [DUPLICATED] with \"초콜릿을*\t초콜릿을/NNP\": \"초콜릿을\t초콜릿/NNG + 을/JKO\"\n",
            "ERROR:root:preanal.auto:72714: [DUPLICATED] with \"촉촉한*\t촉촉한/NNP\": \"촉촉한\t촉촉/XR + 하/XSA + ㄴ/ETM\"\n",
            "ERROR:root:preanal.auto:72722: [DUPLICATED] with \"촛불*\t촛불/NNP\": \"촛불\t촛불/NNG\"\n",
            "ERROR:root:preanal.auto:73164: [DUPLICATED] with \"추천*\t추천/NNP\": \"추천\t추천/NNG\"\n",
            "ERROR:root:preanal.auto:73276: [DUPLICATED] with \"춘천*\t춘천/NNP\": \"춘천\t춘천/NNP\"\n",
            "ERROR:root:preanal.auto:73927: [DUPLICATED] with \"치즈*\t치즈/NNP\": \"치즈\t치즈/NNG\"\n",
            "ERROR:root:preanal.auto:73943: [DUPLICATED] with \"친구*\t친구/NNP\": \"친구\t친구/NNG\"\n",
            "ERROR:root:preanal.auto:74209: [DUPLICATED] with \"카운터*\t카운터/NNP\": \"카운터\t카운터/NNG\"\n",
            "ERROR:root:preanal.auto:74227: [DUPLICATED] with \"카페*\t카페/NNP\": \"카페\t카페/NNG\"\n",
            "ERROR:root:preanal.auto:74240: [DUPLICATED] with \"칵테일*\t칵테일/NNP\": \"칵테일\t칵테일/NNG\"\n",
            "ERROR:root:preanal.auto:74296: [DUPLICATED] with \"캐릭터*\t캐릭터/NNP\": \"캐릭터\t캐릭터/NNG\"\n",
            "ERROR:root:preanal.auto:74362: [DUPLICATED] with \"커피*\t커피/NNP\": \"커피\t커피/NNG\"\n",
            "ERROR:root:preanal.auto:74427: [DUPLICATED] with \"케이크*\t케이크/NNP\": \"케이크\t케이크/NNG\"\n",
            "ERROR:root:preanal.auto:74495: [DUPLICATED] with \"코스*\t코스/NNP\": \"코스\t코스/NNG\"\n",
            "ERROR:root:preanal.auto:74513: [DUPLICATED] with \"코스타리카*\t코스타리카/NNP\": \"코스타리카*\t코스타리카/NNP\"\n",
            "ERROR:root:preanal.auto:74557: [DUPLICATED] with \"콜롬비아*\t콜롬비아/NNP\": \"콜롬비아*\t콜롬비아/NNP\"\n",
            "ERROR:root:preanal.auto:74598: [DUPLICATED] with \"콩팥*\t콩팥/NNP\": \"콩팥\t콩팥/NNG\"\n",
            "ERROR:root:preanal.auto:74670: [DUPLICATED] with \"크리스마스*\t크리스마스/NNP\": \"크리스마스\t크리스마스/NNG\"\n",
            "ERROR:root:preanal.auto:74725: [DUPLICATED] with \"클래식*\t클래식/NNP\": \"클래식\t클래식/NNG\"\n",
            "ERROR:root:preanal.auto:74726: [DUPLICATED] with \"클럽*\t클럽/NNP\": \"클럽\t클럽/NNG\"\n",
            "ERROR:root:preanal.auto:74788: [DUPLICATED] with \"키위*\t키위/NNP\": \"키위\t키위/NNG\"\n",
            "ERROR:root:preanal.auto:74789: [DUPLICATED] with \"키즈*\t키즈/NNP\": \"키즈\t키즈/NNG\"\n",
            "ERROR:root:preanal.auto:75494: [DUPLICATED] with \"토끼*\t토끼/NNP\": \"토끼\t토끼/NNG\"\n",
            "ERROR:root:preanal.auto:75538: [DUPLICATED] with \"토마토*\t토마토/NNP\": \"토마토\t토마토/NNG\"\n",
            "ERROR:root:preanal.auto:75566: [DUPLICATED] with \"토종*\t토종/NNP\": \"토종\t토종/NNG\"\n",
            "ERROR:root:preanal.auto:75692: [DUPLICATED] with \"통영*\t통영/NNP\": \"통영\t통영/NNP\"\n",
            "ERROR:root:preanal.auto:76068: [DUPLICATED] with \"트리*\t트리/NNP\": \"트리\t트리/NNG\"\n",
            "ERROR:root:preanal.auto:76424: [DUPLICATED] with \"파우더*\t파우더/NNP\": \"파우더\t파우더/NNG\"\n",
            "ERROR:root:preanal.auto:76432: [DUPLICATED] with \"파이*\t파이/NNP\": \"파이\t파이/NNG\"\n",
            "ERROR:root:preanal.auto:76439: [DUPLICATED] with \"파인애플*\t파인애플/NNP\": \"파인애플*\t파인애플/NNG\"\n",
            "ERROR:root:preanal.auto:76505: [DUPLICATED] with \"판단*\t판단/NNP\": \"판단\t판단/NNG\"\n",
            "ERROR:root:preanal.auto:76691: [DUPLICATED] with \"팥죽*\t팥죽/NNP\": \"팥죽\t팥죽/NNG\"\n",
            "ERROR:root:preanal.auto:76722: [DUPLICATED] with \"패션*\t패션/NNP\": \"패션\t패션/NNG\"\n",
            "ERROR:root:preanal.auto:76792: [DUPLICATED] with \"퍼스트*\t퍼스트/NNP\": \"퍼스트\t퍼스트/NNG\"\n",
            "ERROR:root:preanal.auto:76880: [DUPLICATED] with \"편견*\t편견/NNP\": \"편견\t편견/NNG\"\n",
            "ERROR:root:preanal.auto:77152: [DUPLICATED] with \"평일*\t평일/NNP\": \"평일\t평일/NNG\"\n",
            "ERROR:root:preanal.auto:77346: [DUPLICATED] with \"포장*\t포장/NNP\": \"포장\t포장/NNG\"\n",
            "ERROR:root:preanal.auto:77374: [DUPLICATED] with \"포켓*\t포켓/NNP\": \"포켓\t포켓/NNG\"\n",
            "ERROR:root:preanal.auto:77377: [DUPLICATED] with \"포크*\t포크/NNP\": \"포크\t포크/NNG\"\n",
            "ERROR:root:preanal.auto:77389: [DUPLICATED] with \"포함되어*\t포함되어/NNP\": \"포함되어\t포함/NNG + 되/XSV + 어/EC\"\n",
            "ERROR:root:preanal.auto:77480: [DUPLICATED] with \"폭탄*\t폭탄/NNP\": \"폭탄\t폭탄/NNG\"\n",
            "ERROR:root:preanal.auto:77947: [DUPLICATED] with \"프랑스*\t프랑스/NNP\": \"프랑스\t프랑스/NNP\"\n",
            "ERROR:root:preanal.auto:78038: [DUPLICATED] with \"프리미엄*\t프리미엄/NNP\": \"프리미엄*\t프리미엄/NNG\"\n",
            "ERROR:root:preanal.auto:78069: [DUPLICATED] with \"플로리다*\t플로리다/NNP\": \"플로리다*\t플로리다/NNP\"\n",
            "ERROR:root:preanal.auto:78199: [DUPLICATED] with \"피자*\t피자/NNP\": \"피자\t피자/NNG\"\n",
            "ERROR:root:preanal.auto:78282: [DUPLICATED] with \"필수*\t필수/NNP\": \"필수\t필수/NNG\"\n",
            "ERROR:root:preanal.auto:78372: [DUPLICATED] with \"필터*\t필터/NNP\": \"필터\t필터/NNG\"\n",
            "ERROR:root:preanal.auto:78489: [DUPLICATED] with \"하드*\t하드/NNP\": \"하드\t하드/NNG\"\n",
            "ERROR:root:preanal.auto:78614: [DUPLICATED] with \"하우스*\t하우스/NNP\": \"하우스\t하우스/NNG\"\n",
            "ERROR:root:preanal.auto:79268: [DUPLICATED] with \"한정*\t한정/NNP\": \"한정\t한정/NNG\"\n",
            "ERROR:root:preanal.auto:79336: [DUPLICATED] with \"할머니*\t할머니/NNP\": \"할머니\t할머니/NNG\"\n",
            "ERROR:root:preanal.auto:79391: [DUPLICATED] with \"함께*\t함께/NNP\": \"함께\t함께/MAG\"\n",
            "ERROR:root:preanal.auto:79705: [DUPLICATED] with \"해물*\t해물/NNP\": \"해물\t해물/NNG\"\n",
            "ERROR:root:preanal.auto:79754: [DUPLICATED] with \"해산물*\t해산물/NNP\": \"해산물\t해산물/NNG\"\n",
            "ERROR:root:preanal.auto:79846: [DUPLICATED] with \"해운대*\t해운대/NNP\": \"해운대\t해운대/NNP\"\n",
            "ERROR:root:preanal.auto:79885: [DUPLICATED] with \"해피*\t해피/NNP\": \"해피\t해피/NNG\"\n",
            "ERROR:root:preanal.auto:79921: [DUPLICATED] with \"핸드*\t핸드/NNP\": \"핸드\t핸드/NNG\"\n",
            "ERROR:root:preanal.auto:79935: [DUPLICATED] with \"햄버거*\t햄버거/NNP\": \"햄버거\t햄버거/NNG\"\n",
            "ERROR:root:preanal.auto:80033: [DUPLICATED] with \"행복한*\t행복한/NNP\": \"행복한\t행복/NNG + 하/XSA + ㄴ/ETM\"\n",
            "ERROR:root:preanal.auto:80183: [DUPLICATED] with \"향긋한*\t향긋한/NNP\": \"향긋한\t향긋/XR + 하/XSA + ㄴ/ETM\"\n",
            "ERROR:root:preanal.auto:81210: [DUPLICATED] with \"호박*\t호박/NNP\": \"호박\t호박/NNG\"\n",
            "ERROR:root:preanal.auto:81390: [DUPLICATED] with \"혼합*\t혼합/NNP\": \"혼합\t혼합/NNG\"\n",
            "ERROR:root:preanal.auto:82351: [DUPLICATED] with \"회오리*\t회오리/NNP\": \"회오리\t회오리/NNG\"\n",
            "ERROR:root:382 errors\n"
          ],
          "name": "stdout"
        }
      ]
    },
    {
      "cell_type": "markdown",
      "metadata": {
        "id": "eYcoaSAQpiZo",
        "colab_type": "text"
      },
      "source": [
        "## Gensim Topic Modeling\n"
      ]
    },
    {
      "cell_type": "code",
      "metadata": {
        "id": "L85MJXUPvI7F",
        "colab_type": "code",
        "colab": {}
      },
      "source": [
        "import pandas as pd\n",
        "\n",
        "\n",
        "data = pd.read_csv('/content/final_input.csv', encoding='utf-8').drop(['Unnamed: 0'], axis=1)"
      ],
      "execution_count": 110,
      "outputs": []
    },
    {
      "cell_type": "code",
      "metadata": {
        "id": "cddwyoPOib3H",
        "colab_type": "code",
        "colab": {
          "base_uri": "https://localhost:8080/",
          "height": 179
        },
        "outputId": "79ef3004-a673-445d-b66b-47d0857a04a9"
      },
      "source": [
        "data.info()"
      ],
      "execution_count": 111,
      "outputs": [
        {
          "output_type": "stream",
          "text": [
            "<class 'pandas.core.frame.DataFrame'>\n",
            "RangeIndex: 1566 entries, 0 to 1565\n",
            "Data columns (total 2 columns):\n",
            " #   Column    Non-Null Count  Dtype \n",
            "---  ------    --------------  ----- \n",
            " 0   Nickname  1566 non-null   object\n",
            " 1   Review    1566 non-null   object\n",
            "dtypes: object(2)\n",
            "memory usage: 24.6+ KB\n"
          ],
          "name": "stdout"
        }
      ]
    },
    {
      "cell_type": "markdown",
      "metadata": {
        "id": "1HHoTlQ-c_9p",
        "colab_type": "text"
      },
      "source": [
        "# Gensim LDA를 위한 데이터 전처리\n",
        "## Experiment 1) Khaiii에서 명사, 어근만 추출해 Tokenizing\n",
        "\n",
        "\n"
      ]
    },
    {
      "cell_type": "code",
      "metadata": {
        "id": "f_U4yzgqApWc",
        "colab_type": "code",
        "colab": {}
      },
      "source": [
        "from khaiii import KhaiiiApi\n",
        "api = KhaiiiApi(rsc_dir=\"/content/build/share/khaiii\")\n",
        "\n",
        "n_tags = ['NNG', 'NNP', 'NNB', 'XR']#, 'VV', \"VA\"] # 동사도 넣고 싶으면 추가\n",
        "\n",
        "'''\n",
        "input : 추출할 Review의 list ;\n",
        "output : n_tags의 tag와 일치하는 text list ; \n",
        "'''\n",
        "\n",
        "def extract_corpus_khaiii(texts):\n",
        "    extract_corpus = []\n",
        "    for line in texts:\n",
        "      if str(line) != 'nan':\n",
        "        nouns = []\n",
        "\n",
        "        for word in api.analyze(str(line)):\n",
        "          for morphs in word.morphs:\n",
        "            if morphs.tag in n_tags:\n",
        "              if len(morphs.lex) > 1:\n",
        "                nouns.append(morphs.lex)\n",
        "              else:\n",
        "                continue\n",
        "\n",
        "        extract_corpus.append(nouns)\n",
        "\n",
        "    return extract_corpus\n",
        "  "
      ],
      "execution_count": 112,
      "outputs": []
    },
    {
      "cell_type": "code",
      "metadata": {
        "id": "ISrJs2jVE7-V",
        "colab_type": "code",
        "colab": {}
      },
      "source": [
        "# 네이버 영수증 리뷰, 인스타 리뷰에서 명사, 어근을 추출\n",
        "khaiii_xr = extract_corpus_khaiii(data['Review']) \n",
        "#khaiii_all = extract_corpus_khaiii(data['Review']) # 명사, 동사, 형용사, 어근 모두 추출"
      ],
      "execution_count": 113,
      "outputs": []
    },
    {
      "cell_type": "code",
      "metadata": {
        "id": "3cZyLGPwZQDj",
        "colab_type": "code",
        "colab": {
          "base_uri": "https://localhost:8080/",
          "height": 35
        },
        "outputId": "bf8037c4-fcbe-4fc8-e063-26cd54f32e91"
      },
      "source": [
        "# 추출 전 데이터와 비교\n",
        "\n",
        "print(len(data), len(khaiii_xr))\n",
        "#print(len(data), len(khaiii_all))"
      ],
      "execution_count": 114,
      "outputs": [
        {
          "output_type": "stream",
          "text": [
            "1566 1566\n"
          ],
          "name": "stdout"
        }
      ]
    },
    {
      "cell_type": "code",
      "metadata": {
        "id": "tEYqu4hpH7zn",
        "colab_type": "code",
        "colab": {}
      },
      "source": [
        "import gensim\n",
        "from gensim.utils import simple_preprocess\n",
        "# Build the bigram and trigram models\n",
        "bigram = gensim.models.Phrases(khaiii_xr, min_count=5, threshold=100) # higher threshold fewer phrases.\n",
        "trigram = gensim.models.Phrases(bigram[khaiii_xr], threshold=100)\n",
        "\n",
        "# Faster way to get a sentence clubbed as a trigram/bigram\n",
        "bigram_mod = gensim.models.phrases.Phraser(bigram)\n",
        "trigram_mod = gensim.models.phrases.Phraser(trigram)"
      ],
      "execution_count": 117,
      "outputs": []
    },
    {
      "cell_type": "code",
      "metadata": {
        "id": "fzGwSa1YH-7s",
        "colab_type": "code",
        "colab": {}
      },
      "source": [
        "stop_words = ['멍멍','오늘','내일','어제','신발','발','커피','카페']\n",
        "\n",
        "def remove_stopwords(texts):\n",
        "    return [[word for word in simple_preprocess(str(doc)) if word not in stop_words] for doc in texts]\n",
        "    \n",
        "def make_bigrams(texts):\n",
        "    return [bigram_mod[doc] for doc in texts]\n",
        "\n",
        "def make_trigrams(texts):\n",
        "    return [trigram_mod[bigram_mod[doc]] for doc in texts]"
      ],
      "execution_count": 128,
      "outputs": []
    },
    {
      "cell_type": "code",
      "metadata": {
        "id": "OGSiL4zBIJXu",
        "colab_type": "code",
        "colab": {}
      },
      "source": [
        "# Stop words 제거 및 trigram 만들기\n",
        "\n",
        "khaiii_xr = remove_stopwords(khaiii_xr)\n",
        "\n",
        "khaiii_xr = make_trigrams(khaiii_xr)"
      ],
      "execution_count": 129,
      "outputs": []
    },
    {
      "cell_type": "code",
      "metadata": {
        "id": "xsNBCbY8GzfS",
        "colab_type": "code",
        "colab": {}
      },
      "source": [
        "# countvectorize를 위한 역토큰화 진행\n",
        "'''\n",
        "input : n_tags만 뽑힌 token list\n",
        " Ex. ['얼그레이', '마카롱', '맛']\n",
        "\n",
        "output : 역토큰화된 detoken list\n",
        " Ex. ['얼그레이 마카롱 맛']\n",
        "'''\n",
        "def detokenize(token_list):\n",
        "  detokenized_doc = []\n",
        "  for i in range(len(token_list)):\n",
        "    if token_list[i] != []:\n",
        "      t = ' '.join(token_list[i])\n",
        "\n",
        "      detokenized_doc.append(t)\n",
        "  return detokenized_doc\n",
        "    #detokenized_doc.append([data['Nickname'][i], t]) -> 옆에 닉네임 붙여서 내보낼거면 활성화"
      ],
      "execution_count": 115,
      "outputs": []
    },
    {
      "cell_type": "code",
      "metadata": {
        "id": "4DXHSn_GPNLc",
        "colab_type": "code",
        "colab": {}
      },
      "source": [
        "for i in range(len(khaiii_xr)):\n",
        "  for j in range(len(khaiii_xr[i])):\n",
        "    khaiii_xr[i][j] = khaiii_xr[i][j].replace(\"_\", \"\")"
      ],
      "execution_count": 161,
      "outputs": []
    },
    {
      "cell_type": "code",
      "metadata": {
        "id": "8Y7i7F76Ia3v",
        "colab_type": "code",
        "colab": {}
      },
      "source": [
        "# trigram으로 형성된 토큰 역토큰화\n",
        "\n",
        "detoken_xr = detokenize(khaiii_xr)"
      ],
      "execution_count": 162,
      "outputs": []
    },
    {
      "cell_type": "code",
      "metadata": {
        "id": "i9W_JkosPxO6",
        "colab_type": "code",
        "colab": {}
      },
      "source": [
        "# 추출한 corpus를 역 토큰화\n",
        "detoken_xr = detokenize(khaiii_xr)\n",
        "#detoken_all = detokenize(khaiii_all)"
      ],
      "execution_count": 10,
      "outputs": []
    },
    {
      "cell_type": "code",
      "metadata": {
        "id": "utkOqPIKFuvE",
        "colab_type": "code",
        "colab": {}
      },
      "source": [
        "# 모든 토큰을 한 줄로 만듦\n",
        "import numpy as np\n",
        "\n",
        "#detoken_data = [\" \".join(detoken_xr)]\n",
        "\n",
        "#detoken_data = np.array(detoken_data)"
      ],
      "execution_count": 11,
      "outputs": []
    },
    {
      "cell_type": "code",
      "metadata": {
        "id": "0sokAcXVaqZS",
        "colab_type": "code",
        "colab": {}
      },
      "source": [
        "# 닉네임 붙여서 내보낼거면 활성화\n",
        "#df = pd.DataFrame(detokenized_doc, columns=['Nickname', 'detoken Review'])\n",
        "#df.to_csv('Final TDM.csv', encoding='utf-8')"
      ],
      "execution_count": null,
      "outputs": []
    },
    {
      "cell_type": "markdown",
      "metadata": {
        "id": "BGX0OqQ7HjXn",
        "colab_type": "text"
      },
      "source": [
        "## Using Gensim"
      ]
    },
    {
      "cell_type": "code",
      "metadata": {
        "id": "C0HxyrVXXBvj",
        "colab_type": "code",
        "colab": {
          "base_uri": "https://localhost:8080/",
          "height": 343
        },
        "outputId": "4ae11529-e4c8-43ab-ee15-0b22deda7daa"
      },
      "source": [
        "# install gensim\n",
        "\n",
        "!pip install gensim\n"
      ],
      "execution_count": 12,
      "outputs": [
        {
          "output_type": "stream",
          "text": [
            "Requirement already satisfied: gensim in /usr/local/lib/python3.6/dist-packages (3.6.0)\n",
            "Requirement already satisfied: scipy>=0.18.1 in /usr/local/lib/python3.6/dist-packages (from gensim) (1.4.1)\n",
            "Requirement already satisfied: smart-open>=1.2.1 in /usr/local/lib/python3.6/dist-packages (from gensim) (2.1.0)\n",
            "Requirement already satisfied: numpy>=1.11.3 in /usr/local/lib/python3.6/dist-packages (from gensim) (1.18.5)\n",
            "Requirement already satisfied: six>=1.5.0 in /usr/local/lib/python3.6/dist-packages (from gensim) (1.15.0)\n",
            "Requirement already satisfied: boto3 in /usr/local/lib/python3.6/dist-packages (from smart-open>=1.2.1->gensim) (1.14.48)\n",
            "Requirement already satisfied: requests in /usr/local/lib/python3.6/dist-packages (from smart-open>=1.2.1->gensim) (2.23.0)\n",
            "Requirement already satisfied: boto in /usr/local/lib/python3.6/dist-packages (from smart-open>=1.2.1->gensim) (2.49.0)\n",
            "Requirement already satisfied: s3transfer<0.4.0,>=0.3.0 in /usr/local/lib/python3.6/dist-packages (from boto3->smart-open>=1.2.1->gensim) (0.3.3)\n",
            "Requirement already satisfied: jmespath<1.0.0,>=0.7.1 in /usr/local/lib/python3.6/dist-packages (from boto3->smart-open>=1.2.1->gensim) (0.10.0)\n",
            "Requirement already satisfied: botocore<1.18.0,>=1.17.48 in /usr/local/lib/python3.6/dist-packages (from boto3->smart-open>=1.2.1->gensim) (1.17.48)\n",
            "Requirement already satisfied: idna<3,>=2.5 in /usr/local/lib/python3.6/dist-packages (from requests->smart-open>=1.2.1->gensim) (2.10)\n",
            "Requirement already satisfied: certifi>=2017.4.17 in /usr/local/lib/python3.6/dist-packages (from requests->smart-open>=1.2.1->gensim) (2020.6.20)\n",
            "Requirement already satisfied: urllib3!=1.25.0,!=1.25.1,<1.26,>=1.21.1 in /usr/local/lib/python3.6/dist-packages (from requests->smart-open>=1.2.1->gensim) (1.24.3)\n",
            "Requirement already satisfied: chardet<4,>=3.0.2 in /usr/local/lib/python3.6/dist-packages (from requests->smart-open>=1.2.1->gensim) (3.0.4)\n",
            "Requirement already satisfied: python-dateutil<3.0.0,>=2.1 in /usr/local/lib/python3.6/dist-packages (from botocore<1.18.0,>=1.17.48->boto3->smart-open>=1.2.1->gensim) (2.8.1)\n",
            "Requirement already satisfied: docutils<0.16,>=0.10 in /usr/local/lib/python3.6/dist-packages (from botocore<1.18.0,>=1.17.48->boto3->smart-open>=1.2.1->gensim) (0.15.2)\n"
          ],
          "name": "stdout"
        }
      ]
    },
    {
      "cell_type": "code",
      "metadata": {
        "id": "7xM4CfWj6Sz4",
        "colab_type": "code",
        "colab": {}
      },
      "source": [
        "# Gensim 사용을 위한 벡터화\n",
        "\n",
        "from sklearn.feature_extraction.text import CountVectorizer\n",
        "\n",
        "vectorizer = CountVectorizer()\n",
        "\n",
        "cv = vectorizer.fit_transform(detoken_xr)"
      ],
      "execution_count": 163,
      "outputs": []
    },
    {
      "cell_type": "code",
      "metadata": {
        "id": "TpKSe3DS6bkP",
        "colab_type": "code",
        "colab": {
          "base_uri": "https://localhost:8080/",
          "height": 35
        },
        "outputId": "bdf821f6-d51a-426a-8d0d-840c91e7678d"
      },
      "source": [
        "print(\"shape : \",cv.shape)"
      ],
      "execution_count": 164,
      "outputs": [
        {
          "output_type": "stream",
          "text": [
            "shape :  (1566, 28263)\n"
          ],
          "name": "stdout"
        }
      ]
    },
    {
      "cell_type": "code",
      "metadata": {
        "id": "Q4jAYUhiXHXr",
        "colab_type": "code",
        "colab": {}
      },
      "source": [
        "# 단어문서행렬을 gensim 형태로 변환\n",
        "\n",
        "from gensim.matutils import Sparse2Corpus\n",
        "\n",
        "corpus = Sparse2Corpus(cv.T)"
      ],
      "execution_count": 165,
      "outputs": []
    },
    {
      "cell_type": "code",
      "metadata": {
        "id": "3pQUSlkrbQcr",
        "colab_type": "code",
        "colab": {}
      },
      "source": [
        "# 단어 번호와 단어를 사전으로 정리\n",
        "\n",
        "id2word = dict(enumerate(vectorizer.get_feature_names()))"
      ],
      "execution_count": 166,
      "outputs": []
    },
    {
      "cell_type": "code",
      "metadata": {
        "id": "96xLYgFljnfr",
        "colab_type": "code",
        "colab": {
          "base_uri": "https://localhost:8080/",
          "height": 35
        },
        "outputId": "4d341b5c-e7ce-461a-f91f-81a29f4cfcff"
      },
      "source": [
        "print(di)"
      ],
      "execution_count": 136,
      "outputs": [
        {
          "output_type": "stream",
          "text": [
            "Dictionary(27985 unique tokens: ['가격', '감사', '갓김치', '굿굿', '깔끔']...)\n"
          ],
          "name": "stdout"
        }
      ]
    },
    {
      "cell_type": "code",
      "metadata": {
        "id": "8ZlDRcWMch8e",
        "colab_type": "code",
        "colab": {}
      },
      "source": [
        "from gensim.models.ldamodel import LdaModel\n",
        "from gensim.models.coherencemodel import CoherenceModel\n",
        "from gensim.models.ldamulticore import LdaMulticore\n",
        "from gensim import corpora\n",
        "\n",
        "\n",
        "# Warning 무시\n",
        "import warnings\n",
        "warnings.filterwarnings(action='ignore', category=UserWarning, module='gensim')\n",
        "warnings.filterwarnings(action='ignore', category=Warning, module='gensim')\n",
        "warnings.filterwarnings('ignore')"
      ],
      "execution_count": 137,
      "outputs": []
    },
    {
      "cell_type": "markdown",
      "metadata": {
        "id": "yjKuM9l-eBvT",
        "colab_type": "text"
      },
      "source": [
        "* **num_topics**: 최종 분석의 주제 수\n",
        "* **passes**: 총 훈련 과정의 수. 신경망 학습에서 에포크와 같다\n",
        "* **iteration** : 각 문서에 대해 업데이트를 반복하는 횟수\n",
        "* **random_state**: 재현 가능한 결과를 위해 임의의 숫자를 설정한다."
      ]
    },
    {
      "cell_type": "code",
      "metadata": {
        "id": "ZR3q7XbteBai",
        "colab_type": "code",
        "colab": {}
      },
      "source": [
        "model = LdaModel(corpus=corpus,\n",
        "                 id2word=id2word,\n",
        "                 num_topics=100, \n",
        "                 iterations=500,\n",
        "                 passes=10)"
      ],
      "execution_count": 138,
      "outputs": []
    },
    {
      "cell_type": "code",
      "metadata": {
        "id": "pfrgpF5ArR1k",
        "colab_type": "code",
        "colab": {}
      },
      "source": [
        "# Coherence 계산을 위한 dictionary 만들기\n",
        "\n",
        "from gensim.corpora.dictionary import Dictionary\n",
        "\n",
        "dic = Dictionary()\n",
        "dic.token2id = {t: i for i, t in enumerate(vectorizer.get_feature_names())}"
      ],
      "execution_count": 139,
      "outputs": []
    },
    {
      "cell_type": "code",
      "metadata": {
        "id": "g9Vn56MCpX1S",
        "colab_type": "code",
        "colab": {}
      },
      "source": [
        "coherence_model_lda = CoherenceModel(model=model, texts=khaiii_xr, dictionary=dic, coherence='c_v')"
      ],
      "execution_count": 140,
      "outputs": []
    },
    {
      "cell_type": "code",
      "metadata": {
        "id": "l27OQMcWpbtp",
        "colab_type": "code",
        "colab": {}
      },
      "source": [
        "coherence = coherence_model_lda.get_coherence()"
      ],
      "execution_count": 141,
      "outputs": []
    },
    {
      "cell_type": "code",
      "metadata": {
        "id": "60l9Bic1dmrW",
        "colab_type": "code",
        "colab": {
          "base_uri": "https://localhost:8080/",
          "height": 217
        },
        "outputId": "abbd8f32-3a2e-4765-ca33-7b0ce05eb1f3"
      },
      "source": [
        "detoken_xr[:10]"
      ],
      "execution_count": 142,
      "outputs": [
        {
          "output_type": "execute_result",
          "data": {
            "text/plain": [
              "['분위기 오랫 추천 해산물 분위기 싱싱 완전 분위기 문어 최고 깔끔 추천 낭만포차 분위기 대회 내요 감사 낭만포차 친절 낭만포차 삼합 갓김치 사장니 친절 굿굿 음식 보통 삼합 무난 가격 대비 여수 낭만포차거리 분위기 만족 여수낭만포차거리 삼합 여수 밤바다',\n",
              " '만족 한옥 아메 리카 치즈 종류 크기 테이블간격 신경 아이 라스 분리 커리 소세지빵 피자빵 조아 자리 자리 부족 베이커 한옥 복잡 전체 크림 설탕 위주 아메 담백 장정수 루네요 별루 가격 분위기 자연친화 필요 사장 오랫만 구입 분위기 가격 야외 음료 이커리 소소 음료 베이커리 시식 구매 분위기 모텔 베이커리 종류 실내 테이블 라스 자리',\n",
              " '소금 퓌맛 대구 사람 노을 맛집 가을 핑크뮬리 맛집 소금 맛집 핑크뮬리 맛집 소금 단짠 분위기 엄청가 인생 세용 핑크뮬리 최공 소금 핫도 아이스 나름 매력 핑크뮬리 전망 마당 아이 굿굿 핑크뮬리 갈대 소소 스튜디오 디저트 주위 느낌 소금 유명 가격 짭짤 크림 크림 트로 피칼 블랙티 여름 스티 단맛 가족단위 커플 얼굴 자리 자리 여름 즈음 핑크뮬리 유명 유채꽃 종류 재미 크로와상 로얄 크티 크로와 크림 치즈 특이 로얄 밀크티 잔디 라스 핑크핑크 시즌 친절 깨끗 분위기 소금 진짜 최고 핑크뮬리 유명 날씨 사진 내부 대구 화원 원카페 달성군 포토존 베이커리 맛집 추천 주말 야외 방문 친절 소금 커피랑 현풍 소금 소금라 천원 경치 소금 팥빵 핑크 시즌 소금 커피입 경치 멍멍이 음료 소금 조아오 즘트 탱이 치즈 아님 치즈케 이유 분위기 인테리어 가게 담번 아이 아메리카노 주문 영수증 인식 분위기 소금 맛집 소금 짭짤 온몸 아이 깔끔 시야',\n",
              " '무난 한옥 인테리어 한옥 이상 단체 사랑채 아늑 코코넛 라떼 코코넛 달달 분위기 가격 코로바이러스 모습 외국인 친구 토속 한국 느낌 노래 팝송 위주 외국인 친구 음악 바이러스 잠잠 황리단 전체 사장 돌체라떼 한옥 인테리어 가족 사랑방 시원 음료 무난 별채 형태 생각 야외 화장실 이용 정도 벌레 경주 리단 한옥 별채 분위기 한옥 체험 이상 여야 가능 불가 단호 라떼 방문 품절 음식 불편 오미 에이드 안쪽 자리 가족 팥빙수 자몽에이드 굿굿 빙수 빙수 맛집 웨이팅 자리 마당 가족석 안쪽 화장실 장소 최고임 조카 사랑채 바닐 라떼 아인슈페너 충격 노맛 별론데 포토존 공간 인테리어 카펜데 노맛 주문 찐빵 자리 레몬 에이드 처음 리단 사랑채 가족 시원 이슈 페너 오미 차랑 팥빙수 딸기 음료 바깥 자리 아인슈페너 추천 완전 경주 경주 리단 팥물찐빵 대추차 설탕 물맛 리얼대추맛 다양 공간 아이 주차 분위기 안쪽 대추차 따뜻 분위기 찐빵 찐빵 사랑채 사장 찐빵 대추차 사진 방문 한옥 분위기 시원 친철 자리 다양 내부 빙수 추천 위치 아늑 만족 분위기 팥빙수 공간 굿맛 가격 저렴 조용 분위기 인테리어 분위기 빙수 디자인 독채 평일 오후 자리 다양 실내 에어컨 아래 시원 바깥 음료 돌체 라떼 며칠 변비 체라 친구 화장실 성공 맛굿 완전 자리 어른 초등 눈꽃팥빙수 허니 브레드 음식 딸기라 추천 여행 방문 분위기 한옥 느낌 패션후르츠 분위기 팥빙수 분위기 분위기 눈꽃빙수 큰소리 친절 한옥 분위기 분위기 빙수 직원 한가 테이블 남자 직원 마스크 리단 방문 위기 팥빙수 재방문의사 팥빙수 진짜 아이스크림 투게더 진짜 찹쌀떡 진짜 찹쌀떡 단품 메뉴 정도 시원 공간 어른 팥빙수 입구 레몬에이드 분위기 분위기 팥빵 분위기 빙수 엄마 만족 가요 한옥 카페입니 분위기 야외 공간 넉넉 자몽',\n",
              " '소품 조용 북카페 프라이탁 벌새 전시 마포 소품 데이트 혼자 작업 케이크 음료 특별 구경 소품 전체 분위기 사랑 장소 분위기 작업 분위기 야외 테이블 의자 테이블 새똥 낙엽 청소 이것저것 물품 선물 진짜 요시그 메뉴 최악 마싯어 분위기 프라이탁 노트북작업 라테 친절 조용 분위기 공간 활용 아메리 리필 최고 분위 작업 분위기 인테리어 무료 리필 가능 분위기 시간 분위기 맛집 주차장 협소 서점 분위기 편안 분위기 시원 청량 느낌 화장실 공용 대기 프라이탁 스티커 친절 분위기 사람 느낌 분위기 홍대 가요 친구 선물 친절',\n",
              " '음료 한옥마을 전체 코코넛 인테리 주차 공간 협소 무단 주차 단속 단속 마음 가격 기대 보단 식당 한옥뷰 자리 평일 퍼센트 자리 저녁 식사 타임 빹빙 깔끔 맛집 바나나떡 한옥 스합 깔끔 한옥 마을 맛짱 북한산 아래 한옥뷰 맛집 뷰맛집 카페예 분위기 북한산 경치 엄마 주차 공간 협소 근처 마을 공사 거리 주차 분위기 한옥마 입구 분위기 음식 조용',\n",
              " '시그 아메 매장 깔끔 자리 케익 친오빠 추천 추석당일 생각 크렘 브륄 레도 달달 서비스 카페입니 추천 서비스 만족 해용 안동 사람 이날 사진 사진 디저트 요즘 시원 아아 고소 밀쉐 밀크 빙수 남녀노소 주차장 아기 직원 친절 시그니처 밀크쉐이크 버터프레첼 감사 아메리카노 말차 케이크 경북 안동 까페 까눌레 잠봉 즈햄 베이컨 짭짤 안동 안동 밀크쉐이크 친절 코호피 맛나용 트레스레체스 케이크 카페라떼 평일 주말 사람 완전 인정 안동 옥동 사람 분위기 최고',\n",
              " '분위기 피자 분위기 세트 성비 최고 이국 느낌 다음번 피자 맥주 음료 치킨 떡볶이 분위기 맛집 치킨 분위기 편안 소파 분위기 친절 분위기 따뜻 치킨 피자 분위기 테이블 깨끗 음식 다음 피자 편안 분위기 분위기 내부 분위기 음식 분위기 호기심 화덕피자 평범 샐러드 감자튀김 직원 대부분 친절 트렌디 음식점 코로 오픈 고민 외관 근대 개화기 호텔 내부 트렌디힙함 서울 손색 소파 아늑 호그 도서관 느낌 테라스 오픈 방문 음식 세트 맥주 훌륭 피자 화덕 시간 도우 토핑 신선 황홀 치킨 떡볶이 박나시길 건물 분위기 벌레 사장 친절 분위기 주문 주문 주문 음식 치킨 통닭 떡볶이 분식 떡볶이 운버전 전반 보통 날씨 창문 타이밍 성실 주인 활력 분위기 친절 식사 케이크 가격 적당',\n",
              " '스콘 테이크아웃 구매 배달 아메리카노 천원 베이 배달 메뉴 스콘 당근 아메리카노 셋트 메뉴 할인 포스 입력 구매 자체 이유 배달 때문 배달 주문 가격 이상 구매 매장 가격 배달 메뉴 가격 최소한 가격 계산전 공지 주문 가격 배달 가격 검색 상황 파악 원두 취소 방문 배달 배달 합리 가격 때문 과일에이드 레몬 인건 스콘 사실 스콘 맛집 진짜 분위기 인테리 갈꺼 인테리어 뻐요 원두 고민 친절 감사 지하 자리 분위기 만석 음료 가격대 심비 딸기 유자차 크러쉬 동네 친절 반려동물 동반 스콘 맛집 다음 종류 스콘 분위기 분위기 처음 직원 친절 다음 방문 베이커리 유명 얘기 버터스콘 당근 케이크 음료 분위기 지하랑 카운터 직원 친절 분위기 케이크 음료 조용 감사 당근 케이크 맛집 스콘 원두 분위기 계산대 보루레드 담배 흡연자 때문 분위기 고급진 인스타 분위기 평타이상 스콘 단호박스 주문 단호 박스 토피넛 라떼 주민 핫플 방문 현대식 깔끔 스콘 맛집 아인슈페너 자두 주스 퀄리티 가격 가지 서비스 직원 친절 분위기 인테리어 사진 음료 종류 밀크티 일요일 맛집 예전 방문 오랜만 참고 스콘 분위기 스콘이 음료 가격 가격 매장 스콘 분위기 나용 골목 반신반의 골목 스콘 종류 라떼 꾸르맛 분위기 동네 분위기',\n",
              " '분위기 맘모스 음료 가격 청소 신경 흑미 파운드 저렴 조이 다음 조아 디저트 분위기 사과머핀 아기자 디저트 벌레 정돈 분위기 시설 돌체라떼 하프앤하 케이크 원두 종류 애견동반 벚꽃 온천장 루프탑 브라우니 인테리어 조단 오전 오픈 애완 동물 세차장 시원 주차장 분위기 남자 친구 시원']"
            ]
          },
          "metadata": {
            "tags": []
          },
          "execution_count": 142
        }
      ]
    },
    {
      "cell_type": "markdown",
      "metadata": {
        "id": "8vyq31GePODK",
        "colab_type": "text"
      },
      "source": [
        "### 최적의 number of words 찾기\n",
        "* 지표 : Coherence"
      ]
    },
    {
      "cell_type": "code",
      "metadata": {
        "id": "oDJWiP-K7g1Q",
        "colab_type": "code",
        "colab": {}
      },
      "source": [
        "def compete_number_of_words(detoken_data, token_data, min_num, max_num, step, random_state=None):\n",
        "\n",
        "  '''\n",
        "  number_of_words를 찾기 위한 함수 \n",
        "\n",
        "  Parameters :\n",
        "  -------------\n",
        "  detoken_data : list 형태의 역토큰화된 데이터\n",
        "  token_data : coherence 값을 계산하기 위한 token_data\n",
        "  min_num : number of words range의 최솟값 min_num부터 시작\n",
        "  max_num : number of words range의 최댓값 max_num까지 찾음\n",
        "  step : min_num ~ max_num 까지 가기 위해 step을 얼마나 갈것인지\n",
        "  random_state : 재현성을 주기 위해 설정, default = None\n",
        "\n",
        "  Output :\n",
        "  -------------\n",
        "  coherence_value : Num of Words와 그에 따른 Coherence Value가 있는 DataFrame 반환\n",
        "  \n",
        "  '''\n",
        "\n",
        "  coherence_value = pd.DataFrame(columns=['Num of Words', 'Coherence Value', 'Perplexity Value'])\n",
        "\n",
        "  i = 0\n",
        "\n",
        "  for feature in range(min_num, max_num, step):\n",
        "    print(\"{} 번째, {}'th of words training\".format(i+1, feature))\n",
        "\n",
        "    vectorizer = CountVectorizer(max_features=feature) # CountVectorizer 생성\n",
        "    cv = vectorizer.fit_transform(detoken_data) # fit and transform\n",
        "\n",
        "    dictionary = corpora.Dictionary([vectorizer.get_feature_names()])\n",
        "\n",
        "    corpus = Sparse2Corpus(cv.T)\n",
        "\n",
        "    lda_model = LdaModel(corpus=corpus, id2word=dictionary, random_state=random_state)\n",
        "\n",
        "    coherence_lda = CoherenceModel(model=lda_model, texts=token_data, dictionary=dictionary, coherence='c_v')\n",
        "\n",
        "    coherence_value.loc[i] = [feature, coherence_lda.get_coherence(), lda_model.log_perplexity(corpus)]\n",
        "    i += 1\n",
        "\n",
        "  return coherence_value"
      ],
      "execution_count": 187,
      "outputs": []
    },
    {
      "cell_type": "code",
      "metadata": {
        "id": "lhohTgFZ_OPH",
        "colab_type": "code",
        "colab": {
          "base_uri": "https://localhost:8080/",
          "height": 1000
        },
        "outputId": "6b1025a5-f690-4626-e8e2-44b111f39978"
      },
      "source": [
        "compete_num_words = compete_number_of_words(detoken_xr, khaiii_xr, 1000, 32000, 1000, random_state=42)"
      ],
      "execution_count": 188,
      "outputs": [
        {
          "output_type": "stream",
          "text": [
            "1 번째, 1000'th of words training\n"
          ],
          "name": "stdout"
        },
        {
          "output_type": "stream",
          "text": [
            "WARNING:gensim.models.ldamodel:too few updates, training might not converge; consider increasing the number of passes or iterations to improve accuracy\n"
          ],
          "name": "stderr"
        },
        {
          "output_type": "stream",
          "text": [
            "2 번째, 2000'th of words training\n"
          ],
          "name": "stdout"
        },
        {
          "output_type": "stream",
          "text": [
            "WARNING:gensim.models.ldamodel:too few updates, training might not converge; consider increasing the number of passes or iterations to improve accuracy\n"
          ],
          "name": "stderr"
        },
        {
          "output_type": "stream",
          "text": [
            "3 번째, 3000'th of words training\n"
          ],
          "name": "stdout"
        },
        {
          "output_type": "stream",
          "text": [
            "WARNING:gensim.models.ldamodel:too few updates, training might not converge; consider increasing the number of passes or iterations to improve accuracy\n"
          ],
          "name": "stderr"
        },
        {
          "output_type": "stream",
          "text": [
            "4 번째, 4000'th of words training\n"
          ],
          "name": "stdout"
        },
        {
          "output_type": "stream",
          "text": [
            "WARNING:gensim.models.ldamodel:too few updates, training might not converge; consider increasing the number of passes or iterations to improve accuracy\n"
          ],
          "name": "stderr"
        },
        {
          "output_type": "stream",
          "text": [
            "5 번째, 5000'th of words training\n"
          ],
          "name": "stdout"
        },
        {
          "output_type": "stream",
          "text": [
            "WARNING:gensim.models.ldamodel:too few updates, training might not converge; consider increasing the number of passes or iterations to improve accuracy\n"
          ],
          "name": "stderr"
        },
        {
          "output_type": "stream",
          "text": [
            "6 번째, 6000'th of words training\n"
          ],
          "name": "stdout"
        },
        {
          "output_type": "stream",
          "text": [
            "WARNING:gensim.models.ldamodel:too few updates, training might not converge; consider increasing the number of passes or iterations to improve accuracy\n"
          ],
          "name": "stderr"
        },
        {
          "output_type": "stream",
          "text": [
            "7 번째, 7000'th of words training\n"
          ],
          "name": "stdout"
        },
        {
          "output_type": "stream",
          "text": [
            "WARNING:gensim.models.ldamodel:too few updates, training might not converge; consider increasing the number of passes or iterations to improve accuracy\n"
          ],
          "name": "stderr"
        },
        {
          "output_type": "stream",
          "text": [
            "8 번째, 8000'th of words training\n"
          ],
          "name": "stdout"
        },
        {
          "output_type": "stream",
          "text": [
            "WARNING:gensim.models.ldamodel:too few updates, training might not converge; consider increasing the number of passes or iterations to improve accuracy\n"
          ],
          "name": "stderr"
        },
        {
          "output_type": "stream",
          "text": [
            "9 번째, 9000'th of words training\n"
          ],
          "name": "stdout"
        },
        {
          "output_type": "stream",
          "text": [
            "WARNING:gensim.models.ldamodel:too few updates, training might not converge; consider increasing the number of passes or iterations to improve accuracy\n"
          ],
          "name": "stderr"
        },
        {
          "output_type": "stream",
          "text": [
            "10 번째, 10000'th of words training\n"
          ],
          "name": "stdout"
        },
        {
          "output_type": "stream",
          "text": [
            "WARNING:gensim.models.ldamodel:too few updates, training might not converge; consider increasing the number of passes or iterations to improve accuracy\n"
          ],
          "name": "stderr"
        },
        {
          "output_type": "stream",
          "text": [
            "11 번째, 11000'th of words training\n"
          ],
          "name": "stdout"
        },
        {
          "output_type": "stream",
          "text": [
            "WARNING:gensim.models.ldamodel:too few updates, training might not converge; consider increasing the number of passes or iterations to improve accuracy\n"
          ],
          "name": "stderr"
        },
        {
          "output_type": "stream",
          "text": [
            "12 번째, 12000'th of words training\n"
          ],
          "name": "stdout"
        },
        {
          "output_type": "stream",
          "text": [
            "WARNING:gensim.models.ldamodel:too few updates, training might not converge; consider increasing the number of passes or iterations to improve accuracy\n"
          ],
          "name": "stderr"
        },
        {
          "output_type": "stream",
          "text": [
            "13 번째, 13000'th of words training\n"
          ],
          "name": "stdout"
        },
        {
          "output_type": "stream",
          "text": [
            "WARNING:gensim.models.ldamodel:too few updates, training might not converge; consider increasing the number of passes or iterations to improve accuracy\n"
          ],
          "name": "stderr"
        },
        {
          "output_type": "stream",
          "text": [
            "14 번째, 14000'th of words training\n"
          ],
          "name": "stdout"
        },
        {
          "output_type": "stream",
          "text": [
            "WARNING:gensim.models.ldamodel:too few updates, training might not converge; consider increasing the number of passes or iterations to improve accuracy\n"
          ],
          "name": "stderr"
        },
        {
          "output_type": "stream",
          "text": [
            "15 번째, 15000'th of words training\n"
          ],
          "name": "stdout"
        },
        {
          "output_type": "stream",
          "text": [
            "WARNING:gensim.models.ldamodel:too few updates, training might not converge; consider increasing the number of passes or iterations to improve accuracy\n"
          ],
          "name": "stderr"
        },
        {
          "output_type": "stream",
          "text": [
            "16 번째, 16000'th of words training\n"
          ],
          "name": "stdout"
        },
        {
          "output_type": "stream",
          "text": [
            "WARNING:gensim.models.ldamodel:too few updates, training might not converge; consider increasing the number of passes or iterations to improve accuracy\n"
          ],
          "name": "stderr"
        },
        {
          "output_type": "stream",
          "text": [
            "17 번째, 17000'th of words training\n"
          ],
          "name": "stdout"
        },
        {
          "output_type": "stream",
          "text": [
            "WARNING:gensim.models.ldamodel:too few updates, training might not converge; consider increasing the number of passes or iterations to improve accuracy\n"
          ],
          "name": "stderr"
        },
        {
          "output_type": "stream",
          "text": [
            "18 번째, 18000'th of words training\n"
          ],
          "name": "stdout"
        },
        {
          "output_type": "stream",
          "text": [
            "WARNING:gensim.models.ldamodel:too few updates, training might not converge; consider increasing the number of passes or iterations to improve accuracy\n"
          ],
          "name": "stderr"
        },
        {
          "output_type": "stream",
          "text": [
            "19 번째, 19000'th of words training\n"
          ],
          "name": "stdout"
        },
        {
          "output_type": "stream",
          "text": [
            "WARNING:gensim.models.ldamodel:too few updates, training might not converge; consider increasing the number of passes or iterations to improve accuracy\n"
          ],
          "name": "stderr"
        },
        {
          "output_type": "stream",
          "text": [
            "20 번째, 20000'th of words training\n"
          ],
          "name": "stdout"
        },
        {
          "output_type": "stream",
          "text": [
            "WARNING:gensim.models.ldamodel:too few updates, training might not converge; consider increasing the number of passes or iterations to improve accuracy\n"
          ],
          "name": "stderr"
        },
        {
          "output_type": "stream",
          "text": [
            "21 번째, 21000'th of words training\n"
          ],
          "name": "stdout"
        },
        {
          "output_type": "stream",
          "text": [
            "WARNING:gensim.models.ldamodel:too few updates, training might not converge; consider increasing the number of passes or iterations to improve accuracy\n"
          ],
          "name": "stderr"
        },
        {
          "output_type": "stream",
          "text": [
            "22 번째, 22000'th of words training\n"
          ],
          "name": "stdout"
        },
        {
          "output_type": "stream",
          "text": [
            "WARNING:gensim.models.ldamodel:too few updates, training might not converge; consider increasing the number of passes or iterations to improve accuracy\n"
          ],
          "name": "stderr"
        },
        {
          "output_type": "stream",
          "text": [
            "23 번째, 23000'th of words training\n"
          ],
          "name": "stdout"
        },
        {
          "output_type": "stream",
          "text": [
            "WARNING:gensim.models.ldamodel:too few updates, training might not converge; consider increasing the number of passes or iterations to improve accuracy\n"
          ],
          "name": "stderr"
        },
        {
          "output_type": "stream",
          "text": [
            "24 번째, 24000'th of words training\n"
          ],
          "name": "stdout"
        },
        {
          "output_type": "stream",
          "text": [
            "WARNING:gensim.models.ldamodel:too few updates, training might not converge; consider increasing the number of passes or iterations to improve accuracy\n"
          ],
          "name": "stderr"
        },
        {
          "output_type": "stream",
          "text": [
            "25 번째, 25000'th of words training\n"
          ],
          "name": "stdout"
        },
        {
          "output_type": "stream",
          "text": [
            "WARNING:gensim.models.ldamodel:too few updates, training might not converge; consider increasing the number of passes or iterations to improve accuracy\n"
          ],
          "name": "stderr"
        },
        {
          "output_type": "stream",
          "text": [
            "26 번째, 26000'th of words training\n"
          ],
          "name": "stdout"
        },
        {
          "output_type": "stream",
          "text": [
            "WARNING:gensim.models.ldamodel:too few updates, training might not converge; consider increasing the number of passes or iterations to improve accuracy\n"
          ],
          "name": "stderr"
        },
        {
          "output_type": "stream",
          "text": [
            "27 번째, 27000'th of words training\n"
          ],
          "name": "stdout"
        },
        {
          "output_type": "stream",
          "text": [
            "WARNING:gensim.models.ldamodel:too few updates, training might not converge; consider increasing the number of passes or iterations to improve accuracy\n"
          ],
          "name": "stderr"
        },
        {
          "output_type": "stream",
          "text": [
            "28 번째, 28000'th of words training\n"
          ],
          "name": "stdout"
        },
        {
          "output_type": "stream",
          "text": [
            "WARNING:gensim.models.ldamodel:too few updates, training might not converge; consider increasing the number of passes or iterations to improve accuracy\n"
          ],
          "name": "stderr"
        },
        {
          "output_type": "stream",
          "text": [
            "29 번째, 29000'th of words training\n"
          ],
          "name": "stdout"
        },
        {
          "output_type": "stream",
          "text": [
            "WARNING:gensim.models.ldamodel:too few updates, training might not converge; consider increasing the number of passes or iterations to improve accuracy\n"
          ],
          "name": "stderr"
        },
        {
          "output_type": "stream",
          "text": [
            "30 번째, 30000'th of words training\n"
          ],
          "name": "stdout"
        },
        {
          "output_type": "stream",
          "text": [
            "WARNING:gensim.models.ldamodel:too few updates, training might not converge; consider increasing the number of passes or iterations to improve accuracy\n"
          ],
          "name": "stderr"
        },
        {
          "output_type": "stream",
          "text": [
            "31 번째, 31000'th of words training\n"
          ],
          "name": "stdout"
        },
        {
          "output_type": "stream",
          "text": [
            "WARNING:gensim.models.ldamodel:too few updates, training might not converge; consider increasing the number of passes or iterations to improve accuracy\n"
          ],
          "name": "stderr"
        }
      ]
    },
    {
      "cell_type": "code",
      "metadata": {
        "id": "mB8FwwXCgUwL",
        "colab_type": "code",
        "colab": {}
      },
      "source": [
        "%matplotlib inline \n",
        "import matplotlib.pyplot as plt\n",
        "import numpy as np\n",
        "\n",
        "# 글씨 크기 조정\n",
        "plt.rc('font', size=14)"
      ],
      "execution_count": 241,
      "outputs": []
    },
    {
      "cell_type": "code",
      "metadata": {
        "id": "OWBywyX8D8ip",
        "colab_type": "code",
        "colab": {
          "base_uri": "https://localhost:8080/",
          "height": 611
        },
        "outputId": "82d3344c-9f03-4c78-ccd8-590ac52b7b8d"
      },
      "source": [
        "\n",
        "\n",
        "plt.figure(figsize=(15, 10))\n",
        "plt.xlabel('The Number of words')\n",
        "plt.ylabel('Coherence Value')\n",
        "plt.xticks(np.arange(1000, 32000, 1000), rotation=45)\n",
        "plt.yticks(np.arange(0.31, 0.36, 0.01))\n",
        "plt.ylim(0.31, 0.35)\n",
        "plt.grid(True)\n",
        "plt.title(\"Coherence Value for chainging number of words\")\n",
        "plt.plot(compete_num_words['Num of Words'], compete_num_words['Coherence Value'])\n",
        "plt.scatter(compete_num_words['Num of Words'], compete_num_words['Coherence Value'])\n",
        "plt.show()\n"
      ],
      "execution_count": 243,
      "outputs": [
        {
          "output_type": "display_data",
          "data": {
            "image/png": "[encoded data removed]",
            "text/plain": [
              "<Figure size 1080x720 with 1 Axes>"
            ]
          },
          "metadata": {
            "tags": [],
            "needs_background": "light"
          }
        }
      ]
    },
    {
      "cell_type": "code",
      "metadata": {
        "id": "q7d7xkTbgtCi",
        "colab_type": "code",
        "colab": {
          "base_uri": "https://localhost:8080/",
          "height": 619
        },
        "outputId": "f160504a-3b6f-4024-ca4d-c9ab687d6ab1"
      },
      "source": [
        "# Log Perplexity 값 확인\n",
        "\n",
        "plt.figure(figsize=(15, 10))\n",
        "plt.xlabel('The Number of words')\n",
        "plt.ylabel('Coherence Value')\n",
        "plt.xticks(np.arange(1000, 32000, 1000), rotation=45)\n",
        "plt.grid(True)\n",
        "plt.title(\"abs(Peplexity Value) for chainging number of words\")\n",
        "plt.plot(compete_num_words['Num of Words'], abs(compete_num_words['Perplexity Value']), 'r')\n",
        "plt.scatter(compete_num_words['Num of Words'], abs(compete_num_words['Perplexity Value']), c='r')\n",
        "plt.show()\n"
      ],
      "execution_count": 246,
      "outputs": [
        {
          "output_type": "display_data",
          "data": {
            "image/png": "[encoded data removed]",
            "text/plain": [
              "<Figure size 1080x720 with 1 Axes>"
            ]
          },
          "metadata": {
            "tags": [],
            "needs_background": "light"
          }
        }
      ]
    },
    {
      "cell_type": "code",
      "metadata": {
        "id": "MifIuWUVadpc",
        "colab_type": "code",
        "colab": {
          "base_uri": "https://localhost:8080/",
          "height": 729
        },
        "outputId": "e2e3b319-80fd-4169-f392-e8c6456d9167"
      },
      "source": [
        "# 계산된 c_v와 p_v 값 같이 보여주기\n",
        "\n",
        "fig, ax1 = plt.subplots(figsize=(10, 10))\n",
        "\n",
        "x = np.arange(1000, 32000, 1000)\n",
        "y1 = compete_num_words['Coherence Value']\n",
        "y2 = abs(compete_num_words['Perplexity Value'])\n",
        "\n",
        "ax1.set_xlabel('Number Of Words')\n",
        "ax1.set_ylabel('Coherence Value', color='blue')\n",
        "ax1.set_ylim(0.31, 0.35)\n",
        "ax1.plot(x, y1, c='b')\n",
        "ax1.scatter(x, y1, c='b')\n",
        "ax1.tick_params(axis='y', labelcolor='b')\n",
        "\n",
        "ax2 = ax1.twinx()  \n",
        "ax2.set_ylabel('Perplexity Value', color='red')  \n",
        "ax2.plot(x, y2, c='r')\n",
        "ax2.scatter(x, y2, c='r')\n",
        "ax2.tick_params(axis='y', labelcolor='r')\n",
        "fig.legend(['Coherence Value','c_v', 'abs(Perplexity Value', 'p_v'])\n",
        "fig.tight_layout()\n",
        "\n",
        "plt.grid()\n",
        "plt.show()"
      ],
      "execution_count": 236,
      "outputs": [
        {
          "output_type": "display_data",
          "data": {
            "image/png": "[encoded data removed]",
            "text/plain": [
              "<Figure size 720x720 with 2 Axes>"
            ]
          },
          "metadata": {
            "tags": [],
            "needs_background": "light"
          }
        }
      ]
    },
    {
      "cell_type": "markdown",
      "metadata": {
        "id": "Jts7Sjr6iO2D",
        "colab_type": "text"
      },
      "source": [
        "# 최적의 LDA Model Parameter 찾기\n",
        "찾을 하이퍼 파라미터 : n_topics, alpha, beta\n",
        "지표 : Coherence Value\n",
        "\n"
      ]
    },
    {
      "cell_type": "code",
      "metadata": {
        "id": "kKTQYQ09jW79",
        "colab_type": "code",
        "colab": {}
      },
      "source": [
        "# 이전의 결과로 나타난 max_featues : 25000을 사용\n",
        "\n",
        "best_count = CountVectorizer(max_features=25000)\n",
        "\n",
        "count_vec =  best_count.fit_transform(detoken_xr)\n",
        "\n",
        "corpus = Sparse2Corpus(count_vec.T)\n",
        "\n",
        "dic = corpora.Dictionary([best_count.get_feature_names()])\n"
      ],
      "execution_count": 262,
      "outputs": []
    },
    {
      "cell_type": "code",
      "metadata": {
        "id": "Buny5m4hixJx",
        "colab_type": "code",
        "colab": {}
      },
      "source": [
        "def compute_coherence_values(corpus, id2word, k, a, b):\n",
        "\n",
        "  lda_model = gensim.models.LdaMulticore(corpus=corpus,\n",
        "                                         id2word=id2word,\n",
        "                                         num_topics=k,\n",
        "                                         random_state=42, \n",
        "                                         chunksize=256, \n",
        "                                         passes=10,\n",
        "                                         alpha=a,\n",
        "                                         eta=b,\n",
        "                                         per_word_topics=True,\n",
        "                                         iterations=500)\n",
        "  \n",
        "  coherence_model = CoherenceModel(model=lda_model, texts=khaii_xr, dictionary=id2word, coherence='c_v')\n",
        "\n",
        "  return coherence_model.get_coherence()\n"
      ],
      "execution_count": 271,
      "outputs": []
    },
    {
      "cell_type": "code",
      "metadata": {
        "id": "UMOcrlfohlnj",
        "colab_type": "code",
        "colab": {
          "base_uri": "https://localhost:8080/",
          "height": 1000
        },
        "outputId": "63fe2a3c-2cd5-45d2-e609-f351e1207731"
      },
      "source": [
        "\n",
        "# Topic Range\n",
        "min_topics = 5\n",
        "max_topics = 505\n",
        "step_size = 5\n",
        "topic_range = range(min_topics, max_topics, step_size)\n",
        "\n",
        "# Alpha parameter\n",
        "alpha = list(np.arange(0.01, 1, 0.3))\n",
        "alpha.append('symmetric')\n",
        "alpha.append('asymmetric')\n",
        "\n",
        "# Beta parameter\n",
        "beta = list(np.arange(0.01, 1, 0.3))\n",
        "beta.append('symmetric')\n",
        "\n",
        "\n",
        "model_result = pd.DataFrame(columns=['n_topic', 'alpha', 'beta', 'coherence'])\n",
        "i = 0\n",
        "for n_topic in topic_range:\n",
        "  for a in alpha:\n",
        "    for b in beta:\n",
        "      print(\"i: {}, n_topic : {}, a : {}, b : {}\".format(i+1, n_topic, a, b))\n",
        "      print(\"=====================================================================\")\n",
        "\n",
        "      cv = compute_coherence_values(corpus=corpus, id2word=dic, k=n_topic, a=a, b=b)\n",
        "\n",
        "      model_result.loc[i] = [n_topic, a, b, cv]\n",
        "      i += 1\n"
      ],
      "execution_count": null,
      "outputs": [
        {
          "output_type": "stream",
          "text": [
            "i: 1, n_topic : 5, a : 0.01, b : 0.01\n",
            "=====================================================================\n",
            "i: 2, n_topic : 5, a : 0.01, b : 0.31\n",
            "=====================================================================\n",
            "i: 3, n_topic : 5, a : 0.01, b : 0.61\n",
            "=====================================================================\n",
            "i: 4, n_topic : 5, a : 0.01, b : 0.9099999999999999\n",
            "=====================================================================\n",
            "i: 5, n_topic : 5, a : 0.01, b : symmetric\n",
            "=====================================================================\n",
            "i: 6, n_topic : 5, a : 0.31, b : 0.01\n",
            "=====================================================================\n",
            "i: 7, n_topic : 5, a : 0.31, b : 0.31\n",
            "=====================================================================\n",
            "i: 8, n_topic : 5, a : 0.31, b : 0.61\n",
            "=====================================================================\n",
            "i: 9, n_topic : 5, a : 0.31, b : 0.9099999999999999\n",
            "=====================================================================\n",
            "i: 10, n_topic : 5, a : 0.31, b : symmetric\n",
            "=====================================================================\n",
            "i: 11, n_topic : 5, a : 0.61, b : 0.01\n",
            "=====================================================================\n",
            "i: 12, n_topic : 5, a : 0.61, b : 0.31\n",
            "=====================================================================\n",
            "i: 13, n_topic : 5, a : 0.61, b : 0.61\n",
            "=====================================================================\n",
            "i: 14, n_topic : 5, a : 0.61, b : 0.9099999999999999\n",
            "=====================================================================\n",
            "i: 15, n_topic : 5, a : 0.61, b : symmetric\n",
            "=====================================================================\n",
            "i: 16, n_topic : 5, a : 0.9099999999999999, b : 0.01\n",
            "=====================================================================\n",
            "i: 17, n_topic : 5, a : 0.9099999999999999, b : 0.31\n",
            "=====================================================================\n",
            "i: 18, n_topic : 5, a : 0.9099999999999999, b : 0.61\n",
            "=====================================================================\n",
            "i: 19, n_topic : 5, a : 0.9099999999999999, b : 0.9099999999999999\n",
            "=====================================================================\n",
            "i: 20, n_topic : 5, a : 0.9099999999999999, b : symmetric\n",
            "=====================================================================\n",
            "i: 21, n_topic : 5, a : symmetric, b : 0.01\n",
            "=====================================================================\n",
            "i: 22, n_topic : 5, a : symmetric, b : 0.31\n",
            "=====================================================================\n",
            "i: 23, n_topic : 5, a : symmetric, b : 0.61\n",
            "=====================================================================\n",
            "i: 24, n_topic : 5, a : symmetric, b : 0.9099999999999999\n",
            "=====================================================================\n",
            "i: 25, n_topic : 5, a : symmetric, b : symmetric\n",
            "=====================================================================\n",
            "i: 26, n_topic : 5, a : asymmetric, b : 0.01\n",
            "=====================================================================\n",
            "i: 27, n_topic : 5, a : asymmetric, b : 0.31\n",
            "=====================================================================\n",
            "i: 28, n_topic : 5, a : asymmetric, b : 0.61\n",
            "=====================================================================\n",
            "i: 29, n_topic : 5, a : asymmetric, b : 0.9099999999999999\n",
            "=====================================================================\n",
            "i: 30, n_topic : 5, a : asymmetric, b : symmetric\n",
            "=====================================================================\n",
            "i: 31, n_topic : 10, a : 0.01, b : 0.01\n",
            "=====================================================================\n",
            "i: 32, n_topic : 10, a : 0.01, b : 0.31\n",
            "=====================================================================\n",
            "i: 33, n_topic : 10, a : 0.01, b : 0.61\n",
            "=====================================================================\n",
            "i: 34, n_topic : 10, a : 0.01, b : 0.9099999999999999\n",
            "=====================================================================\n",
            "i: 35, n_topic : 10, a : 0.01, b : symmetric\n",
            "=====================================================================\n",
            "i: 36, n_topic : 10, a : 0.31, b : 0.01\n",
            "=====================================================================\n",
            "i: 37, n_topic : 10, a : 0.31, b : 0.31\n",
            "=====================================================================\n"
          ],
          "name": "stdout"
        }
      ]
    },
    {
      "cell_type": "code",
      "metadata": {
        "id": "EO7Aj8owjseY",
        "colab_type": "code",
        "colab": {
          "base_uri": "https://localhost:8080/",
          "height": 1000
        },
        "outputId": "1dadfe69-601a-4566-87bd-88c15f7827ee"
      },
      "source": [
        "# 최적의 coherence value 찾기\n",
        "\n",
        "n_topic = np.arange(5, 505, 5)\n",
        "\n",
        "co_value = pd.DataFrame(columns=['Num Topic', 'c_v'])\n",
        "i = 0\n",
        "for topic in n_topic:\n",
        "  print(\"{}번째, {} 개의 topic\".format(i, topic))\n",
        "  LDA = LdaModel(corpus=corpus, id2word=id2word, num_topics=topic)\n",
        "\n",
        "  c_v_LDA = CoherenceModel(model=LDA, texts=khaiii_xr, dictionary=dictionary, coherence='c_v')\n",
        "  co_value.loc[i] = [topic, c_v_LDA.get_coherence()]\n",
        "  i+=1"
      ],
      "execution_count": null,
      "outputs": [
        {
          "output_type": "stream",
          "text": [
            "WARNING:gensim.models.ldamodel:too few updates, training might not converge; consider increasing the number of passes or iterations to improve accuracy\n"
          ],
          "name": "stderr"
        },
        {
          "output_type": "stream",
          "text": [
            "0번째, 5 개의 topic\n"
          ],
          "name": "stdout"
        },
        {
          "output_type": "stream",
          "text": [
            "WARNING:gensim.models.ldamodel:too few updates, training might not converge; consider increasing the number of passes or iterations to improve accuracy\n"
          ],
          "name": "stderr"
        },
        {
          "output_type": "stream",
          "text": [
            "1번째, 10 개의 topic\n"
          ],
          "name": "stdout"
        },
        {
          "output_type": "stream",
          "text": [
            "WARNING:gensim.models.ldamodel:too few updates, training might not converge; consider increasing the number of passes or iterations to improve accuracy\n"
          ],
          "name": "stderr"
        },
        {
          "output_type": "stream",
          "text": [
            "2번째, 15 개의 topic\n"
          ],
          "name": "stdout"
        },
        {
          "output_type": "stream",
          "text": [
            "WARNING:gensim.models.ldamodel:too few updates, training might not converge; consider increasing the number of passes or iterations to improve accuracy\n"
          ],
          "name": "stderr"
        },
        {
          "output_type": "stream",
          "text": [
            "3번째, 20 개의 topic\n"
          ],
          "name": "stdout"
        },
        {
          "output_type": "stream",
          "text": [
            "WARNING:gensim.models.ldamodel:too few updates, training might not converge; consider increasing the number of passes or iterations to improve accuracy\n"
          ],
          "name": "stderr"
        },
        {
          "output_type": "stream",
          "text": [
            "4번째, 25 개의 topic\n"
          ],
          "name": "stdout"
        },
        {
          "output_type": "stream",
          "text": [
            "WARNING:gensim.models.ldamodel:too few updates, training might not converge; consider increasing the number of passes or iterations to improve accuracy\n"
          ],
          "name": "stderr"
        },
        {
          "output_type": "stream",
          "text": [
            "5번째, 30 개의 topic\n"
          ],
          "name": "stdout"
        },
        {
          "output_type": "stream",
          "text": [
            "WARNING:gensim.models.ldamodel:too few updates, training might not converge; consider increasing the number of passes or iterations to improve accuracy\n"
          ],
          "name": "stderr"
        },
        {
          "output_type": "stream",
          "text": [
            "6번째, 35 개의 topic\n"
          ],
          "name": "stdout"
        },
        {
          "output_type": "stream",
          "text": [
            "WARNING:gensim.models.ldamodel:too few updates, training might not converge; consider increasing the number of passes or iterations to improve accuracy\n"
          ],
          "name": "stderr"
        },
        {
          "output_type": "stream",
          "text": [
            "7번째, 40 개의 topic\n"
          ],
          "name": "stdout"
        },
        {
          "output_type": "stream",
          "text": [
            "WARNING:gensim.models.ldamodel:too few updates, training might not converge; consider increasing the number of passes or iterations to improve accuracy\n"
          ],
          "name": "stderr"
        },
        {
          "output_type": "stream",
          "text": [
            "8번째, 45 개의 topic\n"
          ],
          "name": "stdout"
        },
        {
          "output_type": "stream",
          "text": [
            "WARNING:gensim.models.ldamodel:too few updates, training might not converge; consider increasing the number of passes or iterations to improve accuracy\n"
          ],
          "name": "stderr"
        },
        {
          "output_type": "stream",
          "text": [
            "9번째, 50 개의 topic\n",
            "10번째, 55 개의 topic\n"
          ],
          "name": "stdout"
        },
        {
          "output_type": "stream",
          "text": [
            "WARNING:gensim.models.ldamodel:too few updates, training might not converge; consider increasing the number of passes or iterations to improve accuracy\n"
          ],
          "name": "stderr"
        },
        {
          "output_type": "stream",
          "text": [
            "11번째, 60 개의 topic\n"
          ],
          "name": "stdout"
        },
        {
          "output_type": "stream",
          "text": [
            "WARNING:gensim.models.ldamodel:too few updates, training might not converge; consider increasing the number of passes or iterations to improve accuracy\n"
          ],
          "name": "stderr"
        },
        {
          "output_type": "stream",
          "text": [
            "12번째, 65 개의 topic\n"
          ],
          "name": "stdout"
        },
        {
          "output_type": "stream",
          "text": [
            "WARNING:gensim.models.ldamodel:too few updates, training might not converge; consider increasing the number of passes or iterations to improve accuracy\n"
          ],
          "name": "stderr"
        },
        {
          "output_type": "stream",
          "text": [
            "13번째, 70 개의 topic\n"
          ],
          "name": "stdout"
        },
        {
          "output_type": "stream",
          "text": [
            "WARNING:gensim.models.ldamodel:too few updates, training might not converge; consider increasing the number of passes or iterations to improve accuracy\n"
          ],
          "name": "stderr"
        },
        {
          "output_type": "stream",
          "text": [
            "14번째, 75 개의 topic\n"
          ],
          "name": "stdout"
        },
        {
          "output_type": "stream",
          "text": [
            "WARNING:gensim.models.ldamodel:too few updates, training might not converge; consider increasing the number of passes or iterations to improve accuracy\n"
          ],
          "name": "stderr"
        },
        {
          "output_type": "stream",
          "text": [
            "15번째, 80 개의 topic\n"
          ],
          "name": "stdout"
        },
        {
          "output_type": "stream",
          "text": [
            "WARNING:gensim.models.ldamodel:too few updates, training might not converge; consider increasing the number of passes or iterations to improve accuracy\n"
          ],
          "name": "stderr"
        },
        {
          "output_type": "stream",
          "text": [
            "16번째, 85 개의 topic\n"
          ],
          "name": "stdout"
        },
        {
          "output_type": "stream",
          "text": [
            "WARNING:gensim.models.ldamodel:too few updates, training might not converge; consider increasing the number of passes or iterations to improve accuracy\n"
          ],
          "name": "stderr"
        },
        {
          "output_type": "stream",
          "text": [
            "17번째, 90 개의 topic\n"
          ],
          "name": "stdout"
        },
        {
          "output_type": "stream",
          "text": [
            "WARNING:gensim.models.ldamodel:too few updates, training might not converge; consider increasing the number of passes or iterations to improve accuracy\n"
          ],
          "name": "stderr"
        },
        {
          "output_type": "stream",
          "text": [
            "18번째, 95 개의 topic\n"
          ],
          "name": "stdout"
        },
        {
          "output_type": "stream",
          "text": [
            "WARNING:gensim.models.ldamodel:too few updates, training might not converge; consider increasing the number of passes or iterations to improve accuracy\n"
          ],
          "name": "stderr"
        },
        {
          "output_type": "stream",
          "text": [
            "19번째, 100 개의 topic\n"
          ],
          "name": "stdout"
        },
        {
          "output_type": "stream",
          "text": [
            "WARNING:gensim.models.ldamodel:too few updates, training might not converge; consider increasing the number of passes or iterations to improve accuracy\n"
          ],
          "name": "stderr"
        },
        {
          "output_type": "stream",
          "text": [
            "20번째, 105 개의 topic\n"
          ],
          "name": "stdout"
        },
        {
          "output_type": "stream",
          "text": [
            "WARNING:gensim.models.ldamodel:too few updates, training might not converge; consider increasing the number of passes or iterations to improve accuracy\n"
          ],
          "name": "stderr"
        },
        {
          "output_type": "stream",
          "text": [
            "21번째, 110 개의 topic\n"
          ],
          "name": "stdout"
        },
        {
          "output_type": "stream",
          "text": [
            "WARNING:gensim.models.ldamodel:too few updates, training might not converge; consider increasing the number of passes or iterations to improve accuracy\n"
          ],
          "name": "stderr"
        },
        {
          "output_type": "stream",
          "text": [
            "22번째, 115 개의 topic\n"
          ],
          "name": "stdout"
        },
        {
          "output_type": "stream",
          "text": [
            "WARNING:gensim.models.ldamodel:too few updates, training might not converge; consider increasing the number of passes or iterations to improve accuracy\n"
          ],
          "name": "stderr"
        },
        {
          "output_type": "stream",
          "text": [
            "23번째, 120 개의 topic\n"
          ],
          "name": "stdout"
        },
        {
          "output_type": "stream",
          "text": [
            "WARNING:gensim.models.ldamodel:too few updates, training might not converge; consider increasing the number of passes or iterations to improve accuracy\n"
          ],
          "name": "stderr"
        },
        {
          "output_type": "stream",
          "text": [
            "24번째, 125 개의 topic\n"
          ],
          "name": "stdout"
        },
        {
          "output_type": "stream",
          "text": [
            "WARNING:gensim.models.ldamodel:too few updates, training might not converge; consider increasing the number of passes or iterations to improve accuracy\n"
          ],
          "name": "stderr"
        },
        {
          "output_type": "stream",
          "text": [
            "25번째, 130 개의 topic\n"
          ],
          "name": "stdout"
        },
        {
          "output_type": "stream",
          "text": [
            "WARNING:gensim.models.ldamodel:too few updates, training might not converge; consider increasing the number of passes or iterations to improve accuracy\n"
          ],
          "name": "stderr"
        },
        {
          "output_type": "stream",
          "text": [
            "26번째, 135 개의 topic\n"
          ],
          "name": "stdout"
        },
        {
          "output_type": "stream",
          "text": [
            "WARNING:gensim.models.ldamodel:too few updates, training might not converge; consider increasing the number of passes or iterations to improve accuracy\n"
          ],
          "name": "stderr"
        },
        {
          "output_type": "stream",
          "text": [
            "27번째, 140 개의 topic\n"
          ],
          "name": "stdout"
        },
        {
          "output_type": "stream",
          "text": [
            "WARNING:gensim.models.ldamodel:too few updates, training might not converge; consider increasing the number of passes or iterations to improve accuracy\n"
          ],
          "name": "stderr"
        },
        {
          "output_type": "stream",
          "text": [
            "28번째, 145 개의 topic\n"
          ],
          "name": "stdout"
        },
        {
          "output_type": "stream",
          "text": [
            "WARNING:gensim.models.ldamodel:too few updates, training might not converge; consider increasing the number of passes or iterations to improve accuracy\n"
          ],
          "name": "stderr"
        },
        {
          "output_type": "stream",
          "text": [
            "29번째, 150 개의 topic\n"
          ],
          "name": "stdout"
        },
        {
          "output_type": "stream",
          "text": [
            "WARNING:gensim.models.ldamodel:too few updates, training might not converge; consider increasing the number of passes or iterations to improve accuracy\n"
          ],
          "name": "stderr"
        },
        {
          "output_type": "stream",
          "text": [
            "30번째, 155 개의 topic\n"
          ],
          "name": "stdout"
        },
        {
          "output_type": "stream",
          "text": [
            "WARNING:gensim.models.ldamodel:too few updates, training might not converge; consider increasing the number of passes or iterations to improve accuracy\n"
          ],
          "name": "stderr"
        },
        {
          "output_type": "stream",
          "text": [
            "31번째, 160 개의 topic\n"
          ],
          "name": "stdout"
        },
        {
          "output_type": "stream",
          "text": [
            "WARNING:gensim.models.ldamodel:too few updates, training might not converge; consider increasing the number of passes or iterations to improve accuracy\n"
          ],
          "name": "stderr"
        },
        {
          "output_type": "stream",
          "text": [
            "32번째, 165 개의 topic\n"
          ],
          "name": "stdout"
        },
        {
          "output_type": "stream",
          "text": [
            "WARNING:gensim.models.ldamodel:too few updates, training might not converge; consider increasing the number of passes or iterations to improve accuracy\n"
          ],
          "name": "stderr"
        },
        {
          "output_type": "stream",
          "text": [
            "33번째, 170 개의 topic\n"
          ],
          "name": "stdout"
        },
        {
          "output_type": "stream",
          "text": [
            "WARNING:gensim.models.ldamodel:too few updates, training might not converge; consider increasing the number of passes or iterations to improve accuracy\n"
          ],
          "name": "stderr"
        },
        {
          "output_type": "stream",
          "text": [
            "34번째, 175 개의 topic\n"
          ],
          "name": "stdout"
        },
        {
          "output_type": "stream",
          "text": [
            "WARNING:gensim.models.ldamodel:too few updates, training might not converge; consider increasing the number of passes or iterations to improve accuracy\n"
          ],
          "name": "stderr"
        },
        {
          "output_type": "stream",
          "text": [
            "35번째, 180 개의 topic\n"
          ],
          "name": "stdout"
        },
        {
          "output_type": "stream",
          "text": [
            "WARNING:gensim.models.ldamodel:too few updates, training might not converge; consider increasing the number of passes or iterations to improve accuracy\n"
          ],
          "name": "stderr"
        },
        {
          "output_type": "stream",
          "text": [
            "36번째, 185 개의 topic\n"
          ],
          "name": "stdout"
        },
        {
          "output_type": "stream",
          "text": [
            "WARNING:gensim.models.ldamodel:too few updates, training might not converge; consider increasing the number of passes or iterations to improve accuracy\n"
          ],
          "name": "stderr"
        },
        {
          "output_type": "stream",
          "text": [
            "37번째, 190 개의 topic\n"
          ],
          "name": "stdout"
        },
        {
          "output_type": "stream",
          "text": [
            "WARNING:gensim.models.ldamodel:too few updates, training might not converge; consider increasing the number of passes or iterations to improve accuracy\n"
          ],
          "name": "stderr"
        },
        {
          "output_type": "stream",
          "text": [
            "38번째, 195 개의 topic\n"
          ],
          "name": "stdout"
        },
        {
          "output_type": "stream",
          "text": [
            "WARNING:gensim.models.ldamodel:too few updates, training might not converge; consider increasing the number of passes or iterations to improve accuracy\n"
          ],
          "name": "stderr"
        },
        {
          "output_type": "stream",
          "text": [
            "39번째, 200 개의 topic\n"
          ],
          "name": "stdout"
        },
        {
          "output_type": "stream",
          "text": [
            "WARNING:gensim.models.ldamodel:too few updates, training might not converge; consider increasing the number of passes or iterations to improve accuracy\n"
          ],
          "name": "stderr"
        },
        {
          "output_type": "stream",
          "text": [
            "40번째, 205 개의 topic\n"
          ],
          "name": "stdout"
        },
        {
          "output_type": "stream",
          "text": [
            "WARNING:gensim.models.ldamodel:too few updates, training might not converge; consider increasing the number of passes or iterations to improve accuracy\n"
          ],
          "name": "stderr"
        },
        {
          "output_type": "stream",
          "text": [
            "41번째, 210 개의 topic\n"
          ],
          "name": "stdout"
        },
        {
          "output_type": "stream",
          "text": [
            "WARNING:gensim.models.ldamodel:too few updates, training might not converge; consider increasing the number of passes or iterations to improve accuracy\n"
          ],
          "name": "stderr"
        },
        {
          "output_type": "stream",
          "text": [
            "42번째, 215 개의 topic\n"
          ],
          "name": "stdout"
        },
        {
          "output_type": "stream",
          "text": [
            "WARNING:gensim.models.ldamodel:too few updates, training might not converge; consider increasing the number of passes or iterations to improve accuracy\n"
          ],
          "name": "stderr"
        },
        {
          "output_type": "stream",
          "text": [
            "43번째, 220 개의 topic\n"
          ],
          "name": "stdout"
        },
        {
          "output_type": "stream",
          "text": [
            "WARNING:gensim.models.ldamodel:too few updates, training might not converge; consider increasing the number of passes or iterations to improve accuracy\n"
          ],
          "name": "stderr"
        },
        {
          "output_type": "stream",
          "text": [
            "44번째, 225 개의 topic\n"
          ],
          "name": "stdout"
        },
        {
          "output_type": "stream",
          "text": [
            "WARNING:gensim.models.ldamodel:too few updates, training might not converge; consider increasing the number of passes or iterations to improve accuracy\n"
          ],
          "name": "stderr"
        },
        {
          "output_type": "stream",
          "text": [
            "45번째, 230 개의 topic\n"
          ],
          "name": "stdout"
        },
        {
          "output_type": "stream",
          "text": [
            "WARNING:gensim.models.ldamodel:too few updates, training might not converge; consider increasing the number of passes or iterations to improve accuracy\n"
          ],
          "name": "stderr"
        },
        {
          "output_type": "stream",
          "text": [
            "46번째, 235 개의 topic\n"
          ],
          "name": "stdout"
        },
        {
          "output_type": "stream",
          "text": [
            "WARNING:gensim.models.ldamodel:too few updates, training might not converge; consider increasing the number of passes or iterations to improve accuracy\n"
          ],
          "name": "stderr"
        },
        {
          "output_type": "stream",
          "text": [
            "47번째, 240 개의 topic\n"
          ],
          "name": "stdout"
        },
        {
          "output_type": "stream",
          "text": [
            "WARNING:gensim.models.ldamodel:too few updates, training might not converge; consider increasing the number of passes or iterations to improve accuracy\n"
          ],
          "name": "stderr"
        },
        {
          "output_type": "stream",
          "text": [
            "48번째, 245 개의 topic\n"
          ],
          "name": "stdout"
        },
        {
          "output_type": "stream",
          "text": [
            "WARNING:gensim.models.ldamodel:too few updates, training might not converge; consider increasing the number of passes or iterations to improve accuracy\n"
          ],
          "name": "stderr"
        },
        {
          "output_type": "stream",
          "text": [
            "49번째, 250 개의 topic\n"
          ],
          "name": "stdout"
        },
        {
          "output_type": "stream",
          "text": [
            "WARNING:gensim.models.ldamodel:too few updates, training might not converge; consider increasing the number of passes or iterations to improve accuracy\n"
          ],
          "name": "stderr"
        },
        {
          "output_type": "stream",
          "text": [
            "50번째, 255 개의 topic\n"
          ],
          "name": "stdout"
        },
        {
          "output_type": "stream",
          "text": [
            "WARNING:gensim.models.ldamodel:too few updates, training might not converge; consider increasing the number of passes or iterations to improve accuracy\n"
          ],
          "name": "stderr"
        },
        {
          "output_type": "stream",
          "text": [
            "51번째, 260 개의 topic\n"
          ],
          "name": "stdout"
        },
        {
          "output_type": "stream",
          "text": [
            "WARNING:gensim.models.ldamodel:too few updates, training might not converge; consider increasing the number of passes or iterations to improve accuracy\n"
          ],
          "name": "stderr"
        },
        {
          "output_type": "stream",
          "text": [
            "52번째, 265 개의 topic\n"
          ],
          "name": "stdout"
        },
        {
          "output_type": "stream",
          "text": [
            "WARNING:gensim.models.ldamodel:too few updates, training might not converge; consider increasing the number of passes or iterations to improve accuracy\n"
          ],
          "name": "stderr"
        },
        {
          "output_type": "stream",
          "text": [
            "53번째, 270 개의 topic\n"
          ],
          "name": "stdout"
        },
        {
          "output_type": "stream",
          "text": [
            "WARNING:gensim.models.ldamodel:too few updates, training might not converge; consider increasing the number of passes or iterations to improve accuracy\n"
          ],
          "name": "stderr"
        },
        {
          "output_type": "stream",
          "text": [
            "54번째, 275 개의 topic\n"
          ],
          "name": "stdout"
        },
        {
          "output_type": "stream",
          "text": [
            "WARNING:gensim.models.ldamodel:too few updates, training might not converge; consider increasing the number of passes or iterations to improve accuracy\n"
          ],
          "name": "stderr"
        },
        {
          "output_type": "stream",
          "text": [
            "55번째, 280 개의 topic\n"
          ],
          "name": "stdout"
        },
        {
          "output_type": "stream",
          "text": [
            "WARNING:gensim.models.ldamodel:too few updates, training might not converge; consider increasing the number of passes or iterations to improve accuracy\n"
          ],
          "name": "stderr"
        },
        {
          "output_type": "stream",
          "text": [
            "56번째, 285 개의 topic\n"
          ],
          "name": "stdout"
        },
        {
          "output_type": "stream",
          "text": [
            "WARNING:gensim.models.ldamodel:too few updates, training might not converge; consider increasing the number of passes or iterations to improve accuracy\n"
          ],
          "name": "stderr"
        },
        {
          "output_type": "stream",
          "text": [
            "57번째, 290 개의 topic\n"
          ],
          "name": "stdout"
        },
        {
          "output_type": "stream",
          "text": [
            "WARNING:gensim.models.ldamodel:too few updates, training might not converge; consider increasing the number of passes or iterations to improve accuracy\n"
          ],
          "name": "stderr"
        },
        {
          "output_type": "stream",
          "text": [
            "58번째, 295 개의 topic\n"
          ],
          "name": "stdout"
        },
        {
          "output_type": "stream",
          "text": [
            "WARNING:gensim.models.ldamodel:too few updates, training might not converge; consider increasing the number of passes or iterations to improve accuracy\n"
          ],
          "name": "stderr"
        },
        {
          "output_type": "stream",
          "text": [
            "59번째, 300 개의 topic\n"
          ],
          "name": "stdout"
        },
        {
          "output_type": "stream",
          "text": [
            "WARNING:gensim.models.ldamodel:too few updates, training might not converge; consider increasing the number of passes or iterations to improve accuracy\n"
          ],
          "name": "stderr"
        },
        {
          "output_type": "stream",
          "text": [
            "60번째, 305 개의 topic\n"
          ],
          "name": "stdout"
        },
        {
          "output_type": "stream",
          "text": [
            "WARNING:gensim.models.ldamodel:too few updates, training might not converge; consider increasing the number of passes or iterations to improve accuracy\n"
          ],
          "name": "stderr"
        },
        {
          "output_type": "stream",
          "text": [
            "61번째, 310 개의 topic\n"
          ],
          "name": "stdout"
        },
        {
          "output_type": "stream",
          "text": [
            "WARNING:gensim.models.ldamodel:too few updates, training might not converge; consider increasing the number of passes or iterations to improve accuracy\n"
          ],
          "name": "stderr"
        },
        {
          "output_type": "stream",
          "text": [
            "62번째, 315 개의 topic\n"
          ],
          "name": "stdout"
        },
        {
          "output_type": "stream",
          "text": [
            "WARNING:gensim.models.ldamodel:too few updates, training might not converge; consider increasing the number of passes or iterations to improve accuracy\n"
          ],
          "name": "stderr"
        },
        {
          "output_type": "stream",
          "text": [
            "63번째, 320 개의 topic\n"
          ],
          "name": "stdout"
        },
        {
          "output_type": "stream",
          "text": [
            "WARNING:gensim.models.ldamodel:too few updates, training might not converge; consider increasing the number of passes or iterations to improve accuracy\n"
          ],
          "name": "stderr"
        },
        {
          "output_type": "stream",
          "text": [
            "64번째, 325 개의 topic\n"
          ],
          "name": "stdout"
        },
        {
          "output_type": "stream",
          "text": [
            "WARNING:gensim.models.ldamodel:too few updates, training might not converge; consider increasing the number of passes or iterations to improve accuracy\n"
          ],
          "name": "stderr"
        },
        {
          "output_type": "stream",
          "text": [
            "65번째, 330 개의 topic\n"
          ],
          "name": "stdout"
        },
        {
          "output_type": "stream",
          "text": [
            "WARNING:gensim.models.ldamodel:too few updates, training might not converge; consider increasing the number of passes or iterations to improve accuracy\n"
          ],
          "name": "stderr"
        },
        {
          "output_type": "stream",
          "text": [
            "66번째, 335 개의 topic\n"
          ],
          "name": "stdout"
        },
        {
          "output_type": "stream",
          "text": [
            "WARNING:gensim.models.ldamodel:too few updates, training might not converge; consider increasing the number of passes or iterations to improve accuracy\n"
          ],
          "name": "stderr"
        },
        {
          "output_type": "stream",
          "text": [
            "67번째, 340 개의 topic\n"
          ],
          "name": "stdout"
        },
        {
          "output_type": "stream",
          "text": [
            "WARNING:gensim.models.ldamodel:too few updates, training might not converge; consider increasing the number of passes or iterations to improve accuracy\n"
          ],
          "name": "stderr"
        },
        {
          "output_type": "stream",
          "text": [
            "68번째, 345 개의 topic\n"
          ],
          "name": "stdout"
        },
        {
          "output_type": "stream",
          "text": [
            "WARNING:gensim.models.ldamodel:too few updates, training might not converge; consider increasing the number of passes or iterations to improve accuracy\n"
          ],
          "name": "stderr"
        },
        {
          "output_type": "stream",
          "text": [
            "69번째, 350 개의 topic\n"
          ],
          "name": "stdout"
        },
        {
          "output_type": "stream",
          "text": [
            "WARNING:gensim.models.ldamodel:too few updates, training might not converge; consider increasing the number of passes or iterations to improve accuracy\n"
          ],
          "name": "stderr"
        },
        {
          "output_type": "stream",
          "text": [
            "70번째, 355 개의 topic\n"
          ],
          "name": "stdout"
        },
        {
          "output_type": "stream",
          "text": [
            "WARNING:gensim.models.ldamodel:too few updates, training might not converge; consider increasing the number of passes or iterations to improve accuracy\n"
          ],
          "name": "stderr"
        },
        {
          "output_type": "stream",
          "text": [
            "71번째, 360 개의 topic\n"
          ],
          "name": "stdout"
        },
        {
          "output_type": "stream",
          "text": [
            "WARNING:gensim.models.ldamodel:too few updates, training might not converge; consider increasing the number of passes or iterations to improve accuracy\n"
          ],
          "name": "stderr"
        },
        {
          "output_type": "stream",
          "text": [
            "72번째, 365 개의 topic\n"
          ],
          "name": "stdout"
        },
        {
          "output_type": "stream",
          "text": [
            "WARNING:gensim.models.ldamodel:too few updates, training might not converge; consider increasing the number of passes or iterations to improve accuracy\n"
          ],
          "name": "stderr"
        },
        {
          "output_type": "stream",
          "text": [
            "73번째, 370 개의 topic\n"
          ],
          "name": "stdout"
        },
        {
          "output_type": "stream",
          "text": [
            "WARNING:gensim.models.ldamodel:too few updates, training might not converge; consider increasing the number of passes or iterations to improve accuracy\n"
          ],
          "name": "stderr"
        },
        {
          "output_type": "stream",
          "text": [
            "74번째, 375 개의 topic\n"
          ],
          "name": "stdout"
        },
        {
          "output_type": "stream",
          "text": [
            "WARNING:gensim.models.ldamodel:too few updates, training might not converge; consider increasing the number of passes or iterations to improve accuracy\n"
          ],
          "name": "stderr"
        },
        {
          "output_type": "stream",
          "text": [
            "75번째, 380 개의 topic\n"
          ],
          "name": "stdout"
        },
        {
          "output_type": "stream",
          "text": [
            "WARNING:gensim.models.ldamodel:too few updates, training might not converge; consider increasing the number of passes or iterations to improve accuracy\n"
          ],
          "name": "stderr"
        },
        {
          "output_type": "stream",
          "text": [
            "76번째, 385 개의 topic\n"
          ],
          "name": "stdout"
        },
        {
          "output_type": "stream",
          "text": [
            "WARNING:gensim.models.ldamodel:too few updates, training might not converge; consider increasing the number of passes or iterations to improve accuracy\n"
          ],
          "name": "stderr"
        },
        {
          "output_type": "stream",
          "text": [
            "77번째, 390 개의 topic\n"
          ],
          "name": "stdout"
        },
        {
          "output_type": "stream",
          "text": [
            "WARNING:gensim.models.ldamodel:too few updates, training might not converge; consider increasing the number of passes or iterations to improve accuracy\n"
          ],
          "name": "stderr"
        },
        {
          "output_type": "stream",
          "text": [
            "78번째, 395 개의 topic\n"
          ],
          "name": "stdout"
        },
        {
          "output_type": "stream",
          "text": [
            "WARNING:gensim.models.ldamodel:too few updates, training might not converge; consider increasing the number of passes or iterations to improve accuracy\n"
          ],
          "name": "stderr"
        },
        {
          "output_type": "stream",
          "text": [
            "79번째, 400 개의 topic\n"
          ],
          "name": "stdout"
        },
        {
          "output_type": "stream",
          "text": [
            "WARNING:gensim.models.ldamodel:too few updates, training might not converge; consider increasing the number of passes or iterations to improve accuracy\n"
          ],
          "name": "stderr"
        },
        {
          "output_type": "stream",
          "text": [
            "80번째, 405 개의 topic\n"
          ],
          "name": "stdout"
        },
        {
          "output_type": "stream",
          "text": [
            "WARNING:gensim.models.ldamodel:too few updates, training might not converge; consider increasing the number of passes or iterations to improve accuracy\n"
          ],
          "name": "stderr"
        },
        {
          "output_type": "stream",
          "text": [
            "81번째, 410 개의 topic\n"
          ],
          "name": "stdout"
        },
        {
          "output_type": "stream",
          "text": [
            "WARNING:gensim.models.ldamodel:too few updates, training might not converge; consider increasing the number of passes or iterations to improve accuracy\n"
          ],
          "name": "stderr"
        },
        {
          "output_type": "stream",
          "text": [
            "82번째, 415 개의 topic\n"
          ],
          "name": "stdout"
        },
        {
          "output_type": "stream",
          "text": [
            "WARNING:gensim.models.ldamodel:too few updates, training might not converge; consider increasing the number of passes or iterations to improve accuracy\n"
          ],
          "name": "stderr"
        },
        {
          "output_type": "stream",
          "text": [
            "83번째, 420 개의 topic\n"
          ],
          "name": "stdout"
        },
        {
          "output_type": "stream",
          "text": [
            "WARNING:gensim.models.ldamodel:too few updates, training might not converge; consider increasing the number of passes or iterations to improve accuracy\n"
          ],
          "name": "stderr"
        },
        {
          "output_type": "stream",
          "text": [
            "84번째, 425 개의 topic\n"
          ],
          "name": "stdout"
        },
        {
          "output_type": "stream",
          "text": [
            "WARNING:gensim.models.ldamodel:too few updates, training might not converge; consider increasing the number of passes or iterations to improve accuracy\n"
          ],
          "name": "stderr"
        },
        {
          "output_type": "stream",
          "text": [
            "85번째, 430 개의 topic\n"
          ],
          "name": "stdout"
        },
        {
          "output_type": "stream",
          "text": [
            "WARNING:gensim.models.ldamodel:too few updates, training might not converge; consider increasing the number of passes or iterations to improve accuracy\n"
          ],
          "name": "stderr"
        },
        {
          "output_type": "stream",
          "text": [
            "86번째, 435 개의 topic\n"
          ],
          "name": "stdout"
        },
        {
          "output_type": "stream",
          "text": [
            "WARNING:gensim.models.ldamodel:too few updates, training might not converge; consider increasing the number of passes or iterations to improve accuracy\n"
          ],
          "name": "stderr"
        },
        {
          "output_type": "stream",
          "text": [
            "87번째, 440 개의 topic\n"
          ],
          "name": "stdout"
        },
        {
          "output_type": "stream",
          "text": [
            "WARNING:gensim.models.ldamodel:too few updates, training might not converge; consider increasing the number of passes or iterations to improve accuracy\n"
          ],
          "name": "stderr"
        },
        {
          "output_type": "stream",
          "text": [
            "88번째, 445 개의 topic\n"
          ],
          "name": "stdout"
        },
        {
          "output_type": "stream",
          "text": [
            "WARNING:gensim.models.ldamodel:too few updates, training might not converge; consider increasing the number of passes or iterations to improve accuracy\n"
          ],
          "name": "stderr"
        },
        {
          "output_type": "stream",
          "text": [
            "89번째, 450 개의 topic\n"
          ],
          "name": "stdout"
        },
        {
          "output_type": "stream",
          "text": [
            "WARNING:gensim.models.ldamodel:too few updates, training might not converge; consider increasing the number of passes or iterations to improve accuracy\n"
          ],
          "name": "stderr"
        },
        {
          "output_type": "stream",
          "text": [
            "90번째, 455 개의 topic\n"
          ],
          "name": "stdout"
        },
        {
          "output_type": "stream",
          "text": [
            "WARNING:gensim.models.ldamodel:too few updates, training might not converge; consider increasing the number of passes or iterations to improve accuracy\n"
          ],
          "name": "stderr"
        },
        {
          "output_type": "stream",
          "text": [
            "91번째, 460 개의 topic\n"
          ],
          "name": "stdout"
        },
        {
          "output_type": "stream",
          "text": [
            "WARNING:gensim.models.ldamodel:too few updates, training might not converge; consider increasing the number of passes or iterations to improve accuracy\n"
          ],
          "name": "stderr"
        },
        {
          "output_type": "stream",
          "text": [
            "92번째, 465 개의 topic\n"
          ],
          "name": "stdout"
        },
        {
          "output_type": "stream",
          "text": [
            "WARNING:gensim.models.ldamodel:too few updates, training might not converge; consider increasing the number of passes or iterations to improve accuracy\n"
          ],
          "name": "stderr"
        },
        {
          "output_type": "stream",
          "text": [
            "93번째, 470 개의 topic\n"
          ],
          "name": "stdout"
        },
        {
          "output_type": "stream",
          "text": [
            "WARNING:gensim.models.ldamodel:too few updates, training might not converge; consider increasing the number of passes or iterations to improve accuracy\n"
          ],
          "name": "stderr"
        },
        {
          "output_type": "stream",
          "text": [
            "94번째, 475 개의 topic\n"
          ],
          "name": "stdout"
        },
        {
          "output_type": "stream",
          "text": [
            "WARNING:gensim.models.ldamodel:too few updates, training might not converge; consider increasing the number of passes or iterations to improve accuracy\n"
          ],
          "name": "stderr"
        },
        {
          "output_type": "stream",
          "text": [
            "95번째, 480 개의 topic\n"
          ],
          "name": "stdout"
        },
        {
          "output_type": "stream",
          "text": [
            "WARNING:gensim.models.ldamodel:too few updates, training might not converge; consider increasing the number of passes or iterations to improve accuracy\n"
          ],
          "name": "stderr"
        },
        {
          "output_type": "stream",
          "text": [
            "96번째, 485 개의 topic\n"
          ],
          "name": "stdout"
        },
        {
          "output_type": "stream",
          "text": [
            "WARNING:gensim.models.ldamodel:too few updates, training might not converge; consider increasing the number of passes or iterations to improve accuracy\n"
          ],
          "name": "stderr"
        },
        {
          "output_type": "stream",
          "text": [
            "97번째, 490 개의 topic\n"
          ],
          "name": "stdout"
        },
        {
          "output_type": "stream",
          "text": [
            "WARNING:gensim.models.ldamodel:too few updates, training might not converge; consider increasing the number of passes or iterations to improve accuracy\n"
          ],
          "name": "stderr"
        },
        {
          "output_type": "stream",
          "text": [
            "98번째, 495 개의 topic\n"
          ],
          "name": "stdout"
        },
        {
          "output_type": "stream",
          "text": [
            "WARNING:gensim.models.ldamodel:too few updates, training might not converge; consider increasing the number of passes or iterations to improve accuracy\n"
          ],
          "name": "stderr"
        },
        {
          "output_type": "stream",
          "text": [
            "99번째, 500 개의 topic\n"
          ],
          "name": "stdout"
        },
        {
          "output_type": "stream",
          "text": [
            "WARNING:gensim.models.ldamodel:too few updates, training might not converge; consider increasing the number of passes or iterations to improve accuracy\n"
          ],
          "name": "stderr"
        }
      ]
    },
    {
      "cell_type": "code",
      "metadata": {
        "id": "rPGcHcC9vwzt",
        "colab_type": "code",
        "colab": {
          "base_uri": "https://localhost:8080/",
          "height": 721
        },
        "outputId": "97c30d49-2288-423a-e391-fed2fc0e7653"
      },
      "source": [
        "plt.figure(figsize=(10, 10))\n",
        "plt.plot(co_value['Num Topic'], co_value['c_v'])\n",
        "plt.scatter(co_value['Num Topic'], co_value['c_v'])\n",
        "plt.ylim(0.30, 0.35)\n",
        "#plt.xticks(np.arange(5, 505, 5), rotation=90)\n",
        "plt.grid()\n",
        "plt.tight_layout()\n",
        "plt.show()"
      ],
      "execution_count": null,
      "outputs": [
        {
          "output_type": "display_data",
          "data": {
            "image/png": "[encoded data removed]",
            "text/plain": [
              "<Figure size 720x720 with 1 Axes>"
            ]
          },
          "metadata": {
            "tags": [],
            "needs_background": "light"
          }
        }
      ]
    },
    {
      "cell_type": "code",
      "metadata": {
        "id": "SNavMEl3LmH9",
        "colab_type": "code",
        "colab": {
          "base_uri": "https://localhost:8080/",
          "height": 430
        },
        "outputId": "3be97775-f095-4695-c508-4307a5385a9f"
      },
      "source": [
        "n_min_df = [0.0001, 0.001, 0.01, 0.1, 1, 2, 3]\n",
        "\n",
        "\n",
        "result = pd.DataFrame()\n",
        "\n",
        "for min_df in n_min_df:\n",
        "  temp_topic = {}\n",
        "  vectorizer = CountVectorizer(min_df=min_df)\n",
        "  vect = vectorizer.fit_transform(detokenized_doc)\n",
        "  terms = vectorizer.get_feature_names()\n",
        "\n",
        "  for topics in n_topic:\n",
        "    lda = LatentDirichletAllocation(n_components=topics)\n",
        "    lda.fit_transform(vect.toarray())\n",
        "    temp_topic = get_topics(lda.components_, terms)\n",
        "    temp_topic['n_df'] = min_df\n",
        "    temp_topic['n_topic'] = topics\n",
        "\n",
        "\n",
        "    temp = pd.DataFrame.from_dict(temp_topic)\n",
        "    result = pd.concat([result, temp], axis=0)\n",
        "    \n"
      ],
      "execution_count": null,
      "outputs": [
        {
          "output_type": "error",
          "ename": "KeyboardInterrupt",
          "evalue": "ignored",
          "traceback": [
            "\u001b[0;31m---------------------------------------------------------------------------\u001b[0m",
            "\u001b[0;31mKeyboardInterrupt\u001b[0m                         Traceback (most recent call last)",
            "\u001b[0;32m<ipython-input-96-715fe7689580>\u001b[0m in \u001b[0;36m<module>\u001b[0;34m()\u001b[0m\n\u001b[1;32m     12\u001b[0m   \u001b[0;32mfor\u001b[0m \u001b[0mtopics\u001b[0m \u001b[0;32min\u001b[0m \u001b[0mn_topic\u001b[0m\u001b[0;34m:\u001b[0m\u001b[0;34m\u001b[0m\u001b[0;34m\u001b[0m\u001b[0m\n\u001b[1;32m     13\u001b[0m     \u001b[0mlda\u001b[0m \u001b[0;34m=\u001b[0m \u001b[0mLatentDirichletAllocation\u001b[0m\u001b[0;34m(\u001b[0m\u001b[0mn_components\u001b[0m\u001b[0;34m=\u001b[0m\u001b[0mtopics\u001b[0m\u001b[0;34m)\u001b[0m\u001b[0;34m\u001b[0m\u001b[0;34m\u001b[0m\u001b[0m\n\u001b[0;32m---> 14\u001b[0;31m     \u001b[0mlda\u001b[0m\u001b[0;34m.\u001b[0m\u001b[0mfit_transform\u001b[0m\u001b[0;34m(\u001b[0m\u001b[0mvect\u001b[0m\u001b[0;34m.\u001b[0m\u001b[0mtoarray\u001b[0m\u001b[0;34m(\u001b[0m\u001b[0;34m)\u001b[0m\u001b[0;34m)\u001b[0m\u001b[0;34m\u001b[0m\u001b[0;34m\u001b[0m\u001b[0m\n\u001b[0m\u001b[1;32m     15\u001b[0m     \u001b[0mtemp_topic\u001b[0m \u001b[0;34m=\u001b[0m \u001b[0mget_topics\u001b[0m\u001b[0;34m(\u001b[0m\u001b[0mlda\u001b[0m\u001b[0;34m.\u001b[0m\u001b[0mcomponents_\u001b[0m\u001b[0;34m,\u001b[0m \u001b[0mterms\u001b[0m\u001b[0;34m)\u001b[0m\u001b[0;34m\u001b[0m\u001b[0;34m\u001b[0m\u001b[0m\n\u001b[1;32m     16\u001b[0m     \u001b[0mtemp_topic\u001b[0m\u001b[0;34m[\u001b[0m\u001b[0;34m'n_df'\u001b[0m\u001b[0;34m]\u001b[0m \u001b[0;34m=\u001b[0m \u001b[0mmin_df\u001b[0m\u001b[0;34m\u001b[0m\u001b[0;34m\u001b[0m\u001b[0m\n",
            "\u001b[0;32m/usr/local/lib/python3.6/dist-packages/sklearn/base.py\u001b[0m in \u001b[0;36mfit_transform\u001b[0;34m(self, X, y, **fit_params)\u001b[0m\n\u001b[1;32m    569\u001b[0m         \u001b[0;32mif\u001b[0m \u001b[0my\u001b[0m \u001b[0;32mis\u001b[0m \u001b[0;32mNone\u001b[0m\u001b[0;34m:\u001b[0m\u001b[0;34m\u001b[0m\u001b[0;34m\u001b[0m\u001b[0m\n\u001b[1;32m    570\u001b[0m             \u001b[0;31m# fit method of arity 1 (unsupervised transformation)\u001b[0m\u001b[0;34m\u001b[0m\u001b[0;34m\u001b[0m\u001b[0;34m\u001b[0m\u001b[0m\n\u001b[0;32m--> 571\u001b[0;31m             \u001b[0;32mreturn\u001b[0m \u001b[0mself\u001b[0m\u001b[0;34m.\u001b[0m\u001b[0mfit\u001b[0m\u001b[0;34m(\u001b[0m\u001b[0mX\u001b[0m\u001b[0;34m,\u001b[0m \u001b[0;34m**\u001b[0m\u001b[0mfit_params\u001b[0m\u001b[0;34m)\u001b[0m\u001b[0;34m.\u001b[0m\u001b[0mtransform\u001b[0m\u001b[0;34m(\u001b[0m\u001b[0mX\u001b[0m\u001b[0;34m)\u001b[0m\u001b[0;34m\u001b[0m\u001b[0;34m\u001b[0m\u001b[0m\n\u001b[0m\u001b[1;32m    572\u001b[0m         \u001b[0;32melse\u001b[0m\u001b[0;34m:\u001b[0m\u001b[0;34m\u001b[0m\u001b[0;34m\u001b[0m\u001b[0m\n\u001b[1;32m    573\u001b[0m             \u001b[0;31m# fit method of arity 2 (supervised transformation)\u001b[0m\u001b[0;34m\u001b[0m\u001b[0;34m\u001b[0m\u001b[0;34m\u001b[0m\u001b[0m\n",
            "\u001b[0;32m/usr/local/lib/python3.6/dist-packages/sklearn/decomposition/_lda.py\u001b[0m in \u001b[0;36mfit\u001b[0;34m(self, X, y)\u001b[0m\n\u001b[1;32m    566\u001b[0m                     \u001b[0;31m# batch update\u001b[0m\u001b[0;34m\u001b[0m\u001b[0;34m\u001b[0m\u001b[0;34m\u001b[0m\u001b[0m\n\u001b[1;32m    567\u001b[0m                     self._em_step(X, total_samples=n_samples,\n\u001b[0;32m--> 568\u001b[0;31m                                   batch_update=True, parallel=parallel)\n\u001b[0m\u001b[1;32m    569\u001b[0m \u001b[0;34m\u001b[0m\u001b[0m\n\u001b[1;32m    570\u001b[0m                 \u001b[0;31m# check perplexity\u001b[0m\u001b[0;34m\u001b[0m\u001b[0;34m\u001b[0m\u001b[0;34m\u001b[0m\u001b[0m\n",
            "\u001b[0;32m/usr/local/lib/python3.6/dist-packages/sklearn/decomposition/_lda.py\u001b[0m in \u001b[0;36m_em_step\u001b[0;34m(self, X, total_samples, batch_update, parallel)\u001b[0m\n\u001b[1;32m    446\u001b[0m         \u001b[0;31m# E-step\u001b[0m\u001b[0;34m\u001b[0m\u001b[0;34m\u001b[0m\u001b[0;34m\u001b[0m\u001b[0m\n\u001b[1;32m    447\u001b[0m         _, suff_stats = self._e_step(X, cal_sstats=True, random_init=True,\n\u001b[0;32m--> 448\u001b[0;31m                                      parallel=parallel)\n\u001b[0m\u001b[1;32m    449\u001b[0m \u001b[0;34m\u001b[0m\u001b[0m\n\u001b[1;32m    450\u001b[0m         \u001b[0;31m# M-step\u001b[0m\u001b[0;34m\u001b[0m\u001b[0;34m\u001b[0m\u001b[0;34m\u001b[0m\u001b[0m\n",
            "\u001b[0;32m/usr/local/lib/python3.6/dist-packages/sklearn/decomposition/_lda.py\u001b[0m in \u001b[0;36m_e_step\u001b[0;34m(self, X, cal_sstats, random_init, parallel)\u001b[0m\n\u001b[1;32m    399\u001b[0m                                               \u001b[0mself\u001b[0m\u001b[0;34m.\u001b[0m\u001b[0mmean_change_tol\u001b[0m\u001b[0;34m,\u001b[0m \u001b[0mcal_sstats\u001b[0m\u001b[0;34m,\u001b[0m\u001b[0;34m\u001b[0m\u001b[0;34m\u001b[0m\u001b[0m\n\u001b[1;32m    400\u001b[0m                                               random_state)\n\u001b[0;32m--> 401\u001b[0;31m             for idx_slice in gen_even_slices(X.shape[0], n_jobs))\n\u001b[0m\u001b[1;32m    402\u001b[0m \u001b[0;34m\u001b[0m\u001b[0m\n\u001b[1;32m    403\u001b[0m         \u001b[0;31m# merge result\u001b[0m\u001b[0;34m\u001b[0m\u001b[0;34m\u001b[0m\u001b[0;34m\u001b[0m\u001b[0m\n",
            "\u001b[0;32m/usr/local/lib/python3.6/dist-packages/joblib/parallel.py\u001b[0m in \u001b[0;36m__call__\u001b[0;34m(self, iterable)\u001b[0m\n\u001b[1;32m   1027\u001b[0m             \u001b[0;31m# remaining jobs.\u001b[0m\u001b[0;34m\u001b[0m\u001b[0;34m\u001b[0m\u001b[0;34m\u001b[0m\u001b[0m\n\u001b[1;32m   1028\u001b[0m             \u001b[0mself\u001b[0m\u001b[0;34m.\u001b[0m\u001b[0m_iterating\u001b[0m \u001b[0;34m=\u001b[0m \u001b[0;32mFalse\u001b[0m\u001b[0;34m\u001b[0m\u001b[0;34m\u001b[0m\u001b[0m\n\u001b[0;32m-> 1029\u001b[0;31m             \u001b[0;32mif\u001b[0m \u001b[0mself\u001b[0m\u001b[0;34m.\u001b[0m\u001b[0mdispatch_one_batch\u001b[0m\u001b[0;34m(\u001b[0m\u001b[0miterator\u001b[0m\u001b[0;34m)\u001b[0m\u001b[0;34m:\u001b[0m\u001b[0;34m\u001b[0m\u001b[0;34m\u001b[0m\u001b[0m\n\u001b[0m\u001b[1;32m   1030\u001b[0m                 \u001b[0mself\u001b[0m\u001b[0;34m.\u001b[0m\u001b[0m_iterating\u001b[0m \u001b[0;34m=\u001b[0m \u001b[0mself\u001b[0m\u001b[0;34m.\u001b[0m\u001b[0m_original_iterator\u001b[0m \u001b[0;32mis\u001b[0m \u001b[0;32mnot\u001b[0m \u001b[0;32mNone\u001b[0m\u001b[0;34m\u001b[0m\u001b[0;34m\u001b[0m\u001b[0m\n\u001b[1;32m   1031\u001b[0m \u001b[0;34m\u001b[0m\u001b[0m\n",
            "\u001b[0;32m/usr/local/lib/python3.6/dist-packages/joblib/parallel.py\u001b[0m in \u001b[0;36mdispatch_one_batch\u001b[0;34m(self, iterator)\u001b[0m\n\u001b[1;32m    845\u001b[0m                 \u001b[0;32mreturn\u001b[0m \u001b[0;32mFalse\u001b[0m\u001b[0;34m\u001b[0m\u001b[0;34m\u001b[0m\u001b[0m\n\u001b[1;32m    846\u001b[0m             \u001b[0;32melse\u001b[0m\u001b[0;34m:\u001b[0m\u001b[0;34m\u001b[0m\u001b[0;34m\u001b[0m\u001b[0m\n\u001b[0;32m--> 847\u001b[0;31m                 \u001b[0mself\u001b[0m\u001b[0;34m.\u001b[0m\u001b[0m_dispatch\u001b[0m\u001b[0;34m(\u001b[0m\u001b[0mtasks\u001b[0m\u001b[0;34m)\u001b[0m\u001b[0;34m\u001b[0m\u001b[0;34m\u001b[0m\u001b[0m\n\u001b[0m\u001b[1;32m    848\u001b[0m                 \u001b[0;32mreturn\u001b[0m \u001b[0;32mTrue\u001b[0m\u001b[0;34m\u001b[0m\u001b[0;34m\u001b[0m\u001b[0m\n\u001b[1;32m    849\u001b[0m \u001b[0;34m\u001b[0m\u001b[0m\n",
            "\u001b[0;32m/usr/local/lib/python3.6/dist-packages/joblib/parallel.py\u001b[0m in \u001b[0;36m_dispatch\u001b[0;34m(self, batch)\u001b[0m\n\u001b[1;32m    763\u001b[0m         \u001b[0;32mwith\u001b[0m \u001b[0mself\u001b[0m\u001b[0;34m.\u001b[0m\u001b[0m_lock\u001b[0m\u001b[0;34m:\u001b[0m\u001b[0;34m\u001b[0m\u001b[0;34m\u001b[0m\u001b[0m\n\u001b[1;32m    764\u001b[0m             \u001b[0mjob_idx\u001b[0m \u001b[0;34m=\u001b[0m \u001b[0mlen\u001b[0m\u001b[0;34m(\u001b[0m\u001b[0mself\u001b[0m\u001b[0;34m.\u001b[0m\u001b[0m_jobs\u001b[0m\u001b[0;34m)\u001b[0m\u001b[0;34m\u001b[0m\u001b[0;34m\u001b[0m\u001b[0m\n\u001b[0;32m--> 765\u001b[0;31m             \u001b[0mjob\u001b[0m \u001b[0;34m=\u001b[0m \u001b[0mself\u001b[0m\u001b[0;34m.\u001b[0m\u001b[0m_backend\u001b[0m\u001b[0;34m.\u001b[0m\u001b[0mapply_async\u001b[0m\u001b[0;34m(\u001b[0m\u001b[0mbatch\u001b[0m\u001b[0;34m,\u001b[0m \u001b[0mcallback\u001b[0m\u001b[0;34m=\u001b[0m\u001b[0mcb\u001b[0m\u001b[0;34m)\u001b[0m\u001b[0;34m\u001b[0m\u001b[0;34m\u001b[0m\u001b[0m\n\u001b[0m\u001b[1;32m    766\u001b[0m             \u001b[0;31m# A job can complete so quickly than its callback is\u001b[0m\u001b[0;34m\u001b[0m\u001b[0;34m\u001b[0m\u001b[0;34m\u001b[0m\u001b[0m\n\u001b[1;32m    767\u001b[0m             \u001b[0;31m# called before we get here, causing self._jobs to\u001b[0m\u001b[0;34m\u001b[0m\u001b[0;34m\u001b[0m\u001b[0;34m\u001b[0m\u001b[0m\n",
            "\u001b[0;32m/usr/local/lib/python3.6/dist-packages/joblib/_parallel_backends.py\u001b[0m in \u001b[0;36mapply_async\u001b[0;34m(self, func, callback)\u001b[0m\n\u001b[1;32m    206\u001b[0m     \u001b[0;32mdef\u001b[0m \u001b[0mapply_async\u001b[0m\u001b[0;34m(\u001b[0m\u001b[0mself\u001b[0m\u001b[0;34m,\u001b[0m \u001b[0mfunc\u001b[0m\u001b[0;34m,\u001b[0m \u001b[0mcallback\u001b[0m\u001b[0;34m=\u001b[0m\u001b[0;32mNone\u001b[0m\u001b[0;34m)\u001b[0m\u001b[0;34m:\u001b[0m\u001b[0;34m\u001b[0m\u001b[0;34m\u001b[0m\u001b[0m\n\u001b[1;32m    207\u001b[0m         \u001b[0;34m\"\"\"Schedule a func to be run\"\"\"\u001b[0m\u001b[0;34m\u001b[0m\u001b[0;34m\u001b[0m\u001b[0m\n\u001b[0;32m--> 208\u001b[0;31m         \u001b[0mresult\u001b[0m \u001b[0;34m=\u001b[0m \u001b[0mImmediateResult\u001b[0m\u001b[0;34m(\u001b[0m\u001b[0mfunc\u001b[0m\u001b[0;34m)\u001b[0m\u001b[0;34m\u001b[0m\u001b[0;34m\u001b[0m\u001b[0m\n\u001b[0m\u001b[1;32m    209\u001b[0m         \u001b[0;32mif\u001b[0m \u001b[0mcallback\u001b[0m\u001b[0;34m:\u001b[0m\u001b[0;34m\u001b[0m\u001b[0;34m\u001b[0m\u001b[0m\n\u001b[1;32m    210\u001b[0m             \u001b[0mcallback\u001b[0m\u001b[0;34m(\u001b[0m\u001b[0mresult\u001b[0m\u001b[0;34m)\u001b[0m\u001b[0;34m\u001b[0m\u001b[0;34m\u001b[0m\u001b[0m\n",
            "\u001b[0;32m/usr/local/lib/python3.6/dist-packages/joblib/_parallel_backends.py\u001b[0m in \u001b[0;36m__init__\u001b[0;34m(self, batch)\u001b[0m\n\u001b[1;32m    570\u001b[0m         \u001b[0;31m# Don't delay the application, to avoid keeping the input\u001b[0m\u001b[0;34m\u001b[0m\u001b[0;34m\u001b[0m\u001b[0;34m\u001b[0m\u001b[0m\n\u001b[1;32m    571\u001b[0m         \u001b[0;31m# arguments in memory\u001b[0m\u001b[0;34m\u001b[0m\u001b[0;34m\u001b[0m\u001b[0;34m\u001b[0m\u001b[0m\n\u001b[0;32m--> 572\u001b[0;31m         \u001b[0mself\u001b[0m\u001b[0;34m.\u001b[0m\u001b[0mresults\u001b[0m \u001b[0;34m=\u001b[0m \u001b[0mbatch\u001b[0m\u001b[0;34m(\u001b[0m\u001b[0;34m)\u001b[0m\u001b[0;34m\u001b[0m\u001b[0;34m\u001b[0m\u001b[0m\n\u001b[0m\u001b[1;32m    573\u001b[0m \u001b[0;34m\u001b[0m\u001b[0m\n\u001b[1;32m    574\u001b[0m     \u001b[0;32mdef\u001b[0m \u001b[0mget\u001b[0m\u001b[0;34m(\u001b[0m\u001b[0mself\u001b[0m\u001b[0;34m)\u001b[0m\u001b[0;34m:\u001b[0m\u001b[0;34m\u001b[0m\u001b[0;34m\u001b[0m\u001b[0m\n",
            "\u001b[0;32m/usr/local/lib/python3.6/dist-packages/joblib/parallel.py\u001b[0m in \u001b[0;36m__call__\u001b[0;34m(self)\u001b[0m\n\u001b[1;32m    251\u001b[0m         \u001b[0;32mwith\u001b[0m \u001b[0mparallel_backend\u001b[0m\u001b[0;34m(\u001b[0m\u001b[0mself\u001b[0m\u001b[0;34m.\u001b[0m\u001b[0m_backend\u001b[0m\u001b[0;34m,\u001b[0m \u001b[0mn_jobs\u001b[0m\u001b[0;34m=\u001b[0m\u001b[0mself\u001b[0m\u001b[0;34m.\u001b[0m\u001b[0m_n_jobs\u001b[0m\u001b[0;34m)\u001b[0m\u001b[0;34m:\u001b[0m\u001b[0;34m\u001b[0m\u001b[0;34m\u001b[0m\u001b[0m\n\u001b[1;32m    252\u001b[0m             return [func(*args, **kwargs)\n\u001b[0;32m--> 253\u001b[0;31m                     for func, args, kwargs in self.items]\n\u001b[0m\u001b[1;32m    254\u001b[0m \u001b[0;34m\u001b[0m\u001b[0m\n\u001b[1;32m    255\u001b[0m     \u001b[0;32mdef\u001b[0m \u001b[0m__reduce__\u001b[0m\u001b[0;34m(\u001b[0m\u001b[0mself\u001b[0m\u001b[0;34m)\u001b[0m\u001b[0;34m:\u001b[0m\u001b[0;34m\u001b[0m\u001b[0;34m\u001b[0m\u001b[0m\n",
            "\u001b[0;32m/usr/local/lib/python3.6/dist-packages/joblib/parallel.py\u001b[0m in \u001b[0;36m<listcomp>\u001b[0;34m(.0)\u001b[0m\n\u001b[1;32m    251\u001b[0m         \u001b[0;32mwith\u001b[0m \u001b[0mparallel_backend\u001b[0m\u001b[0;34m(\u001b[0m\u001b[0mself\u001b[0m\u001b[0;34m.\u001b[0m\u001b[0m_backend\u001b[0m\u001b[0;34m,\u001b[0m \u001b[0mn_jobs\u001b[0m\u001b[0;34m=\u001b[0m\u001b[0mself\u001b[0m\u001b[0;34m.\u001b[0m\u001b[0m_n_jobs\u001b[0m\u001b[0;34m)\u001b[0m\u001b[0;34m:\u001b[0m\u001b[0;34m\u001b[0m\u001b[0;34m\u001b[0m\u001b[0m\n\u001b[1;32m    252\u001b[0m             return [func(*args, **kwargs)\n\u001b[0;32m--> 253\u001b[0;31m                     for func, args, kwargs in self.items]\n\u001b[0m\u001b[1;32m    254\u001b[0m \u001b[0;34m\u001b[0m\u001b[0m\n\u001b[1;32m    255\u001b[0m     \u001b[0;32mdef\u001b[0m \u001b[0m__reduce__\u001b[0m\u001b[0;34m(\u001b[0m\u001b[0mself\u001b[0m\u001b[0;34m)\u001b[0m\u001b[0;34m:\u001b[0m\u001b[0;34m\u001b[0m\u001b[0;34m\u001b[0m\u001b[0m\n",
            "\u001b[0;32m/usr/local/lib/python3.6/dist-packages/sklearn/decomposition/_lda.py\u001b[0m in \u001b[0;36m_update_doc_distribution\u001b[0;34m(X, exp_topic_word_distr, doc_topic_prior, max_iters, mean_change_tol, cal_sstats, random_state)\u001b[0m\n\u001b[1;32m    115\u001b[0m \u001b[0;34m\u001b[0m\u001b[0m\n\u001b[1;32m    116\u001b[0m             doc_topic_d = (exp_doc_topic_d *\n\u001b[0;32m--> 117\u001b[0;31m                            np.dot(cnts / norm_phi, exp_topic_word_d.T))\n\u001b[0m\u001b[1;32m    118\u001b[0m             \u001b[0;31m# Note: adds doc_topic_prior to doc_topic_d, in-place.\u001b[0m\u001b[0;34m\u001b[0m\u001b[0;34m\u001b[0m\u001b[0;34m\u001b[0m\u001b[0m\n\u001b[1;32m    119\u001b[0m             _dirichlet_expectation_1d(doc_topic_d, doc_topic_prior,\n",
            "\u001b[0;32m<__array_function__ internals>\u001b[0m in \u001b[0;36mdot\u001b[0;34m(*args, **kwargs)\u001b[0m\n",
            "\u001b[0;31mKeyboardInterrupt\u001b[0m: "
          ]
        }
      ]
    },
    {
      "cell_type": "code",
      "metadata": {
        "id": "9XNEVsAFYtvY",
        "colab_type": "code",
        "colab": {}
      },
      "source": [
        "result = result[['n_df', 'n_topic', 'Topic 1', 'Topic 2', 'Topic 3', 'Topic 4', 'Topic 5', 'Topic 6','Topic 7', 'Topic 8', 'Topic 9', 'Topic 10','Topic 11', 'Topic 12']]"
      ],
      "execution_count": null,
      "outputs": []
    },
    {
      "cell_type": "code",
      "metadata": {
        "id": "CYwEB5e6Ydlk",
        "colab_type": "code",
        "colab": {}
      },
      "source": [
        "result.to_csv('Topic 결과_final.csv', encoding='utf-8')"
      ],
      "execution_count": null,
      "outputs": []
    }
  ]
}