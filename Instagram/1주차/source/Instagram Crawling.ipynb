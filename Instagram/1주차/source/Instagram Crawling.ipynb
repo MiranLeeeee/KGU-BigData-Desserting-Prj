{
 "cells": [
  {
   "cell_type": "code",
   "execution_count": 1,
   "metadata": {},
   "outputs": [],
   "source": [
    "from selenium import webdriver\n",
    "from bs4 import BeautifulSoup\n",
    "import time\n",
    "import re\n",
    "import pandas as pd"
   ]
  },
  {
   "cell_type": "code",
   "execution_count": 2,
   "metadata": {},
   "outputs": [],
   "source": [
    "# 검색으로 선정한 리뷰어 리스트\n",
    "\n",
    "REVIEWER_LIST = pd.read_csv('URL_list.csv', encoding='utf-8')\n"
   ]
  },
  {
   "cell_type": "code",
   "execution_count": 8,
   "metadata": {},
   "outputs": [
    {
     "data": {
      "text/plain": [
       "162"
      ]
     },
     "execution_count": 8,
     "metadata": {},
     "output_type": "execute_result"
    }
   ],
   "source": [
    "len(REVIEWER_LIST['ID'])"
   ]
  },
  {
   "cell_type": "code",
   "execution_count": 15,
   "metadata": {},
   "outputs": [],
   "source": [
    "# 인스타그램 사용자의 게시물의 URL을 가져오는 코드\n",
    "URL = []\n",
    "\n",
    "for i in range(106, len(REVIEWER_LIST['ID'])):\n",
    "    \n",
    "    url = \"https://www.instagram.com/\"+REVIEWER_LIST['ID'][i]\n",
    "    browser = webdriver.Chrome()\n",
    "    browser.get(url)\n",
    "    page = browser.page_source\n",
    "    soup = BeautifulSoup(page, 'html.parser')\n",
    "\n",
    "\n",
    "    while True :\n",
    "\n",
    "        page = browser.page_source\n",
    "        soup = BeautifulSoup(page, \"html.parser\")\n",
    "\n",
    "        links = soup.find_all('div', {'class': 'v1Nh3 kIKUG _bz0w'})\n",
    "\n",
    "        SCROLL_PAUSE_TIME = 5\n",
    "\n",
    "        for link in links:\n",
    "                new_url = 'https://www.instagram.com/'+link.a['href']\n",
    "                URL.append(new_url)\n",
    "\n",
    "        last_height = browser.execute_script(\"return document.body.scrollHeight\")\n",
    "        browser.execute_script(\"window.scrollTo(0, document.body.scrollHeight);\")\n",
    "        time.sleep(SCROLL_PAUSE_TIME)\n",
    "        new_height = browser.execute_script(\"return document.body.scrollHeight\")\n",
    "\n",
    "\n",
    "        if new_height == last_height :\n",
    "            browser.execute_script(\"window.scrollTo(0, document.body.scrollHeight);\")\n",
    "            time.sleep(SCROLL_PAUSE_TIME)\n",
    "\n",
    "            if new_height == last_height :\n",
    "                break\n",
    "\n",
    "            else :\n",
    "                last_height == last_height\n",
    "\n",
    "                continue\n",
    "\n",
    "    browser.quit()\n",
    "\n"
   ]
  },
  {
   "cell_type": "code",
   "execution_count": 16,
   "metadata": {},
   "outputs": [
    {
     "data": {
      "text/plain": [
       "7000"
      ]
     },
     "execution_count": 16,
     "metadata": {},
     "output_type": "execute_result"
    }
   ],
   "source": [
    "URL = list(set(URL))\n",
    "len(URL)"
   ]
  },
  {
   "cell_type": "code",
   "execution_count": 17,
   "metadata": {},
   "outputs": [
    {
     "name": "stdout",
     "output_type": "stream",
     "text": [
      "There is an error with 414 index\n",
      "There is an error with 417 index\n",
      "There is an error with 449 index\n",
      "There is an error with 457 index\n",
      "There is an error with 877 index\n",
      "There is an error with 1261 index\n",
      "There is an error with 1278 index\n",
      "There is an error with 2559 index\n",
      "There is an error with 3731 index\n",
      "There is an error with 6302 index\n",
      "There is an error with 6601 index\n",
      "There is an error with 6677 index\n",
      "There is an error with 6683 index\n"
     ]
    }
   ],
   "source": [
    "browser = webdriver.Chrome()\n",
    "\n",
    "result = []\n",
    "\n",
    "\n",
    "for i in range(len(URL)):\n",
    "    try :\n",
    "        tags = []\n",
    "        review = []\n",
    "\n",
    "        browser.get(URL[i])\n",
    "        #time.sleep(2)\n",
    "\n",
    "        nickname = browser.find_element_by_css_selector(\"._6lAjh\").text\n",
    "        text = browser.find_element_by_css_selector(\".C7I1f.X7jCj .C4VMK span:nth-child(2)\").text\n",
    "\n",
    "        tag = re.findall('#\\w+', text)\n",
    "        tag = \"\".join(tag)\n",
    "\n",
    "        for word in text.split():\n",
    "            if \"#\" in word:\n",
    "                continue\n",
    "            else:\n",
    "                review.append(\" \")\n",
    "                review.append(word)\n",
    "\n",
    "        review = \"\".join(review)\n",
    "\n",
    "        result.append([nickname, review, tag])    \n",
    "\n",
    "    except:\n",
    "        print(\"There is an error with \"+str(i)+\" index\")\n",
    "\n",
    "browser.quit()"
   ]
  },
  {
   "cell_type": "code",
   "execution_count": 18,
   "metadata": {},
   "outputs": [],
   "source": [
    "import pandas as pd\n",
    "\n",
    "final = pd.DataFrame(result, columns=['Nickname', 'Review', 'Hashtag'])\n"
   ]
  },
  {
   "cell_type": "code",
   "execution_count": 20,
   "metadata": {},
   "outputs": [
    {
     "data": {
      "text/html": [
       "<div>\n",
       "<style scoped>\n",
       "    .dataframe tbody tr th:only-of-type {\n",
       "        vertical-align: middle;\n",
       "    }\n",
       "\n",
       "    .dataframe tbody tr th {\n",
       "        vertical-align: top;\n",
       "    }\n",
       "\n",
       "    .dataframe thead th {\n",
       "        text-align: right;\n",
       "    }\n",
       "</style>\n",
       "<table border=\"1\" class=\"dataframe\">\n",
       "  <thead>\n",
       "    <tr style=\"text-align: right;\">\n",
       "      <th></th>\n",
       "      <th>Nickname</th>\n",
       "      <th>Review</th>\n",
       "      <th>Hashtag</th>\n",
       "    </tr>\n",
       "  </thead>\n",
       "  <tbody>\n",
       "    <tr>\n",
       "      <th>0</th>\n",
       "      <td>cafe_onni</td>\n",
       "      <td>아침 잔뜩 먹고 죄책감에 점심은 샐러드😇</td>\n",
       "      <td>#파리바게뜨#파리바게뜨샐러드#카페스타그램#카페투어#onni_제천</td>\n",
       "    </tr>\n",
       "    <tr>\n",
       "      <th>1</th>\n",
       "      <td>taxxy._.gram</td>\n",
       "      <td>크으~한잔하시죠!! . . . . . .</td>\n",
       "      <td>#먹스타그램#먹스타#일상#일상스타그램#ᄆ...</td>\n",
       "    </tr>\n",
       "    <tr>\n",
       "      <th>2</th>\n",
       "      <td>kgm868686</td>\n",
       "      <td>2018.10.12. 당첨 아부지한테 문자와서 우와했더니 ㅋ 나도 문자받음 진짜 ...</td>\n",
       "      <td>#잼라이브#TOP#티오피#당첨#대박#신기방기#나는#트루에스프레소블랙#10개#아부지는...</td>\n",
       "    </tr>\n",
       "    <tr>\n",
       "      <th>3</th>\n",
       "      <td>kgm868686</td>\n",
       "      <td>2020.03.08. 갑자기 동물 영화 나오네 닥터두리틀, 해치지않아, 미스터주 ...</td>\n",
       "      <td>#미스터주_사라진vip#집밖은위험해#영화보기#영화스타그램#마이밀BEFIT#오트#건강...</td>\n",
       "    </tr>\n",
       "    <tr>\n",
       "      <th>4</th>\n",
       "      <td>cafe.touring</td>\n",
       "      <td>모두 해피추석이에용❤️</td>\n",
       "      <td></td>\n",
       "    </tr>\n",
       "    <tr>\n",
       "      <th>...</th>\n",
       "      <td>...</td>\n",
       "      <td>...</td>\n",
       "      <td>...</td>\n",
       "    </tr>\n",
       "    <tr>\n",
       "      <th>6982</th>\n",
       "      <td>kgm868686</td>\n",
       "      <td>2019.12.24. - 전에는 시그니처 였는데 이름이 바뀜 살짝 파스타가 짜긴했...</td>\n",
       "      <td>#크리스마스이브#연말#저녁#어나더테이블#교대#스테이크#오일파스타#리조또#식전빵#후식...</td>\n",
       "    </tr>\n",
       "    <tr>\n",
       "      <th>6983</th>\n",
       "      <td>kgm868686</td>\n",
       "      <td>@ajestagram Made by @Image.Downloader · · · ·...</td>\n",
       "      <td>#Repost#조선왕실김#바른사람들#조미김</td>\n",
       "    </tr>\n",
       "    <tr>\n",
       "      <th>6984</th>\n",
       "      <td>dolphinman9un</td>\n",
       "      <td>weekend🍀</td>\n",
       "      <td></td>\n",
       "    </tr>\n",
       "    <tr>\n",
       "      <th>6985</th>\n",
       "      <td>kgm868686</td>\n",
       "      <td>2017.3.1. 부산말로</td>\n",
       "      <td>#부추전#막걸리#정구지찌짐#술스타그램#먹스타그램#진짜맛있당#배부르다#기분좋당#자꾸먹고싶다</td>\n",
       "    </tr>\n",
       "    <tr>\n",
       "      <th>6986</th>\n",
       "      <td>hh_hhm_</td>\n",
       "      <td>해질녘 . . .</td>\n",
       "      <td>#카페#울산카페#핫플#신상카페#리베리베#카페리베리베#노을맛집#카페스타그램</td>\n",
       "    </tr>\n",
       "  </tbody>\n",
       "</table>\n",
       "<p>6987 rows × 3 columns</p>\n",
       "</div>"
      ],
      "text/plain": [
       "           Nickname                                             Review  \\\n",
       "0         cafe_onni                             아침 잔뜩 먹고 죄책감에 점심은 샐러드😇   \n",
       "1      taxxy._.gram                             크으~한잔하시죠!! . . . . . .   \n",
       "2         kgm868686   2018.10.12. 당첨 아부지한테 문자와서 우와했더니 ㅋ 나도 문자받음 진짜 ...   \n",
       "3         kgm868686   2020.03.08. 갑자기 동물 영화 나오네 닥터두리틀, 해치지않아, 미스터주 ...   \n",
       "4      cafe.touring                                       모두 해피추석이에용❤️   \n",
       "...             ...                                                ...   \n",
       "6982      kgm868686   2019.12.24. - 전에는 시그니처 였는데 이름이 바뀜 살짝 파스타가 짜긴했...   \n",
       "6983      kgm868686   @ajestagram Made by @Image.Downloader · · · ·...   \n",
       "6984  dolphinman9un                                           weekend🍀   \n",
       "6985      kgm868686                                     2017.3.1. 부산말로   \n",
       "6986        hh_hhm_                                          해질녘 . . .   \n",
       "\n",
       "                                                Hashtag  \n",
       "0                   #파리바게뜨#파리바게뜨샐러드#카페스타그램#카페투어#onni_제천  \n",
       "1     #먹스타그램#먹스타#일상#일상스타그램#ᄆ...  \n",
       "2     #잼라이브#TOP#티오피#당첨#대박#신기방기#나는#트루에스프레소블랙#10개#아부지는...  \n",
       "3     #미스터주_사라진vip#집밖은위험해#영화보기#영화스타그램#마이밀BEFIT#오트#건강...  \n",
       "4                                                        \n",
       "...                                                 ...  \n",
       "6982  #크리스마스이브#연말#저녁#어나더테이블#교대#스테이크#오일파스타#리조또#식전빵#후식...  \n",
       "6983                            #Repost#조선왕실김#바른사람들#조미김  \n",
       "6984                                                     \n",
       "6985  #부추전#막걸리#정구지찌짐#술스타그램#먹스타그램#진짜맛있당#배부르다#기분좋당#자꾸먹고싶다  \n",
       "6986           #카페#울산카페#핫플#신상카페#리베리베#카페리베리베#노을맛집#카페스타그램  \n",
       "\n",
       "[6987 rows x 3 columns]"
      ]
     },
     "metadata": {},
     "output_type": "display_data"
    }
   ],
   "source": [
    "display(final)"
   ]
  },
  {
   "cell_type": "code",
   "execution_count": 21,
   "metadata": {},
   "outputs": [],
   "source": [
    "final.to_csv(\"Instagram Crawling.csv\", encoding='utf-8')"
   ]
  }
 ],
 "metadata": {
  "kernelspec": {
   "display_name": "Python 3",
   "language": "python",
   "name": "python3"
  },
  "language_info": {
   "codemirror_mode": {
    "name": "ipython",
    "version": 3
   },
   "file_extension": ".py",
   "mimetype": "text/x-python",
   "name": "python",
   "nbconvert_exporter": "python",
   "pygments_lexer": "ipython3",
   "version": "3.7.7"
  }
 },
 "nbformat": 4,
 "nbformat_minor": 4
}
